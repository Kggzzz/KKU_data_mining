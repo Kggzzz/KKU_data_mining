{
  "nbformat": 4,
  "nbformat_minor": 0,
  "metadata": {
    "colab": {
      "name": "Final Exam 2020.ipynb",
      "provenance": [],
      "include_colab_link": true
    },
    "kernelspec": {
      "name": "python3",
      "display_name": "Python 3"
    }
  },
  "cells": [
    {
      "cell_type": "markdown",
      "metadata": {
        "id": "view-in-github",
        "colab_type": "text"
      },
      "source": [
        "<a href=\"https://colab.research.google.com/github/Kggzzz/KKU_data_mining/blob/master/Final_Exam_2020.ipynb\" target=\"_parent\"><img src=\"https://colab.research.google.com/assets/colab-badge.svg\" alt=\"Open In Colab\"/></a>"
      ]
    },
    {
      "cell_type": "markdown",
      "metadata": {
        "id": "APlaB9l9CeBy"
      },
      "source": [
        "1. จากข้อมูล (```w_restaurant.csv```, ```search_click.csv```, ```search_request.csv```) ใน http://qr.tebs.io/TTGDFf สร้าง model เพื่อทำนาย (Classification) ว่าผลการ search เป็นร้านอาหารหรือไม่(```is_food = = True```) โดยพิจารณาจาก \n",
        "- วันในสัปดาห์ที่ทำการ search (```Monday-Sunday```) \n",
        "- วันในที่ทำการ search (```1-31```)\n",
        "- เวลาที่ทำการ search (```1-24```)\n",
        "\n",
        "หมายเหตุที่ 1 สามารถใช้ function ที่ให้มาช่วยในการทำงานได้\n",
        "1. ```extract_time()``` ซึ่ง input เป็น ```timestamp``` และ output เป็น ```เวลาที่ทำการ search``` ```วันในที่ทำการ search``` ```วันในสัปดาห์ที่ทำการ search```\n",
        "\n",
        "2. ```is_food``` ซึ่ง input เป็น ```category_name``` และ ```output``` เป็น คำตอบว่า ```เป็นร้านอาหารหรือไม่```\n",
        "\n",
        "หมายเหตุที่ 2 ควรเตรียมข้อมูลโดยรวมข้อมูลจาก ตาราง ```w_restaurant.csv```, ```search_click.csv```, ```search_request.csv``` ให้ได้ในรูปแบบ ต่อไปนี้\n",
        "![exam_table.PNG](data:image/png;base64,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)\n",
        "\n",
        "(200 คะแนน)"
      ]
    },
    {
      "cell_type": "code",
      "metadata": {
        "id": "212B1ztJIgtU"
      },
      "source": [
        "import datetime\n",
        "def extract_time(datetime_s):\n",
        "    EX_date = datetime.datetime.strptime(datetime_s, \"%Y-%m-%d %H:%M:%S.%f\")\n",
        "    return EX_date.hour, EX_date.day, get_day(EX_date.weekday()) \n",
        "\n",
        "def get_day(D):\n",
        "    weekdays = ['Monday','Tuesday','Wednesday','Thursday','Friday','Saturday','Sunday']\n",
        "    return weekdays[D] \n",
        "\n",
        "def is_food(inp):\n",
        "    food_list = ['Vegeterian','Sushi','Sukiyaki/Shabu','Street Food/Food Stands','Steak House/Barbeque','Southern Food','Seafood','Ramen','Quick Meal','Pizza','Northern Food','Noodles','Mexican','Korean',\n",
        "             'Japanese','Italian','Izakaya','Healthy Food','German Food','Fusion Food','French','Food Truck','Fastfood','Dim Sum','Delivery Only','Chinese','Cafe','Café/Coffee Shop','Buffet',\n",
        "             'Breakfast/Brunch','Bakery/Cake','Barbeque/Grill','American']\n",
        "    return inp in food_list"
      ],
      "execution_count": 28,
      "outputs": []
    },
    {
      "cell_type": "code",
      "metadata": {
        "id": "NxcFBYVkJ4zg",
        "outputId": "915af384-6465-4baa-db9f-fa5ee6f5a68d",
        "colab": {
          "base_uri": "https://localhost:8080/"
        }
      },
      "source": [
        "from google.colab import drive \n",
        "drive.mount('/content/drive')\n",
        "\n",
        "path = '/content/drive/My Drive/Final Exam'"
      ],
      "execution_count": 2,
      "outputs": [
        {
          "output_type": "stream",
          "text": [
            "Mounted at /content/drive\n"
          ],
          "name": "stdout"
        }
      ]
    },
    {
      "cell_type": "code",
      "metadata": {
        "id": "fJKZJhtZMvFJ"
      },
      "source": [
        "import os\n",
        "import pandas"
      ],
      "execution_count": 3,
      "outputs": []
    },
    {
      "cell_type": "code",
      "metadata": {
        "id": "h_0Fz6ceM0Lw"
      },
      "source": [
        "w_restaurant = os.path.join(path,'w_restaurant.csv')  #สร้างที่อยู่โดยใช้ os.path.join\n",
        "search_click = os.path.join(path,'search_click.csv')\n",
        "search_request = os.path.join(path,'search_request.csv')"
      ],
      "execution_count": 4,
      "outputs": []
    },
    {
      "cell_type": "code",
      "metadata": {
        "id": "ZCGzXCBvNAfQ",
        "outputId": "820d530b-72f0-4072-8821-965362de1b0e",
        "colab": {
          "base_uri": "https://localhost:8080/",
          "height": 383
        }
      },
      "source": [
        "w_restaurant = pandas.read_csv(w_restaurant)\n",
        "w_restaurant.head()\n",
        "#ใช้หัวตารางจาก w_restaurant คือ category_name"
      ],
      "execution_count": 5,
      "outputs": [
        {
          "output_type": "execute_result",
          "data": {
            "text/html": [
              "<div>\n",
              "<style scoped>\n",
              "    .dataframe tbody tr th:only-of-type {\n",
              "        vertical-align: middle;\n",
              "    }\n",
              "\n",
              "    .dataframe tbody tr th {\n",
              "        vertical-align: top;\n",
              "    }\n",
              "\n",
              "    .dataframe thead th {\n",
              "        text-align: right;\n",
              "    }\n",
              "</style>\n",
              "<table border=\"1\" class=\"dataframe\">\n",
              "  <thead>\n",
              "    <tr style=\"text-align: right;\">\n",
              "      <th></th>\n",
              "      <th>Unnamed: 0</th>\n",
              "      <th>id</th>\n",
              "      <th>name</th>\n",
              "      <th>domain_id</th>\n",
              "      <th>closed</th>\n",
              "      <th>city_name</th>\n",
              "      <th>zipcode</th>\n",
              "      <th>geohash</th>\n",
              "      <th>new_open</th>\n",
              "      <th>weighted_average_rating</th>\n",
              "      <th>number_of_chains</th>\n",
              "      <th>number_of_bookmarks</th>\n",
              "      <th>number_of_reviews</th>\n",
              "      <th>number_of_product_tags</th>\n",
              "      <th>total_number_of_views</th>\n",
              "      <th>number_of_checkins</th>\n",
              "      <th>number_of_menu_groups</th>\n",
              "      <th>number_of_menu_photos</th>\n",
              "      <th>category_name</th>\n",
              "      <th>price_range</th>\n",
              "      <th>avg_price</th>\n",
              "      <th>parking</th>\n",
              "      <th>credit_card_accepted</th>\n",
              "      <th>good_for_groups</th>\n",
              "      <th>good_for_kids</th>\n",
              "      <th>bookable</th>\n",
              "      <th>best_of_wongnai</th>\n",
              "      <th>wifi</th>\n",
              "      <th>number_of_seats</th>\n",
              "      <th>music_venue</th>\n",
              "      <th>hotel_restaurant</th>\n",
              "      <th>pet_friendly</th>\n",
              "      <th>delivery</th>\n",
              "    </tr>\n",
              "  </thead>\n",
              "  <tbody>\n",
              "    <tr>\n",
              "      <th>0</th>\n",
              "      <td>0</td>\n",
              "      <td>2</td>\n",
              "      <td>นครินทร์ทันตกรรม</td>\n",
              "      <td>2</td>\n",
              "      <td>0</td>\n",
              "      <td>Samut Songkhram</td>\n",
              "      <td>75000</td>\n",
              "      <td>w4rh7g3</td>\n",
              "      <td>0</td>\n",
              "      <td>5.000000</td>\n",
              "      <td>NaN</td>\n",
              "      <td>NaN</td>\n",
              "      <td>1</td>\n",
              "      <td>0</td>\n",
              "      <td>3016</td>\n",
              "      <td>0</td>\n",
              "      <td>0</td>\n",
              "      <td>0</td>\n",
              "      <td>Orthodontic</td>\n",
              "      <td>NaN</td>\n",
              "      <td>NaN</td>\n",
              "      <td>3.0</td>\n",
              "      <td>0.0</td>\n",
              "      <td>NaN</td>\n",
              "      <td>NaN</td>\n",
              "      <td>NaN</td>\n",
              "      <td>NaN</td>\n",
              "      <td>NaN</td>\n",
              "      <td>13.0</td>\n",
              "      <td>NaN</td>\n",
              "      <td>NaN</td>\n",
              "      <td>NaN</td>\n",
              "      <td>NaN</td>\n",
              "    </tr>\n",
              "    <tr>\n",
              "      <th>1</th>\n",
              "      <td>1</td>\n",
              "      <td>4</td>\n",
              "      <td>Corner House</td>\n",
              "      <td>1</td>\n",
              "      <td>0</td>\n",
              "      <td>Bangkok Metropolitan Region</td>\n",
              "      <td>12150</td>\n",
              "      <td>w4rx73h</td>\n",
              "      <td>0</td>\n",
              "      <td>2.000000</td>\n",
              "      <td>NaN</td>\n",
              "      <td>NaN</td>\n",
              "      <td>1</td>\n",
              "      <td>0</td>\n",
              "      <td>321</td>\n",
              "      <td>0</td>\n",
              "      <td>0</td>\n",
              "      <td>1</td>\n",
              "      <td>Quick Meal</td>\n",
              "      <td>1.0</td>\n",
              "      <td>NaN</td>\n",
              "      <td>1.0</td>\n",
              "      <td>NaN</td>\n",
              "      <td>NaN</td>\n",
              "      <td>NaN</td>\n",
              "      <td>NaN</td>\n",
              "      <td>NaN</td>\n",
              "      <td>NaN</td>\n",
              "      <td>NaN</td>\n",
              "      <td>NaN</td>\n",
              "      <td>NaN</td>\n",
              "      <td>NaN</td>\n",
              "      <td>NaN</td>\n",
              "    </tr>\n",
              "    <tr>\n",
              "      <th>2</th>\n",
              "      <td>2</td>\n",
              "      <td>5</td>\n",
              "      <td>วัดโลกยสุธาราม</td>\n",
              "      <td>4</td>\n",
              "      <td>0</td>\n",
              "      <td>Phra Nakhon Si Ayutthaya</td>\n",
              "      <td>13000</td>\n",
              "      <td>w4x98jk</td>\n",
              "      <td>0</td>\n",
              "      <td>4.000000</td>\n",
              "      <td>NaN</td>\n",
              "      <td>1.0</td>\n",
              "      <td>0</td>\n",
              "      <td>0</td>\n",
              "      <td>167</td>\n",
              "      <td>0</td>\n",
              "      <td>0</td>\n",
              "      <td>0</td>\n",
              "      <td>Historical/Religion</td>\n",
              "      <td>NaN</td>\n",
              "      <td>NaN</td>\n",
              "      <td>1.0</td>\n",
              "      <td>NaN</td>\n",
              "      <td>NaN</td>\n",
              "      <td>NaN</td>\n",
              "      <td>NaN</td>\n",
              "      <td>NaN</td>\n",
              "      <td>NaN</td>\n",
              "      <td>NaN</td>\n",
              "      <td>NaN</td>\n",
              "      <td>NaN</td>\n",
              "      <td>NaN</td>\n",
              "      <td>NaN</td>\n",
              "    </tr>\n",
              "    <tr>\n",
              "      <th>3</th>\n",
              "      <td>3</td>\n",
              "      <td>6</td>\n",
              "      <td>นันท์คาราโอเกะ</td>\n",
              "      <td>1</td>\n",
              "      <td>0</td>\n",
              "      <td>Bangkok Metropolitan Region</td>\n",
              "      <td>10700</td>\n",
              "      <td>w4rqw9q</td>\n",
              "      <td>0</td>\n",
              "      <td>0.000000</td>\n",
              "      <td>NaN</td>\n",
              "      <td>NaN</td>\n",
              "      <td>0</td>\n",
              "      <td>0</td>\n",
              "      <td>901</td>\n",
              "      <td>0</td>\n",
              "      <td>0</td>\n",
              "      <td>0</td>\n",
              "      <td>Karaoke</td>\n",
              "      <td>NaN</td>\n",
              "      <td>NaN</td>\n",
              "      <td>NaN</td>\n",
              "      <td>NaN</td>\n",
              "      <td>NaN</td>\n",
              "      <td>NaN</td>\n",
              "      <td>NaN</td>\n",
              "      <td>NaN</td>\n",
              "      <td>NaN</td>\n",
              "      <td>NaN</td>\n",
              "      <td>NaN</td>\n",
              "      <td>NaN</td>\n",
              "      <td>NaN</td>\n",
              "      <td>NaN</td>\n",
              "    </tr>\n",
              "    <tr>\n",
              "      <th>4</th>\n",
              "      <td>4</td>\n",
              "      <td>7</td>\n",
              "      <td>Buono Caffe</td>\n",
              "      <td>1</td>\n",
              "      <td>0</td>\n",
              "      <td>Bangkok Metropolitan Region</td>\n",
              "      <td>10220</td>\n",
              "      <td>w4rx4gd</td>\n",
              "      <td>0</td>\n",
              "      <td>3.738462</td>\n",
              "      <td>NaN</td>\n",
              "      <td>15.0</td>\n",
              "      <td>3</td>\n",
              "      <td>0</td>\n",
              "      <td>2360</td>\n",
              "      <td>1</td>\n",
              "      <td>0</td>\n",
              "      <td>2</td>\n",
              "      <td>Café/Coffee Shop</td>\n",
              "      <td>1.0</td>\n",
              "      <td>NaN</td>\n",
              "      <td>1.0</td>\n",
              "      <td>0.0</td>\n",
              "      <td>NaN</td>\n",
              "      <td>NaN</td>\n",
              "      <td>NaN</td>\n",
              "      <td>NaN</td>\n",
              "      <td>1.0</td>\n",
              "      <td>2.0</td>\n",
              "      <td>NaN</td>\n",
              "      <td>NaN</td>\n",
              "      <td>NaN</td>\n",
              "      <td>NaN</td>\n",
              "    </tr>\n",
              "  </tbody>\n",
              "</table>\n",
              "</div>"
            ],
            "text/plain": [
              "   Unnamed: 0  id              name  ...  hotel_restaurant  pet_friendly delivery\n",
              "0           0   2  นครินทร์ทันตกรรม  ...               NaN           NaN      NaN\n",
              "1           1   4      Corner House  ...               NaN           NaN      NaN\n",
              "2           2   5    วัดโลกยสุธาราม  ...               NaN           NaN      NaN\n",
              "3           3   6    นันท์คาราโอเกะ  ...               NaN           NaN      NaN\n",
              "4           4   7       Buono Caffe  ...               NaN           NaN      NaN\n",
              "\n",
              "[5 rows x 33 columns]"
            ]
          },
          "metadata": {
            "tags": []
          },
          "execution_count": 5
        }
      ]
    },
    {
      "cell_type": "code",
      "metadata": {
        "id": "hQE5oGWJNIzA",
        "outputId": "3eb3a1a3-2a66-4fdc-8e04-c09a595c9d3b",
        "colab": {
          "base_uri": "https://localhost:8080/",
          "height": 195
        }
      },
      "source": [
        "search_click = pandas.read_csv(search_click)\n",
        "search_click.head()\n",
        "#ใช้หัวตาราง search_click มี search_id business_id"
      ],
      "execution_count": 6,
      "outputs": [
        {
          "output_type": "execute_result",
          "data": {
            "text/html": [
              "<div>\n",
              "<style scoped>\n",
              "    .dataframe tbody tr th:only-of-type {\n",
              "        vertical-align: middle;\n",
              "    }\n",
              "\n",
              "    .dataframe tbody tr th {\n",
              "        vertical-align: top;\n",
              "    }\n",
              "\n",
              "    .dataframe thead th {\n",
              "        text-align: right;\n",
              "    }\n",
              "</style>\n",
              "<table border=\"1\" class=\"dataframe\">\n",
              "  <thead>\n",
              "    <tr style=\"text-align: right;\">\n",
              "      <th></th>\n",
              "      <th>Unnamed: 0</th>\n",
              "      <th>click_timestamp</th>\n",
              "      <th>search_id</th>\n",
              "      <th>business_id</th>\n",
              "      <th>display_position</th>\n",
              "      <th>time_diff_nanos</th>\n",
              "      <th>ads</th>\n",
              "    </tr>\n",
              "  </thead>\n",
              "  <tbody>\n",
              "    <tr>\n",
              "      <th>0</th>\n",
              "      <td>0</td>\n",
              "      <td>2018-06-15 05:11:38.914154</td>\n",
              "      <td>5c004472-5ecc-4159-9698-9f329b8e26e1</td>\n",
              "      <td>298839.0</td>\n",
              "      <td>0</td>\n",
              "      <td>2222397704154000</td>\n",
              "      <td>True</td>\n",
              "    </tr>\n",
              "    <tr>\n",
              "      <th>1</th>\n",
              "      <td>1</td>\n",
              "      <td>2018-06-15 06:30:51.277476</td>\n",
              "      <td>5f34eca0-c04e-4c10-b600-54aa447dbd8e</td>\n",
              "      <td>171372.0</td>\n",
              "      <td>0</td>\n",
              "      <td>460838273476000</td>\n",
              "      <td>True</td>\n",
              "    </tr>\n",
              "    <tr>\n",
              "      <th>2</th>\n",
              "      <td>2</td>\n",
              "      <td>2018-06-15 06:32:09.558025</td>\n",
              "      <td>8dc6d1f0-11f1-4239-9dd2-5c1674c81224</td>\n",
              "      <td>16157.0</td>\n",
              "      <td>0</td>\n",
              "      <td>2581491438025000</td>\n",
              "      <td>True</td>\n",
              "    </tr>\n",
              "    <tr>\n",
              "      <th>3</th>\n",
              "      <td>3</td>\n",
              "      <td>2018-06-15 06:00:59.820390</td>\n",
              "      <td>1a5810e9-3d1f-44b9-9a2e-26ede21c524b</td>\n",
              "      <td>89741.0</td>\n",
              "      <td>1</td>\n",
              "      <td>1404578985390000</td>\n",
              "      <td>True</td>\n",
              "    </tr>\n",
              "    <tr>\n",
              "      <th>4</th>\n",
              "      <td>4</td>\n",
              "      <td>2018-06-15 05:23:36.828525</td>\n",
              "      <td>6bc75e0d-fc65-471e-9926-ff6be6708639</td>\n",
              "      <td>189564.0</td>\n",
              "      <td>1</td>\n",
              "      <td>933358625525000</td>\n",
              "      <td>True</td>\n",
              "    </tr>\n",
              "  </tbody>\n",
              "</table>\n",
              "</div>"
            ],
            "text/plain": [
              "   Unnamed: 0             click_timestamp  ...   time_diff_nanos   ads\n",
              "0           0  2018-06-15 05:11:38.914154  ...  2222397704154000  True\n",
              "1           1  2018-06-15 06:30:51.277476  ...   460838273476000  True\n",
              "2           2  2018-06-15 06:32:09.558025  ...  2581491438025000  True\n",
              "3           3  2018-06-15 06:00:59.820390  ...  1404578985390000  True\n",
              "4           4  2018-06-15 05:23:36.828525  ...   933358625525000  True\n",
              "\n",
              "[5 rows x 7 columns]"
            ]
          },
          "metadata": {
            "tags": []
          },
          "execution_count": 6
        }
      ]
    },
    {
      "cell_type": "code",
      "metadata": {
        "id": "JKQG4odaNLgi",
        "outputId": "66e8a234-996f-4b78-c706-b8ac8ee23094",
        "colab": {
          "base_uri": "https://localhost:8080/",
          "height": 330
        }
      },
      "source": [
        "search_request = pandas.read_csv(search_request)\n",
        "search_request.head() \n",
        "#ใช้หัวตาราง search_request คือ search_id search_timestamp\tlat  long"
      ],
      "execution_count": 7,
      "outputs": [
        {
          "output_type": "stream",
          "text": [
            "/usr/local/lib/python3.6/dist-packages/IPython/core/interactiveshell.py:2718: DtypeWarning: Columns (7,8,9) have mixed types.Specify dtype option on import or set low_memory=False.\n",
            "  interactivity=interactivity, compiler=compiler, result=result)\n"
          ],
          "name": "stderr"
        },
        {
          "output_type": "execute_result",
          "data": {
            "text/html": [
              "<div>\n",
              "<style scoped>\n",
              "    .dataframe tbody tr th:only-of-type {\n",
              "        vertical-align: middle;\n",
              "    }\n",
              "\n",
              "    .dataframe tbody tr th {\n",
              "        vertical-align: top;\n",
              "    }\n",
              "\n",
              "    .dataframe thead th {\n",
              "        text-align: right;\n",
              "    }\n",
              "</style>\n",
              "<table border=\"1\" class=\"dataframe\">\n",
              "  <thead>\n",
              "    <tr style=\"text-align: right;\">\n",
              "      <th></th>\n",
              "      <th>Unnamed: 0</th>\n",
              "      <th>search_id</th>\n",
              "      <th>search_timestamp</th>\n",
              "      <th>user_agent</th>\n",
              "      <th>q</th>\n",
              "      <th>user_id</th>\n",
              "      <th>session_id</th>\n",
              "      <th>number_of_result</th>\n",
              "      <th>lat</th>\n",
              "      <th>long</th>\n",
              "    </tr>\n",
              "  </thead>\n",
              "  <tbody>\n",
              "    <tr>\n",
              "      <th>0</th>\n",
              "      <td>0</td>\n",
              "      <td>683de889-f923-494e-9d46-44a3d67b7259</td>\n",
              "      <td>2018-06-14 12:34:35.449</td>\n",
              "      <td>Wongnai/8.17.3 rv:8.17.3.3921 (iPhone5,4; iOS;...</td>\n",
              "      <td>NaN</td>\n",
              "      <td>NaN</td>\n",
              "      <td>5lqjjikta19d296mo7g2h1k86p</td>\n",
              "      <td>18</td>\n",
              "      <td>12.6347</td>\n",
              "      <td>101.463</td>\n",
              "    </tr>\n",
              "    <tr>\n",
              "      <th>1</th>\n",
              "      <td>1</td>\n",
              "      <td>4a811230-ffa4-4631-a4c8-5d0394137d02</td>\n",
              "      <td>2018-06-14 17:11:19.469</td>\n",
              "      <td>Mozilla/5.0 (iPhone; CPU iPhone OS 11_4 like M...</td>\n",
              "      <td>NaN</td>\n",
              "      <td>NaN</td>\n",
              "      <td>1r3iotmp0o9slom91stdt9vivc</td>\n",
              "      <td>10</td>\n",
              "      <td>14.8009</td>\n",
              "      <td>102.534</td>\n",
              "    </tr>\n",
              "    <tr>\n",
              "      <th>2</th>\n",
              "      <td>2</td>\n",
              "      <td>7ad6ee8e-438e-4bea-9183-74dcef9e358e</td>\n",
              "      <td>2018-06-14 13:22:31.736</td>\n",
              "      <td>Mozilla/5.0 (Linux; Android 7.0; SAMSUNG SM-J7...</td>\n",
              "      <td>NaN</td>\n",
              "      <td>NaN</td>\n",
              "      <td>5ci1eo4v5u9dha4ppgu94ue7p6</td>\n",
              "      <td>8</td>\n",
              "      <td>13.7383</td>\n",
              "      <td>100.371</td>\n",
              "    </tr>\n",
              "    <tr>\n",
              "      <th>3</th>\n",
              "      <td>3</td>\n",
              "      <td>0c17a5f5-fa89-40f4-ae94-a8659268f827</td>\n",
              "      <td>2018-06-02 12:37:27.331</td>\n",
              "      <td>Mozilla/5.0 (Linux; Android 7.1.1; SM-N950F Bu...</td>\n",
              "      <td>NaN</td>\n",
              "      <td>NaN</td>\n",
              "      <td>39n535qgje9kpojp0grhfj8umk</td>\n",
              "      <td>12</td>\n",
              "      <td>12.6669</td>\n",
              "      <td>101.861</td>\n",
              "    </tr>\n",
              "    <tr>\n",
              "      <th>4</th>\n",
              "      <td>4</td>\n",
              "      <td>6870dc3a-5602-44fc-80ed-df0a7783df9d</td>\n",
              "      <td>2018-06-02 11:19:22.404</td>\n",
              "      <td>Mozilla/5.0 (iPhone; CPU iPhone OS 11_3_1 like...</td>\n",
              "      <td>NaN</td>\n",
              "      <td>NaN</td>\n",
              "      <td>5pa03h6lj691to60erver1l8o4</td>\n",
              "      <td>14</td>\n",
              "      <td>12.2372</td>\n",
              "      <td>99.88</td>\n",
              "    </tr>\n",
              "  </tbody>\n",
              "</table>\n",
              "</div>"
            ],
            "text/plain": [
              "   Unnamed: 0                             search_id  ...      lat     long\n",
              "0           0  683de889-f923-494e-9d46-44a3d67b7259  ...  12.6347  101.463\n",
              "1           1  4a811230-ffa4-4631-a4c8-5d0394137d02  ...  14.8009  102.534\n",
              "2           2  7ad6ee8e-438e-4bea-9183-74dcef9e358e  ...  13.7383  100.371\n",
              "3           3  0c17a5f5-fa89-40f4-ae94-a8659268f827  ...  12.6669  101.861\n",
              "4           4  6870dc3a-5602-44fc-80ed-df0a7783df9d  ...  12.2372    99.88\n",
              "\n",
              "[5 rows x 10 columns]"
            ]
          },
          "metadata": {
            "tags": []
          },
          "execution_count": 7
        }
      ]
    },
    {
      "cell_type": "code",
      "metadata": {
        "id": "-X3PP05YOz2I"
      },
      "source": [
        "w_restaurant_df = w_restaurant[['category_name']]\n",
        "\n",
        "#เลือกเฉพาะหัวตารางที่ต้องการ คือ 'category_name'"
      ],
      "execution_count": 35,
      "outputs": []
    },
    {
      "cell_type": "code",
      "metadata": {
        "id": "NoBwrdlTUm0W",
        "outputId": "3cdc07b5-532b-48fa-d0bb-e63db58067ab",
        "colab": {
          "base_uri": "https://localhost:8080/",
          "height": 195
        }
      },
      "source": [
        "w_restaurant_df.head()"
      ],
      "execution_count": 36,
      "outputs": [
        {
          "output_type": "execute_result",
          "data": {
            "text/html": [
              "<div>\n",
              "<style scoped>\n",
              "    .dataframe tbody tr th:only-of-type {\n",
              "        vertical-align: middle;\n",
              "    }\n",
              "\n",
              "    .dataframe tbody tr th {\n",
              "        vertical-align: top;\n",
              "    }\n",
              "\n",
              "    .dataframe thead th {\n",
              "        text-align: right;\n",
              "    }\n",
              "</style>\n",
              "<table border=\"1\" class=\"dataframe\">\n",
              "  <thead>\n",
              "    <tr style=\"text-align: right;\">\n",
              "      <th></th>\n",
              "      <th>category_name</th>\n",
              "    </tr>\n",
              "  </thead>\n",
              "  <tbody>\n",
              "    <tr>\n",
              "      <th>0</th>\n",
              "      <td>Orthodontic</td>\n",
              "    </tr>\n",
              "    <tr>\n",
              "      <th>1</th>\n",
              "      <td>Quick Meal</td>\n",
              "    </tr>\n",
              "    <tr>\n",
              "      <th>2</th>\n",
              "      <td>Historical/Religion</td>\n",
              "    </tr>\n",
              "    <tr>\n",
              "      <th>3</th>\n",
              "      <td>Karaoke</td>\n",
              "    </tr>\n",
              "    <tr>\n",
              "      <th>4</th>\n",
              "      <td>Café/Coffee Shop</td>\n",
              "    </tr>\n",
              "  </tbody>\n",
              "</table>\n",
              "</div>"
            ],
            "text/plain": [
              "         category_name\n",
              "0          Orthodontic\n",
              "1           Quick Meal\n",
              "2  Historical/Religion\n",
              "3              Karaoke\n",
              "4     Café/Coffee Shop"
            ]
          },
          "metadata": {
            "tags": []
          },
          "execution_count": 36
        }
      ]
    },
    {
      "cell_type": "code",
      "metadata": {
        "id": "4m4FTwD8Pl-y",
        "outputId": "b745b06b-5966-4f80-838a-e56d97cc695d",
        "colab": {
          "base_uri": "https://localhost:8080/"
        }
      },
      "source": [
        "w_restaurant_df.shape"
      ],
      "execution_count": 37,
      "outputs": [
        {
          "output_type": "execute_result",
          "data": {
            "text/plain": [
              "(246847, 1)"
            ]
          },
          "metadata": {
            "tags": []
          },
          "execution_count": 37
        }
      ]
    },
    {
      "cell_type": "code",
      "metadata": {
        "id": "BM-mKnW3TZPG",
        "outputId": "202eccbd-12ec-4892-a22a-d77fd1f4d6d4",
        "colab": {
          "base_uri": "https://localhost:8080/"
        }
      },
      "source": [
        "w_restaurant_df.isnull().any()\n",
        "\n",
        "#หาค่า missing "
      ],
      "execution_count": 38,
      "outputs": [
        {
          "output_type": "execute_result",
          "data": {
            "text/plain": [
              "category_name    False\n",
              "dtype: bool"
            ]
          },
          "metadata": {
            "tags": []
          },
          "execution_count": 38
        }
      ]
    },
    {
      "cell_type": "code",
      "metadata": {
        "id": "36ncbxEqQA74"
      },
      "source": [
        "search_click_df = search_click[['search_id','business_id']]\n",
        "\n",
        "#เลือกเฉพาะหัวตารางที่ต้องการ คือ  'search_id','business_id'"
      ],
      "execution_count": 19,
      "outputs": []
    },
    {
      "cell_type": "code",
      "metadata": {
        "id": "HC94WQP5UeA5",
        "outputId": "054c79a8-f00c-40f0-8023-eb7b9dc78eb4",
        "colab": {
          "base_uri": "https://localhost:8080/",
          "height": 195
        }
      },
      "source": [
        "search_click_df.head() "
      ],
      "execution_count": 32,
      "outputs": [
        {
          "output_type": "execute_result",
          "data": {
            "text/html": [
              "<div>\n",
              "<style scoped>\n",
              "    .dataframe tbody tr th:only-of-type {\n",
              "        vertical-align: middle;\n",
              "    }\n",
              "\n",
              "    .dataframe tbody tr th {\n",
              "        vertical-align: top;\n",
              "    }\n",
              "\n",
              "    .dataframe thead th {\n",
              "        text-align: right;\n",
              "    }\n",
              "</style>\n",
              "<table border=\"1\" class=\"dataframe\">\n",
              "  <thead>\n",
              "    <tr style=\"text-align: right;\">\n",
              "      <th></th>\n",
              "      <th>search_id</th>\n",
              "      <th>business_id</th>\n",
              "    </tr>\n",
              "  </thead>\n",
              "  <tbody>\n",
              "    <tr>\n",
              "      <th>0</th>\n",
              "      <td>5c004472-5ecc-4159-9698-9f329b8e26e1</td>\n",
              "      <td>298839.0</td>\n",
              "    </tr>\n",
              "    <tr>\n",
              "      <th>1</th>\n",
              "      <td>5f34eca0-c04e-4c10-b600-54aa447dbd8e</td>\n",
              "      <td>171372.0</td>\n",
              "    </tr>\n",
              "    <tr>\n",
              "      <th>2</th>\n",
              "      <td>8dc6d1f0-11f1-4239-9dd2-5c1674c81224</td>\n",
              "      <td>16157.0</td>\n",
              "    </tr>\n",
              "    <tr>\n",
              "      <th>3</th>\n",
              "      <td>1a5810e9-3d1f-44b9-9a2e-26ede21c524b</td>\n",
              "      <td>89741.0</td>\n",
              "    </tr>\n",
              "    <tr>\n",
              "      <th>4</th>\n",
              "      <td>6bc75e0d-fc65-471e-9926-ff6be6708639</td>\n",
              "      <td>189564.0</td>\n",
              "    </tr>\n",
              "  </tbody>\n",
              "</table>\n",
              "</div>"
            ],
            "text/plain": [
              "                              search_id  business_id\n",
              "0  5c004472-5ecc-4159-9698-9f329b8e26e1     298839.0\n",
              "1  5f34eca0-c04e-4c10-b600-54aa447dbd8e     171372.0\n",
              "2  8dc6d1f0-11f1-4239-9dd2-5c1674c81224      16157.0\n",
              "3  1a5810e9-3d1f-44b9-9a2e-26ede21c524b      89741.0\n",
              "4  6bc75e0d-fc65-471e-9926-ff6be6708639     189564.0"
            ]
          },
          "metadata": {
            "tags": []
          },
          "execution_count": 32
        }
      ]
    },
    {
      "cell_type": "code",
      "metadata": {
        "id": "cC-4q6HSQbP6",
        "outputId": "4d127f73-6e0f-46a0-baee-04190b32a38c",
        "colab": {
          "base_uri": "https://localhost:8080/"
        }
      },
      "source": [
        "search_click_df.shape"
      ],
      "execution_count": 20,
      "outputs": [
        {
          "output_type": "execute_result",
          "data": {
            "text/plain": [
              "(7882037, 2)"
            ]
          },
          "metadata": {
            "tags": []
          },
          "execution_count": 20
        }
      ]
    },
    {
      "cell_type": "code",
      "metadata": {
        "id": "tr0Gkg_ZT_e7",
        "outputId": "7a8b2eab-1485-4c7c-b403-d7f4933359d6",
        "colab": {
          "base_uri": "https://localhost:8080/"
        }
      },
      "source": [
        "search_click_df.isnull().any()\n",
        "\n",
        "#หาค่า missing"
      ],
      "execution_count": 33,
      "outputs": [
        {
          "output_type": "execute_result",
          "data": {
            "text/plain": [
              "search_id      True\n",
              "business_id    True\n",
              "dtype: bool"
            ]
          },
          "metadata": {
            "tags": []
          },
          "execution_count": 33
        }
      ]
    },
    {
      "cell_type": "code",
      "metadata": {
        "id": "Sey7klM5VTS_"
      },
      "source": [
        "search_click_df_nm = search_click_df.dropna()\n",
        "\n",
        "#ทำการแก้ค่า missing โดยการใช้ dropna เพื่อลบ missing นั้นออก"
      ],
      "execution_count": 41,
      "outputs": []
    },
    {
      "cell_type": "code",
      "metadata": {
        "id": "3BP08A0_VUxg",
        "outputId": "353eb791-f0a7-48f0-dee2-a3533bedad48",
        "colab": {
          "base_uri": "https://localhost:8080/"
        }
      },
      "source": [
        "search_click_df_nm.isnull().any()\n",
        "\n",
        "#เรียกดูเพื่อเช็คว่ายังมีค่า missing อีกไหม"
      ],
      "execution_count": 42,
      "outputs": [
        {
          "output_type": "execute_result",
          "data": {
            "text/plain": [
              "search_id      False\n",
              "business_id    False\n",
              "dtype: bool"
            ]
          },
          "metadata": {
            "tags": []
          },
          "execution_count": 42
        }
      ]
    },
    {
      "cell_type": "code",
      "metadata": {
        "id": "TXLAMkWqVYPB",
        "outputId": "a338cad5-0788-4bd0-dcea-c2991a300370",
        "colab": {
          "base_uri": "https://localhost:8080/"
        }
      },
      "source": [
        "search_click_df_nm.shape"
      ],
      "execution_count": 44,
      "outputs": [
        {
          "output_type": "execute_result",
          "data": {
            "text/plain": [
              "(7880121, 2)"
            ]
          },
          "metadata": {
            "tags": []
          },
          "execution_count": 44
        }
      ]
    },
    {
      "cell_type": "code",
      "metadata": {
        "id": "VStIYKx-Qee-"
      },
      "source": [
        "search_request_df = search_request[['search_id','search_timestamp','lat','long']]\n",
        "\n",
        "#เลือกเฉพาะหัวตารางที่ต้องการ คือ 'search_id','search_timestamp','lat','long'"
      ],
      "execution_count": 23,
      "outputs": []
    },
    {
      "cell_type": "code",
      "metadata": {
        "id": "ZbAhcmHUU3UO",
        "outputId": "86141e37-c2a5-48be-eace-e3ede630f5ee",
        "colab": {
          "base_uri": "https://localhost:8080/",
          "height": 195
        }
      },
      "source": [
        "search_request_df.head() "
      ],
      "execution_count": 39,
      "outputs": [
        {
          "output_type": "execute_result",
          "data": {
            "text/html": [
              "<div>\n",
              "<style scoped>\n",
              "    .dataframe tbody tr th:only-of-type {\n",
              "        vertical-align: middle;\n",
              "    }\n",
              "\n",
              "    .dataframe tbody tr th {\n",
              "        vertical-align: top;\n",
              "    }\n",
              "\n",
              "    .dataframe thead th {\n",
              "        text-align: right;\n",
              "    }\n",
              "</style>\n",
              "<table border=\"1\" class=\"dataframe\">\n",
              "  <thead>\n",
              "    <tr style=\"text-align: right;\">\n",
              "      <th></th>\n",
              "      <th>search_id</th>\n",
              "      <th>search_timestamp</th>\n",
              "      <th>lat</th>\n",
              "      <th>long</th>\n",
              "    </tr>\n",
              "  </thead>\n",
              "  <tbody>\n",
              "    <tr>\n",
              "      <th>0</th>\n",
              "      <td>683de889-f923-494e-9d46-44a3d67b7259</td>\n",
              "      <td>2018-06-14 12:34:35.449</td>\n",
              "      <td>12.6347</td>\n",
              "      <td>101.463</td>\n",
              "    </tr>\n",
              "    <tr>\n",
              "      <th>1</th>\n",
              "      <td>4a811230-ffa4-4631-a4c8-5d0394137d02</td>\n",
              "      <td>2018-06-14 17:11:19.469</td>\n",
              "      <td>14.8009</td>\n",
              "      <td>102.534</td>\n",
              "    </tr>\n",
              "    <tr>\n",
              "      <th>2</th>\n",
              "      <td>7ad6ee8e-438e-4bea-9183-74dcef9e358e</td>\n",
              "      <td>2018-06-14 13:22:31.736</td>\n",
              "      <td>13.7383</td>\n",
              "      <td>100.371</td>\n",
              "    </tr>\n",
              "    <tr>\n",
              "      <th>3</th>\n",
              "      <td>0c17a5f5-fa89-40f4-ae94-a8659268f827</td>\n",
              "      <td>2018-06-02 12:37:27.331</td>\n",
              "      <td>12.6669</td>\n",
              "      <td>101.861</td>\n",
              "    </tr>\n",
              "    <tr>\n",
              "      <th>4</th>\n",
              "      <td>6870dc3a-5602-44fc-80ed-df0a7783df9d</td>\n",
              "      <td>2018-06-02 11:19:22.404</td>\n",
              "      <td>12.2372</td>\n",
              "      <td>99.88</td>\n",
              "    </tr>\n",
              "  </tbody>\n",
              "</table>\n",
              "</div>"
            ],
            "text/plain": [
              "                              search_id  ...     long\n",
              "0  683de889-f923-494e-9d46-44a3d67b7259  ...  101.463\n",
              "1  4a811230-ffa4-4631-a4c8-5d0394137d02  ...  102.534\n",
              "2  7ad6ee8e-438e-4bea-9183-74dcef9e358e  ...  100.371\n",
              "3  0c17a5f5-fa89-40f4-ae94-a8659268f827  ...  101.861\n",
              "4  6870dc3a-5602-44fc-80ed-df0a7783df9d  ...    99.88\n",
              "\n",
              "[5 rows x 4 columns]"
            ]
          },
          "metadata": {
            "tags": []
          },
          "execution_count": 39
        }
      ]
    },
    {
      "cell_type": "code",
      "metadata": {
        "id": "42WZldt8Qt7o",
        "outputId": "17eb9411-8fad-4201-e442-1fd56ae21692",
        "colab": {
          "base_uri": "https://localhost:8080/"
        }
      },
      "source": [
        "search_request_df.shape"
      ],
      "execution_count": 22,
      "outputs": [
        {
          "output_type": "execute_result",
          "data": {
            "text/plain": [
              "(10004357, 4)"
            ]
          },
          "metadata": {
            "tags": []
          },
          "execution_count": 22
        }
      ]
    },
    {
      "cell_type": "code",
      "metadata": {
        "id": "BFSWgBN0U8m1",
        "outputId": "605f9a0a-0ec9-4260-dfef-9683eefb4298",
        "colab": {
          "base_uri": "https://localhost:8080/"
        }
      },
      "source": [
        "search_request_df.isnull().any()\n",
        "\n",
        "#หาค่า missing"
      ],
      "execution_count": 40,
      "outputs": [
        {
          "output_type": "execute_result",
          "data": {
            "text/plain": [
              "search_id           False\n",
              "search_timestamp    False\n",
              "lat                  True\n",
              "long                 True\n",
              "dtype: bool"
            ]
          },
          "metadata": {
            "tags": []
          },
          "execution_count": 40
        }
      ]
    },
    {
      "cell_type": "code",
      "metadata": {
        "id": "fzeZnsQCVDII"
      },
      "source": [
        "search_request_df_nm = search_request_df.dropna()\n",
        "\n",
        "#ทำการแก้ค่า missing โดยการใช้ dropna เพื่อลบ missing นั้นออก"
      ],
      "execution_count": 45,
      "outputs": []
    },
    {
      "cell_type": "code",
      "metadata": {
        "id": "Oo8P8XiXVk3R",
        "outputId": "33a7615a-d7c5-4537-f878-237a38523aeb",
        "colab": {
          "base_uri": "https://localhost:8080/"
        }
      },
      "source": [
        "search_request_df_nm.isnull().any()\n",
        "\n",
        "#เรียกดูเพื่อเช็คว่ายังมีค่า missing อีกไหม"
      ],
      "execution_count": 46,
      "outputs": [
        {
          "output_type": "execute_result",
          "data": {
            "text/plain": [
              "search_id           False\n",
              "search_timestamp    False\n",
              "lat                 False\n",
              "long                False\n",
              "dtype: bool"
            ]
          },
          "metadata": {
            "tags": []
          },
          "execution_count": 46
        }
      ]
    },
    {
      "cell_type": "code",
      "metadata": {
        "id": "Hj75Wt-YVpkf",
        "outputId": "c069fa59-514f-4f4e-c3cf-6c5ca1c05fd6",
        "colab": {
          "base_uri": "https://localhost:8080/"
        }
      },
      "source": [
        "search_request_df_nm.shape "
      ],
      "execution_count": 47,
      "outputs": [
        {
          "output_type": "execute_result",
          "data": {
            "text/plain": [
              "(7197711, 4)"
            ]
          },
          "metadata": {
            "tags": []
          },
          "execution_count": 47
        }
      ]
    },
    {
      "cell_type": "code",
      "metadata": {
        "id": "-AinVcDuZJd_",
        "outputId": "81ab1a98-b551-46d5-ac19-ab2b257f2618",
        "colab": {
          "base_uri": "https://localhost:8080/",
          "height": 402
        }
      },
      "source": [
        "table1= search_click_df_nm.merge(search_request_df_nm,how='left',left_on='search_id',right_on='search_id')\n",
        "table1"
      ],
      "execution_count": 88,
      "outputs": [
        {
          "output_type": "execute_result",
          "data": {
            "text/html": [
              "<div>\n",
              "<style scoped>\n",
              "    .dataframe tbody tr th:only-of-type {\n",
              "        vertical-align: middle;\n",
              "    }\n",
              "\n",
              "    .dataframe tbody tr th {\n",
              "        vertical-align: top;\n",
              "    }\n",
              "\n",
              "    .dataframe thead th {\n",
              "        text-align: right;\n",
              "    }\n",
              "</style>\n",
              "<table border=\"1\" class=\"dataframe\">\n",
              "  <thead>\n",
              "    <tr style=\"text-align: right;\">\n",
              "      <th></th>\n",
              "      <th>search_id</th>\n",
              "      <th>business_id</th>\n",
              "      <th>search_timestamp</th>\n",
              "      <th>lat</th>\n",
              "      <th>long</th>\n",
              "    </tr>\n",
              "  </thead>\n",
              "  <tbody>\n",
              "    <tr>\n",
              "      <th>0</th>\n",
              "      <td>5c004472-5ecc-4159-9698-9f329b8e26e1</td>\n",
              "      <td>298839.0</td>\n",
              "      <td>NaN</td>\n",
              "      <td>NaN</td>\n",
              "      <td>NaN</td>\n",
              "    </tr>\n",
              "    <tr>\n",
              "      <th>1</th>\n",
              "      <td>5f34eca0-c04e-4c10-b600-54aa447dbd8e</td>\n",
              "      <td>171372.0</td>\n",
              "      <td>NaN</td>\n",
              "      <td>NaN</td>\n",
              "      <td>NaN</td>\n",
              "    </tr>\n",
              "    <tr>\n",
              "      <th>2</th>\n",
              "      <td>8dc6d1f0-11f1-4239-9dd2-5c1674c81224</td>\n",
              "      <td>16157.0</td>\n",
              "      <td>NaN</td>\n",
              "      <td>NaN</td>\n",
              "      <td>NaN</td>\n",
              "    </tr>\n",
              "    <tr>\n",
              "      <th>3</th>\n",
              "      <td>1a5810e9-3d1f-44b9-9a2e-26ede21c524b</td>\n",
              "      <td>89741.0</td>\n",
              "      <td>NaN</td>\n",
              "      <td>NaN</td>\n",
              "      <td>NaN</td>\n",
              "    </tr>\n",
              "    <tr>\n",
              "      <th>4</th>\n",
              "      <td>6bc75e0d-fc65-471e-9926-ff6be6708639</td>\n",
              "      <td>189564.0</td>\n",
              "      <td>NaN</td>\n",
              "      <td>NaN</td>\n",
              "      <td>NaN</td>\n",
              "    </tr>\n",
              "    <tr>\n",
              "      <th>...</th>\n",
              "      <td>...</td>\n",
              "      <td>...</td>\n",
              "      <td>...</td>\n",
              "      <td>...</td>\n",
              "      <td>...</td>\n",
              "    </tr>\n",
              "    <tr>\n",
              "      <th>7880116</th>\n",
              "      <td>9ecd2dc1-b6f6-486d-b751-33eb16c53951</td>\n",
              "      <td>16614.0</td>\n",
              "      <td>2018-06-28 01:59:06.275</td>\n",
              "      <td>13.758</td>\n",
              "      <td>100.56</td>\n",
              "    </tr>\n",
              "    <tr>\n",
              "      <th>7880117</th>\n",
              "      <td>9ecd2dc1-b6f6-486d-b751-33eb16c53951</td>\n",
              "      <td>16614.0</td>\n",
              "      <td>2018-06-28 01:59:06.275</td>\n",
              "      <td>13.758</td>\n",
              "      <td>100.56</td>\n",
              "    </tr>\n",
              "    <tr>\n",
              "      <th>7880118</th>\n",
              "      <td>d086453d-7fde-4766-af39-8205f0f0a4aa</td>\n",
              "      <td>19569.0</td>\n",
              "      <td>2018-06-28 06:48:45.175</td>\n",
              "      <td>12.9324</td>\n",
              "      <td>100.885</td>\n",
              "    </tr>\n",
              "    <tr>\n",
              "      <th>7880119</th>\n",
              "      <td>d157eba1-15e6-4f7a-b090-27a311d976a0</td>\n",
              "      <td>227719.0</td>\n",
              "      <td>2018-06-28 06:35:34.618</td>\n",
              "      <td>13.6908</td>\n",
              "      <td>101.083</td>\n",
              "    </tr>\n",
              "    <tr>\n",
              "      <th>7880120</th>\n",
              "      <td>fb09595c-26cf-4bf3-a51b-1a9b4dd2fe50</td>\n",
              "      <td>316442.0</td>\n",
              "      <td>2018-06-28 06:19:08.662</td>\n",
              "      <td>13.7797</td>\n",
              "      <td>100.562</td>\n",
              "    </tr>\n",
              "  </tbody>\n",
              "</table>\n",
              "<p>7880121 rows × 5 columns</p>\n",
              "</div>"
            ],
            "text/plain": [
              "                                    search_id  business_id  ...      lat     long\n",
              "0        5c004472-5ecc-4159-9698-9f329b8e26e1     298839.0  ...      NaN      NaN\n",
              "1        5f34eca0-c04e-4c10-b600-54aa447dbd8e     171372.0  ...      NaN      NaN\n",
              "2        8dc6d1f0-11f1-4239-9dd2-5c1674c81224      16157.0  ...      NaN      NaN\n",
              "3        1a5810e9-3d1f-44b9-9a2e-26ede21c524b      89741.0  ...      NaN      NaN\n",
              "4        6bc75e0d-fc65-471e-9926-ff6be6708639     189564.0  ...      NaN      NaN\n",
              "...                                       ...          ...  ...      ...      ...\n",
              "7880116  9ecd2dc1-b6f6-486d-b751-33eb16c53951      16614.0  ...   13.758   100.56\n",
              "7880117  9ecd2dc1-b6f6-486d-b751-33eb16c53951      16614.0  ...   13.758   100.56\n",
              "7880118  d086453d-7fde-4766-af39-8205f0f0a4aa      19569.0  ...  12.9324  100.885\n",
              "7880119  d157eba1-15e6-4f7a-b090-27a311d976a0     227719.0  ...  13.6908  101.083\n",
              "7880120  fb09595c-26cf-4bf3-a51b-1a9b4dd2fe50     316442.0  ...  13.7797  100.562\n",
              "\n",
              "[7880121 rows x 5 columns]"
            ]
          },
          "metadata": {
            "tags": []
          },
          "execution_count": 88
        }
      ]
    },
    {
      "cell_type": "code",
      "metadata": {
        "id": "lEHPnrmUpcvp"
      },
      "source": [
        "table1 = table1.dropna()\n",
        "\n",
        "#ทำการแก้ค่า missing โดยการใช้ dropna เพื่อลบ missing นั้นออก"
      ],
      "execution_count": 89,
      "outputs": []
    },
    {
      "cell_type": "code",
      "metadata": {
        "id": "e5k0aNLOpj9W",
        "outputId": "5333b3af-cace-4d66-a7b2-a86eaa6b1f84",
        "colab": {
          "base_uri": "https://localhost:8080/",
          "height": 195
        }
      },
      "source": [
        "table1.head()"
      ],
      "execution_count": 90,
      "outputs": [
        {
          "output_type": "execute_result",
          "data": {
            "text/html": [
              "<div>\n",
              "<style scoped>\n",
              "    .dataframe tbody tr th:only-of-type {\n",
              "        vertical-align: middle;\n",
              "    }\n",
              "\n",
              "    .dataframe tbody tr th {\n",
              "        vertical-align: top;\n",
              "    }\n",
              "\n",
              "    .dataframe thead th {\n",
              "        text-align: right;\n",
              "    }\n",
              "</style>\n",
              "<table border=\"1\" class=\"dataframe\">\n",
              "  <thead>\n",
              "    <tr style=\"text-align: right;\">\n",
              "      <th></th>\n",
              "      <th>search_id</th>\n",
              "      <th>business_id</th>\n",
              "      <th>search_timestamp</th>\n",
              "      <th>lat</th>\n",
              "      <th>long</th>\n",
              "    </tr>\n",
              "  </thead>\n",
              "  <tbody>\n",
              "    <tr>\n",
              "      <th>34</th>\n",
              "      <td>ac28033e-5236-4070-a2ab-92ffb6c9bad3</td>\n",
              "      <td>108813.0</td>\n",
              "      <td>2018-06-15 05:18:07.583</td>\n",
              "      <td>13.7945</td>\n",
              "      <td>100.613</td>\n",
              "    </tr>\n",
              "    <tr>\n",
              "      <th>35</th>\n",
              "      <td>5f84bca7-bdac-4ce9-83e6-a5eaa02d4980</td>\n",
              "      <td>142707.0</td>\n",
              "      <td>2018-06-15 05:19:08.797</td>\n",
              "      <td>13.8128</td>\n",
              "      <td>100.443</td>\n",
              "    </tr>\n",
              "    <tr>\n",
              "      <th>36</th>\n",
              "      <td>47748c4e-0761-476c-8232-4f8b1d1ddfdc</td>\n",
              "      <td>140897.0</td>\n",
              "      <td>2018-06-15 05:31:59.616</td>\n",
              "      <td>13.7318</td>\n",
              "      <td>100.569</td>\n",
              "    </tr>\n",
              "    <tr>\n",
              "      <th>37</th>\n",
              "      <td>ac28033e-5236-4070-a2ab-92ffb6c9bad3</td>\n",
              "      <td>108813.0</td>\n",
              "      <td>2018-06-15 05:18:07.583</td>\n",
              "      <td>13.7945</td>\n",
              "      <td>100.613</td>\n",
              "    </tr>\n",
              "    <tr>\n",
              "      <th>38</th>\n",
              "      <td>7cea7158-6649-4964-998a-9cc15c299abd</td>\n",
              "      <td>322017.0</td>\n",
              "      <td>2018-06-15 05:57:32.540</td>\n",
              "      <td>16.4368</td>\n",
              "      <td>102.83</td>\n",
              "    </tr>\n",
              "  </tbody>\n",
              "</table>\n",
              "</div>"
            ],
            "text/plain": [
              "                               search_id  business_id  ...      lat     long\n",
              "34  ac28033e-5236-4070-a2ab-92ffb6c9bad3     108813.0  ...  13.7945  100.613\n",
              "35  5f84bca7-bdac-4ce9-83e6-a5eaa02d4980     142707.0  ...  13.8128  100.443\n",
              "36  47748c4e-0761-476c-8232-4f8b1d1ddfdc     140897.0  ...  13.7318  100.569\n",
              "37  ac28033e-5236-4070-a2ab-92ffb6c9bad3     108813.0  ...  13.7945  100.613\n",
              "38  7cea7158-6649-4964-998a-9cc15c299abd     322017.0  ...  16.4368   102.83\n",
              "\n",
              "[5 rows x 5 columns]"
            ]
          },
          "metadata": {
            "tags": []
          },
          "execution_count": 90
        }
      ]
    },
    {
      "cell_type": "code",
      "metadata": {
        "id": "xqvebBwSppJa",
        "outputId": "13fa9380-e855-4d34-bb87-359d637a59f4",
        "colab": {
          "base_uri": "https://localhost:8080/"
        }
      },
      "source": [
        "table1.shape"
      ],
      "execution_count": 91,
      "outputs": [
        {
          "output_type": "execute_result",
          "data": {
            "text/plain": [
              "(2549987, 5)"
            ]
          },
          "metadata": {
            "tags": []
          },
          "execution_count": 91
        }
      ]
    },
    {
      "cell_type": "code",
      "metadata": {
        "id": "9j0x_hSopssP",
        "outputId": "4c6c3ecf-9b9f-4080-bd83-4de610cb4d90",
        "colab": {
          "base_uri": "https://localhost:8080/",
          "height": 402
        }
      },
      "source": [
        "table2= pandas.concat([table1,w_restaurant_df])\n",
        "table2"
      ],
      "execution_count": 92,
      "outputs": [
        {
          "output_type": "execute_result",
          "data": {
            "text/html": [
              "<div>\n",
              "<style scoped>\n",
              "    .dataframe tbody tr th:only-of-type {\n",
              "        vertical-align: middle;\n",
              "    }\n",
              "\n",
              "    .dataframe tbody tr th {\n",
              "        vertical-align: top;\n",
              "    }\n",
              "\n",
              "    .dataframe thead th {\n",
              "        text-align: right;\n",
              "    }\n",
              "</style>\n",
              "<table border=\"1\" class=\"dataframe\">\n",
              "  <thead>\n",
              "    <tr style=\"text-align: right;\">\n",
              "      <th></th>\n",
              "      <th>search_id</th>\n",
              "      <th>business_id</th>\n",
              "      <th>search_timestamp</th>\n",
              "      <th>lat</th>\n",
              "      <th>long</th>\n",
              "      <th>category_name</th>\n",
              "    </tr>\n",
              "  </thead>\n",
              "  <tbody>\n",
              "    <tr>\n",
              "      <th>34</th>\n",
              "      <td>ac28033e-5236-4070-a2ab-92ffb6c9bad3</td>\n",
              "      <td>108813.0</td>\n",
              "      <td>2018-06-15 05:18:07.583</td>\n",
              "      <td>13.7945</td>\n",
              "      <td>100.613</td>\n",
              "      <td>NaN</td>\n",
              "    </tr>\n",
              "    <tr>\n",
              "      <th>35</th>\n",
              "      <td>5f84bca7-bdac-4ce9-83e6-a5eaa02d4980</td>\n",
              "      <td>142707.0</td>\n",
              "      <td>2018-06-15 05:19:08.797</td>\n",
              "      <td>13.8128</td>\n",
              "      <td>100.443</td>\n",
              "      <td>NaN</td>\n",
              "    </tr>\n",
              "    <tr>\n",
              "      <th>36</th>\n",
              "      <td>47748c4e-0761-476c-8232-4f8b1d1ddfdc</td>\n",
              "      <td>140897.0</td>\n",
              "      <td>2018-06-15 05:31:59.616</td>\n",
              "      <td>13.7318</td>\n",
              "      <td>100.569</td>\n",
              "      <td>NaN</td>\n",
              "    </tr>\n",
              "    <tr>\n",
              "      <th>37</th>\n",
              "      <td>ac28033e-5236-4070-a2ab-92ffb6c9bad3</td>\n",
              "      <td>108813.0</td>\n",
              "      <td>2018-06-15 05:18:07.583</td>\n",
              "      <td>13.7945</td>\n",
              "      <td>100.613</td>\n",
              "      <td>NaN</td>\n",
              "    </tr>\n",
              "    <tr>\n",
              "      <th>38</th>\n",
              "      <td>7cea7158-6649-4964-998a-9cc15c299abd</td>\n",
              "      <td>322017.0</td>\n",
              "      <td>2018-06-15 05:57:32.540</td>\n",
              "      <td>16.4368</td>\n",
              "      <td>102.83</td>\n",
              "      <td>NaN</td>\n",
              "    </tr>\n",
              "    <tr>\n",
              "      <th>...</th>\n",
              "      <td>...</td>\n",
              "      <td>...</td>\n",
              "      <td>...</td>\n",
              "      <td>...</td>\n",
              "      <td>...</td>\n",
              "      <td>...</td>\n",
              "    </tr>\n",
              "    <tr>\n",
              "      <th>246842</th>\n",
              "      <td>NaN</td>\n",
              "      <td>NaN</td>\n",
              "      <td>NaN</td>\n",
              "      <td>NaN</td>\n",
              "      <td>NaN</td>\n",
              "      <td>Sushi</td>\n",
              "    </tr>\n",
              "    <tr>\n",
              "      <th>246843</th>\n",
              "      <td>NaN</td>\n",
              "      <td>NaN</td>\n",
              "      <td>NaN</td>\n",
              "      <td>NaN</td>\n",
              "      <td>NaN</td>\n",
              "      <td>Karaoke</td>\n",
              "    </tr>\n",
              "    <tr>\n",
              "      <th>246844</th>\n",
              "      <td>NaN</td>\n",
              "      <td>NaN</td>\n",
              "      <td>NaN</td>\n",
              "      <td>NaN</td>\n",
              "      <td>NaN</td>\n",
              "      <td>Steak House/Barbeque</td>\n",
              "    </tr>\n",
              "    <tr>\n",
              "      <th>246845</th>\n",
              "      <td>NaN</td>\n",
              "      <td>NaN</td>\n",
              "      <td>NaN</td>\n",
              "      <td>NaN</td>\n",
              "      <td>NaN</td>\n",
              "      <td>Café/Coffee Shop</td>\n",
              "    </tr>\n",
              "    <tr>\n",
              "      <th>246846</th>\n",
              "      <td>NaN</td>\n",
              "      <td>NaN</td>\n",
              "      <td>NaN</td>\n",
              "      <td>NaN</td>\n",
              "      <td>NaN</td>\n",
              "      <td>Noodles</td>\n",
              "    </tr>\n",
              "  </tbody>\n",
              "</table>\n",
              "<p>2796834 rows × 6 columns</p>\n",
              "</div>"
            ],
            "text/plain": [
              "                                   search_id  ...         category_name\n",
              "34      ac28033e-5236-4070-a2ab-92ffb6c9bad3  ...                   NaN\n",
              "35      5f84bca7-bdac-4ce9-83e6-a5eaa02d4980  ...                   NaN\n",
              "36      47748c4e-0761-476c-8232-4f8b1d1ddfdc  ...                   NaN\n",
              "37      ac28033e-5236-4070-a2ab-92ffb6c9bad3  ...                   NaN\n",
              "38      7cea7158-6649-4964-998a-9cc15c299abd  ...                   NaN\n",
              "...                                      ...  ...                   ...\n",
              "246842                                   NaN  ...                 Sushi\n",
              "246843                                   NaN  ...               Karaoke\n",
              "246844                                   NaN  ...  Steak House/Barbeque\n",
              "246845                                   NaN  ...      Café/Coffee Shop\n",
              "246846                                   NaN  ...               Noodles\n",
              "\n",
              "[2796834 rows x 6 columns]"
            ]
          },
          "metadata": {
            "tags": []
          },
          "execution_count": 92
        }
      ]
    },
    {
      "cell_type": "code",
      "metadata": {
        "id": "oXITtnk3qOqg",
        "outputId": "b7b21541-3529-40be-ff2c-d75afc1076d3",
        "colab": {
          "base_uri": "https://localhost:8080/"
        }
      },
      "source": [
        "table2.isnull().any()"
      ],
      "execution_count": 98,
      "outputs": [
        {
          "output_type": "execute_result",
          "data": {
            "text/plain": [
              "search_id           False\n",
              "business_id         False\n",
              "search_timestamp    False\n",
              "lat                 False\n",
              "long                False\n",
              "category_name       False\n",
              "dtype: bool"
            ]
          },
          "metadata": {
            "tags": []
          },
          "execution_count": 98
        }
      ]
    },
    {
      "cell_type": "code",
      "metadata": {
        "id": "P3j_icXHtJVb"
      },
      "source": [
        " food_list = ['Vegeterian','Sushi','Sukiyaki/Shabu','Street Food/Food Stands','Steak House/Barbeque','Southern Food','Seafood','Ramen','Quick Meal','Pizza','Northern Food','Noodles','Mexican','Korean',\n",
        "             'Japanese','Italian','Izakaya','Healthy Food','German Food','Fusion Food','French','Food Truck','Fastfood','Dim Sum','Delivery Only','Chinese','Cafe','Café/Coffee Shop','Buffet',\n",
        "             'Breakfast/Brunch','Bakery/Cake','Barbeque/Grill','American']"
      ],
      "execution_count": 99,
      "outputs": []
    },
    {
      "cell_type": "code",
      "metadata": {
        "id": "WoUSyGXiqjTG",
        "outputId": "83ef7313-0189-4f2e-a801-6509def02250",
        "colab": {
          "base_uri": "https://localhost:8080/"
        }
      },
      "source": [
        "for is_food in food_list : \n",
        "     print(is_food)"
      ],
      "execution_count": 101,
      "outputs": [
        {
          "output_type": "stream",
          "text": [
            "Vegeterian\n",
            "Sushi\n",
            "Sukiyaki/Shabu\n",
            "Street Food/Food Stands\n",
            "Steak House/Barbeque\n",
            "Southern Food\n",
            "Seafood\n",
            "Ramen\n",
            "Quick Meal\n",
            "Pizza\n",
            "Northern Food\n",
            "Noodles\n",
            "Mexican\n",
            "Korean\n",
            "Japanese\n",
            "Italian\n",
            "Izakaya\n",
            "Healthy Food\n",
            "German Food\n",
            "Fusion Food\n",
            "French\n",
            "Food Truck\n",
            "Fastfood\n",
            "Dim Sum\n",
            "Delivery Only\n",
            "Chinese\n",
            "Cafe\n",
            "Café/Coffee Shop\n",
            "Buffet\n",
            "Breakfast/Brunch\n",
            "Bakery/Cake\n",
            "Barbeque/Grill\n",
            "American\n"
          ],
          "name": "stdout"
        }
      ]
    },
    {
      "cell_type": "markdown",
      "metadata": {
        "id": "6atC81a4uv-I"
      },
      "source": [
        "#Cassification แบบ KNN  เพื่อหาว่า search เป็นร้านอาหารหรือไม่\n",
        " \n",
        "โดยมีขั้นตอนดังนี้ \n",
        "1. Import ข้อมูลที่ต้องการใช้\n",
        "\n",
        "\n",
        "2. Define นิยามให้ตัว modle หน้าตาเป็นยังไง คือ k เป็นเท่าไหร่ โหวตยังไง วัดระยะอย่างไร  \n",
        "\n",
        "\n",
        "3. Train(fit) สร้าง modle โดย input ตัวแปรเข้ามา 2ตัว คือ X และ y\n",
        "\n",
        "\n",
        "4. Test วัดผลว่ามันดีแค่ไหน \n",
        "โดยในการ test จะใช้ .predict_proba เป็นการคำนวณความน่าจะเป็นว่าจะอยู่กลุ่มไหน แทนที่จะทำนายชัดลงไปเลยว่าอยู่กลุ่มไหน\n",
        "\n",
        "5. Evaluate \n",
        "\n",
        "    การเลือกโมเดลที่ดีที่สุดที่แท้จริง\n",
        "\n",
        "    1.แบ่งข้อมูลเป็น train กับ test และเก็บ test เอาไว้\n",
        "    2.ทำ k-fold cross validation เพื่อเลือกโมเดลที่ดีที่สุด\n",
        "    3.Train model ที่ดีที่สุด ด้วย training set แล้ววัดผลด้วย test set \n",
        "\n",
        "    ถ้าผลมีค่าใกล้เคียง 1 มากแสดงว่า seach เป็นร้านอาหารจริง \n",
        "\n",
        "\n"
      ]
    },
    {
      "cell_type": "markdown",
      "metadata": {
        "id": "zm8mN3OAIpJE"
      },
      "source": [
        "2. จากข้อมูล (```reduced_marketbasket.csv```) ใน http://qr.tebs.io/TTGDFf ให้เปรียบเทียบ รูปแบบ การซื้อที่น่าสนใจเป็นราย Transaction ของประชากรใน ประเทศ ```United Kingdom``` กับ ประเทศอื่นๆ (```'Country'!='United Kingdom'```)\n",
        "\n",
        "(80 คะแนน)"
      ]
    },
    {
      "cell_type": "code",
      "metadata": {
        "id": "LGCc3uMuc3SM"
      },
      "source": [
        "import os \n",
        "import pandas as pd\n",
        " \n",
        "reduced_marketbasket = os.path.join(path,'reduced_marketbasket.csv')  #สร้างที่อยู่โดยใช้ os.path.join"
      ],
      "execution_count": 72,
      "outputs": []
    },
    {
      "cell_type": "code",
      "metadata": {
        "id": "hlRi3-LXcjeo",
        "outputId": "77639691-35ef-4124-8e11-699a04ad5e7e",
        "colab": {
          "base_uri": "https://localhost:8080/",
          "height": 195
        }
      },
      "source": [
        "data_Country = pd.read_csv(os.path.join(path,'reduced_marketbasket.csv'),encoding='latin1')\n",
        "data_Country.head() \n",
        "\n",
        "#ถ้า import ปกติโค้ดจะ error ของ csv เพราะใน data เรายังเป็นตัวอักษรแปลกๆ มันจึงบอกให้ใส่ encoding แล้วเลือกใส่ latin1 ฯลฯ"
      ],
      "execution_count": 74,
      "outputs": [
        {
          "output_type": "execute_result",
          "data": {
            "text/html": [
              "<div>\n",
              "<style scoped>\n",
              "    .dataframe tbody tr th:only-of-type {\n",
              "        vertical-align: middle;\n",
              "    }\n",
              "\n",
              "    .dataframe tbody tr th {\n",
              "        vertical-align: top;\n",
              "    }\n",
              "\n",
              "    .dataframe thead th {\n",
              "        text-align: right;\n",
              "    }\n",
              "</style>\n",
              "<table border=\"1\" class=\"dataframe\">\n",
              "  <thead>\n",
              "    <tr style=\"text-align: right;\">\n",
              "      <th></th>\n",
              "      <th>InvoiceNo</th>\n",
              "      <th>StockCode</th>\n",
              "      <th>Description</th>\n",
              "      <th>Quantity</th>\n",
              "      <th>InvoiceDate</th>\n",
              "      <th>UnitPrice</th>\n",
              "      <th>CustomerID</th>\n",
              "      <th>Country</th>\n",
              "    </tr>\n",
              "  </thead>\n",
              "  <tbody>\n",
              "    <tr>\n",
              "      <th>0</th>\n",
              "      <td>536365</td>\n",
              "      <td>85123A</td>\n",
              "      <td>WHITE HANGING HEART T-LIGHT HOLDER</td>\n",
              "      <td>6</td>\n",
              "      <td>12/01/2010 08:26</td>\n",
              "      <td>2.55</td>\n",
              "      <td>17850.0</td>\n",
              "      <td>United Kingdom</td>\n",
              "    </tr>\n",
              "    <tr>\n",
              "      <th>1</th>\n",
              "      <td>536365</td>\n",
              "      <td>71053</td>\n",
              "      <td>WHITE METAL LANTERN</td>\n",
              "      <td>6</td>\n",
              "      <td>12/01/2010 08:26</td>\n",
              "      <td>3.39</td>\n",
              "      <td>17850.0</td>\n",
              "      <td>United Kingdom</td>\n",
              "    </tr>\n",
              "    <tr>\n",
              "      <th>2</th>\n",
              "      <td>536365</td>\n",
              "      <td>84406B</td>\n",
              "      <td>CREAM CUPID HEARTS COAT HANGER</td>\n",
              "      <td>8</td>\n",
              "      <td>12/01/2010 08:26</td>\n",
              "      <td>2.75</td>\n",
              "      <td>17850.0</td>\n",
              "      <td>United Kingdom</td>\n",
              "    </tr>\n",
              "    <tr>\n",
              "      <th>3</th>\n",
              "      <td>536365</td>\n",
              "      <td>84029G</td>\n",
              "      <td>KNITTED UNION FLAG HOT WATER BOTTLE</td>\n",
              "      <td>6</td>\n",
              "      <td>12/01/2010 08:26</td>\n",
              "      <td>3.39</td>\n",
              "      <td>17850.0</td>\n",
              "      <td>United Kingdom</td>\n",
              "    </tr>\n",
              "    <tr>\n",
              "      <th>4</th>\n",
              "      <td>536365</td>\n",
              "      <td>84029E</td>\n",
              "      <td>RED WOOLLY HOTTIE WHITE HEART.</td>\n",
              "      <td>6</td>\n",
              "      <td>12/01/2010 08:26</td>\n",
              "      <td>3.39</td>\n",
              "      <td>17850.0</td>\n",
              "      <td>United Kingdom</td>\n",
              "    </tr>\n",
              "  </tbody>\n",
              "</table>\n",
              "</div>"
            ],
            "text/plain": [
              "  InvoiceNo StockCode  ... CustomerID         Country\n",
              "0    536365    85123A  ...    17850.0  United Kingdom\n",
              "1    536365     71053  ...    17850.0  United Kingdom\n",
              "2    536365    84406B  ...    17850.0  United Kingdom\n",
              "3    536365    84029G  ...    17850.0  United Kingdom\n",
              "4    536365    84029E  ...    17850.0  United Kingdom\n",
              "\n",
              "[5 rows x 8 columns]"
            ]
          },
          "metadata": {
            "tags": []
          },
          "execution_count": 74
        }
      ]
    },
    {
      "cell_type": "code",
      "metadata": {
        "id": "Jar4Y694fYq-",
        "outputId": "e1d3507b-2956-4408-fafb-4406824c3411",
        "colab": {
          "base_uri": "https://localhost:8080/",
          "height": 1000
        }
      },
      "source": [
        "#จากตาราง data_Country เราจะ .groupby ประเทศ ('Country')\n",
        "\n",
        "data_Country_Quantity = data_Country.groupby('Country').sum().sort_values('Quantity',ascending=False)\n",
        "data_Country_Quantity"
      ],
      "execution_count": 77,
      "outputs": [
        {
          "output_type": "execute_result",
          "data": {
            "text/html": [
              "<div>\n",
              "<style scoped>\n",
              "    .dataframe tbody tr th:only-of-type {\n",
              "        vertical-align: middle;\n",
              "    }\n",
              "\n",
              "    .dataframe tbody tr th {\n",
              "        vertical-align: top;\n",
              "    }\n",
              "\n",
              "    .dataframe thead th {\n",
              "        text-align: right;\n",
              "    }\n",
              "</style>\n",
              "<table border=\"1\" class=\"dataframe\">\n",
              "  <thead>\n",
              "    <tr style=\"text-align: right;\">\n",
              "      <th></th>\n",
              "      <th>Quantity</th>\n",
              "      <th>UnitPrice</th>\n",
              "      <th>CustomerID</th>\n",
              "    </tr>\n",
              "    <tr>\n",
              "      <th>Country</th>\n",
              "      <th></th>\n",
              "      <th></th>\n",
              "      <th></th>\n",
              "    </tr>\n",
              "  </thead>\n",
              "  <tbody>\n",
              "    <tr>\n",
              "      <th>United Kingdom</th>\n",
              "      <td>4263829</td>\n",
              "      <td>2.245715e+06</td>\n",
              "      <td>5.626433e+09</td>\n",
              "    </tr>\n",
              "    <tr>\n",
              "      <th>Netherlands</th>\n",
              "      <td>200128</td>\n",
              "      <td>6.492550e+03</td>\n",
              "      <td>3.419054e+07</td>\n",
              "    </tr>\n",
              "    <tr>\n",
              "      <th>EIRE</th>\n",
              "      <td>142637</td>\n",
              "      <td>4.844719e+04</td>\n",
              "      <td>1.103917e+08</td>\n",
              "    </tr>\n",
              "    <tr>\n",
              "      <th>Germany</th>\n",
              "      <td>117448</td>\n",
              "      <td>3.766600e+04</td>\n",
              "      <td>1.200751e+08</td>\n",
              "    </tr>\n",
              "    <tr>\n",
              "      <th>France</th>\n",
              "      <td>110480</td>\n",
              "      <td>4.303199e+04</td>\n",
              "      <td>1.076489e+08</td>\n",
              "    </tr>\n",
              "    <tr>\n",
              "      <th>Australia</th>\n",
              "      <td>83653</td>\n",
              "      <td>4.054750e+03</td>\n",
              "      <td>1.569300e+07</td>\n",
              "    </tr>\n",
              "    <tr>\n",
              "      <th>Sweden</th>\n",
              "      <td>35637</td>\n",
              "      <td>1.806830e+03</td>\n",
              "      <td>6.790083e+06</td>\n",
              "    </tr>\n",
              "    <tr>\n",
              "      <th>Switzerland</th>\n",
              "      <td>30325</td>\n",
              "      <td>6.813690e+03</td>\n",
              "      <td>2.377592e+07</td>\n",
              "    </tr>\n",
              "    <tr>\n",
              "      <th>Spain</th>\n",
              "      <td>26824</td>\n",
              "      <td>1.263345e+04</td>\n",
              "      <td>3.268929e+07</td>\n",
              "    </tr>\n",
              "    <tr>\n",
              "      <th>Japan</th>\n",
              "      <td>25218</td>\n",
              "      <td>8.148600e+02</td>\n",
              "      <td>4.567292e+06</td>\n",
              "    </tr>\n",
              "    <tr>\n",
              "      <th>Belgium</th>\n",
              "      <td>23152</td>\n",
              "      <td>7.540130e+03</td>\n",
              "      <td>2.571829e+07</td>\n",
              "    </tr>\n",
              "    <tr>\n",
              "      <th>Norway</th>\n",
              "      <td>19247</td>\n",
              "      <td>6.529060e+03</td>\n",
              "      <td>1.350765e+07</td>\n",
              "    </tr>\n",
              "    <tr>\n",
              "      <th>Portugal</th>\n",
              "      <td>16180</td>\n",
              "      <td>1.303754e+04</td>\n",
              "      <td>1.886480e+07</td>\n",
              "    </tr>\n",
              "    <tr>\n",
              "      <th>Finland</th>\n",
              "      <td>10666</td>\n",
              "      <td>3.786850e+03</td>\n",
              "      <td>8.699324e+06</td>\n",
              "    </tr>\n",
              "    <tr>\n",
              "      <th>Channel Islands</th>\n",
              "      <td>9479</td>\n",
              "      <td>3.738550e+03</td>\n",
              "      <td>1.128522e+07</td>\n",
              "    </tr>\n",
              "    <tr>\n",
              "      <th>Denmark</th>\n",
              "      <td>8188</td>\n",
              "      <td>1.266950e+03</td>\n",
              "      <td>4.876734e+06</td>\n",
              "    </tr>\n",
              "    <tr>\n",
              "      <th>Italy</th>\n",
              "      <td>7999</td>\n",
              "      <td>3.879390e+03</td>\n",
              "      <td>1.015666e+07</td>\n",
              "    </tr>\n",
              "    <tr>\n",
              "      <th>Cyprus</th>\n",
              "      <td>6317</td>\n",
              "      <td>3.920070e+03</td>\n",
              "      <td>7.715880e+06</td>\n",
              "    </tr>\n",
              "    <tr>\n",
              "      <th>Singapore</th>\n",
              "      <td>5234</td>\n",
              "      <td>2.510889e+04</td>\n",
              "      <td>2.918376e+06</td>\n",
              "    </tr>\n",
              "    <tr>\n",
              "      <th>Austria</th>\n",
              "      <td>4827</td>\n",
              "      <td>1.701520e+03</td>\n",
              "      <td>5.021102e+06</td>\n",
              "    </tr>\n",
              "    <tr>\n",
              "      <th>Hong Kong</th>\n",
              "      <td>4769</td>\n",
              "      <td>1.224150e+04</td>\n",
              "      <td>0.000000e+00</td>\n",
              "    </tr>\n",
              "    <tr>\n",
              "      <th>Israel</th>\n",
              "      <td>4353</td>\n",
              "      <td>1.079040e+03</td>\n",
              "      <td>3.164467e+06</td>\n",
              "    </tr>\n",
              "    <tr>\n",
              "      <th>Poland</th>\n",
              "      <td>3653</td>\n",
              "      <td>1.422270e+03</td>\n",
              "      <td>4.341972e+06</td>\n",
              "    </tr>\n",
              "    <tr>\n",
              "      <th>Unspecified</th>\n",
              "      <td>3300</td>\n",
              "      <td>1.204010e+03</td>\n",
              "      <td>3.348046e+06</td>\n",
              "    </tr>\n",
              "    <tr>\n",
              "      <th>Canada</th>\n",
              "      <td>2763</td>\n",
              "      <td>9.105800e+02</td>\n",
              "      <td>2.615483e+06</td>\n",
              "    </tr>\n",
              "    <tr>\n",
              "      <th>Iceland</th>\n",
              "      <td>2458</td>\n",
              "      <td>4.812100e+02</td>\n",
              "      <td>2.247154e+06</td>\n",
              "    </tr>\n",
              "    <tr>\n",
              "      <th>Greece</th>\n",
              "      <td>1556</td>\n",
              "      <td>7.132900e+02</td>\n",
              "      <td>2.008584e+06</td>\n",
              "    </tr>\n",
              "    <tr>\n",
              "      <th>USA</th>\n",
              "      <td>1034</td>\n",
              "      <td>6.449800e+02</td>\n",
              "      <td>3.672086e+06</td>\n",
              "    </tr>\n",
              "    <tr>\n",
              "      <th>United Arab Emirates</th>\n",
              "      <td>982</td>\n",
              "      <td>2.298900e+02</td>\n",
              "      <td>1.018952e+06</td>\n",
              "    </tr>\n",
              "    <tr>\n",
              "      <th>Malta</th>\n",
              "      <td>944</td>\n",
              "      <td>6.660100e+02</td>\n",
              "      <td>2.158496e+06</td>\n",
              "    </tr>\n",
              "    <tr>\n",
              "      <th>Lithuania</th>\n",
              "      <td>652</td>\n",
              "      <td>9.944000e+01</td>\n",
              "      <td>5.366200e+05</td>\n",
              "    </tr>\n",
              "    <tr>\n",
              "      <th>Czech Republic</th>\n",
              "      <td>592</td>\n",
              "      <td>8.815000e+01</td>\n",
              "      <td>3.834300e+05</td>\n",
              "    </tr>\n",
              "    <tr>\n",
              "      <th>European Community</th>\n",
              "      <td>497</td>\n",
              "      <td>2.940500e+02</td>\n",
              "      <td>9.215880e+05</td>\n",
              "    </tr>\n",
              "    <tr>\n",
              "      <th>Lebanon</th>\n",
              "      <td>386</td>\n",
              "      <td>2.424400e+02</td>\n",
              "      <td>5.743800e+05</td>\n",
              "    </tr>\n",
              "    <tr>\n",
              "      <th>Brazil</th>\n",
              "      <td>356</td>\n",
              "      <td>1.426000e+02</td>\n",
              "      <td>4.086080e+05</td>\n",
              "    </tr>\n",
              "    <tr>\n",
              "      <th>RSA</th>\n",
              "      <td>352</td>\n",
              "      <td>2.481000e+02</td>\n",
              "      <td>7.218680e+05</td>\n",
              "    </tr>\n",
              "    <tr>\n",
              "      <th>Bahrain</th>\n",
              "      <td>260</td>\n",
              "      <td>8.657000e+01</td>\n",
              "      <td>2.100270e+05</td>\n",
              "    </tr>\n",
              "    <tr>\n",
              "      <th>Saudi Arabia</th>\n",
              "      <td>75</td>\n",
              "      <td>2.411000e+01</td>\n",
              "      <td>1.256500e+05</td>\n",
              "    </tr>\n",
              "  </tbody>\n",
              "</table>\n",
              "</div>"
            ],
            "text/plain": [
              "                      Quantity     UnitPrice    CustomerID\n",
              "Country                                                   \n",
              "United Kingdom         4263829  2.245715e+06  5.626433e+09\n",
              "Netherlands             200128  6.492550e+03  3.419054e+07\n",
              "EIRE                    142637  4.844719e+04  1.103917e+08\n",
              "Germany                 117448  3.766600e+04  1.200751e+08\n",
              "France                  110480  4.303199e+04  1.076489e+08\n",
              "Australia                83653  4.054750e+03  1.569300e+07\n",
              "Sweden                   35637  1.806830e+03  6.790083e+06\n",
              "Switzerland              30325  6.813690e+03  2.377592e+07\n",
              "Spain                    26824  1.263345e+04  3.268929e+07\n",
              "Japan                    25218  8.148600e+02  4.567292e+06\n",
              "Belgium                  23152  7.540130e+03  2.571829e+07\n",
              "Norway                   19247  6.529060e+03  1.350765e+07\n",
              "Portugal                 16180  1.303754e+04  1.886480e+07\n",
              "Finland                  10666  3.786850e+03  8.699324e+06\n",
              "Channel Islands           9479  3.738550e+03  1.128522e+07\n",
              "Denmark                   8188  1.266950e+03  4.876734e+06\n",
              "Italy                     7999  3.879390e+03  1.015666e+07\n",
              "Cyprus                    6317  3.920070e+03  7.715880e+06\n",
              "Singapore                 5234  2.510889e+04  2.918376e+06\n",
              "Austria                   4827  1.701520e+03  5.021102e+06\n",
              "Hong Kong                 4769  1.224150e+04  0.000000e+00\n",
              "Israel                    4353  1.079040e+03  3.164467e+06\n",
              "Poland                    3653  1.422270e+03  4.341972e+06\n",
              "Unspecified               3300  1.204010e+03  3.348046e+06\n",
              "Canada                    2763  9.105800e+02  2.615483e+06\n",
              "Iceland                   2458  4.812100e+02  2.247154e+06\n",
              "Greece                    1556  7.132900e+02  2.008584e+06\n",
              "USA                       1034  6.449800e+02  3.672086e+06\n",
              "United Arab Emirates       982  2.298900e+02  1.018952e+06\n",
              "Malta                      944  6.660100e+02  2.158496e+06\n",
              "Lithuania                  652  9.944000e+01  5.366200e+05\n",
              "Czech Republic             592  8.815000e+01  3.834300e+05\n",
              "European Community         497  2.940500e+02  9.215880e+05\n",
              "Lebanon                    386  2.424400e+02  5.743800e+05\n",
              "Brazil                     356  1.426000e+02  4.086080e+05\n",
              "RSA                        352  2.481000e+02  7.218680e+05\n",
              "Bahrain                    260  8.657000e+01  2.100270e+05\n",
              "Saudi Arabia                75  2.411000e+01  1.256500e+05"
            ]
          },
          "metadata": {
            "tags": []
          },
          "execution_count": 77
        }
      ]
    },
    {
      "cell_type": "code",
      "metadata": {
        "id": "w20xPp3yhGle",
        "outputId": "4e190d40-afad-46db-fdbb-14ba60b74da5",
        "colab": {
          "base_uri": "https://localhost:8080/"
        }
      },
      "source": [
        "transacs = data_Country.groupby('InvoiceNo')['StockCode'].apply(list)\n",
        "transacs \n",
        "#ตัว c ใน InvoiceNo คือการลบสินค้าออกไป"
      ],
      "execution_count": 78,
      "outputs": [
        {
          "output_type": "execute_result",
          "data": {
            "text/plain": [
              "InvoiceNo\n",
              "536365     [85123A, 71053, 84406B, 84029G, 84029E, 22752,...\n",
              "536366                                        [22633, 22632]\n",
              "536367     [84879, 22745, 22748, 22749, 22310, 84969, 226...\n",
              "536368                          [22960, 22913, 22912, 22914]\n",
              "536369                                               [21756]\n",
              "                                 ...                        \n",
              "C581484                                              [23843]\n",
              "C581490                                       [22178, 23144]\n",
              "C581499                                                  [M]\n",
              "C581568                                              [21258]\n",
              "C581569                                       [84978, 20979]\n",
              "Name: StockCode, Length: 25900, dtype: object"
            ]
          },
          "metadata": {
            "tags": []
          },
          "execution_count": 78
        }
      ]
    },
    {
      "cell_type": "code",
      "metadata": {
        "id": "942_G3uyjEw7",
        "outputId": "bb912d0d-491f-4440-f1c0-0ac79882fe95",
        "colab": {
          "base_uri": "https://localhost:8080/"
        }
      },
      "source": [
        "!pip install apyori\n",
        "# ทำการติดตั้งแพ็คเกจ apyori"
      ],
      "execution_count": 79,
      "outputs": [
        {
          "output_type": "stream",
          "text": [
            "Collecting apyori\n",
            "  Downloading https://files.pythonhosted.org/packages/5e/62/5ffde5c473ea4b033490617ec5caa80d59804875ad3c3c57c0976533a21a/apyori-1.1.2.tar.gz\n",
            "Building wheels for collected packages: apyori\n",
            "  Building wheel for apyori (setup.py) ... \u001b[?25l\u001b[?25hdone\n",
            "  Created wheel for apyori: filename=apyori-1.1.2-cp36-none-any.whl size=5975 sha256=44d6469233d6906cb799dd3d73062bdffdd3166a0f548269bdd7c3343b1f3366\n",
            "  Stored in directory: /root/.cache/pip/wheels/5d/92/bb/474bbadbc8c0062b9eb168f69982a0443263f8ab1711a8cad0\n",
            "Successfully built apyori\n",
            "Installing collected packages: apyori\n",
            "Successfully installed apyori-1.1.2\n"
          ],
          "name": "stdout"
        }
      ]
    },
    {
      "cell_type": "code",
      "metadata": {
        "id": "2VFEyWumjJNX"
      },
      "source": [
        "from apyori import apriori"
      ],
      "execution_count": 80,
      "outputs": []
    },
    {
      "cell_type": "code",
      "metadata": {
        "id": "aFPL65aKjLQD",
        "outputId": "dd672f10-2175-4767-ebe6-67a649bb4da8",
        "colab": {
          "base_uri": "https://localhost:8080/"
        }
      },
      "source": [
        "list(apriori(transacs,min_support = 0.02, min_cofidence = 0.1))\n",
        "# min_support = 0.02 คือ กำหนดให้เท่า 0.02 แปลว่า ทุกกฎที่โผล่มา transacs เกิดขึ้นซ้ำๆประมาณ 500 คือ 0.02 คูณกับ Row 25900\n",
        "# min_cofidence = 0.1 คือ เอา sup มาหารด้วย sup แต่ละอัน"
      ],
      "execution_count": 81,
      "outputs": [
        {
          "output_type": "execute_result",
          "data": {
            "text/plain": [
              "[RelationRecord(items=frozenset({'15036'}), support=0.020193050193050194, ordered_statistics=[OrderedStatistic(items_base=frozenset(), items_add=frozenset({'15036'}), confidence=0.020193050193050194, lift=1.0)]),\n",
              " RelationRecord(items=frozenset({'20685'}), support=0.027181467181467182, ordered_statistics=[OrderedStatistic(items_base=frozenset(), items_add=frozenset({'20685'}), confidence=0.027181467181467182, lift=1.0)]),\n",
              " RelationRecord(items=frozenset({'20711'}), support=0.02054054054054054, ordered_statistics=[OrderedStatistic(items_base=frozenset(), items_add=frozenset({'20711'}), confidence=0.02054054054054054, lift=1.0)]),\n",
              " RelationRecord(items=frozenset({'20712'}), support=0.033667953667953665, ordered_statistics=[OrderedStatistic(items_base=frozenset(), items_add=frozenset({'20712'}), confidence=0.033667953667953665, lift=1.0)]),\n",
              " RelationRecord(items=frozenset({'20713'}), support=0.02602316602316602, ordered_statistics=[OrderedStatistic(items_base=frozenset(), items_add=frozenset({'20713'}), confidence=0.02602316602316602, lift=1.0)]),\n",
              " RelationRecord(items=frozenset({'20718'}), support=0.022393822393822392, ordered_statistics=[OrderedStatistic(items_base=frozenset(), items_add=frozenset({'20718'}), confidence=0.022393822393822392, lift=1.0)]),\n",
              " RelationRecord(items=frozenset({'20719'}), support=0.03254826254826255, ordered_statistics=[OrderedStatistic(items_base=frozenset(), items_add=frozenset({'20719'}), confidence=0.03254826254826255, lift=1.0)]),\n",
              " RelationRecord(items=frozenset({'20723'}), support=0.02833976833976834, ordered_statistics=[OrderedStatistic(items_base=frozenset(), items_add=frozenset({'20723'}), confidence=0.02833976833976834, lift=1.0)]),\n",
              " RelationRecord(items=frozenset({'20724'}), support=0.04054054054054054, ordered_statistics=[OrderedStatistic(items_base=frozenset(), items_add=frozenset({'20724'}), confidence=0.04054054054054054, lift=1.0)]),\n",
              " RelationRecord(items=frozenset({'20725'}), support=0.062084942084942085, ordered_statistics=[OrderedStatistic(items_base=frozenset(), items_add=frozenset({'20725'}), confidence=0.062084942084942085, lift=1.0)]),\n",
              " RelationRecord(items=frozenset({'20726'}), support=0.04003861003861004, ordered_statistics=[OrderedStatistic(items_base=frozenset(), items_add=frozenset({'20726'}), confidence=0.04003861003861004, lift=1.0)]),\n",
              " RelationRecord(items=frozenset({'20727'}), support=0.05, ordered_statistics=[OrderedStatistic(items_base=frozenset(), items_add=frozenset({'20727'}), confidence=0.05, lift=1.0)]),\n",
              " RelationRecord(items=frozenset({'20728'}), support=0.04528957528957529, ordered_statistics=[OrderedStatistic(items_base=frozenset(), items_add=frozenset({'20728'}), confidence=0.04528957528957529, lift=1.0)]),\n",
              " RelationRecord(items=frozenset({'20914'}), support=0.03528957528957529, ordered_statistics=[OrderedStatistic(items_base=frozenset(), items_add=frozenset({'20914'}), confidence=0.03528957528957529, lift=1.0)]),\n",
              " RelationRecord(items=frozenset({'20971'}), support=0.020308880308880308, ordered_statistics=[OrderedStatistic(items_base=frozenset(), items_add=frozenset({'20971'}), confidence=0.020308880308880308, lift=1.0)]),\n",
              " RelationRecord(items=frozenset({'20972'}), support=0.02386100386100386, ordered_statistics=[OrderedStatistic(items_base=frozenset(), items_add=frozenset({'20972'}), confidence=0.02386100386100386, lift=1.0)]),\n",
              " RelationRecord(items=frozenset({'21034'}), support=0.033745173745173745, ordered_statistics=[OrderedStatistic(items_base=frozenset(), items_add=frozenset({'21034'}), confidence=0.033745173745173745, lift=1.0)]),\n",
              " RelationRecord(items=frozenset({'21080'}), support=0.03814671814671815, ordered_statistics=[OrderedStatistic(items_base=frozenset(), items_add=frozenset({'21080'}), confidence=0.03814671814671815, lift=1.0)]),\n",
              " RelationRecord(items=frozenset({'21094'}), support=0.02034749034749035, ordered_statistics=[OrderedStatistic(items_base=frozenset(), items_add=frozenset({'21094'}), confidence=0.02034749034749035, lift=1.0)]),\n",
              " RelationRecord(items=frozenset({'21166'}), support=0.02837837837837838, ordered_statistics=[OrderedStatistic(items_base=frozenset(), items_add=frozenset({'21166'}), confidence=0.02837837837837838, lift=1.0)]),\n",
              " RelationRecord(items=frozenset({'21174'}), support=0.020888030888030887, ordered_statistics=[OrderedStatistic(items_base=frozenset(), items_add=frozenset({'21174'}), confidence=0.020888030888030887, lift=1.0)]),\n",
              " RelationRecord(items=frozenset({'21175'}), support=0.031544401544401544, ordered_statistics=[OrderedStatistic(items_base=frozenset(), items_add=frozenset({'21175'}), confidence=0.031544401544401544, lift=1.0)]),\n",
              " RelationRecord(items=frozenset({'21181'}), support=0.033281853281853284, ordered_statistics=[OrderedStatistic(items_base=frozenset(), items_add=frozenset({'21181'}), confidence=0.033281853281853284, lift=1.0)]),\n",
              " RelationRecord(items=frozenset({'21212'}), support=0.05150579150579151, ordered_statistics=[OrderedStatistic(items_base=frozenset(), items_add=frozenset({'21212'}), confidence=0.05150579150579151, lift=1.0)]),\n",
              " RelationRecord(items=frozenset({'21213'}), support=0.025637065637065637, ordered_statistics=[OrderedStatistic(items_base=frozenset(), items_add=frozenset({'21213'}), confidence=0.025637065637065637, lift=1.0)]),\n",
              " RelationRecord(items=frozenset({'21231'}), support=0.020694980694980696, ordered_statistics=[OrderedStatistic(items_base=frozenset(), items_add=frozenset({'21231'}), confidence=0.020694980694980696, lift=1.0)]),\n",
              " RelationRecord(items=frozenset({'21232'}), support=0.03428571428571429, ordered_statistics=[OrderedStatistic(items_base=frozenset(), items_add=frozenset({'21232'}), confidence=0.03428571428571429, lift=1.0)]),\n",
              " RelationRecord(items=frozenset({'21314'}), support=0.022432432432432432, ordered_statistics=[OrderedStatistic(items_base=frozenset(), items_add=frozenset({'21314'}), confidence=0.022432432432432432, lift=1.0)]),\n",
              " RelationRecord(items=frozenset({'21485'}), support=0.024362934362934362, ordered_statistics=[OrderedStatistic(items_base=frozenset(), items_add=frozenset({'21485'}), confidence=0.024362934362934362, lift=1.0)]),\n",
              " RelationRecord(items=frozenset({'21559'}), support=0.022586872586872586, ordered_statistics=[OrderedStatistic(items_base=frozenset(), items_add=frozenset({'21559'}), confidence=0.022586872586872586, lift=1.0)]),\n",
              " RelationRecord(items=frozenset({'21731'}), support=0.033243243243243244, ordered_statistics=[OrderedStatistic(items_base=frozenset(), items_add=frozenset({'21731'}), confidence=0.033243243243243244, lift=1.0)]),\n",
              " RelationRecord(items=frozenset({'21733'}), support=0.029111969111969112, ordered_statistics=[OrderedStatistic(items_base=frozenset(), items_add=frozenset({'21733'}), confidence=0.029111969111969112, lift=1.0)]),\n",
              " RelationRecord(items=frozenset({'21754'}), support=0.030386100386100387, ordered_statistics=[OrderedStatistic(items_base=frozenset(), items_add=frozenset({'21754'}), confidence=0.030386100386100387, lift=1.0)]),\n",
              " RelationRecord(items=frozenset({'21755'}), support=0.024362934362934362, ordered_statistics=[OrderedStatistic(items_base=frozenset(), items_add=frozenset({'21755'}), confidence=0.024362934362934362, lift=1.0)]),\n",
              " RelationRecord(items=frozenset({'21790'}), support=0.035868725868725866, ordered_statistics=[OrderedStatistic(items_base=frozenset(), items_add=frozenset({'21790'}), confidence=0.035868725868725866, lift=1.0)]),\n",
              " RelationRecord(items=frozenset({'21791'}), support=0.02359073359073359, ordered_statistics=[OrderedStatistic(items_base=frozenset(), items_add=frozenset({'21791'}), confidence=0.02359073359073359, lift=1.0)]),\n",
              " RelationRecord(items=frozenset({'21843'}), support=0.022471042471042472, ordered_statistics=[OrderedStatistic(items_base=frozenset(), items_add=frozenset({'21843'}), confidence=0.022471042471042472, lift=1.0)]),\n",
              " RelationRecord(items=frozenset({'21889'}), support=0.02277992277992278, ordered_statistics=[OrderedStatistic(items_base=frozenset(), items_add=frozenset({'21889'}), confidence=0.02277992277992278, lift=1.0)]),\n",
              " RelationRecord(items=frozenset({'21914'}), support=0.02335907335907336, ordered_statistics=[OrderedStatistic(items_base=frozenset(), items_add=frozenset({'21914'}), confidence=0.02335907335907336, lift=1.0)]),\n",
              " RelationRecord(items=frozenset({'21915'}), support=0.025907335907335908, ordered_statistics=[OrderedStatistic(items_base=frozenset(), items_add=frozenset({'21915'}), confidence=0.025907335907335908, lift=1.0)]),\n",
              " RelationRecord(items=frozenset({'21928'}), support=0.031505791505791504, ordered_statistics=[OrderedStatistic(items_base=frozenset(), items_add=frozenset({'21928'}), confidence=0.031505791505791504, lift=1.0)]),\n",
              " RelationRecord(items=frozenset({'21929'}), support=0.03386100386100386, ordered_statistics=[OrderedStatistic(items_base=frozenset(), items_add=frozenset({'21929'}), confidence=0.03386100386100386, lift=1.0)]),\n",
              " RelationRecord(items=frozenset({'21930'}), support=0.027335907335907336, ordered_statistics=[OrderedStatistic(items_base=frozenset(), items_add=frozenset({'21930'}), confidence=0.027335907335907336, lift=1.0)]),\n",
              " RelationRecord(items=frozenset({'21931'}), support=0.04637065637065637, ordered_statistics=[OrderedStatistic(items_base=frozenset(), items_add=frozenset({'21931'}), confidence=0.04637065637065637, lift=1.0)]),\n",
              " RelationRecord(items=frozenset({'21935'}), support=0.020501930501930502, ordered_statistics=[OrderedStatistic(items_base=frozenset(), items_add=frozenset({'21935'}), confidence=0.020501930501930502, lift=1.0)]),\n",
              " RelationRecord(items=frozenset({'21936'}), support=0.020965250965250964, ordered_statistics=[OrderedStatistic(items_base=frozenset(), items_add=frozenset({'21936'}), confidence=0.020965250965250964, lift=1.0)]),\n",
              " RelationRecord(items=frozenset({'21975'}), support=0.023320463320463322, ordered_statistics=[OrderedStatistic(items_base=frozenset(), items_add=frozenset({'21975'}), confidence=0.023320463320463322, lift=1.0)]),\n",
              " RelationRecord(items=frozenset({'21977'}), support=0.033783783783783786, ordered_statistics=[OrderedStatistic(items_base=frozenset(), items_add=frozenset({'21977'}), confidence=0.033783783783783786, lift=1.0)]),\n",
              " RelationRecord(items=frozenset({'22029'}), support=0.020386100386100385, ordered_statistics=[OrderedStatistic(items_base=frozenset(), items_add=frozenset({'22029'}), confidence=0.020386100386100385, lift=1.0)]),\n",
              " RelationRecord(items=frozenset({'22077'}), support=0.037104247104247104, ordered_statistics=[OrderedStatistic(items_base=frozenset(), items_add=frozenset({'22077'}), confidence=0.037104247104247104, lift=1.0)]),\n",
              " RelationRecord(items=frozenset({'22083'}), support=0.023745173745173744, ordered_statistics=[OrderedStatistic(items_base=frozenset(), items_add=frozenset({'22083'}), confidence=0.023745173745173744, lift=1.0)]),\n",
              " RelationRecord(items=frozenset({'22086'}), support=0.04517374517374517, ordered_statistics=[OrderedStatistic(items_base=frozenset(), items_add=frozenset({'22086'}), confidence=0.04517374517374517, lift=1.0)]),\n",
              " RelationRecord(items=frozenset({'22090'}), support=0.03111969111969112, ordered_statistics=[OrderedStatistic(items_base=frozenset(), items_add=frozenset({'22090'}), confidence=0.03111969111969112, lift=1.0)]),\n",
              " RelationRecord(items=frozenset({'22111'}), support=0.03003861003861004, ordered_statistics=[OrderedStatistic(items_base=frozenset(), items_add=frozenset({'22111'}), confidence=0.03003861003861004, lift=1.0)]),\n",
              " RelationRecord(items=frozenset({'22112'}), support=0.03343629343629344, ordered_statistics=[OrderedStatistic(items_base=frozenset(), items_add=frozenset({'22112'}), confidence=0.03343629343629344, lift=1.0)]),\n",
              " RelationRecord(items=frozenset({'22113'}), support=0.021814671814671813, ordered_statistics=[OrderedStatistic(items_base=frozenset(), items_add=frozenset({'22113'}), confidence=0.021814671814671813, lift=1.0)]),\n",
              " RelationRecord(items=frozenset({'22114'}), support=0.025173745173745175, ordered_statistics=[OrderedStatistic(items_base=frozenset(), items_add=frozenset({'22114'}), confidence=0.025173745173745175, lift=1.0)]),\n",
              " RelationRecord(items=frozenset({'22138'}), support=0.037104247104247104, ordered_statistics=[OrderedStatistic(items_base=frozenset(), items_add=frozenset({'22138'}), confidence=0.037104247104247104, lift=1.0)]),\n",
              " RelationRecord(items=frozenset({'22139'}), support=0.037953667953667954, ordered_statistics=[OrderedStatistic(items_base=frozenset(), items_add=frozenset({'22139'}), confidence=0.037953667953667954, lift=1.0)]),\n",
              " RelationRecord(items=frozenset({'22144'}), support=0.02111969111969112, ordered_statistics=[OrderedStatistic(items_base=frozenset(), items_add=frozenset({'22144'}), confidence=0.02111969111969112, lift=1.0)]),\n",
              " RelationRecord(items=frozenset({'22149'}), support=0.021621621621621623, ordered_statistics=[OrderedStatistic(items_base=frozenset(), items_add=frozenset({'22149'}), confidence=0.021621621621621623, lift=1.0)]),\n",
              " RelationRecord(items=frozenset({'22178'}), support=0.041003861003861004, ordered_statistics=[OrderedStatistic(items_base=frozenset(), items_add=frozenset({'22178'}), confidence=0.041003861003861004, lift=1.0)]),\n",
              " RelationRecord(items=frozenset({'22189'}), support=0.020424710424710425, ordered_statistics=[OrderedStatistic(items_base=frozenset(), items_add=frozenset({'22189'}), confidence=0.020424710424710425, lift=1.0)]),\n",
              " RelationRecord(items=frozenset({'22197'}), support=0.055675675675675676, ordered_statistics=[OrderedStatistic(items_base=frozenset(), items_add=frozenset({'22197'}), confidence=0.055675675675675676, lift=1.0)]),\n",
              " RelationRecord(items=frozenset({'22219'}), support=0.021158301158301158, ordered_statistics=[OrderedStatistic(items_base=frozenset(), items_add=frozenset({'22219'}), confidence=0.021158301158301158, lift=1.0)]),\n",
              " RelationRecord(items=frozenset({'22326'}), support=0.02891891891891892, ordered_statistics=[OrderedStatistic(items_base=frozenset(), items_add=frozenset({'22326'}), confidence=0.02891891891891892, lift=1.0)]),\n",
              " RelationRecord(items=frozenset({'22328'}), support=0.02305019305019305, ordered_statistics=[OrderedStatistic(items_base=frozenset(), items_add=frozenset({'22328'}), confidence=0.02305019305019305, lift=1.0)]),\n",
              " RelationRecord(items=frozenset({'22355'}), support=0.034555984555984555, ordered_statistics=[OrderedStatistic(items_base=frozenset(), items_add=frozenset({'22355'}), confidence=0.034555984555984555, lift=1.0)]),\n",
              " RelationRecord(items=frozenset({'22356'}), support=0.029343629343629343, ordered_statistics=[OrderedStatistic(items_base=frozenset(), items_add=frozenset({'22356'}), confidence=0.029343629343629343, lift=1.0)]),\n",
              " RelationRecord(items=frozenset({'22367'}), support=0.021737451737451736, ordered_statistics=[OrderedStatistic(items_base=frozenset(), items_add=frozenset({'22367'}), confidence=0.021737451737451736, lift=1.0)]),\n",
              " RelationRecord(items=frozenset({'22379'}), support=0.029073359073359072, ordered_statistics=[OrderedStatistic(items_base=frozenset(), items_add=frozenset({'22379'}), confidence=0.029073359073359072, lift=1.0)]),\n",
              " RelationRecord(items=frozenset({'22382'}), support=0.04517374517374517, ordered_statistics=[OrderedStatistic(items_base=frozenset(), items_add=frozenset({'22382'}), confidence=0.04517374517374517, lift=1.0)]),\n",
              " RelationRecord(items=frozenset({'22383'}), support=0.050424710424710424, ordered_statistics=[OrderedStatistic(items_base=frozenset(), items_add=frozenset({'22383'}), confidence=0.050424710424710424, lift=1.0)]),\n",
              " RelationRecord(items=frozenset({'22384'}), support=0.04285714285714286, ordered_statistics=[OrderedStatistic(items_base=frozenset(), items_add=frozenset({'22384'}), confidence=0.04285714285714286, lift=1.0)]),\n",
              " RelationRecord(items=frozenset({'22385'}), support=0.026718146718146717, ordered_statistics=[OrderedStatistic(items_base=frozenset(), items_add=frozenset({'22385'}), confidence=0.026718146718146717, lift=1.0)]),\n",
              " RelationRecord(items=frozenset({'22386'}), support=0.04752895752895753, ordered_statistics=[OrderedStatistic(items_base=frozenset(), items_add=frozenset({'22386'}), confidence=0.04752895752895753, lift=1.0)]),\n",
              " RelationRecord(items=frozenset({'22411'}), support=0.04583011583011583, ordered_statistics=[OrderedStatistic(items_base=frozenset(), items_add=frozenset({'22411'}), confidence=0.04583011583011583, lift=1.0)]),\n",
              " RelationRecord(items=frozenset({'22417'}), support=0.020154440154440154, ordered_statistics=[OrderedStatistic(items_base=frozenset(), items_add=frozenset({'22417'}), confidence=0.020154440154440154, lift=1.0)]),\n",
              " RelationRecord(items=frozenset({'22423'}), support=0.08386100386100385, ordered_statistics=[OrderedStatistic(items_base=frozenset(), items_add=frozenset({'22423'}), confidence=0.08386100386100385, lift=1.0)]),\n",
              " RelationRecord(items=frozenset({'22427'}), support=0.020193050193050194, ordered_statistics=[OrderedStatistic(items_base=frozenset(), items_add=frozenset({'22427'}), confidence=0.020193050193050194, lift=1.0)]),\n",
              " RelationRecord(items=frozenset({'22457'}), support=0.04888030888030888, ordered_statistics=[OrderedStatistic(items_base=frozenset(), items_add=frozenset({'22457'}), confidence=0.04888030888030888, lift=1.0)]),\n",
              " RelationRecord(items=frozenset({'22467'}), support=0.027567567567567567, ordered_statistics=[OrderedStatistic(items_base=frozenset(), items_add=frozenset({'22467'}), confidence=0.027567567567567567, lift=1.0)]),\n",
              " RelationRecord(items=frozenset({'22469'}), support=0.04687258687258687, ordered_statistics=[OrderedStatistic(items_base=frozenset(), items_add=frozenset({'22469'}), confidence=0.04687258687258687, lift=1.0)]),\n",
              " RelationRecord(items=frozenset({'22470'}), support=0.03644787644787645, ordered_statistics=[OrderedStatistic(items_base=frozenset(), items_add=frozenset({'22470'}), confidence=0.03644787644787645, lift=1.0)]),\n",
              " RelationRecord(items=frozenset({'22551'}), support=0.026293436293436293, ordered_statistics=[OrderedStatistic(items_base=frozenset(), items_add=frozenset({'22551'}), confidence=0.026293436293436293, lift=1.0)]),\n",
              " RelationRecord(items=frozenset({'22553'}), support=0.02193050193050193, ordered_statistics=[OrderedStatistic(items_base=frozenset(), items_add=frozenset({'22553'}), confidence=0.02193050193050193, lift=1.0)]),\n",
              " RelationRecord(items=frozenset({'22554'}), support=0.027374517374517373, ordered_statistics=[OrderedStatistic(items_base=frozenset(), items_add=frozenset({'22554'}), confidence=0.027374517374517373, lift=1.0)]),\n",
              " RelationRecord(items=frozenset({'22555'}), support=0.020038610038610037, ordered_statistics=[OrderedStatistic(items_base=frozenset(), items_add=frozenset({'22555'}), confidence=0.020038610038610037, lift=1.0)]),\n",
              " RelationRecord(items=frozenset({'22556'}), support=0.022432432432432432, ordered_statistics=[OrderedStatistic(items_base=frozenset(), items_add=frozenset({'22556'}), confidence=0.022432432432432432, lift=1.0)]),\n",
              " RelationRecord(items=frozenset({'22557'}), support=0.022007722007722007, ordered_statistics=[OrderedStatistic(items_base=frozenset(), items_add=frozenset({'22557'}), confidence=0.022007722007722007, lift=1.0)]),\n",
              " RelationRecord(items=frozenset({'22558'}), support=0.030231660231660233, ordered_statistics=[OrderedStatistic(items_base=frozenset(), items_add=frozenset({'22558'}), confidence=0.030231660231660233, lift=1.0)]),\n",
              " RelationRecord(items=frozenset({'22577'}), support=0.020888030888030887, ordered_statistics=[OrderedStatistic(items_base=frozenset(), items_add=frozenset({'22577'}), confidence=0.020888030888030887, lift=1.0)]),\n",
              " RelationRecord(items=frozenset({'22621'}), support=0.023667953667953667, ordered_statistics=[OrderedStatistic(items_base=frozenset(), items_add=frozenset({'22621'}), confidence=0.023667953667953667, lift=1.0)]),\n",
              " RelationRecord(items=frozenset({'22624'}), support=0.027953667953667955, ordered_statistics=[OrderedStatistic(items_base=frozenset(), items_add=frozenset({'22624'}), confidence=0.027953667953667955, lift=1.0)]),\n",
              " RelationRecord(items=frozenset({'22625'}), support=0.022046332046332048, ordered_statistics=[OrderedStatistic(items_base=frozenset(), items_add=frozenset({'22625'}), confidence=0.022046332046332048, lift=1.0)]),\n",
              " RelationRecord(items=frozenset({'22629'}), support=0.03505791505791506, ordered_statistics=[OrderedStatistic(items_base=frozenset(), items_add=frozenset({'22629'}), confidence=0.03505791505791506, lift=1.0)]),\n",
              " RelationRecord(items=frozenset({'22630'}), support=0.033204633204633204, ordered_statistics=[OrderedStatistic(items_base=frozenset(), items_add=frozenset({'22630'}), confidence=0.033204633204633204, lift=1.0)]),\n",
              " RelationRecord(items=frozenset({'22659'}), support=0.027992277992277992, ordered_statistics=[OrderedStatistic(items_base=frozenset(), items_add=frozenset({'22659'}), confidence=0.027992277992277992, lift=1.0)]),\n",
              " RelationRecord(items=frozenset({'22662'}), support=0.02664092664092664, ordered_statistics=[OrderedStatistic(items_base=frozenset(), items_add=frozenset({'22662'}), confidence=0.02664092664092664, lift=1.0)]),\n",
              " RelationRecord(items=frozenset({'22666'}), support=0.044942084942084945, ordered_statistics=[OrderedStatistic(items_base=frozenset(), items_add=frozenset({'22666'}), confidence=0.044942084942084945, lift=1.0)]),\n",
              " RelationRecord(items=frozenset({'22697'}), support=0.04081081081081081, ordered_statistics=[OrderedStatistic(items_base=frozenset(), items_add=frozenset({'22697'}), confidence=0.04081081081081081, lift=1.0)]),\n",
              " RelationRecord(items=frozenset({'22698'}), support=0.030965250965250966, ordered_statistics=[OrderedStatistic(items_base=frozenset(), items_add=frozenset({'22698'}), confidence=0.030965250965250966, lift=1.0)]),\n",
              " RelationRecord(items=frozenset({'22699'}), support=0.043243243243243246, ordered_statistics=[OrderedStatistic(items_base=frozenset(), items_add=frozenset({'22699'}), confidence=0.043243243243243246, lift=1.0)]),\n",
              " RelationRecord(items=frozenset({'22720'}), support=0.056447876447876445, ordered_statistics=[OrderedStatistic(items_base=frozenset(), items_add=frozenset({'22720'}), confidence=0.056447876447876445, lift=1.0)]),\n",
              " RelationRecord(items=frozenset({'22722'}), support=0.03274131274131274, ordered_statistics=[OrderedStatistic(items_base=frozenset(), items_add=frozenset({'22722'}), confidence=0.03274131274131274, lift=1.0)]),\n",
              " RelationRecord(items=frozenset({'22726'}), support=0.03872586872586872, ordered_statistics=[OrderedStatistic(items_base=frozenset(), items_add=frozenset({'22726'}), confidence=0.03872586872586872, lift=1.0)]),\n",
              " RelationRecord(items=frozenset({'22727'}), support=0.04173745173745174, ordered_statistics=[OrderedStatistic(items_base=frozenset(), items_add=frozenset({'22727'}), confidence=0.04173745173745174, lift=1.0)]),\n",
              " RelationRecord(items=frozenset({'22728'}), support=0.03084942084942085, ordered_statistics=[OrderedStatistic(items_base=frozenset(), items_add=frozenset({'22728'}), confidence=0.03084942084942085, lift=1.0)]),\n",
              " RelationRecord(items=frozenset({'22730'}), support=0.02250965250965251, ordered_statistics=[OrderedStatistic(items_base=frozenset(), items_add=frozenset({'22730'}), confidence=0.02250965250965251, lift=1.0)]),\n",
              " RelationRecord(items=frozenset({'22766'}), support=0.020077220077220077, ordered_statistics=[OrderedStatistic(items_base=frozenset(), items_add=frozenset({'22766'}), confidence=0.020077220077220077, lift=1.0)]),\n",
              " RelationRecord(items=frozenset({'22776'}), support=0.022239382239382238, ordered_statistics=[OrderedStatistic(items_base=frozenset(), items_add=frozenset({'22776'}), confidence=0.022239382239382238, lift=1.0)]),\n",
              " RelationRecord(items=frozenset({'22835'}), support=0.0255984555984556, ordered_statistics=[OrderedStatistic(items_base=frozenset(), items_add=frozenset({'22835'}), confidence=0.0255984555984556, lift=1.0)]),\n",
              " RelationRecord(items=frozenset({'22865'}), support=0.025752895752895754, ordered_statistics=[OrderedStatistic(items_base=frozenset(), items_add=frozenset({'22865'}), confidence=0.025752895752895754, lift=1.0)]),\n",
              " RelationRecord(items=frozenset({'22866'}), support=0.021544401544401546, ordered_statistics=[OrderedStatistic(items_base=frozenset(), items_add=frozenset({'22866'}), confidence=0.021544401544401546, lift=1.0)]),\n",
              " RelationRecord(items=frozenset({'22867'}), support=0.0216988416988417, ordered_statistics=[OrderedStatistic(items_base=frozenset(), items_add=frozenset({'22867'}), confidence=0.0216988416988417, lift=1.0)]),\n",
              " RelationRecord(items=frozenset({'22900'}), support=0.021003861003861004, ordered_statistics=[OrderedStatistic(items_base=frozenset(), items_add=frozenset({'22900'}), confidence=0.021003861003861004, lift=1.0)]),\n",
              " RelationRecord(items=frozenset({'22907'}), support=0.026100386100386102, ordered_statistics=[OrderedStatistic(items_base=frozenset(), items_add=frozenset({'22907'}), confidence=0.026100386100386102, lift=1.0)]),\n",
              " RelationRecord(items=frozenset({'22909'}), support=0.023822393822393824, ordered_statistics=[OrderedStatistic(items_base=frozenset(), items_add=frozenset({'22909'}), confidence=0.023822393822393824, lift=1.0)]),\n",
              " RelationRecord(items=frozenset({'22910'}), support=0.032123552123552127, ordered_statistics=[OrderedStatistic(items_base=frozenset(), items_add=frozenset({'22910'}), confidence=0.032123552123552127, lift=1.0)]),\n",
              " RelationRecord(items=frozenset({'22952'}), support=0.024054054054054055, ordered_statistics=[OrderedStatistic(items_base=frozenset(), items_add=frozenset({'22952'}), confidence=0.024054054054054055, lift=1.0)]),\n",
              " RelationRecord(items=frozenset({'22960'}), support=0.047104247104247106, ordered_statistics=[OrderedStatistic(items_base=frozenset(), items_add=frozenset({'22960'}), confidence=0.047104247104247106, lift=1.0)]),\n",
              " RelationRecord(items=frozenset({'22961'}), support=0.045328185328185326, ordered_statistics=[OrderedStatistic(items_base=frozenset(), items_add=frozenset({'22961'}), confidence=0.045328185328185326, lift=1.0)]),\n",
              " RelationRecord(items=frozenset({'22966'}), support=0.02602316602316602, ordered_statistics=[OrderedStatistic(items_base=frozenset(), items_add=frozenset({'22966'}), confidence=0.02602316602316602, lift=1.0)]),\n",
              " RelationRecord(items=frozenset({'22969'}), support=0.025250965250965252, ordered_statistics=[OrderedStatistic(items_base=frozenset(), items_add=frozenset({'22969'}), confidence=0.025250965250965252, lift=1.0)]),\n",
              " RelationRecord(items=frozenset({'22993'}), support=0.041776061776061774, ordered_statistics=[OrderedStatistic(items_base=frozenset(), items_add=frozenset({'22993'}), confidence=0.041776061776061774, lift=1.0)]),\n",
              " RelationRecord(items=frozenset({'22998'}), support=0.021042471042471044, ordered_statistics=[OrderedStatistic(items_base=frozenset(), items_add=frozenset({'22998'}), confidence=0.021042471042471044, lift=1.0)]),\n",
              " RelationRecord(items=frozenset({'23084'}), support=0.03957528957528957, ordered_statistics=[OrderedStatistic(items_base=frozenset(), items_add=frozenset({'23084'}), confidence=0.03957528957528957, lift=1.0)]),\n",
              " RelationRecord(items=frozenset({'23199'}), support=0.03857142857142857, ordered_statistics=[OrderedStatistic(items_base=frozenset(), items_add=frozenset({'23199'}), confidence=0.03857142857142857, lift=1.0)]),\n",
              " RelationRecord(items=frozenset({'23200'}), support=0.023243243243243242, ordered_statistics=[OrderedStatistic(items_base=frozenset(), items_add=frozenset({'23200'}), confidence=0.023243243243243242, lift=1.0)]),\n",
              " RelationRecord(items=frozenset({'23201'}), support=0.03552123552123552, ordered_statistics=[OrderedStatistic(items_base=frozenset(), items_add=frozenset({'23201'}), confidence=0.03552123552123552, lift=1.0)]),\n",
              " RelationRecord(items=frozenset({'23202'}), support=0.03420849420849421, ordered_statistics=[OrderedStatistic(items_base=frozenset(), items_add=frozenset({'23202'}), confidence=0.03420849420849421, lift=1.0)]),\n",
              " RelationRecord(items=frozenset({'23203'}), support=0.04822393822393822, ordered_statistics=[OrderedStatistic(items_base=frozenset(), items_add=frozenset({'23203'}), confidence=0.04822393822393822, lift=1.0)]),\n",
              " RelationRecord(items=frozenset({'23204'}), support=0.022818532818532817, ordered_statistics=[OrderedStatistic(items_base=frozenset(), items_add=frozenset({'23204'}), confidence=0.022818532818532817, lift=1.0)]),\n",
              " RelationRecord(items=frozenset({'23206'}), support=0.0405019305019305, ordered_statistics=[OrderedStatistic(items_base=frozenset(), items_add=frozenset({'23206'}), confidence=0.0405019305019305, lift=1.0)]),\n",
              " RelationRecord(items=frozenset({'23207'}), support=0.029073359073359072, ordered_statistics=[OrderedStatistic(items_base=frozenset(), items_add=frozenset({'23207'}), confidence=0.029073359073359072, lift=1.0)]),\n",
              " RelationRecord(items=frozenset({'23208'}), support=0.025945945945945945, ordered_statistics=[OrderedStatistic(items_base=frozenset(), items_add=frozenset({'23208'}), confidence=0.025945945945945945, lift=1.0)]),\n",
              " RelationRecord(items=frozenset({'23209'}), support=0.04285714285714286, ordered_statistics=[OrderedStatistic(items_base=frozenset(), items_add=frozenset({'23209'}), confidence=0.04285714285714286, lift=1.0)]),\n",
              " RelationRecord(items=frozenset({'23240'}), support=0.021351351351351352, ordered_statistics=[OrderedStatistic(items_base=frozenset(), items_add=frozenset({'23240'}), confidence=0.021351351351351352, lift=1.0)]),\n",
              " RelationRecord(items=frozenset({'23245'}), support=0.03513513513513514, ordered_statistics=[OrderedStatistic(items_base=frozenset(), items_add=frozenset({'23245'}), confidence=0.03513513513513514, lift=1.0)]),\n",
              " RelationRecord(items=frozenset({'23284'}), support=0.028532818532818534, ordered_statistics=[OrderedStatistic(items_base=frozenset(), items_add=frozenset({'23284'}), confidence=0.028532818532818534, lift=1.0)]),\n",
              " RelationRecord(items=frozenset({'23293'}), support=0.021505791505791506, ordered_statistics=[OrderedStatistic(items_base=frozenset(), items_add=frozenset({'23293'}), confidence=0.021505791505791506, lift=1.0)]),\n",
              " RelationRecord(items=frozenset({'23298'}), support=0.04474903474903475, ordered_statistics=[OrderedStatistic(items_base=frozenset(), items_add=frozenset({'23298'}), confidence=0.04474903474903475, lift=1.0)]),\n",
              " RelationRecord(items=frozenset({'23300'}), support=0.029536679536679537, ordered_statistics=[OrderedStatistic(items_base=frozenset(), items_add=frozenset({'23300'}), confidence=0.029536679536679537, lift=1.0)]),\n",
              " RelationRecord(items=frozenset({'23301'}), support=0.03567567567567568, ordered_statistics=[OrderedStatistic(items_base=frozenset(), items_add=frozenset({'23301'}), confidence=0.03567567567567568, lift=1.0)]),\n",
              " RelationRecord(items=frozenset({'23307'}), support=0.02447876447876448, ordered_statistics=[OrderedStatistic(items_base=frozenset(), items_add=frozenset({'23307'}), confidence=0.02447876447876448, lift=1.0)]),\n",
              " RelationRecord(items=frozenset({'23321'}), support=0.02444015444015444, ordered_statistics=[OrderedStatistic(items_base=frozenset(), items_add=frozenset({'23321'}), confidence=0.02444015444015444, lift=1.0)]),\n",
              " RelationRecord(items=frozenset({'23322'}), support=0.022123552123552125, ordered_statistics=[OrderedStatistic(items_base=frozenset(), items_add=frozenset({'23322'}), confidence=0.022123552123552125, lift=1.0)]),\n",
              " RelationRecord(items=frozenset({'23344'}), support=0.027915057915057915, ordered_statistics=[OrderedStatistic(items_base=frozenset(), items_add=frozenset({'23344'}), confidence=0.027915057915057915, lift=1.0)]),\n",
              " RelationRecord(items=frozenset({'23355'}), support=0.0305019305019305, ordered_statistics=[OrderedStatistic(items_base=frozenset(), items_add=frozenset({'23355'}), confidence=0.0305019305019305, lift=1.0)]),\n",
              " RelationRecord(items=frozenset({'47566'}), support=0.06586872586872587, ordered_statistics=[OrderedStatistic(items_base=frozenset(), items_add=frozenset({'47566'}), confidence=0.06586872586872587, lift=1.0)]),\n",
              " RelationRecord(items=frozenset({'48138'}), support=0.024054054054054055, ordered_statistics=[OrderedStatistic(items_base=frozenset(), items_add=frozenset({'48138'}), confidence=0.024054054054054055, lift=1.0)]),\n",
              " RelationRecord(items=frozenset({'48187'}), support=0.023243243243243242, ordered_statistics=[OrderedStatistic(items_base=frozenset(), items_add=frozenset({'48187'}), confidence=0.023243243243243242, lift=1.0)]),\n",
              " RelationRecord(items=frozenset({'48194'}), support=0.022972972972972974, ordered_statistics=[OrderedStatistic(items_base=frozenset(), items_add=frozenset({'48194'}), confidence=0.022972972972972974, lift=1.0)]),\n",
              " RelationRecord(items=frozenset({'79321'}), support=0.025984555984555985, ordered_statistics=[OrderedStatistic(items_base=frozenset(), items_add=frozenset({'79321'}), confidence=0.025984555984555985, lift=1.0)]),\n",
              " RelationRecord(items=frozenset({'82482'}), support=0.043166023166023165, ordered_statistics=[OrderedStatistic(items_base=frozenset(), items_add=frozenset({'82482'}), confidence=0.043166023166023165, lift=1.0)]),\n",
              " RelationRecord(items=frozenset({'82483'}), support=0.022625482625482626, ordered_statistics=[OrderedStatistic(items_base=frozenset(), items_add=frozenset({'82483'}), confidence=0.022625482625482626, lift=1.0)]),\n",
              " RelationRecord(items=frozenset({'82484'}), support=0.02687258687258687, ordered_statistics=[OrderedStatistic(items_base=frozenset(), items_add=frozenset({'82484'}), confidence=0.02687258687258687, lift=1.0)]),\n",
              " RelationRecord(items=frozenset({'82486'}), support=0.02416988416988417, ordered_statistics=[OrderedStatistic(items_base=frozenset(), items_add=frozenset({'82486'}), confidence=0.02416988416988417, lift=1.0)]),\n",
              " RelationRecord(items=frozenset({'82494L'}), support=0.03594594594594595, ordered_statistics=[OrderedStatistic(items_base=frozenset(), items_add=frozenset({'82494L'}), confidence=0.03594594594594595, lift=1.0)]),\n",
              " RelationRecord(items=frozenset({'82580'}), support=0.024555984555984556, ordered_statistics=[OrderedStatistic(items_base=frozenset(), items_add=frozenset({'82580'}), confidence=0.024555984555984556, lift=1.0)]),\n",
              " RelationRecord(items=frozenset({'82583'}), support=0.02413127413127413, ordered_statistics=[OrderedStatistic(items_base=frozenset(), items_add=frozenset({'82583'}), confidence=0.02413127413127413, lift=1.0)]),\n",
              " RelationRecord(items=frozenset({'82600'}), support=0.021274131274131275, ordered_statistics=[OrderedStatistic(items_base=frozenset(), items_add=frozenset({'82600'}), confidence=0.021274131274131275, lift=1.0)]),\n",
              " RelationRecord(items=frozenset({'84077'}), support=0.02084942084942085, ordered_statistics=[OrderedStatistic(items_base=frozenset(), items_add=frozenset({'84077'}), confidence=0.02084942084942085, lift=1.0)]),\n",
              " RelationRecord(items=frozenset({'84375'}), support=0.020077220077220077, ordered_statistics=[OrderedStatistic(items_base=frozenset(), items_add=frozenset({'84375'}), confidence=0.020077220077220077, lift=1.0)]),\n",
              " RelationRecord(items=frozenset({'84378'}), support=0.026602316602316604, ordered_statistics=[OrderedStatistic(items_base=frozenset(), items_add=frozenset({'84378'}), confidence=0.026602316602316604, lift=1.0)]),\n",
              " RelationRecord(items=frozenset({'84380'}), support=0.02687258687258687, ordered_statistics=[OrderedStatistic(items_base=frozenset(), items_add=frozenset({'84380'}), confidence=0.02687258687258687, lift=1.0)]),\n",
              " RelationRecord(items=frozenset({'84596B'}), support=0.020193050193050194, ordered_statistics=[OrderedStatistic(items_base=frozenset(), items_add=frozenset({'84596B'}), confidence=0.020193050193050194, lift=1.0)]),\n",
              " RelationRecord(items=frozenset({'84692'}), support=0.02277992277992278, ordered_statistics=[OrderedStatistic(items_base=frozenset(), items_add=frozenset({'84692'}), confidence=0.02277992277992278, lift=1.0)]),\n",
              " RelationRecord(items=frozenset({'84755'}), support=0.02444015444015444, ordered_statistics=[OrderedStatistic(items_base=frozenset(), items_add=frozenset({'84755'}), confidence=0.02444015444015444, lift=1.0)]),\n",
              " RelationRecord(items=frozenset({'84836'}), support=0.020733590733590733, ordered_statistics=[OrderedStatistic(items_base=frozenset(), items_add=frozenset({'84836'}), confidence=0.020733590733590733, lift=1.0)]),\n",
              " RelationRecord(items=frozenset({'84879'}), support=0.05667953667953668, ordered_statistics=[OrderedStatistic(items_base=frozenset(), items_add=frozenset({'84879'}), confidence=0.05667953667953668, lift=1.0)]),\n",
              " RelationRecord(items=frozenset({'84946'}), support=0.03598455598455599, ordered_statistics=[OrderedStatistic(items_base=frozenset(), items_add=frozenset({'84946'}), confidence=0.03598455598455599, lift=1.0)]),\n",
              " RelationRecord(items=frozenset({'84970S'}), support=0.020965250965250964, ordered_statistics=[OrderedStatistic(items_base=frozenset(), items_add=frozenset({'84970S'}), confidence=0.020965250965250964, lift=1.0)]),\n",
              " RelationRecord(items=frozenset({'84978'}), support=0.029266409266409266, ordered_statistics=[OrderedStatistic(items_base=frozenset(), items_add=frozenset({'84978'}), confidence=0.029266409266409266, lift=1.0)]),\n",
              " RelationRecord(items=frozenset({'84991'}), support=0.03227799227799228, ordered_statistics=[OrderedStatistic(items_base=frozenset(), items_add=frozenset({'84991'}), confidence=0.03227799227799228, lift=1.0)]),\n",
              " RelationRecord(items=frozenset({'84992'}), support=0.0238996138996139, ordered_statistics=[OrderedStatistic(items_base=frozenset(), items_add=frozenset({'84992'}), confidence=0.0238996138996139, lift=1.0)]),\n",
              " RelationRecord(items=frozenset({'85066'}), support=0.021003861003861004, ordered_statistics=[OrderedStatistic(items_base=frozenset(), items_add=frozenset({'85066'}), confidence=0.021003861003861004, lift=1.0)]),\n",
              " RelationRecord(items=frozenset({'85099B'}), support=0.08243243243243244, ordered_statistics=[OrderedStatistic(items_base=frozenset(), items_add=frozenset({'85099B'}), confidence=0.08243243243243244, lift=1.0)]),\n",
              " RelationRecord(items=frozenset({'85099C'}), support=0.03656370656370656, ordered_statistics=[OrderedStatistic(items_base=frozenset(), items_add=frozenset({'85099C'}), confidence=0.03656370656370656, lift=1.0)]),\n",
              " RelationRecord(items=frozenset({'85099F'}), support=0.032046332046332046, ordered_statistics=[OrderedStatistic(items_base=frozenset(), items_add=frozenset({'85099F'}), confidence=0.032046332046332046, lift=1.0)]),\n",
              " RelationRecord(items=frozenset({'85123A'}), support=0.08671814671814672, ordered_statistics=[OrderedStatistic(items_base=frozenset(), items_add=frozenset({'85123A'}), confidence=0.08671814671814672, lift=1.0)]),\n",
              " RelationRecord(items=frozenset({'85152'}), support=0.026332046332046333, ordered_statistics=[OrderedStatistic(items_base=frozenset(), items_add=frozenset({'85152'}), confidence=0.026332046332046333, lift=1.0)]),\n",
              " RelationRecord(items=frozenset({'DOT'}), support=0.027413127413127413, ordered_statistics=[OrderedStatistic(items_base=frozenset(), items_add=frozenset({'DOT'}), confidence=0.027413127413127413, lift=1.0)]),\n",
              " RelationRecord(items=frozenset({'POST'}), support=0.04841698841698842, ordered_statistics=[OrderedStatistic(items_base=frozenset(), items_add=frozenset({'POST'}), confidence=0.04841698841698842, lift=1.0)]),\n",
              " RelationRecord(items=frozenset({'85099B', '20712'}), support=0.020772200772200773, ordered_statistics=[OrderedStatistic(items_base=frozenset(), items_add=frozenset({'20712', '85099B'}), confidence=0.020772200772200773, lift=1.0), OrderedStatistic(items_base=frozenset({'20712'}), items_add=frozenset({'85099B'}), confidence=0.6169724770642203, lift=7.48458414799218), OrderedStatistic(items_base=frozenset({'85099B'}), items_add=frozenset({'20712'}), confidence=0.25199063231850116, lift=7.484584147992179)]),\n",
              " RelationRecord(items=frozenset({'20724', '22356'}), support=0.020308880308880308, ordered_statistics=[OrderedStatistic(items_base=frozenset(), items_add=frozenset({'20724', '22356'}), confidence=0.020308880308880308, lift=1.0), OrderedStatistic(items_base=frozenset({'20724'}), items_add=frozenset({'22356'}), confidence=0.5009523809523809, lift=17.0719298245614), OrderedStatistic(items_base=frozenset({'22356'}), items_add=frozenset({'20724'}), confidence=0.6921052631578947, lift=17.0719298245614)]),\n",
              " RelationRecord(items=frozenset({'20726', '20725'}), support=0.02054054054054054, ordered_statistics=[OrderedStatistic(items_base=frozenset(), items_add=frozenset({'20726', '20725'}), confidence=0.02054054054054054, lift=1.0), OrderedStatistic(items_base=frozenset({'20725'}), items_add=frozenset({'20726'}), confidence=0.3308457711442786, lift=8.263168247480053), OrderedStatistic(items_base=frozenset({'20726'}), items_add=frozenset({'20725'}), confidence=0.5130183220829314, lift=8.263168247480053)]),\n",
              " RelationRecord(items=frozenset({'20727', '20725'}), support=0.025019305019305018, ordered_statistics=[OrderedStatistic(items_base=frozenset(), items_add=frozenset({'20727', '20725'}), confidence=0.025019305019305018, lift=1.0), OrderedStatistic(items_base=frozenset({'20725'}), items_add=frozenset({'20727'}), confidence=0.40298507462686567, lift=8.059701492537313), OrderedStatistic(items_base=frozenset({'20727'}), items_add=frozenset({'20725'}), confidence=0.5003861003861003, lift=8.059701492537313)]),\n",
              " RelationRecord(items=frozenset({'20725', '20728'}), support=0.0216988416988417, ordered_statistics=[OrderedStatistic(items_base=frozenset(), items_add=frozenset({'20725', '20728'}), confidence=0.0216988416988417, lift=1.0), OrderedStatistic(items_base=frozenset({'20725'}), items_add=frozenset({'20728'}), confidence=0.34950248756218905, lift=7.717062598346714), OrderedStatistic(items_base=frozenset({'20728'}), items_add=frozenset({'20725'}), confidence=0.47911338448422847, lift=7.717062598346715)]),\n",
              " RelationRecord(items=frozenset({'22382', '20725'}), support=0.021737451737451736, ordered_statistics=[OrderedStatistic(items_base=frozenset(), items_add=frozenset({'22382', '20725'}), confidence=0.021737451737451736, lift=1.0), OrderedStatistic(items_base=frozenset({'20725'}), items_add=frozenset({'22382'}), confidence=0.35012437810945274, lift=7.750616575243441), OrderedStatistic(items_base=frozenset({'22382'}), items_add=frozenset({'20725'}), confidence=0.4811965811965812, lift=7.750616575243441)]),\n",
              " RelationRecord(items=frozenset({'22383', '20725'}), support=0.0255984555984556, ordered_statistics=[OrderedStatistic(items_base=frozenset(), items_add=frozenset({'22383', '20725'}), confidence=0.0255984555984556, lift=1.0), OrderedStatistic(items_base=frozenset({'20725'}), items_add=frozenset({'22383'}), confidence=0.41231343283582095, lift=8.176813101414826), OrderedStatistic(items_base=frozenset({'22383'}), items_add=frozenset({'20725'}), confidence=0.5076569678407351, lift=8.176813101414826)]),\n",
              " RelationRecord(items=frozenset({'22384', '20725'}), support=0.023667953667953667, ordered_statistics=[OrderedStatistic(items_base=frozenset(), items_add=frozenset({'22384', '20725'}), confidence=0.023667953667953667, lift=1.0), OrderedStatistic(items_base=frozenset({'20725'}), items_add=frozenset({'22384'}), confidence=0.3812189054726368, lift=8.895107794361525), OrderedStatistic(items_base=frozenset({'22384'}), items_add=frozenset({'20725'}), confidence=0.5522522522522522, lift=8.895107794361524)]),\n",
              " RelationRecord(items=frozenset({'85099B', '20725'}), support=0.022702702702702703, ordered_statistics=[OrderedStatistic(items_base=frozenset(), items_add=frozenset({'85099B', '20725'}), confidence=0.022702702702702703, lift=1.0), OrderedStatistic(items_base=frozenset({'20725'}), items_add=frozenset({'85099B'}), confidence=0.3656716417910448, lift=4.436016638120871), OrderedStatistic(items_base=frozenset({'85099B'}), items_add=frozenset({'20725'}), confidence=0.2754098360655738, lift=4.436016638120871)]),\n",
              " RelationRecord(items=frozenset({'20727', '20728'}), support=0.020308880308880308, ordered_statistics=[OrderedStatistic(items_base=frozenset(), items_add=frozenset({'20727', '20728'}), confidence=0.020308880308880308, lift=1.0), OrderedStatistic(items_base=frozenset({'20727'}), items_add=frozenset({'20728'}), confidence=0.4061776061776061, lift=8.968456947996588), OrderedStatistic(items_base=frozenset({'20728'}), items_add=frozenset({'20727'}), confidence=0.44842284739982946, lift=8.96845694799659)]),\n",
              " RelationRecord(items=frozenset({'22383', '20727'}), support=0.022664092664092663, ordered_statistics=[OrderedStatistic(items_base=frozenset(), items_add=frozenset({'20727', '22383'}), confidence=0.022664092664092663, lift=1.0), OrderedStatistic(items_base=frozenset({'20727'}), items_add=frozenset({'22383'}), confidence=0.4532818532818532, lift=8.98928024502297), OrderedStatistic(items_base=frozenset({'22383'}), items_add=frozenset({'20727'}), confidence=0.4494640122511485, lift=8.98928024502297)]),\n",
              " RelationRecord(items=frozenset({'22384', '20727'}), support=0.02111969111969112, ordered_statistics=[OrderedStatistic(items_base=frozenset(), items_add=frozenset({'22384', '20727'}), confidence=0.02111969111969112, lift=1.0), OrderedStatistic(items_base=frozenset({'20727'}), items_add=frozenset({'22384'}), confidence=0.4223938223938224, lift=9.855855855855856), OrderedStatistic(items_base=frozenset({'22384'}), items_add=frozenset({'20727'}), confidence=0.4927927927927928, lift=9.855855855855856)]),\n",
              " RelationRecord(items=frozenset({'22383', '20728'}), support=0.021003861003861004, ordered_statistics=[OrderedStatistic(items_base=frozenset(), items_add=frozenset({'22383', '20728'}), confidence=0.021003861003861004, lift=1.0), OrderedStatistic(items_base=frozenset({'20728'}), items_add=frozenset({'22383'}), confidence=0.46376811594202894, lift=9.197239052755398), OrderedStatistic(items_base=frozenset({'22383'}), items_add=frozenset({'20728'}), confidence=0.4165390505359878, lift=9.197239052755398)]),\n",
              " RelationRecord(items=frozenset({'85099B', '21928'}), support=0.02108108108108108, ordered_statistics=[OrderedStatistic(items_base=frozenset(), items_add=frozenset({'21928', '85099B'}), confidence=0.02108108108108108, lift=1.0), OrderedStatistic(items_base=frozenset({'21928'}), items_add=frozenset({'85099B'}), confidence=0.6691176470588236, lift=8.117164898746385), OrderedStatistic(items_base=frozenset({'85099B'}), items_add=frozenset({'21928'}), confidence=0.25573770491803277, lift=8.117164898746383)]),\n",
              " RelationRecord(items=frozenset({'85099B', '21929'}), support=0.020154440154440154, ordered_statistics=[OrderedStatistic(items_base=frozenset(), items_add=frozenset({'85099B', '21929'}), confidence=0.020154440154440154, lift=1.0), OrderedStatistic(items_base=frozenset({'21929'}), items_add=frozenset({'85099B'}), confidence=0.5952109464082098, lift=7.220591808886479), OrderedStatistic(items_base=frozenset({'85099B'}), items_add=frozenset({'21929'}), confidence=0.24449648711943792, lift=7.220591808886479)]),\n",
              " RelationRecord(items=frozenset({'22386', '21931'}), support=0.02, ordered_statistics=[OrderedStatistic(items_base=frozenset(), items_add=frozenset({'22386', '21931'}), confidence=0.02, lift=1.0), OrderedStatistic(items_base=frozenset({'21931'}), items_add=frozenset({'22386'}), confidence=0.4313072439633639, lift=9.074620323843318), OrderedStatistic(items_base=frozenset({'22386'}), items_add=frozenset({'21931'}), confidence=0.42079610073111295, lift=9.074620323843318)]),\n",
              " RelationRecord(items=frozenset({'21931', '22411'}), support=0.02027027027027027, ordered_statistics=[OrderedStatistic(items_base=frozenset(), items_add=frozenset({'21931', '22411'}), confidence=0.02027027027027027, lift=1.0), OrderedStatistic(items_base=frozenset({'21931'}), items_add=frozenset({'22411'}), confidence=0.43713572023313907, lift=9.538176203907584), OrderedStatistic(items_base=frozenset({'22411'}), items_add=frozenset({'21931'}), confidence=0.4422914911541702, lift=9.538176203907584)]),\n",
              " RelationRecord(items=frozenset({'85099B', '21931'}), support=0.0283011583011583, ordered_statistics=[OrderedStatistic(items_base=frozenset(), items_add=frozenset({'21931', '85099B'}), confidence=0.0283011583011583, lift=1.0), OrderedStatistic(items_base=frozenset({'21931'}), items_add=frozenset({'85099B'}), confidence=0.6103247293921732, lift=7.403939340167346), OrderedStatistic(items_base=frozenset({'85099B'}), items_add=frozenset({'21931'}), confidence=0.3433255269320843, lift=7.403939340167347)]),\n",
              " RelationRecord(items=frozenset({'22086', '22910'}), support=0.02142857142857143, ordered_statistics=[OrderedStatistic(items_base=frozenset(), items_add=frozenset({'22086', '22910'}), confidence=0.02142857142857143, lift=1.0), OrderedStatistic(items_base=frozenset({'22086'}), items_add=frozenset({'22910'}), confidence=0.4743589743589744, lift=14.766703648915188), OrderedStatistic(items_base=frozenset({'22910'}), items_add=frozenset({'22086'}), confidence=0.6670673076923076, lift=14.766703648915186)]),\n",
              " RelationRecord(items=frozenset({'22382', '22383'}), support=0.020733590733590733, ordered_statistics=[OrderedStatistic(items_base=frozenset(), items_add=frozenset({'22382', '22383'}), confidence=0.020733590733590733, lift=1.0), OrderedStatistic(items_base=frozenset({'22382'}), items_add=frozenset({'22383'}), confidence=0.45897435897435895, lift=9.102171437546628), OrderedStatistic(items_base=frozenset({'22383'}), items_add=frozenset({'22382'}), confidence=0.4111791730474732, lift=9.102171437546628)]),\n",
              " RelationRecord(items=frozenset({'22386', '85099B'}), support=0.03216216216216216, ordered_statistics=[OrderedStatistic(items_base=frozenset(), items_add=frozenset({'22386', '85099B'}), confidence=0.03216216216216216, lift=1.0), OrderedStatistic(items_base=frozenset({'22386'}), items_add=frozenset({'85099B'}), confidence=0.6766856214459789, lift=8.20897311262335), OrderedStatistic(items_base=frozenset({'85099B'}), items_add=frozenset({'22386'}), confidence=0.39016393442622943, lift=8.20897311262335)]),\n",
              " RelationRecord(items=frozenset({'85099B', '22411'}), support=0.02637065637065637, ordered_statistics=[OrderedStatistic(items_base=frozenset(), items_add=frozenset({'85099B', '22411'}), confidence=0.02637065637065637, lift=1.0), OrderedStatistic(items_base=frozenset({'22411'}), items_add=frozenset({'85099B'}), confidence=0.5754001684919966, lift=6.980264339083237), OrderedStatistic(items_base=frozenset({'85099B'}), items_add=frozenset({'22411'}), confidence=0.31990632318501167, lift=6.980264339083237)]),\n",
              " RelationRecord(items=frozenset({'22423', '22697'}), support=0.02, ordered_statistics=[OrderedStatistic(items_base=frozenset(), items_add=frozenset({'22423', '22697'}), confidence=0.02, lift=1.0), OrderedStatistic(items_base=frozenset({'22423'}), items_add=frozenset({'22697'}), confidence=0.2384898710865562, lift=5.843791543180516), OrderedStatistic(items_base=frozenset({'22697'}), items_add=frozenset({'22423'}), confidence=0.4900662251655629, lift=5.843791543180516)]),\n",
              " RelationRecord(items=frozenset({'22423', '22699'}), support=0.020733590733590733, ordered_statistics=[OrderedStatistic(items_base=frozenset(), items_add=frozenset({'22423', '22699'}), confidence=0.020733590733590733, lift=1.0), OrderedStatistic(items_base=frozenset({'22423'}), items_add=frozenset({'22699'}), confidence=0.2472375690607735, lift=5.717368784530387), OrderedStatistic(items_base=frozenset({'22699'}), items_add=frozenset({'22423'}), confidence=0.4794642857142857, lift=5.717368784530387)]),\n",
              " RelationRecord(items=frozenset({'22630', '22629'}), support=0.020772200772200773, ordered_statistics=[OrderedStatistic(items_base=frozenset(), items_add=frozenset({'22630', '22629'}), confidence=0.020772200772200773, lift=1.0), OrderedStatistic(items_base=frozenset({'22629'}), items_add=frozenset({'22630'}), confidence=0.5925110132158591, lift=17.844227025919476), OrderedStatistic(items_base=frozenset({'22630'}), items_add=frozenset({'22629'}), confidence=0.6255813953488373, lift=17.844227025919476)]),\n",
              " RelationRecord(items=frozenset({'22697', '22698'}), support=0.024864864864864864, ordered_statistics=[OrderedStatistic(items_base=frozenset(), items_add=frozenset({'22697', '22698'}), confidence=0.024864864864864864, lift=1.0), OrderedStatistic(items_base=frozenset({'22697'}), items_add=frozenset({'22698'}), confidence=0.609271523178808, lift=19.67597562385427), OrderedStatistic(items_base=frozenset({'22698'}), items_add=frozenset({'22697'}), confidence=0.8029925187032418, lift=19.67597562385427)]),\n",
              " RelationRecord(items=frozenset({'22699', '22697'}), support=0.03027027027027027, ordered_statistics=[OrderedStatistic(items_base=frozenset(), items_add=frozenset({'22699', '22697'}), confidence=0.03027027027027027, lift=1.0), OrderedStatistic(items_base=frozenset({'22697'}), items_add=frozenset({'22699'}), confidence=0.7417218543046358, lift=17.1523178807947), OrderedStatistic(items_base=frozenset({'22699'}), items_add=frozenset({'22697'}), confidence=0.7, lift=17.1523178807947)]),\n",
              " RelationRecord(items=frozenset({'22699', '22698'}), support=0.023706563706563707, ordered_statistics=[OrderedStatistic(items_base=frozenset(), items_add=frozenset({'22699', '22698'}), confidence=0.023706563706563707, lift=1.0), OrderedStatistic(items_base=frozenset({'22698'}), items_add=frozenset({'22699'}), confidence=0.7655860349127181, lift=17.704177057356606), OrderedStatistic(items_base=frozenset({'22699'}), items_add=frozenset({'22698'}), confidence=0.5482142857142857, lift=17.704177057356606)]),\n",
              " RelationRecord(items=frozenset({'22727', '22726'}), support=0.02494208494208494, ordered_statistics=[OrderedStatistic(items_base=frozenset(), items_add=frozenset({'22726', '22727'}), confidence=0.02494208494208494, lift=1.0), OrderedStatistic(items_base=frozenset({'22726'}), items_add=frozenset({'22727'}), confidence=0.6440677966101696, lift=15.431411593157623), OrderedStatistic(items_base=frozenset({'22727'}), items_add=frozenset({'22726'}), confidence=0.5975948196114708, lift=15.431411593157621)]),\n",
              " RelationRecord(items=frozenset({'85099B', '23199'}), support=0.02142857142857143, ordered_statistics=[OrderedStatistic(items_base=frozenset(), items_add=frozenset({'85099B', '23199'}), confidence=0.02142857142857143, lift=1.0), OrderedStatistic(items_base=frozenset({'23199'}), items_add=frozenset({'85099B'}), confidence=0.5555555555555556, lift=6.739526411657559), OrderedStatistic(items_base=frozenset({'85099B'}), items_add=frozenset({'23199'}), confidence=0.25995316159250587, lift=6.73952641165756)]),\n",
              " RelationRecord(items=frozenset({'23203', '23202'}), support=0.02, ordered_statistics=[OrderedStatistic(items_base=frozenset(), items_add=frozenset({'23203', '23202'}), confidence=0.02, lift=1.0), OrderedStatistic(items_base=frozenset({'23202'}), items_add=frozenset({'23203'}), confidence=0.5846501128668172, lift=12.123649258006859), OrderedStatistic(items_base=frozenset({'23203'}), items_add=frozenset({'23202'}), confidence=0.4147317854283427, lift=12.123649258006859)]),\n",
              " RelationRecord(items=frozenset({'23203', '85099B'}), support=0.022471042471042472, ordered_statistics=[OrderedStatistic(items_base=frozenset(), items_add=frozenset({'23203', '85099B'}), confidence=0.022471042471042472, lift=1.0), OrderedStatistic(items_base=frozenset({'23203'}), items_add=frozenset({'85099B'}), confidence=0.4659727782225781, lift=5.652784522700127), OrderedStatistic(items_base=frozenset({'85099B'}), items_add=frozenset({'23203'}), confidence=0.27259953161592504, lift=5.652784522700127)]),\n",
              " RelationRecord(items=frozenset({'23300', '23301'}), support=0.021196911196911198, ordered_statistics=[OrderedStatistic(items_base=frozenset(), items_add=frozenset({'23300', '23301'}), confidence=0.021196911196911198, lift=1.0), OrderedStatistic(items_base=frozenset({'23300'}), items_add=frozenset({'23301'}), confidence=0.7176470588235294, lift=20.11586452762923), OrderedStatistic(items_base=frozenset({'23301'}), items_add=frozenset({'23300'}), confidence=0.5941558441558441, lift=20.11586452762923)]),\n",
              " RelationRecord(items=frozenset({'85099B', '85099C'}), support=0.022895752895752897, ordered_statistics=[OrderedStatistic(items_base=frozenset(), items_add=frozenset({'85099B', '85099C'}), confidence=0.022895752895752897, lift=1.0), OrderedStatistic(items_base=frozenset({'85099B'}), items_add=frozenset({'85099C'}), confidence=0.27775175644028105, lift=7.596378555230496), OrderedStatistic(items_base=frozenset({'85099C'}), items_add=frozenset({'85099B'}), confidence=0.6261879619852165, lift=7.596378555230495)]),\n",
              " RelationRecord(items=frozenset({'85099F', '85099B'}), support=0.021042471042471044, ordered_statistics=[OrderedStatistic(items_base=frozenset(), items_add=frozenset({'85099F', '85099B'}), confidence=0.021042471042471044, lift=1.0), OrderedStatistic(items_base=frozenset({'85099B'}), items_add=frozenset({'85099F'}), confidence=0.25526932084309134, lift=7.965633023898874), OrderedStatistic(items_base=frozenset({'85099F'}), items_add=frozenset({'85099B'}), confidence=0.6566265060240964, lift=7.965633023898874)]),\n",
              " RelationRecord(items=frozenset({'22699', '22697', '22698'}), support=0.021196911196911198, ordered_statistics=[OrderedStatistic(items_base=frozenset(), items_add=frozenset({'22699', '22697', '22698'}), confidence=0.021196911196911198, lift=1.0), OrderedStatistic(items_base=frozenset({'22697'}), items_add=frozenset({'22699', '22698'}), confidence=0.5193945127719962, lift=21.909312509437626), OrderedStatistic(items_base=frozenset({'22698'}), items_add=frozenset({'22699', '22697'}), confidence=0.6845386533665836, lift=22.614223370146064), OrderedStatistic(items_base=frozenset({'22699'}), items_add=frozenset({'22697', '22698'}), confidence=0.4901785714285714, lift=19.71370341614907), OrderedStatistic(items_base=frozenset({'22697', '22698'}), items_add=frozenset({'22699'}), confidence=0.8524844720496895, lift=19.71370341614907), OrderedStatistic(items_base=frozenset({'22699', '22697'}), items_add=frozenset({'22698'}), confidence=0.7002551020408164, lift=22.614223370146068), OrderedStatistic(items_base=frozenset({'22699', '22698'}), items_add=frozenset({'22697'}), confidence=0.8941368078175896, lift=21.909312509437626)])]"
            ]
          },
          "metadata": {
            "tags": []
          },
          "execution_count": 81
        }
      ]
    },
    {
      "cell_type": "markdown",
      "metadata": {
        "id": "uhgCU6TcKX9v"
      },
      "source": [
        "3. เขียนคำศัพท์ที่ได้เรียนในวิชาพร้อมทั้งคำนิยามที่เป็นคำพูดของนักศึกษาเอง (ห้าม search google) 20 คำ\n",
        "\n",
        "(คำละ 0.5 คะแนน)"
      ]
    },
    {
      "cell_type": "markdown",
      "metadata": {
        "id": "BoAw_OmwFLYK"
      },
      "source": [
        "1. import os : เพื่อเรียกใช้การทำงานที่เกี่ยวกับไฟล์ทั้งหมด\n",
        "2. path : สร้างตัวแปรเป็นที่อยู่ของไฟล์นั้นๆ\n",
        "3. listdir : คือจะแสดงไฟล์ทั้งหมดตามที่อยู่ที่เราต้องการแสดง\n",
        "4. pyplot : เป็นแพ็กเกจที่เอาไว้ใช้พล็อตกราฟ คำสั่งแรก คือ scatter โดยเอาแต่ละจุดไปพล็อตที่กราฟ x และ y\n",
        "5. .describe() :  คือสถิติที่ใช้อธิบาย เป็นคำสั่งที่ใช้คำนวณค่ากลาง ค่าการกระจายของตาราง\n",
        "6. Variable : เป็นสร้างตัวแปรให้เป็น อักษรตัวใดตัวหนึ่ง แล้วกำหนดให้เท่ากับค่าใดค่าหนึ่ง โดยใช้ = \n",
        "7. list :  คือ set ของตัวแปรหรือกลุ่มของตัวแปร ลำดับของตัวแปรในข้อมูลที่มีความสำคัญ โดยสามารถเพิ่มสมาชิกในlist ด้วย [...]\n",
        "8. len : ความยาวของlist ว่ามีสมาชิกกี่ตัว\n",
        "9. .append : เป็นการเพิ่มสมาชิกเข้าไปใน list ว่าง \n",
        "10. .split() : เป็นการแยกตัวสมาชิกออกจาก str โดยการตัดด้วยช่องว่าง คือการเอาช่องว่างมาแยก\n",
        "11. range : คือการสร้าง list ที่ไล่ตั้งแต่ 0 ถึงเลขก่อนหน้า\n",
        "คำสั่งที่ช่วยไม่ให้เราเขียน list ยาว คือ range : สร้าง list ขึ้นมาใหม่\n",
        "12. If statement เงื่อนไข (<, >, <=, >=, ==, !=) : คือถ้าเงื่อนไขตรงถึงจะแสดงผลลัพธ์ออกมา ถ้าไม่ตรงก็จะไม่แสดงออกมา\n",
        "13. else : เป็นอีกตัวที่บอกว่าถ้าไม่แสดงอย่างแรก ก็จะให้แสดงอย่างที่สอง\n",
        "14. Funtion() : คือการทำงานที่แปลงค่าข้อมูล input แล้ว output ออกมา เป็นการเก็บโค๊ดที่เขียนไปแล้วเก็บไว้ใน function เพื่อใช้เรียกมาใหม่\n",
        "15. .merge() : เป็นการรวม 2 ตารางเข้าด้วยกัน merge two tables(.merge()) ถ้าเรามี 1 ตารางแล้วต้องการนำตารางอื่นมาต่อท้ายจะใช้คำสั่งนี้ โดยมีชื่อตารางหลักมีkeyอะไร ตารางรองเชื่อมด้วยkey \n",
        "16. .zeros : คือสร้าง array ที่ทุกค่าเป็น 0\n",
        "17. .shape : คือบอกจำนวนแถวและหลัก ของ เมตริกซ์\n",
        "18. del : ใช้ลบค่าใน dict ที่ต้องการออก\n",
        "19. .from_dict : เรียกใช้เพื่อสร้างตาราง\n",
        "20. .iloc : มองตารางจาก pandas ให้เป็น Numpy คือ มีแถวและหลัก"
      ]
    }
  ]
}