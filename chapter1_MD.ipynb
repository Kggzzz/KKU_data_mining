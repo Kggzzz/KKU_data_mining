{
  "nbformat": 4,
  "nbformat_minor": 0,
  "metadata": {
    "colab": {
      "name": "chapter1.MD",
      "provenance": [],
      "authorship_tag": "ABX9TyM7OMNjni9xNO4UXuBwoPog",
      "include_colab_link": true
    },
    "kernelspec": {
      "name": "python3",
      "display_name": "Python 3"
    }
  },
  "cells": [
    {
      "cell_type": "markdown",
      "metadata": {
        "id": "view-in-github",
        "colab_type": "text"
      },
      "source": [
        "<a href=\"https://colab.research.google.com/github/Kggzzz/KKU_data_mining/blob/master/chapter1_MD.ipynb\" target=\"_parent\"><img src=\"https://colab.research.google.com/assets/colab-badge.svg\" alt=\"Open In Colab\"/></a>"
      ]
    },
    {
      "cell_type": "markdown",
      "metadata": {
        "id": "6cEXrhDgtR6Z",
        "colab_type": "text"
      },
      "source": [
        "# บทที่ 1 introduction"
      ]
    },
    {
      "cell_type": "markdown",
      "metadata": {
        "id": "kVyTzdFxtaKA",
        "colab_type": "text"
      },
      "source": [
        "## ทำไม Data mining ถึงสำคัญ "
      ]
    },
    {
      "cell_type": "markdown",
      "metadata": {
        "id": "O4pngNxTtiM9",
        "colab_type": "text"
      },
      "source": [
        ""
      ]
    },
    {
      "cell_type": "code",
      "metadata": {
        "id": "-swEUizzs_7v",
        "colab_type": "code",
        "colab": {}
      },
      "source": [
        ""
      ],
      "execution_count": null,
      "outputs": []
    }
  ]
}