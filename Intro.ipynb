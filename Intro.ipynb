{
  "nbformat": 4,
  "nbformat_minor": 0,
  "metadata": {
    "colab": {
      "name": "Intro.ipynb",
      "provenance": [],
      "authorship_tag": "ABX9TyPdJAkqejn+tKSyBg1vLR+w",
      "include_colab_link": true
    },
    "kernelspec": {
      "name": "python3",
      "display_name": "Python 3"
    }
  },
  "cells": [
    {
      "cell_type": "markdown",
      "metadata": {
        "id": "view-in-github",
        "colab_type": "text"
      },
      "source": [
        "<a href=\"https://colab.research.google.com/github/Kggzzz/KKU_data_mining/blob/master/Intro.ipynb\" target=\"_parent\"><img src=\"https://colab.research.google.com/assets/colab-badge.svg\" alt=\"Open In Colab\"/></a>"
      ]
    },
    {
      "cell_type": "markdown",
      "metadata": {
        "id": "yrHDY022oALM",
        "colab_type": "text"
      },
      "source": [
        "#Markdown"
      ]
    },
    {
      "cell_type": "code",
      "metadata": {
        "id": "3ca6aC1Bn_37",
        "colab_type": "code",
        "colab": {
          "base_uri": "https://localhost:8080/",
          "height": 35
        },
        "outputId": "9a11570e-13c7-441a-a949-aab189d02f03"
      },
      "source": [
        "print ('รัฐพร ลีนาราชรุ่งเรือง ID6130210204')"
      ],
      "execution_count": 2,
      "outputs": [
        {
          "output_type": "stream",
          "text": [
            "รัฐพร ลีนาราชรุ่งเรือง ID6130210204\n"
          ],
          "name": "stdout"
        }
      ]
    }
  ]
}