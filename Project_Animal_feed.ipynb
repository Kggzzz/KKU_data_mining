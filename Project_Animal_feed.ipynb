{
  "nbformat": 4,
  "nbformat_minor": 0,
  "metadata": {
    "colab": {
      "name": "Project_Animal_feed.ipynb",
      "provenance": [],
      "include_colab_link": true
    },
    "kernelspec": {
      "name": "python3",
      "display_name": "Python 3"
    }
  },
  "cells": [
    {
      "cell_type": "markdown",
      "metadata": {
        "id": "view-in-github",
        "colab_type": "text"
      },
      "source": [
        "<a href=\"https://colab.research.google.com/github/Kggzzz/KKU_data_mining/blob/master/Project_Animal_feed.ipynb\" target=\"_parent\"><img src=\"https://colab.research.google.com/assets/colab-badge.svg\" alt=\"Open In Colab\"/></a>"
      ]
    },
    {
      "cell_type": "markdown",
      "metadata": {
        "id": "CaWFvj8lGI-x"
      },
      "source": [
        "ดูความสัมพันธ์ปริมาณการส่งออกอาหารสัตว์เป็นจำนวนมาก ก็จะทำปริมาณนำเข้าอาหารสัตว์ที่เป็นวัตถุดิบในการทำอาหารสัตว์มากขึ้นเช่นกันเยอะ ความสัมพันธ์ที่ได้จากกระบวนการนี้สามารถนำไปใช้คาดเดาได้ว่าควรนำเข้าอาหารสัตว์และส่งออกอาหารสัตว์เพิ่มขึ้นให้กับแต่ละประเทศ ในปีค.ศ. 2015 "
      ]
    },
    {
      "cell_type": "code",
      "metadata": {
        "id": "iSKua2CE1ZI7",
        "colab": {
          "base_uri": "https://localhost:8080/"
        },
        "outputId": "dad8707e-8123-46f7-9f69-bfa0471520cf"
      },
      "source": [
        "from google.colab import drive \n",
        "drive.mount('/content/drive')"
      ],
      "execution_count": 1,
      "outputs": [
        {
          "output_type": "stream",
          "text": [
            "Mounted at /content/drive\n"
          ],
          "name": "stdout"
        }
      ]
    },
    {
      "cell_type": "code",
      "metadata": {
        "id": "mNVN-GS91e69"
      },
      "source": [
        "path = '/content/drive/My Drive/Project_Mining'"
      ],
      "execution_count": 2,
      "outputs": []
    },
    {
      "cell_type": "code",
      "metadata": {
        "id": "jkwQI7gf1hxd"
      },
      "source": [
        "import os\n",
        "import pandas"
      ],
      "execution_count": 10,
      "outputs": []
    },
    {
      "cell_type": "code",
      "metadata": {
        "id": "uSftVmDn1jPN"
      },
      "source": [
        "Import= os.path.join(path,'Im_animal_feed_tun2.csv')  #สร้างที่อยู่โดยใช้ os.path.join\n",
        "Export= os.path.join(path,'Ex_animal_feed_tun2.csv')"
      ],
      "execution_count": 9,
      "outputs": []
    },
    {
      "cell_type": "code",
      "metadata": {
        "id": "ha4nuO301jo0",
        "colab": {
          "base_uri": "https://localhost:8080/",
          "height": 195
        },
        "outputId": "2e59a676-40fb-4dc2-95cd-4e1c54763a6a"
      },
      "source": [
        "Import_df = pandas.read_csv(Import)\n",
        "Import_df.head()"
      ],
      "execution_count": null,
      "outputs": [
        {
          "output_type": "execute_result",
          "data": {
            "text/html": [
              "<div>\n",
              "<style scoped>\n",
              "    .dataframe tbody tr th:only-of-type {\n",
              "        vertical-align: middle;\n",
              "    }\n",
              "\n",
              "    .dataframe tbody tr th {\n",
              "        vertical-align: top;\n",
              "    }\n",
              "\n",
              "    .dataframe thead th {\n",
              "        text-align: right;\n",
              "    }\n",
              "</style>\n",
              "<table border=\"1\" class=\"dataframe\">\n",
              "  <thead>\n",
              "    <tr style=\"text-align: right;\">\n",
              "      <th></th>\n",
              "      <th>Country</th>\n",
              "      <th>Import of main raw materials</th>\n",
              "      <th>Import the mixed</th>\n",
              "      <th>Imported dairy products</th>\n",
              "      <th>Import of pet supplement</th>\n",
              "      <th>Import other animal feed</th>\n",
              "    </tr>\n",
              "  </thead>\n",
              "  <tbody>\n",
              "    <tr>\n",
              "      <th>0</th>\n",
              "      <td>Australia</td>\n",
              "      <td>100,802.20</td>\n",
              "      <td>3,308.43</td>\n",
              "      <td>204.58</td>\n",
              "      <td>67.41</td>\n",
              "      <td>1,414.14</td>\n",
              "    </tr>\n",
              "    <tr>\n",
              "      <th>1</th>\n",
              "      <td>Bangladesh</td>\n",
              "      <td>-</td>\n",
              "      <td>-</td>\n",
              "      <td>-</td>\n",
              "      <td>-</td>\n",
              "      <td>21.5</td>\n",
              "    </tr>\n",
              "    <tr>\n",
              "      <th>2</th>\n",
              "      <td>Belgium</td>\n",
              "      <td>10,414.65</td>\n",
              "      <td>7,948.98</td>\n",
              "      <td>2.16</td>\n",
              "      <td>18,229.66</td>\n",
              "      <td>3,093.18</td>\n",
              "    </tr>\n",
              "    <tr>\n",
              "      <th>3</th>\n",
              "      <td>Brazil</td>\n",
              "      <td>1,644,961.05</td>\n",
              "      <td>6.15</td>\n",
              "      <td>-</td>\n",
              "      <td>867.79</td>\n",
              "      <td>12,945.06</td>\n",
              "    </tr>\n",
              "    <tr>\n",
              "      <th>4</th>\n",
              "      <td>Cambodia</td>\n",
              "      <td>-</td>\n",
              "      <td>391.06</td>\n",
              "      <td>-</td>\n",
              "      <td>-</td>\n",
              "      <td>60.01</td>\n",
              "    </tr>\n",
              "  </tbody>\n",
              "</table>\n",
              "</div>"
            ],
            "text/plain": [
              "     Country   ... Import other animal feed\n",
              "0   Australia  ...                 1,414.14\n",
              "1  Bangladesh  ...                     21.5\n",
              "2     Belgium  ...                 3,093.18\n",
              "3      Brazil  ...                12,945.06\n",
              "4    Cambodia  ...                    60.01\n",
              "\n",
              "[5 rows x 6 columns]"
            ]
          },
          "metadata": {
            "tags": []
          },
          "execution_count": 15
        }
      ]
    },
    {
      "cell_type": "markdown",
      "metadata": {
        "id": "GIaBszBQ3Hjk"
      },
      "source": [
        "ชื่อหัวคอลั่ม Import การนำเข้า\n",
        "\n",
        "Country = ประเทศที่นำเข้า\n",
        "\n",
        "Import of main raw materials = นำเข้าวัตถุดิบหลัก\n",
        "\n",
        "Import the mixed = นำเข้าวัตถุที่ผสมแล้ว\n",
        "\n",
        "Imported dairy products = นำเข้าผลิตภัณฑ์นม\n",
        "\n",
        "Import of pet supplement = นำเข้าอาหารเสริมสำหรับสัตว์\n",
        "\n",
        "Import other animal feed = นำเข้าวัตถุดิบอื่นๆ"
      ]
    },
    {
      "cell_type": "code",
      "metadata": {
        "id": "6e7yOXX-1lPd",
        "colab": {
          "base_uri": "https://localhost:8080/",
          "height": 238
        },
        "outputId": "a2502138-e761-4140-e182-ae450d8544d0"
      },
      "source": [
        "Export_df = pandas.read_csv(Export) \n",
        "Export_df.head() "
      ],
      "execution_count": 11,
      "outputs": [
        {
          "output_type": "execute_result",
          "data": {
            "text/html": [
              "<div>\n",
              "<style scoped>\n",
              "    .dataframe tbody tr th:only-of-type {\n",
              "        vertical-align: middle;\n",
              "    }\n",
              "\n",
              "    .dataframe tbody tr th {\n",
              "        vertical-align: top;\n",
              "    }\n",
              "\n",
              "    .dataframe thead th {\n",
              "        text-align: right;\n",
              "    }\n",
              "</style>\n",
              "<table border=\"1\" class=\"dataframe\">\n",
              "  <thead>\n",
              "    <tr style=\"text-align: right;\">\n",
              "      <th></th>\n",
              "      <th>Country</th>\n",
              "      <th>Export of fish meal</th>\n",
              "      <th>Export of dog and cat food</th>\n",
              "      <th>Export other animal feed</th>\n",
              "      <th>Export of pet supplement</th>\n",
              "      <th>Export premix</th>\n",
              "      <th>Export of canned food for dogs and cats</th>\n",
              "      <th>Export Dog Chews</th>\n",
              "      <th>Export of aquatic animal feed</th>\n",
              "    </tr>\n",
              "  </thead>\n",
              "  <tbody>\n",
              "    <tr>\n",
              "      <th>0</th>\n",
              "      <td>Australia</td>\n",
              "      <td>2.856</td>\n",
              "      <td>70.2000</td>\n",
              "      <td>0.0000</td>\n",
              "      <td>33.800</td>\n",
              "      <td>0.00</td>\n",
              "      <td>1857.70989</td>\n",
              "      <td>109.4989</td>\n",
              "      <td>0.00000</td>\n",
              "    </tr>\n",
              "    <tr>\n",
              "      <th>1</th>\n",
              "      <td>Bangladesh</td>\n",
              "      <td>1260.000</td>\n",
              "      <td>7.3523</td>\n",
              "      <td>0.9432</td>\n",
              "      <td>291.004</td>\n",
              "      <td>167.11</td>\n",
              "      <td>0.00000</td>\n",
              "      <td>0.0000</td>\n",
              "      <td>13.10476</td>\n",
              "    </tr>\n",
              "    <tr>\n",
              "      <th>2</th>\n",
              "      <td>Belgium</td>\n",
              "      <td>20.000</td>\n",
              "      <td>0.0000</td>\n",
              "      <td>0.0000</td>\n",
              "      <td>0.000</td>\n",
              "      <td>0.00</td>\n",
              "      <td>20.47200</td>\n",
              "      <td>27.4200</td>\n",
              "      <td>17.43253</td>\n",
              "    </tr>\n",
              "    <tr>\n",
              "      <th>3</th>\n",
              "      <td>Brazil</td>\n",
              "      <td>0.000</td>\n",
              "      <td>0.0000</td>\n",
              "      <td>0.0000</td>\n",
              "      <td>0.000</td>\n",
              "      <td>0.00</td>\n",
              "      <td>0.00000</td>\n",
              "      <td>0.0000</td>\n",
              "      <td>14.44400</td>\n",
              "    </tr>\n",
              "    <tr>\n",
              "      <th>4</th>\n",
              "      <td>Cambodia</td>\n",
              "      <td>0.000</td>\n",
              "      <td>0.0000</td>\n",
              "      <td>0.0000</td>\n",
              "      <td>0.000</td>\n",
              "      <td>0.00</td>\n",
              "      <td>0.12300</td>\n",
              "      <td>0.0000</td>\n",
              "      <td>0.00000</td>\n",
              "    </tr>\n",
              "  </tbody>\n",
              "</table>\n",
              "</div>"
            ],
            "text/plain": [
              "      Country  ...  Export of aquatic animal feed\n",
              "0   Australia  ...                        0.00000\n",
              "1  Bangladesh  ...                       13.10476\n",
              "2     Belgium  ...                       17.43253\n",
              "3      Brazil  ...                       14.44400\n",
              "4    Cambodia  ...                        0.00000\n",
              "\n",
              "[5 rows x 9 columns]"
            ]
          },
          "metadata": {
            "tags": []
          },
          "execution_count": 11
        }
      ]
    },
    {
      "cell_type": "markdown",
      "metadata": {
        "id": "G0tgLOcW2eYE"
      },
      "source": [
        "ชื่อหัวคอลั่ม Export การส่งออก\n",
        "\n",
        "Country = ประเทศที่ส่งออก\n",
        "\n",
        "Export of fish meal = ส่งออกปลาป่น \n",
        "\n",
        "Export of dog and cat food = ส่งออกอาหารสุนัขและแมว\n",
        "\n",
        "Export other animal feed = ส่งออกอาหารใช้เลี้ยงสัตว์อื่น ๆ \n",
        "\n",
        "Export of pet supplement = ส่งออกอาหารเสริมสัตว์เลี้ยง\n",
        "\n",
        "Export premix = ส่งออกพรีมิกซ์\n",
        "\n",
        "Export of canned food for dogs and cats = ส่งออกอาหารกระป๋องสุนัขและแมว\n",
        "\n",
        "Export Dog Chews = ส่งออก Dog Chews \n",
        "\n",
        "Export of aquatic animal feed = ส่งออกอาหารสัตว์น้ำ\n",
        "\n",
        "\n",
        "\n"
      ]
    },
    {
      "cell_type": "code",
      "metadata": {
        "id": "13bM9AMK5I5j",
        "outputId": "f3acf6cf-0d1b-4994-b58a-883ff4212931",
        "colab": {
          "base_uri": "https://localhost:8080/",
          "height": 1000
        }
      },
      "source": [
        "Export_df['Export of fish meal'] = Export_df['Export of fish meal'].map({ 'x<10' : 1,'x>10' : 0})\n",
        "Export_df"
      ],
      "execution_count": 15,
      "outputs": [
        {
          "output_type": "execute_result",
          "data": {
            "text/html": [
              "<div>\n",
              "<style scoped>\n",
              "    .dataframe tbody tr th:only-of-type {\n",
              "        vertical-align: middle;\n",
              "    }\n",
              "\n",
              "    .dataframe tbody tr th {\n",
              "        vertical-align: top;\n",
              "    }\n",
              "\n",
              "    .dataframe thead th {\n",
              "        text-align: right;\n",
              "    }\n",
              "</style>\n",
              "<table border=\"1\" class=\"dataframe\">\n",
              "  <thead>\n",
              "    <tr style=\"text-align: right;\">\n",
              "      <th></th>\n",
              "      <th>Country</th>\n",
              "      <th>Export of fish meal</th>\n",
              "      <th>Export of dog and cat food</th>\n",
              "      <th>Export other animal feed</th>\n",
              "      <th>Export of pet supplement</th>\n",
              "      <th>Export premix</th>\n",
              "      <th>Export of canned food for dogs and cats</th>\n",
              "      <th>Export Dog Chews</th>\n",
              "      <th>Export of aquatic animal feed</th>\n",
              "    </tr>\n",
              "  </thead>\n",
              "  <tbody>\n",
              "    <tr>\n",
              "      <th>0</th>\n",
              "      <td>Australia</td>\n",
              "      <td>NaN</td>\n",
              "      <td>70.20000</td>\n",
              "      <td>0.0000</td>\n",
              "      <td>33.800</td>\n",
              "      <td>0.00</td>\n",
              "      <td>1857.70989</td>\n",
              "      <td>109.49890</td>\n",
              "      <td>0.00000</td>\n",
              "    </tr>\n",
              "    <tr>\n",
              "      <th>1</th>\n",
              "      <td>Bangladesh</td>\n",
              "      <td>NaN</td>\n",
              "      <td>7.35230</td>\n",
              "      <td>0.9432</td>\n",
              "      <td>291.004</td>\n",
              "      <td>167.11</td>\n",
              "      <td>0.00000</td>\n",
              "      <td>0.00000</td>\n",
              "      <td>13.10476</td>\n",
              "    </tr>\n",
              "    <tr>\n",
              "      <th>2</th>\n",
              "      <td>Belgium</td>\n",
              "      <td>NaN</td>\n",
              "      <td>0.00000</td>\n",
              "      <td>0.0000</td>\n",
              "      <td>0.000</td>\n",
              "      <td>0.00</td>\n",
              "      <td>20.47200</td>\n",
              "      <td>27.42000</td>\n",
              "      <td>17.43253</td>\n",
              "    </tr>\n",
              "    <tr>\n",
              "      <th>3</th>\n",
              "      <td>Brazil</td>\n",
              "      <td>NaN</td>\n",
              "      <td>0.00000</td>\n",
              "      <td>0.0000</td>\n",
              "      <td>0.000</td>\n",
              "      <td>0.00</td>\n",
              "      <td>0.00000</td>\n",
              "      <td>0.00000</td>\n",
              "      <td>14.44400</td>\n",
              "    </tr>\n",
              "    <tr>\n",
              "      <th>4</th>\n",
              "      <td>Cambodia</td>\n",
              "      <td>NaN</td>\n",
              "      <td>0.00000</td>\n",
              "      <td>0.0000</td>\n",
              "      <td>0.000</td>\n",
              "      <td>0.00</td>\n",
              "      <td>0.12300</td>\n",
              "      <td>0.00000</td>\n",
              "      <td>0.00000</td>\n",
              "    </tr>\n",
              "    <tr>\n",
              "      <th>5</th>\n",
              "      <td>Canada</td>\n",
              "      <td>NaN</td>\n",
              "      <td>20.86652</td>\n",
              "      <td>0.0000</td>\n",
              "      <td>0.000</td>\n",
              "      <td>0.00</td>\n",
              "      <td>213.71449</td>\n",
              "      <td>19.73620</td>\n",
              "      <td>0.00000</td>\n",
              "    </tr>\n",
              "    <tr>\n",
              "      <th>6</th>\n",
              "      <td>China</td>\n",
              "      <td>NaN</td>\n",
              "      <td>85.07040</td>\n",
              "      <td>0.0000</td>\n",
              "      <td>108.640</td>\n",
              "      <td>0.00</td>\n",
              "      <td>373.82704</td>\n",
              "      <td>0.00000</td>\n",
              "      <td>17.94300</td>\n",
              "    </tr>\n",
              "    <tr>\n",
              "      <th>7</th>\n",
              "      <td>Czech Republic</td>\n",
              "      <td>NaN</td>\n",
              "      <td>0.00060</td>\n",
              "      <td>0.0000</td>\n",
              "      <td>0.000</td>\n",
              "      <td>0.00</td>\n",
              "      <td>0.00000</td>\n",
              "      <td>0.00000</td>\n",
              "      <td>0.00000</td>\n",
              "    </tr>\n",
              "    <tr>\n",
              "      <th>8</th>\n",
              "      <td>Denmark</td>\n",
              "      <td>NaN</td>\n",
              "      <td>0.00000</td>\n",
              "      <td>0.0000</td>\n",
              "      <td>0.000</td>\n",
              "      <td>0.00</td>\n",
              "      <td>0.00000</td>\n",
              "      <td>15.13700</td>\n",
              "      <td>0.00000</td>\n",
              "    </tr>\n",
              "    <tr>\n",
              "      <th>9</th>\n",
              "      <td>Finland</td>\n",
              "      <td>NaN</td>\n",
              "      <td>0.00000</td>\n",
              "      <td>0.0000</td>\n",
              "      <td>0.000</td>\n",
              "      <td>0.00</td>\n",
              "      <td>10.74256</td>\n",
              "      <td>0.00000</td>\n",
              "      <td>0.00000</td>\n",
              "    </tr>\n",
              "    <tr>\n",
              "      <th>10</th>\n",
              "      <td>France</td>\n",
              "      <td>NaN</td>\n",
              "      <td>0.04200</td>\n",
              "      <td>0.0000</td>\n",
              "      <td>0.097</td>\n",
              "      <td>0.00</td>\n",
              "      <td>199.32366</td>\n",
              "      <td>14.34819</td>\n",
              "      <td>0.00000</td>\n",
              "    </tr>\n",
              "    <tr>\n",
              "      <th>11</th>\n",
              "      <td>Germany</td>\n",
              "      <td>NaN</td>\n",
              "      <td>0.00000</td>\n",
              "      <td>0.0000</td>\n",
              "      <td>0.000</td>\n",
              "      <td>0.00</td>\n",
              "      <td>426.29940</td>\n",
              "      <td>40.02200</td>\n",
              "      <td>0.00000</td>\n",
              "    </tr>\n",
              "    <tr>\n",
              "      <th>12</th>\n",
              "      <td>Greece</td>\n",
              "      <td>NaN</td>\n",
              "      <td>0.00000</td>\n",
              "      <td>0.0000</td>\n",
              "      <td>0.000</td>\n",
              "      <td>0.00</td>\n",
              "      <td>10.56000</td>\n",
              "      <td>0.00000</td>\n",
              "      <td>19.72100</td>\n",
              "    </tr>\n",
              "    <tr>\n",
              "      <th>13</th>\n",
              "      <td>Hong Kong</td>\n",
              "      <td>NaN</td>\n",
              "      <td>294.22818</td>\n",
              "      <td>0.8400</td>\n",
              "      <td>0.000</td>\n",
              "      <td>0.00</td>\n",
              "      <td>183.90916</td>\n",
              "      <td>2.84620</td>\n",
              "      <td>0.74500</td>\n",
              "    </tr>\n",
              "    <tr>\n",
              "      <th>14</th>\n",
              "      <td>Hungary</td>\n",
              "      <td>NaN</td>\n",
              "      <td>0.00000</td>\n",
              "      <td>0.0000</td>\n",
              "      <td>0.000</td>\n",
              "      <td>0.00</td>\n",
              "      <td>0.00000</td>\n",
              "      <td>0.00000</td>\n",
              "      <td>0.00000</td>\n",
              "    </tr>\n",
              "    <tr>\n",
              "      <th>15</th>\n",
              "      <td>India</td>\n",
              "      <td>NaN</td>\n",
              "      <td>372.87302</td>\n",
              "      <td>0.0720</td>\n",
              "      <td>1432.733</td>\n",
              "      <td>1240.00</td>\n",
              "      <td>0.00136</td>\n",
              "      <td>0.00000</td>\n",
              "      <td>86.66050</td>\n",
              "    </tr>\n",
              "    <tr>\n",
              "      <th>16</th>\n",
              "      <td>Indonesia</td>\n",
              "      <td>NaN</td>\n",
              "      <td>1271.55343</td>\n",
              "      <td>19.0400</td>\n",
              "      <td>227.000</td>\n",
              "      <td>0.00</td>\n",
              "      <td>180.57024</td>\n",
              "      <td>0.00000</td>\n",
              "      <td>24.68040</td>\n",
              "    </tr>\n",
              "    <tr>\n",
              "      <th>17</th>\n",
              "      <td>Italy</td>\n",
              "      <td>NaN</td>\n",
              "      <td>0.00000</td>\n",
              "      <td>0.0000</td>\n",
              "      <td>0.000</td>\n",
              "      <td>0.00</td>\n",
              "      <td>1725.51813</td>\n",
              "      <td>17.83016</td>\n",
              "      <td>0.00000</td>\n",
              "    </tr>\n",
              "    <tr>\n",
              "      <th>18</th>\n",
              "      <td>Japan</td>\n",
              "      <td>NaN</td>\n",
              "      <td>6691.16379</td>\n",
              "      <td>42.0540</td>\n",
              "      <td>85.600</td>\n",
              "      <td>0.00</td>\n",
              "      <td>200.79109</td>\n",
              "      <td>118.31314</td>\n",
              "      <td>0.63750</td>\n",
              "    </tr>\n",
              "    <tr>\n",
              "      <th>19</th>\n",
              "      <td>Korea</td>\n",
              "      <td>NaN</td>\n",
              "      <td>226.68527</td>\n",
              "      <td>0.0000</td>\n",
              "      <td>237.160</td>\n",
              "      <td>13.00</td>\n",
              "      <td>161.06885</td>\n",
              "      <td>55.33998</td>\n",
              "      <td>3.16989</td>\n",
              "    </tr>\n",
              "    <tr>\n",
              "      <th>20</th>\n",
              "      <td>Malaysia</td>\n",
              "      <td>NaN</td>\n",
              "      <td>5918.66241</td>\n",
              "      <td>60.6690</td>\n",
              "      <td>107.200</td>\n",
              "      <td>0.00</td>\n",
              "      <td>677.98104</td>\n",
              "      <td>61.05034</td>\n",
              "      <td>0.91000</td>\n",
              "    </tr>\n",
              "    <tr>\n",
              "      <th>21</th>\n",
              "      <td>Mexico</td>\n",
              "      <td>NaN</td>\n",
              "      <td>0.00000</td>\n",
              "      <td>0.0000</td>\n",
              "      <td>0.000</td>\n",
              "      <td>0.00</td>\n",
              "      <td>0.00000</td>\n",
              "      <td>2.92100</td>\n",
              "      <td>0.17900</td>\n",
              "    </tr>\n",
              "    <tr>\n",
              "      <th>22</th>\n",
              "      <td>Netherlands</td>\n",
              "      <td>NaN</td>\n",
              "      <td>0.00000</td>\n",
              "      <td>0.0000</td>\n",
              "      <td>0.000</td>\n",
              "      <td>0.00</td>\n",
              "      <td>36.09168</td>\n",
              "      <td>220.56700</td>\n",
              "      <td>0.00000</td>\n",
              "    </tr>\n",
              "    <tr>\n",
              "      <th>23</th>\n",
              "      <td>New Zealand</td>\n",
              "      <td>NaN</td>\n",
              "      <td>35.70000</td>\n",
              "      <td>0.0000</td>\n",
              "      <td>16.800</td>\n",
              "      <td>0.00</td>\n",
              "      <td>49.74543</td>\n",
              "      <td>7.24300</td>\n",
              "      <td>0.00000</td>\n",
              "    </tr>\n",
              "    <tr>\n",
              "      <th>24</th>\n",
              "      <td>Philippines</td>\n",
              "      <td>NaN</td>\n",
              "      <td>1007.06976</td>\n",
              "      <td>50.0000</td>\n",
              "      <td>30.240</td>\n",
              "      <td>0.00</td>\n",
              "      <td>77.57200</td>\n",
              "      <td>15.88956</td>\n",
              "      <td>5.09000</td>\n",
              "    </tr>\n",
              "    <tr>\n",
              "      <th>25</th>\n",
              "      <td>Romania</td>\n",
              "      <td>NaN</td>\n",
              "      <td>0.00000</td>\n",
              "      <td>0.0000</td>\n",
              "      <td>0.000</td>\n",
              "      <td>0.00</td>\n",
              "      <td>0.00000</td>\n",
              "      <td>8.71250</td>\n",
              "      <td>0.00000</td>\n",
              "    </tr>\n",
              "    <tr>\n",
              "      <th>26</th>\n",
              "      <td>Russia</td>\n",
              "      <td>NaN</td>\n",
              "      <td>18.09760</td>\n",
              "      <td>0.0000</td>\n",
              "      <td>0.000</td>\n",
              "      <td>0.00</td>\n",
              "      <td>76.77792</td>\n",
              "      <td>0.00000</td>\n",
              "      <td>0.00000</td>\n",
              "    </tr>\n",
              "    <tr>\n",
              "      <th>27</th>\n",
              "      <td>Saudi Arabia</td>\n",
              "      <td>NaN</td>\n",
              "      <td>139.50536</td>\n",
              "      <td>0.0000</td>\n",
              "      <td>0.000</td>\n",
              "      <td>0.00</td>\n",
              "      <td>0.00000</td>\n",
              "      <td>0.00000</td>\n",
              "      <td>0.00000</td>\n",
              "    </tr>\n",
              "    <tr>\n",
              "      <th>28</th>\n",
              "      <td>Singapore</td>\n",
              "      <td>NaN</td>\n",
              "      <td>95.52346</td>\n",
              "      <td>0.8400</td>\n",
              "      <td>0.000</td>\n",
              "      <td>0.00</td>\n",
              "      <td>238.00972</td>\n",
              "      <td>14.04810</td>\n",
              "      <td>1.88000</td>\n",
              "    </tr>\n",
              "    <tr>\n",
              "      <th>29</th>\n",
              "      <td>South Africa</td>\n",
              "      <td>NaN</td>\n",
              "      <td>18.80000</td>\n",
              "      <td>0.0000</td>\n",
              "      <td>0.000</td>\n",
              "      <td>0.00</td>\n",
              "      <td>16.41600</td>\n",
              "      <td>12.36026</td>\n",
              "      <td>0.00000</td>\n",
              "    </tr>\n",
              "    <tr>\n",
              "      <th>30</th>\n",
              "      <td>Spain</td>\n",
              "      <td>NaN</td>\n",
              "      <td>0.00000</td>\n",
              "      <td>0.0000</td>\n",
              "      <td>0.000</td>\n",
              "      <td>0.00</td>\n",
              "      <td>0.00000</td>\n",
              "      <td>44.99900</td>\n",
              "      <td>0.00000</td>\n",
              "    </tr>\n",
              "    <tr>\n",
              "      <th>31</th>\n",
              "      <td>Sweden</td>\n",
              "      <td>NaN</td>\n",
              "      <td>0.00000</td>\n",
              "      <td>0.0000</td>\n",
              "      <td>0.000</td>\n",
              "      <td>0.00</td>\n",
              "      <td>92.11200</td>\n",
              "      <td>0.00000</td>\n",
              "      <td>0.00000</td>\n",
              "    </tr>\n",
              "    <tr>\n",
              "      <th>32</th>\n",
              "      <td>Taiwan</td>\n",
              "      <td>NaN</td>\n",
              "      <td>1524.76260</td>\n",
              "      <td>18.4800</td>\n",
              "      <td>80.000</td>\n",
              "      <td>0.00</td>\n",
              "      <td>535.66780</td>\n",
              "      <td>32.75639</td>\n",
              "      <td>1.06500</td>\n",
              "    </tr>\n",
              "    <tr>\n",
              "      <th>33</th>\n",
              "      <td>Turkey</td>\n",
              "      <td>NaN</td>\n",
              "      <td>0.00000</td>\n",
              "      <td>0.0000</td>\n",
              "      <td>0.000</td>\n",
              "      <td>0.00</td>\n",
              "      <td>0.00000</td>\n",
              "      <td>0.00000</td>\n",
              "      <td>6.09500</td>\n",
              "    </tr>\n",
              "    <tr>\n",
              "      <th>34</th>\n",
              "      <td>U.S.A.</td>\n",
              "      <td>NaN</td>\n",
              "      <td>270.94979</td>\n",
              "      <td>0.0000</td>\n",
              "      <td>0.000</td>\n",
              "      <td>0.00</td>\n",
              "      <td>4306.31102</td>\n",
              "      <td>124.50461</td>\n",
              "      <td>28.84020</td>\n",
              "    </tr>\n",
              "    <tr>\n",
              "      <th>35</th>\n",
              "      <td>Vietnam</td>\n",
              "      <td>NaN</td>\n",
              "      <td>409.86428</td>\n",
              "      <td>47.4888</td>\n",
              "      <td>1.600</td>\n",
              "      <td>0.00</td>\n",
              "      <td>5.18400</td>\n",
              "      <td>0.00000</td>\n",
              "      <td>3.40170</td>\n",
              "    </tr>\n",
              "  </tbody>\n",
              "</table>\n",
              "</div>"
            ],
            "text/plain": [
              "           Country  ...  Export of aquatic animal feed\n",
              "0        Australia  ...                        0.00000\n",
              "1       Bangladesh  ...                       13.10476\n",
              "2          Belgium  ...                       17.43253\n",
              "3           Brazil  ...                       14.44400\n",
              "4         Cambodia  ...                        0.00000\n",
              "5           Canada  ...                        0.00000\n",
              "6            China  ...                       17.94300\n",
              "7   Czech Republic  ...                        0.00000\n",
              "8          Denmark  ...                        0.00000\n",
              "9          Finland  ...                        0.00000\n",
              "10          France  ...                        0.00000\n",
              "11         Germany  ...                        0.00000\n",
              "12          Greece  ...                       19.72100\n",
              "13       Hong Kong  ...                        0.74500\n",
              "14         Hungary  ...                        0.00000\n",
              "15           India  ...                       86.66050\n",
              "16       Indonesia  ...                       24.68040\n",
              "17           Italy  ...                        0.00000\n",
              "18           Japan  ...                        0.63750\n",
              "19           Korea  ...                        3.16989\n",
              "20        Malaysia  ...                        0.91000\n",
              "21          Mexico  ...                        0.17900\n",
              "22     Netherlands  ...                        0.00000\n",
              "23     New Zealand  ...                        0.00000\n",
              "24     Philippines  ...                        5.09000\n",
              "25         Romania  ...                        0.00000\n",
              "26          Russia  ...                        0.00000\n",
              "27    Saudi Arabia  ...                        0.00000\n",
              "28       Singapore  ...                        1.88000\n",
              "29    South Africa  ...                        0.00000\n",
              "30           Spain  ...                        0.00000\n",
              "31          Sweden  ...                        0.00000\n",
              "32          Taiwan  ...                        1.06500\n",
              "33          Turkey  ...                        6.09500\n",
              "34          U.S.A.  ...                       28.84020\n",
              "35         Vietnam  ...                        3.40170\n",
              "\n",
              "[36 rows x 9 columns]"
            ]
          },
          "metadata": {
            "tags": []
          },
          "execution_count": 15
        }
      ]
    },
    {
      "cell_type": "code",
      "metadata": {
        "id": "SmwvPpQx5saY",
        "outputId": "51b44745-3b49-4261-f9cd-f694a22f4a37",
        "colab": {
          "base_uri": "https://localhost:8080/"
        }
      },
      "source": [
        "Export_df[\"Country\"]"
      ],
      "execution_count": 16,
      "outputs": [
        {
          "output_type": "execute_result",
          "data": {
            "text/plain": [
              "0          Australia\n",
              "1         Bangladesh\n",
              "2            Belgium\n",
              "3             Brazil\n",
              "4           Cambodia\n",
              "5             Canada\n",
              "6              China\n",
              "7     Czech Republic\n",
              "8            Denmark\n",
              "9            Finland\n",
              "10            France\n",
              "11           Germany\n",
              "12            Greece\n",
              "13         Hong Kong\n",
              "14           Hungary\n",
              "15             India\n",
              "16         Indonesia\n",
              "17             Italy\n",
              "18             Japan\n",
              "19             Korea\n",
              "20          Malaysia\n",
              "21            Mexico\n",
              "22       Netherlands\n",
              "23       New Zealand\n",
              "24       Philippines\n",
              "25           Romania\n",
              "26            Russia\n",
              "27      Saudi Arabia\n",
              "28         Singapore\n",
              "29      South Africa\n",
              "30             Spain\n",
              "31            Sweden\n",
              "32            Taiwan\n",
              "33            Turkey\n",
              "34            U.S.A.\n",
              "35           Vietnam\n",
              "Name: Country, dtype: object"
            ]
          },
          "metadata": {
            "tags": []
          },
          "execution_count": 16
        }
      ]
    },
    {
      "cell_type": "code",
      "metadata": {
        "id": "p3rp4eWC1m_s",
        "colab": {
          "base_uri": "https://localhost:8080/"
        },
        "outputId": "d7189069-2864-4d1f-ddf8-b1b79b36b090"
      },
      "source": [
        "Import_df.shape # .shape เป็นคำสั่งที่ใช้เช็คว่าข้อมูลที่เอามามีความผิดพลาดรึเปล่า จำนวนแถว,จำนวนหลัก"
      ],
      "execution_count": null,
      "outputs": [
        {
          "output_type": "execute_result",
          "data": {
            "text/plain": [
              "(36, 6)"
            ]
          },
          "metadata": {
            "tags": []
          },
          "execution_count": 17
        }
      ]
    },
    {
      "cell_type": "code",
      "metadata": {
        "id": "WOJKiUe61p1U",
        "colab": {
          "base_uri": "https://localhost:8080/"
        },
        "outputId": "415c3587-faa9-4acb-8754-24122072600d"
      },
      "source": [
        "Export_df.shape # .shape เป็นคำสั่งที่ใช้เช็คว่าข้อมูลที่เอามามีความผิดพลาดรึเปล่า จำนวนแถว,จำนวนหลัก"
      ],
      "execution_count": null,
      "outputs": [
        {
          "output_type": "execute_result",
          "data": {
            "text/plain": [
              "(36, 9)"
            ]
          },
          "metadata": {
            "tags": []
          },
          "execution_count": 18
        }
      ]
    },
    {
      "cell_type": "markdown",
      "metadata": {
        "id": "nWJGR2ZY1rV0"
      },
      "source": [
        "#Missing Values ค่าผิดปกติ เช็คดูว่าตารางเรามี missing"
      ]
    },
    {
      "cell_type": "code",
      "metadata": {
        "id": "2w3qYe1pSpDL",
        "colab": {
          "base_uri": "https://localhost:8080/"
        },
        "outputId": "f122ea7a-c800-499b-c83b-bdf5f4087815"
      },
      "source": [
        "Import_df.isnull().any()"
      ],
      "execution_count": null,
      "outputs": [
        {
          "output_type": "execute_result",
          "data": {
            "text/plain": [
              " Country                        False\n",
              "Import of main raw materials    False\n",
              "Import the mixed                False\n",
              "Imported dairy products         False\n",
              "Import of pet supplement        False\n",
              "Import other animal feed        False\n",
              "dtype: bool"
            ]
          },
          "metadata": {
            "tags": []
          },
          "execution_count": 19
        }
      ]
    },
    {
      "cell_type": "code",
      "metadata": {
        "id": "NWLj9DMm1xSu",
        "colab": {
          "base_uri": "https://localhost:8080/"
        },
        "outputId": "81b04d5e-476c-4996-f37b-3cc28baec6a2"
      },
      "source": [
        "Export_df.isnull().any()"
      ],
      "execution_count": null,
      "outputs": [
        {
          "output_type": "execute_result",
          "data": {
            "text/plain": [
              "Country                                    False\n",
              "Export of fish meal                        False\n",
              "Export of dog and cat food                 False\n",
              "Export other animal feed                   False\n",
              "Export of pet supplement                   False\n",
              "Export premix                              False\n",
              "Export of canned food for dogs and cats    False\n",
              "Export Dog Chews                           False\n",
              "Export of aquatic animal feed              False\n",
              "dtype: bool"
            ]
          },
          "metadata": {
            "tags": []
          },
          "execution_count": 20
        }
      ]
    },
    {
      "cell_type": "markdown",
      "metadata": {
        "id": "55W2AWvQC103"
      },
      "source": [
        "## กำหนดค่าในตาราง \n",
        "\n",
        "โดยค่าที่กำหนดคือ สินค้าที่นำเข้าและส่งออกในประเทศต่างๆ \n",
        "\n",
        "1. ถ้ามีค่าตั้งแต่ 10 ตันขึ้นไปจะให้เป็น ' 1 ' คือมีการนำเข้าและส่งออก อาหารสัตว์\n",
        "\n",
        "2. ถ้ามีค่าตั้งแต่ 0 ถึง 9.9999 ตันจะให้เป็น ' 0 '  คือไม่มีการนำเข้าและส่งออกอาหารสัตว์"
      ]
    },
    {
      "cell_type": "markdown",
      "metadata": {
        "id": "XuSoxOlBDwHn"
      },
      "source": [
        "แก้ไขตาราง Import โดยใช้คำสั่ง if else"
      ]
    },
    {
      "cell_type": "code",
      "metadata": {
        "id": "zTQxtq5ZKKk-"
      },
      "source": [
        "Im_1= os.path.join(path,'Im_a1.csv')  #สร้างที่อยู่โดยใช้ os.path.join\n",
        "Ex_1= os.path.join(path,'EX_a1.csv')"
      ],
      "execution_count": 4,
      "outputs": []
    },
    {
      "cell_type": "code",
      "metadata": {
        "id": "QKf3KzsCKZpm",
        "colab": {
          "base_uri": "https://localhost:8080/",
          "height": 221
        },
        "outputId": "ddfe24b7-2e62-4e27-935f-1fc8e6f8ae73"
      },
      "source": [
        "Im_df = pandas.read_csv(Im_1) \n",
        "Im_df.head() "
      ],
      "execution_count": 5,
      "outputs": [
        {
          "output_type": "execute_result",
          "data": {
            "text/html": [
              "<div>\n",
              "<style scoped>\n",
              "    .dataframe tbody tr th:only-of-type {\n",
              "        vertical-align: middle;\n",
              "    }\n",
              "\n",
              "    .dataframe tbody tr th {\n",
              "        vertical-align: top;\n",
              "    }\n",
              "\n",
              "    .dataframe thead th {\n",
              "        text-align: right;\n",
              "    }\n",
              "</style>\n",
              "<table border=\"1\" class=\"dataframe\">\n",
              "  <thead>\n",
              "    <tr style=\"text-align: right;\">\n",
              "      <th></th>\n",
              "      <th>Country</th>\n",
              "      <th>Import of main raw materials</th>\n",
              "      <th>Import the mixed</th>\n",
              "      <th>Imported dairy products</th>\n",
              "      <th>Import of pet supplement</th>\n",
              "      <th>Import other animal feed</th>\n",
              "    </tr>\n",
              "  </thead>\n",
              "  <tbody>\n",
              "    <tr>\n",
              "      <th>0</th>\n",
              "      <td>Australia</td>\n",
              "      <td>1</td>\n",
              "      <td>1</td>\n",
              "      <td>1</td>\n",
              "      <td>1</td>\n",
              "      <td>1</td>\n",
              "    </tr>\n",
              "    <tr>\n",
              "      <th>1</th>\n",
              "      <td>Bangladesh</td>\n",
              "      <td>0</td>\n",
              "      <td>0</td>\n",
              "      <td>0</td>\n",
              "      <td>0</td>\n",
              "      <td>1</td>\n",
              "    </tr>\n",
              "    <tr>\n",
              "      <th>2</th>\n",
              "      <td>Belgium</td>\n",
              "      <td>1</td>\n",
              "      <td>1</td>\n",
              "      <td>0</td>\n",
              "      <td>1</td>\n",
              "      <td>1</td>\n",
              "    </tr>\n",
              "    <tr>\n",
              "      <th>3</th>\n",
              "      <td>Brazil</td>\n",
              "      <td>1</td>\n",
              "      <td>0</td>\n",
              "      <td>0</td>\n",
              "      <td>1</td>\n",
              "      <td>1</td>\n",
              "    </tr>\n",
              "    <tr>\n",
              "      <th>4</th>\n",
              "      <td>Cambodia</td>\n",
              "      <td>0</td>\n",
              "      <td>1</td>\n",
              "      <td>0</td>\n",
              "      <td>0</td>\n",
              "      <td>1</td>\n",
              "    </tr>\n",
              "  </tbody>\n",
              "</table>\n",
              "</div>"
            ],
            "text/plain": [
              "     Country   ...  Import other animal feed\n",
              "0   Australia  ...                         1\n",
              "1  Bangladesh  ...                         1\n",
              "2     Belgium  ...                         1\n",
              "3      Brazil  ...                         1\n",
              "4    Cambodia  ...                         1\n",
              "\n",
              "[5 rows x 6 columns]"
            ]
          },
          "metadata": {
            "tags": []
          },
          "execution_count": 5
        }
      ]
    },
    {
      "cell_type": "code",
      "metadata": {
        "id": "pgVPMKTJ6AV-",
        "outputId": "ee1aca9d-5b7b-4ec8-ac75-0712b7c303a7",
        "colab": {
          "base_uri": "https://localhost:8080/",
          "height": 591
        }
      },
      "source": [
        "Im_df[\"Country\"]"
      ],
      "execution_count": 17,
      "outputs": [
        {
          "output_type": "error",
          "ename": "KeyError",
          "evalue": "ignored",
          "traceback": [
            "\u001b[0;31m---------------------------------------------------------------------------\u001b[0m",
            "\u001b[0;31mKeyError\u001b[0m                                  Traceback (most recent call last)",
            "\u001b[0;32m/usr/local/lib/python3.6/dist-packages/pandas/core/indexes/base.py\u001b[0m in \u001b[0;36mget_loc\u001b[0;34m(self, key, method, tolerance)\u001b[0m\n\u001b[1;32m   2894\u001b[0m             \u001b[0;32mtry\u001b[0m\u001b[0;34m:\u001b[0m\u001b[0;34m\u001b[0m\u001b[0;34m\u001b[0m\u001b[0m\n\u001b[0;32m-> 2895\u001b[0;31m                 \u001b[0;32mreturn\u001b[0m \u001b[0mself\u001b[0m\u001b[0;34m.\u001b[0m\u001b[0m_engine\u001b[0m\u001b[0;34m.\u001b[0m\u001b[0mget_loc\u001b[0m\u001b[0;34m(\u001b[0m\u001b[0mcasted_key\u001b[0m\u001b[0;34m)\u001b[0m\u001b[0;34m\u001b[0m\u001b[0;34m\u001b[0m\u001b[0m\n\u001b[0m\u001b[1;32m   2896\u001b[0m             \u001b[0;32mexcept\u001b[0m \u001b[0mKeyError\u001b[0m \u001b[0;32mas\u001b[0m \u001b[0merr\u001b[0m\u001b[0;34m:\u001b[0m\u001b[0;34m\u001b[0m\u001b[0;34m\u001b[0m\u001b[0m\n",
            "\u001b[0;32mpandas/_libs/index.pyx\u001b[0m in \u001b[0;36mpandas._libs.index.IndexEngine.get_loc\u001b[0;34m()\u001b[0m\n",
            "\u001b[0;32mpandas/_libs/index.pyx\u001b[0m in \u001b[0;36mpandas._libs.index.IndexEngine.get_loc\u001b[0;34m()\u001b[0m\n",
            "\u001b[0;32mpandas/_libs/hashtable_class_helper.pxi\u001b[0m in \u001b[0;36mpandas._libs.hashtable.PyObjectHashTable.get_item\u001b[0;34m()\u001b[0m\n",
            "\u001b[0;32mpandas/_libs/hashtable_class_helper.pxi\u001b[0m in \u001b[0;36mpandas._libs.hashtable.PyObjectHashTable.get_item\u001b[0;34m()\u001b[0m\n",
            "\u001b[0;31mKeyError\u001b[0m: 'Country'",
            "\nThe above exception was the direct cause of the following exception:\n",
            "\u001b[0;31mKeyError\u001b[0m                                  Traceback (most recent call last)",
            "\u001b[0;32m<ipython-input-17-b39724a29f1c>\u001b[0m in \u001b[0;36m<module>\u001b[0;34m()\u001b[0m\n\u001b[0;32m----> 1\u001b[0;31m \u001b[0mIm_df\u001b[0m\u001b[0;34m[\u001b[0m\u001b[0;34m\"Country\"\u001b[0m\u001b[0;34m]\u001b[0m\u001b[0;34m\u001b[0m\u001b[0;34m\u001b[0m\u001b[0m\n\u001b[0m",
            "\u001b[0;32m/usr/local/lib/python3.6/dist-packages/pandas/core/frame.py\u001b[0m in \u001b[0;36m__getitem__\u001b[0;34m(self, key)\u001b[0m\n\u001b[1;32m   2904\u001b[0m             \u001b[0;32mif\u001b[0m \u001b[0mself\u001b[0m\u001b[0;34m.\u001b[0m\u001b[0mcolumns\u001b[0m\u001b[0;34m.\u001b[0m\u001b[0mnlevels\u001b[0m \u001b[0;34m>\u001b[0m \u001b[0;36m1\u001b[0m\u001b[0;34m:\u001b[0m\u001b[0;34m\u001b[0m\u001b[0;34m\u001b[0m\u001b[0m\n\u001b[1;32m   2905\u001b[0m                 \u001b[0;32mreturn\u001b[0m \u001b[0mself\u001b[0m\u001b[0;34m.\u001b[0m\u001b[0m_getitem_multilevel\u001b[0m\u001b[0;34m(\u001b[0m\u001b[0mkey\u001b[0m\u001b[0;34m)\u001b[0m\u001b[0;34m\u001b[0m\u001b[0;34m\u001b[0m\u001b[0m\n\u001b[0;32m-> 2906\u001b[0;31m             \u001b[0mindexer\u001b[0m \u001b[0;34m=\u001b[0m \u001b[0mself\u001b[0m\u001b[0;34m.\u001b[0m\u001b[0mcolumns\u001b[0m\u001b[0;34m.\u001b[0m\u001b[0mget_loc\u001b[0m\u001b[0;34m(\u001b[0m\u001b[0mkey\u001b[0m\u001b[0;34m)\u001b[0m\u001b[0;34m\u001b[0m\u001b[0;34m\u001b[0m\u001b[0m\n\u001b[0m\u001b[1;32m   2907\u001b[0m             \u001b[0;32mif\u001b[0m \u001b[0mis_integer\u001b[0m\u001b[0;34m(\u001b[0m\u001b[0mindexer\u001b[0m\u001b[0;34m)\u001b[0m\u001b[0;34m:\u001b[0m\u001b[0;34m\u001b[0m\u001b[0;34m\u001b[0m\u001b[0m\n\u001b[1;32m   2908\u001b[0m                 \u001b[0mindexer\u001b[0m \u001b[0;34m=\u001b[0m \u001b[0;34m[\u001b[0m\u001b[0mindexer\u001b[0m\u001b[0;34m]\u001b[0m\u001b[0;34m\u001b[0m\u001b[0;34m\u001b[0m\u001b[0m\n",
            "\u001b[0;32m/usr/local/lib/python3.6/dist-packages/pandas/core/indexes/base.py\u001b[0m in \u001b[0;36mget_loc\u001b[0;34m(self, key, method, tolerance)\u001b[0m\n\u001b[1;32m   2895\u001b[0m                 \u001b[0;32mreturn\u001b[0m \u001b[0mself\u001b[0m\u001b[0;34m.\u001b[0m\u001b[0m_engine\u001b[0m\u001b[0;34m.\u001b[0m\u001b[0mget_loc\u001b[0m\u001b[0;34m(\u001b[0m\u001b[0mcasted_key\u001b[0m\u001b[0;34m)\u001b[0m\u001b[0;34m\u001b[0m\u001b[0;34m\u001b[0m\u001b[0m\n\u001b[1;32m   2896\u001b[0m             \u001b[0;32mexcept\u001b[0m \u001b[0mKeyError\u001b[0m \u001b[0;32mas\u001b[0m \u001b[0merr\u001b[0m\u001b[0;34m:\u001b[0m\u001b[0;34m\u001b[0m\u001b[0;34m\u001b[0m\u001b[0m\n\u001b[0;32m-> 2897\u001b[0;31m                 \u001b[0;32mraise\u001b[0m \u001b[0mKeyError\u001b[0m\u001b[0;34m(\u001b[0m\u001b[0mkey\u001b[0m\u001b[0;34m)\u001b[0m \u001b[0;32mfrom\u001b[0m \u001b[0merr\u001b[0m\u001b[0;34m\u001b[0m\u001b[0;34m\u001b[0m\u001b[0m\n\u001b[0m\u001b[1;32m   2898\u001b[0m \u001b[0;34m\u001b[0m\u001b[0m\n\u001b[1;32m   2899\u001b[0m         \u001b[0;32mif\u001b[0m \u001b[0mtolerance\u001b[0m \u001b[0;32mis\u001b[0m \u001b[0;32mnot\u001b[0m \u001b[0;32mNone\u001b[0m\u001b[0;34m:\u001b[0m\u001b[0;34m\u001b[0m\u001b[0;34m\u001b[0m\u001b[0m\n",
            "\u001b[0;31mKeyError\u001b[0m: 'Country'"
          ]
        }
      ]
    },
    {
      "cell_type": "code",
      "metadata": {
        "id": "AruVQzd2KTGN",
        "colab": {
          "base_uri": "https://localhost:8080/",
          "height": 238
        },
        "outputId": "af5584be-c171-4518-dd81-4389fdbc0b68"
      },
      "source": [
        "Ex_df = pandas.read_csv(Ex_1) \n",
        "Ex_df.head() "
      ],
      "execution_count": 6,
      "outputs": [
        {
          "output_type": "execute_result",
          "data": {
            "text/html": [
              "<div>\n",
              "<style scoped>\n",
              "    .dataframe tbody tr th:only-of-type {\n",
              "        vertical-align: middle;\n",
              "    }\n",
              "\n",
              "    .dataframe tbody tr th {\n",
              "        vertical-align: top;\n",
              "    }\n",
              "\n",
              "    .dataframe thead th {\n",
              "        text-align: right;\n",
              "    }\n",
              "</style>\n",
              "<table border=\"1\" class=\"dataframe\">\n",
              "  <thead>\n",
              "    <tr style=\"text-align: right;\">\n",
              "      <th></th>\n",
              "      <th>Country</th>\n",
              "      <th>Export of fish meal</th>\n",
              "      <th>Export of dog and cat food</th>\n",
              "      <th>Export other animal feed</th>\n",
              "      <th>Export of pet supplement</th>\n",
              "      <th>Export premix</th>\n",
              "      <th>Export of canned food for dogs and cats</th>\n",
              "      <th>Export Dog Chews</th>\n",
              "      <th>Export of aquatic animal feed</th>\n",
              "    </tr>\n",
              "  </thead>\n",
              "  <tbody>\n",
              "    <tr>\n",
              "      <th>0</th>\n",
              "      <td>Australia</td>\n",
              "      <td>0</td>\n",
              "      <td>1</td>\n",
              "      <td>0</td>\n",
              "      <td>1</td>\n",
              "      <td>0</td>\n",
              "      <td>1</td>\n",
              "      <td>1</td>\n",
              "      <td>0</td>\n",
              "    </tr>\n",
              "    <tr>\n",
              "      <th>1</th>\n",
              "      <td>Bangladesh</td>\n",
              "      <td>1</td>\n",
              "      <td>0</td>\n",
              "      <td>0</td>\n",
              "      <td>1</td>\n",
              "      <td>1</td>\n",
              "      <td>0</td>\n",
              "      <td>0</td>\n",
              "      <td>1</td>\n",
              "    </tr>\n",
              "    <tr>\n",
              "      <th>2</th>\n",
              "      <td>Belgium</td>\n",
              "      <td>1</td>\n",
              "      <td>0</td>\n",
              "      <td>0</td>\n",
              "      <td>0</td>\n",
              "      <td>0</td>\n",
              "      <td>1</td>\n",
              "      <td>1</td>\n",
              "      <td>1</td>\n",
              "    </tr>\n",
              "    <tr>\n",
              "      <th>3</th>\n",
              "      <td>Brazil</td>\n",
              "      <td>0</td>\n",
              "      <td>0</td>\n",
              "      <td>0</td>\n",
              "      <td>0</td>\n",
              "      <td>0</td>\n",
              "      <td>0</td>\n",
              "      <td>0</td>\n",
              "      <td>1</td>\n",
              "    </tr>\n",
              "    <tr>\n",
              "      <th>4</th>\n",
              "      <td>Cambodia</td>\n",
              "      <td>0</td>\n",
              "      <td>0</td>\n",
              "      <td>0</td>\n",
              "      <td>0</td>\n",
              "      <td>0</td>\n",
              "      <td>0</td>\n",
              "      <td>0</td>\n",
              "      <td>0</td>\n",
              "    </tr>\n",
              "  </tbody>\n",
              "</table>\n",
              "</div>"
            ],
            "text/plain": [
              "      Country  ...  Export of aquatic animal feed\n",
              "0   Australia  ...                              0\n",
              "1  Bangladesh  ...                              1\n",
              "2     Belgium  ...                              1\n",
              "3      Brazil  ...                              1\n",
              "4    Cambodia  ...                              0\n",
              "\n",
              "[5 rows x 9 columns]"
            ]
          },
          "metadata": {
            "tags": []
          },
          "execution_count": 6
        }
      ]
    },
    {
      "cell_type": "code",
      "metadata": {
        "id": "cOl_wsVUK69_",
        "colab": {
          "base_uri": "https://localhost:8080/"
        },
        "outputId": "b69f744d-fd4c-4ae9-f17a-08f655bba748"
      },
      "source": [
        "Im_df.isnull().any()"
      ],
      "execution_count": 7,
      "outputs": [
        {
          "output_type": "execute_result",
          "data": {
            "text/plain": [
              " Country                        False\n",
              "Import of main raw materials    False\n",
              "Import the mixed                False\n",
              "Imported dairy products         False\n",
              "Import of pet supplement        False\n",
              "Import other animal feed        False\n",
              "dtype: bool"
            ]
          },
          "metadata": {
            "tags": []
          },
          "execution_count": 7
        }
      ]
    },
    {
      "cell_type": "code",
      "metadata": {
        "id": "jd34R-22K-c9",
        "colab": {
          "base_uri": "https://localhost:8080/"
        },
        "outputId": "ba4a95c5-526c-43f9-8011-f63abf165bfe"
      },
      "source": [
        "Ex_df.isnull().any()"
      ],
      "execution_count": 8,
      "outputs": [
        {
          "output_type": "execute_result",
          "data": {
            "text/plain": [
              "Country                                    False\n",
              "Export of fish meal                        False\n",
              "Export of dog and cat food                 False\n",
              "Export other animal feed                   False\n",
              "Export of pet supplement                   False\n",
              "Export premix                              False\n",
              "Export of canned food for dogs and cats    False\n",
              "Export Dog Chews                           False\n",
              "Export of aquatic animal feed              False\n",
              "dtype: bool"
            ]
          },
          "metadata": {
            "tags": []
          },
          "execution_count": 8
        }
      ]
    },
    {
      "cell_type": "markdown",
      "metadata": {
        "id": "28h6ol3d1fRW"
      },
      "source": [
        "เช็ค type ของคอลั่มข้อมูล "
      ]
    },
    {
      "cell_type": "code",
      "metadata": {
        "id": "gR27DXmf1eTV"
      },
      "source": [
        ""
      ],
      "execution_count": null,
      "outputs": []
    },
    {
      "cell_type": "markdown",
      "metadata": {
        "id": "1n7vJMtX1jqO"
      },
      "source": [
        "แก้ไขข้อมูล"
      ]
    },
    {
      "cell_type": "markdown",
      "metadata": {
        "id": "CzcyeLf_1oxR"
      },
      "source": [
        ""
      ]
    },
    {
      "cell_type": "markdown",
      "metadata": {
        "id": "1u1QS5Hx1mVk"
      },
      "source": [
        "รวมตาราง "
      ]
    }
  ]
}