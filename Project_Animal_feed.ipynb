{
  "nbformat": 4,
  "nbformat_minor": 0,
  "metadata": {
    "colab": {
      "name": "Project_Animal_feed.ipynb",
      "provenance": [],
      "authorship_tag": "ABX9TyMsmch56PK+3C3qL+/f+TeD",
      "include_colab_link": true
    },
    "kernelspec": {
      "name": "python3",
      "display_name": "Python 3"
    }
  },
  "cells": [
    {
      "cell_type": "markdown",
      "metadata": {
        "id": "view-in-github",
        "colab_type": "text"
      },
      "source": [
        "<a href=\"https://colab.research.google.com/github/Kggzzz/KKU_data_mining/blob/master/Project_Animal_feed.ipynb\" target=\"_parent\"><img src=\"https://colab.research.google.com/assets/colab-badge.svg\" alt=\"Open In Colab\"/></a>"
      ]
    },
    {
      "cell_type": "markdown",
      "metadata": {
        "id": "CaWFvj8lGI-x"
      },
      "source": [
        "ดูความสัมพันธ์ปริมาณการส่งออกอาหารสัตว์เป็นจำนวนมาก ก็จะทำปริมาณนำเข้าอาหารสัตว์ที่เป็นวัตถุดิบในการทำอาหารสัตว์มากขึ้นเช่นกันเยอะ ความสัมพันธ์ที่ได้จากกระบวนการนี้สามารถนำไปใช้คาดเดาได้ว่าควรนำเข้าอาหารสัตว์และส่งออกอาหารสัตว์เพิ่มขึ้นให้กับแต่ละประเทศ ในปีค.ศ. 2015 "
      ]
    },
    {
      "cell_type": "code",
      "metadata": {
        "id": "iSKua2CE1ZI7",
        "colab": {
          "base_uri": "https://localhost:8080/"
        },
        "outputId": "570f5a4e-b78b-4b20-9a2c-25ac86a33e0d"
      },
      "source": [
        "from google.colab import drive \n",
        "drive.mount('/content/drive')"
      ],
      "execution_count": 1,
      "outputs": [
        {
          "output_type": "stream",
          "text": [
            "Mounted at /content/drive\n"
          ],
          "name": "stdout"
        }
      ]
    },
    {
      "cell_type": "code",
      "metadata": {
        "id": "mNVN-GS91e69"
      },
      "source": [
        "path = '/content/drive/My Drive/Project_Mining'"
      ],
      "execution_count": 2,
      "outputs": []
    },
    {
      "cell_type": "code",
      "metadata": {
        "id": "jkwQI7gf1hxd"
      },
      "source": [
        "import os\n",
        "import pandas"
      ],
      "execution_count": 3,
      "outputs": []
    },
    {
      "cell_type": "code",
      "metadata": {
        "id": "uSftVmDn1jPN"
      },
      "source": [
        "Import= os.path.join(path,'Im_animal_feed_tun.csv')  #สร้างที่อยู่โดยใช้ os.path.join\n",
        "Export= os.path.join(path,'Ex_animal_feed_tun.csv')"
      ],
      "execution_count": 21,
      "outputs": []
    },
    {
      "cell_type": "code",
      "metadata": {
        "id": "ha4nuO301jo0",
        "colab": {
          "base_uri": "https://localhost:8080/",
          "height": 195
        },
        "outputId": "79b25805-55ae-4623-98b0-8006ca83d3c3"
      },
      "source": [
        "Import_df = pandas.read_csv(Import)\n",
        "Import_df.head()"
      ],
      "execution_count": 22,
      "outputs": [
        {
          "output_type": "execute_result",
          "data": {
            "text/html": [
              "<div>\n",
              "<style scoped>\n",
              "    .dataframe tbody tr th:only-of-type {\n",
              "        vertical-align: middle;\n",
              "    }\n",
              "\n",
              "    .dataframe tbody tr th {\n",
              "        vertical-align: top;\n",
              "    }\n",
              "\n",
              "    .dataframe thead th {\n",
              "        text-align: right;\n",
              "    }\n",
              "</style>\n",
              "<table border=\"1\" class=\"dataframe\">\n",
              "  <thead>\n",
              "    <tr style=\"text-align: right;\">\n",
              "      <th></th>\n",
              "      <th>Country</th>\n",
              "      <th>Import of main raw materials</th>\n",
              "      <th>Import the mixed</th>\n",
              "      <th>Imported dairy products</th>\n",
              "      <th>Import of pet supplement</th>\n",
              "      <th>Import other animal feed</th>\n",
              "    </tr>\n",
              "  </thead>\n",
              "  <tbody>\n",
              "    <tr>\n",
              "      <th>0</th>\n",
              "      <td>U.S.A.</td>\n",
              "      <td>1,408,766.62</td>\n",
              "      <td>38,786.76</td>\n",
              "      <td>9,163.66</td>\n",
              "      <td>70,582.83</td>\n",
              "      <td>11,292.58</td>\n",
              "    </tr>\n",
              "    <tr>\n",
              "      <th>1</th>\n",
              "      <td>Brazil</td>\n",
              "      <td>1,644,961.05</td>\n",
              "      <td>6.15</td>\n",
              "      <td>-</td>\n",
              "      <td>867.79</td>\n",
              "      <td>12,945.06</td>\n",
              "    </tr>\n",
              "    <tr>\n",
              "      <th>2</th>\n",
              "      <td>China</td>\n",
              "      <td>20,481.57</td>\n",
              "      <td>24,014.82</td>\n",
              "      <td>14</td>\n",
              "      <td>112,208.00</td>\n",
              "      <td>10,521.66</td>\n",
              "    </tr>\n",
              "    <tr>\n",
              "      <th>3</th>\n",
              "      <td>France</td>\n",
              "      <td>577,167.62</td>\n",
              "      <td>7,721.94</td>\n",
              "      <td>2,490.73</td>\n",
              "      <td>14,827.25</td>\n",
              "      <td>1,690.43</td>\n",
              "    </tr>\n",
              "    <tr>\n",
              "      <th>4</th>\n",
              "      <td>Belgium</td>\n",
              "      <td>10,414.65</td>\n",
              "      <td>7,948.98</td>\n",
              "      <td>2.16</td>\n",
              "      <td>18,229.66</td>\n",
              "      <td>3,093.18</td>\n",
              "    </tr>\n",
              "  </tbody>\n",
              "</table>\n",
              "</div>"
            ],
            "text/plain": [
              "   Country   ... Import other animal feed\n",
              "0    U.S.A.  ...                11,292.58\n",
              "1    Brazil  ...                12,945.06\n",
              "2     China  ...                10,521.66\n",
              "3    France  ...                 1,690.43\n",
              "4   Belgium  ...                 3,093.18\n",
              "\n",
              "[5 rows x 6 columns]"
            ]
          },
          "metadata": {
            "tags": []
          },
          "execution_count": 22
        }
      ]
    },
    {
      "cell_type": "markdown",
      "metadata": {
        "id": "GIaBszBQ3Hjk"
      },
      "source": [
        "ชื่อหัวคอลั่ม Import การนำเข้า\n",
        "\n",
        "Country = ประเทศที่นำเข้า\n",
        "\n",
        "Import of main raw materials = นำเข้าวัตถุดิบหลัก\n",
        "\n",
        "Import the mixed = นำเข้าวัตถุที่ผสมแล้ว\n",
        "\n",
        "Imported dairy products = นำเข้าผลิตภัณฑ์นม\n",
        "\n",
        "Import of pet supplement = นำเข้าอาหารเสริมสำหรับสัตว์\n",
        "\n",
        "Import other animal feed = นำเข้าวัตถุดิบอื่นๆ"
      ]
    },
    {
      "cell_type": "code",
      "metadata": {
        "id": "6e7yOXX-1lPd",
        "colab": {
          "base_uri": "https://localhost:8080/",
          "height": 212
        },
        "outputId": "882b49cf-aa04-4d27-ff83-54c37428ec85"
      },
      "source": [
        "Export_df = pandas.read_csv(Export) \n",
        "Export_df.head() "
      ],
      "execution_count": 23,
      "outputs": [
        {
          "output_type": "execute_result",
          "data": {
            "text/html": [
              "<div>\n",
              "<style scoped>\n",
              "    .dataframe tbody tr th:only-of-type {\n",
              "        vertical-align: middle;\n",
              "    }\n",
              "\n",
              "    .dataframe tbody tr th {\n",
              "        vertical-align: top;\n",
              "    }\n",
              "\n",
              "    .dataframe thead th {\n",
              "        text-align: right;\n",
              "    }\n",
              "</style>\n",
              "<table border=\"1\" class=\"dataframe\">\n",
              "  <thead>\n",
              "    <tr style=\"text-align: right;\">\n",
              "      <th></th>\n",
              "      <th>Country</th>\n",
              "      <th>Export of fish meal</th>\n",
              "      <th>Export of dog and cat food</th>\n",
              "      <th>Export other animal feed</th>\n",
              "      <th>Export of pet supplement</th>\n",
              "      <th>Export premix</th>\n",
              "      <th>Export of canned food for dogs and cats</th>\n",
              "      <th>Export Dog Chews</th>\n",
              "      <th>Export of aquatic animal feed</th>\n",
              "    </tr>\n",
              "  </thead>\n",
              "  <tbody>\n",
              "    <tr>\n",
              "      <th>0</th>\n",
              "      <td>U.S.A.</td>\n",
              "      <td>0.0</td>\n",
              "      <td>270.94979</td>\n",
              "      <td>0.000</td>\n",
              "      <td>0.00</td>\n",
              "      <td>0.0</td>\n",
              "      <td>4306.31102</td>\n",
              "      <td>124.50461</td>\n",
              "      <td>28.8402</td>\n",
              "    </tr>\n",
              "    <tr>\n",
              "      <th>1</th>\n",
              "      <td>Japan</td>\n",
              "      <td>2245.0</td>\n",
              "      <td>6691.16379</td>\n",
              "      <td>42.054</td>\n",
              "      <td>85.60</td>\n",
              "      <td>0.0</td>\n",
              "      <td>200.79109</td>\n",
              "      <td>118.31314</td>\n",
              "      <td>0.6375</td>\n",
              "    </tr>\n",
              "    <tr>\n",
              "      <th>2</th>\n",
              "      <td>China</td>\n",
              "      <td>7010.0</td>\n",
              "      <td>85.07040</td>\n",
              "      <td>0.000</td>\n",
              "      <td>108.64</td>\n",
              "      <td>0.0</td>\n",
              "      <td>373.82704</td>\n",
              "      <td>0.00000</td>\n",
              "      <td>17.9430</td>\n",
              "    </tr>\n",
              "    <tr>\n",
              "      <th>3</th>\n",
              "      <td>Malaysia</td>\n",
              "      <td>0.0</td>\n",
              "      <td>5918.66241</td>\n",
              "      <td>60.669</td>\n",
              "      <td>107.20</td>\n",
              "      <td>0.0</td>\n",
              "      <td>677.98104</td>\n",
              "      <td>61.05034</td>\n",
              "      <td>0.9100</td>\n",
              "    </tr>\n",
              "    <tr>\n",
              "      <th>4</th>\n",
              "      <td>Italy</td>\n",
              "      <td>0.0</td>\n",
              "      <td>0.00000</td>\n",
              "      <td>0.000</td>\n",
              "      <td>0.00</td>\n",
              "      <td>0.0</td>\n",
              "      <td>1725.51813</td>\n",
              "      <td>17.83016</td>\n",
              "      <td>0.0000</td>\n",
              "    </tr>\n",
              "  </tbody>\n",
              "</table>\n",
              "</div>"
            ],
            "text/plain": [
              "    Country  ...  Export of aquatic animal feed\n",
              "0    U.S.A.  ...                        28.8402\n",
              "1     Japan  ...                         0.6375\n",
              "2     China  ...                        17.9430\n",
              "3  Malaysia  ...                         0.9100\n",
              "4     Italy  ...                         0.0000\n",
              "\n",
              "[5 rows x 9 columns]"
            ]
          },
          "metadata": {
            "tags": []
          },
          "execution_count": 23
        }
      ]
    },
    {
      "cell_type": "markdown",
      "metadata": {
        "id": "G0tgLOcW2eYE"
      },
      "source": [
        "ชื่อหัวคอลั่ม Export การส่งออก\n",
        "\n",
        "Country = ประเทศที่ส่งออก\n",
        "\n",
        "Export of fish meal = ส่งออกปลาป่น \n",
        "\n",
        "Export of dog and cat food = ส่งออกอาหารสุนัขและแมว\n",
        "\n",
        "Export other animal feed = ส่งออกอาหารใช้เลี้ยงสัตว์อื่น ๆ \n",
        "\n",
        "Export of pet supplement = ส่งออกอาหารเสริมสัตว์เลี้ยง\n",
        "\n",
        "Export premix = ส่งออกพรีมิกซ์\n",
        "\n",
        "Export of canned food for dogs and cats = ส่งออกอาหารกระป๋องสุนัขและแมว\n",
        "\n",
        "Export Dog Chews = ส่งออก Dog Chews \n",
        "\n",
        "Export of aquatic animal feed = ส่งออกอาหารสัตว์น้ำ\n",
        "\n",
        "\n",
        "\n"
      ]
    },
    {
      "cell_type": "code",
      "metadata": {
        "id": "p3rp4eWC1m_s",
        "colab": {
          "base_uri": "https://localhost:8080/"
        },
        "outputId": "b8d892b8-f7de-4d52-895c-181303ce66da"
      },
      "source": [
        "Import_df.shape # .shape เป็นคำสั่งที่ใช้เช็คว่าข้อมูลที่เอามามีความผิดพลาดรึเปล่า จำนวนแถว,จำนวนหลัก"
      ],
      "execution_count": 24,
      "outputs": [
        {
          "output_type": "execute_result",
          "data": {
            "text/plain": [
              "(36, 6)"
            ]
          },
          "metadata": {
            "tags": []
          },
          "execution_count": 24
        }
      ]
    },
    {
      "cell_type": "code",
      "metadata": {
        "id": "WOJKiUe61p1U",
        "colab": {
          "base_uri": "https://localhost:8080/"
        },
        "outputId": "6af2510b-c551-46b6-980b-983873e5aeb8"
      },
      "source": [
        "Export_df.shape # .shape เป็นคำสั่งที่ใช้เช็คว่าข้อมูลที่เอามามีความผิดพลาดรึเปล่า จำนวนแถว,จำนวนหลัก"
      ],
      "execution_count": 25,
      "outputs": [
        {
          "output_type": "execute_result",
          "data": {
            "text/plain": [
              "(36, 9)"
            ]
          },
          "metadata": {
            "tags": []
          },
          "execution_count": 25
        }
      ]
    },
    {
      "cell_type": "markdown",
      "metadata": {
        "id": "nWJGR2ZY1rV0"
      },
      "source": [
        "#Missing Values ค่าผิดปกติ เช็คดูว่าตารางเรามี missing"
      ]
    },
    {
      "cell_type": "code",
      "metadata": {
        "id": "2w3qYe1pSpDL",
        "colab": {
          "base_uri": "https://localhost:8080/"
        },
        "outputId": "b92356da-917d-4249-df92-5d579babde5c"
      },
      "source": [
        "Import_df.isnull().any()"
      ],
      "execution_count": 26,
      "outputs": [
        {
          "output_type": "execute_result",
          "data": {
            "text/plain": [
              " Country                        False\n",
              "Import of main raw materials    False\n",
              "Import the mixed                False\n",
              "Imported dairy products         False\n",
              "Import of pet supplement        False\n",
              "Import other animal feed        False\n",
              "dtype: bool"
            ]
          },
          "metadata": {
            "tags": []
          },
          "execution_count": 26
        }
      ]
    },
    {
      "cell_type": "code",
      "metadata": {
        "id": "NWLj9DMm1xSu",
        "colab": {
          "base_uri": "https://localhost:8080/"
        },
        "outputId": "41b9ade2-a0f5-46fc-ba0b-3060871730f9"
      },
      "source": [
        "Export_df.isnull().any()"
      ],
      "execution_count": 35,
      "outputs": [
        {
          "output_type": "execute_result",
          "data": {
            "text/plain": [
              "Country                                    False\n",
              "Export of fish meal                        False\n",
              "Export of dog and cat food                 False\n",
              "Export other animal feed                   False\n",
              "Export of pet supplement                   False\n",
              "Export premix                              False\n",
              "Export of canned food for dogs and cats    False\n",
              "Export Dog Chews                           False\n",
              "Export of aquatic animal feed              False\n",
              "dtype: bool"
            ]
          },
          "metadata": {
            "tags": []
          },
          "execution_count": 35
        }
      ]
    },
    {
      "cell_type": "markdown",
      "metadata": {
        "id": "55W2AWvQC103"
      },
      "source": [
        "## กำหนดค่าในตาราง \n",
        "\n",
        "โดยค่าที่กำหนดคือ สินค้าที่นำเข้าและส่งออกในประเทศต่างๆ \n",
        "\n",
        "1. ถ้ามีค่าตั้งแต่ 100 ตันขึ้นไปจะให้เป็น ' 1 ' คือมีการนำเข้าและส่งออก อาหารสัตว์\n",
        "\n",
        "2. ถ้ามีค่าตั้งแต่ 0 ถึง 99 ตันจะให้เป็น ' 0 '  คือไม่มีการนำเข้าและส่งออกอาหารสัตว์"
      ]
    },
    {
      "cell_type": "markdown",
      "metadata": {
        "id": "XuSoxOlBDwHn"
      },
      "source": [
        "แก้ไขตาราง Import โดยใช้คำสั่ง if else"
      ]
    }
  ]
}