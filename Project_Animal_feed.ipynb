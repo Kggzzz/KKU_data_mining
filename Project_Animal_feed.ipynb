{
  "nbformat": 4,
  "nbformat_minor": 0,
  "metadata": {
    "colab": {
      "name": "Project_Animal_feed.ipynb",
      "provenance": [],
      "authorship_tag": "ABX9TyPeX2qFmxuqXkGsF5Ajs4pa",
      "include_colab_link": true
    },
    "kernelspec": {
      "name": "python3",
      "display_name": "Python 3"
    }
  },
  "cells": [
    {
      "cell_type": "markdown",
      "metadata": {
        "id": "view-in-github",
        "colab_type": "text"
      },
      "source": [
        "<a href=\"https://colab.research.google.com/github/Kggzzz/KKU_data_mining/blob/master/Project_Animal_feed.ipynb\" target=\"_parent\"><img src=\"https://colab.research.google.com/assets/colab-badge.svg\" alt=\"Open In Colab\"/></a>"
      ]
    },
    {
      "cell_type": "markdown",
      "metadata": {
        "id": "CaWFvj8lGI-x"
      },
      "source": [
        "ดูความสัมพันธ์ปริมาณการส่งออกอาหารสัตว์เป็นจำนวนมาก ก็จะทำปริมาณนำเข้าอาหารสัตว์ที่เป็นวัตถุดิบในการทำอาหารสัตว์มากขึ้นเช่นกันเยอะ ความสัมพันธ์ที่ได้จากกระบวนการนี้สามารถนำไปใช้คาดเดาได้ว่าควรนำเข้าอาหารสัตว์และส่งออกอาหารสัตว์เพิ่มขึ้นให้กับแต่ละประเทศ"
      ]
    },
    {
      "cell_type": "code",
      "metadata": {
        "id": "iSKua2CE1ZI7",
        "colab": {
          "base_uri": "https://localhost:8080/"
        },
        "outputId": "570f5a4e-b78b-4b20-9a2c-25ac86a33e0d"
      },
      "source": [
        "from google.colab import drive \n",
        "drive.mount('/content/drive')"
      ],
      "execution_count": 1,
      "outputs": [
        {
          "output_type": "stream",
          "text": [
            "Mounted at /content/drive\n"
          ],
          "name": "stdout"
        }
      ]
    },
    {
      "cell_type": "code",
      "metadata": {
        "id": "mNVN-GS91e69"
      },
      "source": [
        "path = '/content/drive/My Drive/Project_Mining'"
      ],
      "execution_count": 2,
      "outputs": []
    },
    {
      "cell_type": "code",
      "metadata": {
        "id": "jkwQI7gf1hxd"
      },
      "source": [
        "import os\n",
        "import pandas"
      ],
      "execution_count": 3,
      "outputs": []
    },
    {
      "cell_type": "code",
      "metadata": {
        "id": "uSftVmDn1jPN"
      },
      "source": [
        "Import= os.path.join(path,'Im_animalfeed_tun2.csv')  #สร้างที่อยู่โดยใช้ os.path.join\n",
        "Export= os.path.join(path,'Ex_animalfeed_tun2.csv')"
      ],
      "execution_count": 14,
      "outputs": []
    },
    {
      "cell_type": "code",
      "metadata": {
        "id": "ha4nuO301jo0",
        "colab": {
          "base_uri": "https://localhost:8080/",
          "height": 195
        },
        "outputId": "f0b62935-1aeb-437c-c889-6d8bcff10229"
      },
      "source": [
        "Import_df = pandas.read_csv(Import)\n",
        "Import_df.head()"
      ],
      "execution_count": 15,
      "outputs": [
        {
          "output_type": "execute_result",
          "data": {
            "text/html": [
              "<div>\n",
              "<style scoped>\n",
              "    .dataframe tbody tr th:only-of-type {\n",
              "        vertical-align: middle;\n",
              "    }\n",
              "\n",
              "    .dataframe tbody tr th {\n",
              "        vertical-align: top;\n",
              "    }\n",
              "\n",
              "    .dataframe thead th {\n",
              "        text-align: right;\n",
              "    }\n",
              "</style>\n",
              "<table border=\"1\" class=\"dataframe\">\n",
              "  <thead>\n",
              "    <tr style=\"text-align: right;\">\n",
              "      <th></th>\n",
              "      <th>????????????</th>\n",
              "      <th>??????????????????</th>\n",
              "      <th>?????????????????????</th>\n",
              "      <th>?????????????????</th>\n",
              "      <th>???????????????????????????</th>\n",
              "      <th>???????????????????</th>\n",
              "    </tr>\n",
              "  </thead>\n",
              "  <tbody>\n",
              "    <tr>\n",
              "      <th>0</th>\n",
              "      <td>????????????</td>\n",
              "      <td>1,408,766.62</td>\n",
              "      <td>38,786.76</td>\n",
              "      <td>9,163.66</td>\n",
              "      <td>70,582.83</td>\n",
              "      <td>11,292.58</td>\n",
              "    </tr>\n",
              "    <tr>\n",
              "      <th>1</th>\n",
              "      <td>??????</td>\n",
              "      <td>1,644,961.05</td>\n",
              "      <td>6.15</td>\n",
              "      <td>-</td>\n",
              "      <td>867.79</td>\n",
              "      <td>12,945.06</td>\n",
              "    </tr>\n",
              "    <tr>\n",
              "      <th>2</th>\n",
              "      <td>???</td>\n",
              "      <td>20,481.57</td>\n",
              "      <td>24,014.82</td>\n",
              "      <td>14</td>\n",
              "      <td>112,208.00</td>\n",
              "      <td>10,521.66</td>\n",
              "    </tr>\n",
              "    <tr>\n",
              "      <th>3</th>\n",
              "      <td>????????</td>\n",
              "      <td>577,167.62</td>\n",
              "      <td>7,721.94</td>\n",
              "      <td>2,490.73</td>\n",
              "      <td>14,827.25</td>\n",
              "      <td>1,690.43</td>\n",
              "    </tr>\n",
              "    <tr>\n",
              "      <th>4</th>\n",
              "      <td>?????????</td>\n",
              "      <td>10,414.65</td>\n",
              "      <td>7,948.98</td>\n",
              "      <td>2.16</td>\n",
              "      <td>18,229.66</td>\n",
              "      <td>3,093.18</td>\n",
              "    </tr>\n",
              "  </tbody>\n",
              "</table>\n",
              "</div>"
            ],
            "text/plain": [
              "    ????????????   ... ???????????????????\n",
              "0   ????????????   ...           11,292.58\n",
              "1         ??????   ...           12,945.06\n",
              "2            ???   ...           10,521.66\n",
              "3       ????????   ...            1,690.43\n",
              "4      ?????????   ...            3,093.18\n",
              "\n",
              "[5 rows x 6 columns]"
            ]
          },
          "metadata": {
            "tags": []
          },
          "execution_count": 15
        }
      ]
    },
    {
      "cell_type": "code",
      "metadata": {
        "id": "6e7yOXX-1lPd",
        "colab": {
          "base_uri": "https://localhost:8080/",
          "height": 249
        },
        "outputId": "bcb6bfbc-4851-4de6-e0d3-e85cfa915dc7"
      },
      "source": [
        "Export_df = pandas.read_csv(Export) \n",
        "Export_df.head() "
      ],
      "execution_count": 16,
      "outputs": [
        {
          "output_type": "execute_result",
          "data": {
            "text/html": [
              "<div>\n",
              "<style scoped>\n",
              "    .dataframe tbody tr th:only-of-type {\n",
              "        vertical-align: middle;\n",
              "    }\n",
              "\n",
              "    .dataframe tbody tr th {\n",
              "        vertical-align: top;\n",
              "    }\n",
              "\n",
              "    .dataframe thead th {\n",
              "        text-align: right;\n",
              "    }\n",
              "</style>\n",
              "<table border=\"1\" class=\"dataframe\">\n",
              "  <thead>\n",
              "    <tr style=\"text-align: right;\">\n",
              "      <th></th>\n",
              "      <th>???????????????</th>\n",
              "      <th>????????????</th>\n",
              "      <th>??????????????????????</th>\n",
              "      <th>????????????????????????????? ?</th>\n",
              "      <th>???????????????????????????</th>\n",
              "      <th>??????????????</th>\n",
              "      <th>?????????????????????????????</th>\n",
              "      <th>?????? Dog Chews</th>\n",
              "      <th>???????????????????</th>\n",
              "    </tr>\n",
              "  </thead>\n",
              "  <tbody>\n",
              "    <tr>\n",
              "      <th>0</th>\n",
              "      <td>????????????</td>\n",
              "      <td>0.0</td>\n",
              "      <td>270.94979</td>\n",
              "      <td>0.000</td>\n",
              "      <td>0.00</td>\n",
              "      <td>0.0</td>\n",
              "      <td>4306.31102</td>\n",
              "      <td>124.50461</td>\n",
              "      <td>28.8402</td>\n",
              "    </tr>\n",
              "    <tr>\n",
              "      <th>1</th>\n",
              "      <td>???????</td>\n",
              "      <td>2245.0</td>\n",
              "      <td>6691.16379</td>\n",
              "      <td>42.054</td>\n",
              "      <td>85.60</td>\n",
              "      <td>0.0</td>\n",
              "      <td>200.79109</td>\n",
              "      <td>118.31314</td>\n",
              "      <td>0.6375</td>\n",
              "    </tr>\n",
              "    <tr>\n",
              "      <th>2</th>\n",
              "      <td>???</td>\n",
              "      <td>7010.0</td>\n",
              "      <td>85.07040</td>\n",
              "      <td>0.000</td>\n",
              "      <td>108.64</td>\n",
              "      <td>0.0</td>\n",
              "      <td>373.82704</td>\n",
              "      <td>0.00000</td>\n",
              "      <td>17.9430</td>\n",
              "    </tr>\n",
              "    <tr>\n",
              "      <th>3</th>\n",
              "      <td>????????</td>\n",
              "      <td>0.0</td>\n",
              "      <td>5918.66241</td>\n",
              "      <td>60.669</td>\n",
              "      <td>107.20</td>\n",
              "      <td>0.0</td>\n",
              "      <td>677.98104</td>\n",
              "      <td>61.05034</td>\n",
              "      <td>0.9100</td>\n",
              "    </tr>\n",
              "    <tr>\n",
              "      <th>4</th>\n",
              "      <td>??????</td>\n",
              "      <td>0.0</td>\n",
              "      <td>0.00000</td>\n",
              "      <td>0.000</td>\n",
              "      <td>0.00</td>\n",
              "      <td>0.0</td>\n",
              "      <td>1725.51813</td>\n",
              "      <td>17.83016</td>\n",
              "      <td>0.0000</td>\n",
              "    </tr>\n",
              "  </tbody>\n",
              "</table>\n",
              "</div>"
            ],
            "text/plain": [
              "  ???????????????  ????????????   ...  ?????? Dog Chews   ???????????????????\n",
              "0    ????????????            0.0  ...          124.50461              28.8402\n",
              "1         ???????         2245.0  ...          118.31314               0.6375\n",
              "2             ???         7010.0  ...            0.00000              17.9430\n",
              "3        ????????            0.0  ...           61.05034               0.9100\n",
              "4          ??????            0.0  ...           17.83016               0.0000\n",
              "\n",
              "[5 rows x 9 columns]"
            ]
          },
          "metadata": {
            "tags": []
          },
          "execution_count": 16
        }
      ]
    },
    {
      "cell_type": "code",
      "metadata": {
        "id": "p3rp4eWC1m_s",
        "colab": {
          "base_uri": "https://localhost:8080/"
        },
        "outputId": "5494842f-8ac3-438c-bf40-a768439b943e"
      },
      "source": [
        "Import_df.shape # .shape เป็นคำสั่งที่ใช้เช็คว่าข้อมูลที่เอามามีความผิดพลาดรึเปล่า จำนวนแถว,จำนวนหลัก"
      ],
      "execution_count": 17,
      "outputs": [
        {
          "output_type": "execute_result",
          "data": {
            "text/plain": [
              "(36, 6)"
            ]
          },
          "metadata": {
            "tags": []
          },
          "execution_count": 17
        }
      ]
    },
    {
      "cell_type": "code",
      "metadata": {
        "id": "WOJKiUe61p1U",
        "colab": {
          "base_uri": "https://localhost:8080/"
        },
        "outputId": "4a8aa98d-0c38-4f61-8766-c800dd7e1398"
      },
      "source": [
        "Export_df.shape # .shape เป็นคำสั่งที่ใช้เช็คว่าข้อมูลที่เอามามีความผิดพลาดรึเปล่า จำนวนแถว,จำนวนหลัก"
      ],
      "execution_count": 18,
      "outputs": [
        {
          "output_type": "execute_result",
          "data": {
            "text/plain": [
              "(36, 9)"
            ]
          },
          "metadata": {
            "tags": []
          },
          "execution_count": 18
        }
      ]
    },
    {
      "cell_type": "markdown",
      "metadata": {
        "id": "nWJGR2ZY1rV0"
      },
      "source": [
        "#Missing Values ค่าผิดปกติ เช็คดูว่าตารางเรามี missing"
      ]
    },
    {
      "cell_type": "code",
      "metadata": {
        "id": "2w3qYe1pSpDL",
        "colab": {
          "base_uri": "https://localhost:8080/"
        },
        "outputId": "ce8cd8ff-ed75-49d0-fc33-0d3e418a456c"
      },
      "source": [
        "Import_df.isnull().any()"
      ],
      "execution_count": 19,
      "outputs": [
        {
          "output_type": "execute_result",
          "data": {
            "text/plain": [
              " ????????????                  False\n",
              "??????????????????             False\n",
              "?????????????????????          False\n",
              "?????????????????              False\n",
              "???????????????????????????    False\n",
              "???????????????????            False\n",
              "dtype: bool"
            ]
          },
          "metadata": {
            "tags": []
          },
          "execution_count": 19
        }
      ]
    },
    {
      "cell_type": "code",
      "metadata": {
        "id": "NWLj9DMm1xSu",
        "colab": {
          "base_uri": "https://localhost:8080/"
        },
        "outputId": "356510cc-10a4-4149-ec04-47c446793cf5"
      },
      "source": [
        "Export_df.isnull().any()"
      ],
      "execution_count": 20,
      "outputs": [
        {
          "output_type": "execute_result",
          "data": {
            "text/plain": [
              "???????????????                     False\n",
              "????????????                        False\n",
              "??????????????????????              False\n",
              "????????????????????????????? ?     False\n",
              "???????????????????????????         False\n",
              "??????????????                      False\n",
              "?????????????????????????????       False\n",
              "?????? Dog Chews                    False\n",
              "???????????????????                 False\n",
              "dtype: bool"
            ]
          },
          "metadata": {
            "tags": []
          },
          "execution_count": 20
        }
      ]
    }
  ]
}