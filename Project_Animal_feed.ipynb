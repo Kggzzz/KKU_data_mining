{
  "nbformat": 4,
  "nbformat_minor": 0,
  "metadata": {
    "colab": {
      "name": "Project_Animal_feed.ipynb",
      "provenance": [],
      "authorship_tag": "ABX9TyOeQN5lSO9uz202pSKVsj9U",
      "include_colab_link": true
    },
    "kernelspec": {
      "name": "python3",
      "display_name": "Python 3"
    }
  },
  "cells": [
    {
      "cell_type": "markdown",
      "metadata": {
        "id": "view-in-github",
        "colab_type": "text"
      },
      "source": [
        "<a href=\"https://colab.research.google.com/github/Kggzzz/KKU_data_mining/blob/master/Project_Animal_feed.ipynb\" target=\"_parent\"><img src=\"https://colab.research.google.com/assets/colab-badge.svg\" alt=\"Open In Colab\"/></a>"
      ]
    },
    {
      "cell_type": "markdown",
      "metadata": {
        "id": "CaWFvj8lGI-x"
      },
      "source": [
        "ดูความสัมพันธ์ปริมาณการส่งออกอาหารสัตว์เป็นจำนวนมาก ก็จะทำปริมาณนำเข้าอาหารสัตว์ที่เป็นวัตถุดิบในการทำอาหารสัตว์มากขึ้นเช่นกันเยอะ ความสัมพันธ์ที่ได้จากกระบวนการนี้สามารถนำไปใช้คาดเดาได้ว่าควรนำเข้าอาหารสัตว์และส่งออกอาหารสัตว์เพิ่มขึ้นให้กับแต่ละประเทศ ในปีค.ศ. 2015 "
      ]
    },
    {
      "cell_type": "code",
      "metadata": {
        "id": "iSKua2CE1ZI7",
        "colab": {
          "base_uri": "https://localhost:8080/"
        },
        "outputId": "d9f29e5d-7d29-419e-d9d8-45e3ca1c37bc"
      },
      "source": [
        "from google.colab import drive \n",
        "drive.mount('/content/drive')"
      ],
      "execution_count": 1,
      "outputs": [
        {
          "output_type": "stream",
          "text": [
            "Mounted at /content/drive\n"
          ],
          "name": "stdout"
        }
      ]
    },
    {
      "cell_type": "code",
      "metadata": {
        "id": "mNVN-GS91e69"
      },
      "source": [
        "path = '/content/drive/My Drive/Project_Mining'"
      ],
      "execution_count": 2,
      "outputs": []
    },
    {
      "cell_type": "code",
      "metadata": {
        "id": "jkwQI7gf1hxd"
      },
      "source": [
        "import os\n",
        "import pandas"
      ],
      "execution_count": 3,
      "outputs": []
    },
    {
      "cell_type": "code",
      "metadata": {
        "id": "uSftVmDn1jPN"
      },
      "source": [
        "Import= os.path.join(path,'Im_animal_feed_tun2.csv')  #สร้างที่อยู่โดยใช้ os.path.join\n",
        "Export= os.path.join(path,'Ex_animal_feed_tun2.csv')"
      ],
      "execution_count": 14,
      "outputs": []
    },
    {
      "cell_type": "code",
      "metadata": {
        "id": "ha4nuO301jo0",
        "colab": {
          "base_uri": "https://localhost:8080/",
          "height": 195
        },
        "outputId": "2e59a676-40fb-4dc2-95cd-4e1c54763a6a"
      },
      "source": [
        "Import_df = pandas.read_csv(Import)\n",
        "Import_df.head()"
      ],
      "execution_count": 15,
      "outputs": [
        {
          "output_type": "execute_result",
          "data": {
            "text/html": [
              "<div>\n",
              "<style scoped>\n",
              "    .dataframe tbody tr th:only-of-type {\n",
              "        vertical-align: middle;\n",
              "    }\n",
              "\n",
              "    .dataframe tbody tr th {\n",
              "        vertical-align: top;\n",
              "    }\n",
              "\n",
              "    .dataframe thead th {\n",
              "        text-align: right;\n",
              "    }\n",
              "</style>\n",
              "<table border=\"1\" class=\"dataframe\">\n",
              "  <thead>\n",
              "    <tr style=\"text-align: right;\">\n",
              "      <th></th>\n",
              "      <th>Country</th>\n",
              "      <th>Import of main raw materials</th>\n",
              "      <th>Import the mixed</th>\n",
              "      <th>Imported dairy products</th>\n",
              "      <th>Import of pet supplement</th>\n",
              "      <th>Import other animal feed</th>\n",
              "    </tr>\n",
              "  </thead>\n",
              "  <tbody>\n",
              "    <tr>\n",
              "      <th>0</th>\n",
              "      <td>Australia</td>\n",
              "      <td>100,802.20</td>\n",
              "      <td>3,308.43</td>\n",
              "      <td>204.58</td>\n",
              "      <td>67.41</td>\n",
              "      <td>1,414.14</td>\n",
              "    </tr>\n",
              "    <tr>\n",
              "      <th>1</th>\n",
              "      <td>Bangladesh</td>\n",
              "      <td>-</td>\n",
              "      <td>-</td>\n",
              "      <td>-</td>\n",
              "      <td>-</td>\n",
              "      <td>21.5</td>\n",
              "    </tr>\n",
              "    <tr>\n",
              "      <th>2</th>\n",
              "      <td>Belgium</td>\n",
              "      <td>10,414.65</td>\n",
              "      <td>7,948.98</td>\n",
              "      <td>2.16</td>\n",
              "      <td>18,229.66</td>\n",
              "      <td>3,093.18</td>\n",
              "    </tr>\n",
              "    <tr>\n",
              "      <th>3</th>\n",
              "      <td>Brazil</td>\n",
              "      <td>1,644,961.05</td>\n",
              "      <td>6.15</td>\n",
              "      <td>-</td>\n",
              "      <td>867.79</td>\n",
              "      <td>12,945.06</td>\n",
              "    </tr>\n",
              "    <tr>\n",
              "      <th>4</th>\n",
              "      <td>Cambodia</td>\n",
              "      <td>-</td>\n",
              "      <td>391.06</td>\n",
              "      <td>-</td>\n",
              "      <td>-</td>\n",
              "      <td>60.01</td>\n",
              "    </tr>\n",
              "  </tbody>\n",
              "</table>\n",
              "</div>"
            ],
            "text/plain": [
              "     Country   ... Import other animal feed\n",
              "0   Australia  ...                 1,414.14\n",
              "1  Bangladesh  ...                     21.5\n",
              "2     Belgium  ...                 3,093.18\n",
              "3      Brazil  ...                12,945.06\n",
              "4    Cambodia  ...                    60.01\n",
              "\n",
              "[5 rows x 6 columns]"
            ]
          },
          "metadata": {
            "tags": []
          },
          "execution_count": 15
        }
      ]
    },
    {
      "cell_type": "markdown",
      "metadata": {
        "id": "GIaBszBQ3Hjk"
      },
      "source": [
        "ชื่อหัวคอลั่ม Import การนำเข้า\n",
        "\n",
        "Country = ประเทศที่นำเข้า\n",
        "\n",
        "Import of main raw materials = นำเข้าวัตถุดิบหลัก\n",
        "\n",
        "Import the mixed = นำเข้าวัตถุที่ผสมแล้ว\n",
        "\n",
        "Imported dairy products = นำเข้าผลิตภัณฑ์นม\n",
        "\n",
        "Import of pet supplement = นำเข้าอาหารเสริมสำหรับสัตว์\n",
        "\n",
        "Import other animal feed = นำเข้าวัตถุดิบอื่นๆ"
      ]
    },
    {
      "cell_type": "code",
      "metadata": {
        "id": "6e7yOXX-1lPd",
        "colab": {
          "base_uri": "https://localhost:8080/",
          "height": 212
        },
        "outputId": "2c68a44c-a858-49fc-e0f4-7da3a9f8632b"
      },
      "source": [
        "Export_df = pandas.read_csv(Export) \n",
        "Export_df.head() "
      ],
      "execution_count": 16,
      "outputs": [
        {
          "output_type": "execute_result",
          "data": {
            "text/html": [
              "<div>\n",
              "<style scoped>\n",
              "    .dataframe tbody tr th:only-of-type {\n",
              "        vertical-align: middle;\n",
              "    }\n",
              "\n",
              "    .dataframe tbody tr th {\n",
              "        vertical-align: top;\n",
              "    }\n",
              "\n",
              "    .dataframe thead th {\n",
              "        text-align: right;\n",
              "    }\n",
              "</style>\n",
              "<table border=\"1\" class=\"dataframe\">\n",
              "  <thead>\n",
              "    <tr style=\"text-align: right;\">\n",
              "      <th></th>\n",
              "      <th>Country</th>\n",
              "      <th>Export of fish meal</th>\n",
              "      <th>Export of dog and cat food</th>\n",
              "      <th>Export other animal feed</th>\n",
              "      <th>Export of pet supplement</th>\n",
              "      <th>Export premix</th>\n",
              "      <th>Export of canned food for dogs and cats</th>\n",
              "      <th>Export Dog Chews</th>\n",
              "      <th>Export of aquatic animal feed</th>\n",
              "    </tr>\n",
              "  </thead>\n",
              "  <tbody>\n",
              "    <tr>\n",
              "      <th>0</th>\n",
              "      <td>Australia</td>\n",
              "      <td>2.856</td>\n",
              "      <td>70.2000</td>\n",
              "      <td>0.0000</td>\n",
              "      <td>33.800</td>\n",
              "      <td>0.00</td>\n",
              "      <td>1857.70989</td>\n",
              "      <td>109.4989</td>\n",
              "      <td>0.00000</td>\n",
              "    </tr>\n",
              "    <tr>\n",
              "      <th>1</th>\n",
              "      <td>Bangladesh</td>\n",
              "      <td>1260.000</td>\n",
              "      <td>7.3523</td>\n",
              "      <td>0.9432</td>\n",
              "      <td>291.004</td>\n",
              "      <td>167.11</td>\n",
              "      <td>0.00000</td>\n",
              "      <td>0.0000</td>\n",
              "      <td>13.10476</td>\n",
              "    </tr>\n",
              "    <tr>\n",
              "      <th>2</th>\n",
              "      <td>Belgium</td>\n",
              "      <td>20.000</td>\n",
              "      <td>0.0000</td>\n",
              "      <td>0.0000</td>\n",
              "      <td>0.000</td>\n",
              "      <td>0.00</td>\n",
              "      <td>20.47200</td>\n",
              "      <td>27.4200</td>\n",
              "      <td>17.43253</td>\n",
              "    </tr>\n",
              "    <tr>\n",
              "      <th>3</th>\n",
              "      <td>Brazil</td>\n",
              "      <td>0.000</td>\n",
              "      <td>0.0000</td>\n",
              "      <td>0.0000</td>\n",
              "      <td>0.000</td>\n",
              "      <td>0.00</td>\n",
              "      <td>0.00000</td>\n",
              "      <td>0.0000</td>\n",
              "      <td>14.44400</td>\n",
              "    </tr>\n",
              "    <tr>\n",
              "      <th>4</th>\n",
              "      <td>Cambodia</td>\n",
              "      <td>0.000</td>\n",
              "      <td>0.0000</td>\n",
              "      <td>0.0000</td>\n",
              "      <td>0.000</td>\n",
              "      <td>0.00</td>\n",
              "      <td>0.12300</td>\n",
              "      <td>0.0000</td>\n",
              "      <td>0.00000</td>\n",
              "    </tr>\n",
              "  </tbody>\n",
              "</table>\n",
              "</div>"
            ],
            "text/plain": [
              "      Country  ...  Export of aquatic animal feed\n",
              "0   Australia  ...                        0.00000\n",
              "1  Bangladesh  ...                       13.10476\n",
              "2     Belgium  ...                       17.43253\n",
              "3      Brazil  ...                       14.44400\n",
              "4    Cambodia  ...                        0.00000\n",
              "\n",
              "[5 rows x 9 columns]"
            ]
          },
          "metadata": {
            "tags": []
          },
          "execution_count": 16
        }
      ]
    },
    {
      "cell_type": "markdown",
      "metadata": {
        "id": "G0tgLOcW2eYE"
      },
      "source": [
        "ชื่อหัวคอลั่ม Export การส่งออก\n",
        "\n",
        "Country = ประเทศที่ส่งออก\n",
        "\n",
        "Export of fish meal = ส่งออกปลาป่น \n",
        "\n",
        "Export of dog and cat food = ส่งออกอาหารสุนัขและแมว\n",
        "\n",
        "Export other animal feed = ส่งออกอาหารใช้เลี้ยงสัตว์อื่น ๆ \n",
        "\n",
        "Export of pet supplement = ส่งออกอาหารเสริมสัตว์เลี้ยง\n",
        "\n",
        "Export premix = ส่งออกพรีมิกซ์\n",
        "\n",
        "Export of canned food for dogs and cats = ส่งออกอาหารกระป๋องสุนัขและแมว\n",
        "\n",
        "Export Dog Chews = ส่งออก Dog Chews \n",
        "\n",
        "Export of aquatic animal feed = ส่งออกอาหารสัตว์น้ำ\n",
        "\n",
        "\n",
        "\n"
      ]
    },
    {
      "cell_type": "code",
      "metadata": {
        "id": "p3rp4eWC1m_s",
        "colab": {
          "base_uri": "https://localhost:8080/"
        },
        "outputId": "d7189069-2864-4d1f-ddf8-b1b79b36b090"
      },
      "source": [
        "Import_df.shape # .shape เป็นคำสั่งที่ใช้เช็คว่าข้อมูลที่เอามามีความผิดพลาดรึเปล่า จำนวนแถว,จำนวนหลัก"
      ],
      "execution_count": 17,
      "outputs": [
        {
          "output_type": "execute_result",
          "data": {
            "text/plain": [
              "(36, 6)"
            ]
          },
          "metadata": {
            "tags": []
          },
          "execution_count": 17
        }
      ]
    },
    {
      "cell_type": "code",
      "metadata": {
        "id": "WOJKiUe61p1U",
        "colab": {
          "base_uri": "https://localhost:8080/"
        },
        "outputId": "415c3587-faa9-4acb-8754-24122072600d"
      },
      "source": [
        "Export_df.shape # .shape เป็นคำสั่งที่ใช้เช็คว่าข้อมูลที่เอามามีความผิดพลาดรึเปล่า จำนวนแถว,จำนวนหลัก"
      ],
      "execution_count": 18,
      "outputs": [
        {
          "output_type": "execute_result",
          "data": {
            "text/plain": [
              "(36, 9)"
            ]
          },
          "metadata": {
            "tags": []
          },
          "execution_count": 18
        }
      ]
    },
    {
      "cell_type": "markdown",
      "metadata": {
        "id": "nWJGR2ZY1rV0"
      },
      "source": [
        "#Missing Values ค่าผิดปกติ เช็คดูว่าตารางเรามี missing"
      ]
    },
    {
      "cell_type": "code",
      "metadata": {
        "id": "2w3qYe1pSpDL",
        "colab": {
          "base_uri": "https://localhost:8080/"
        },
        "outputId": "f122ea7a-c800-499b-c83b-bdf5f4087815"
      },
      "source": [
        "Import_df.isnull().any()"
      ],
      "execution_count": 19,
      "outputs": [
        {
          "output_type": "execute_result",
          "data": {
            "text/plain": [
              " Country                        False\n",
              "Import of main raw materials    False\n",
              "Import the mixed                False\n",
              "Imported dairy products         False\n",
              "Import of pet supplement        False\n",
              "Import other animal feed        False\n",
              "dtype: bool"
            ]
          },
          "metadata": {
            "tags": []
          },
          "execution_count": 19
        }
      ]
    },
    {
      "cell_type": "code",
      "metadata": {
        "id": "NWLj9DMm1xSu",
        "colab": {
          "base_uri": "https://localhost:8080/"
        },
        "outputId": "81b04d5e-476c-4996-f37b-3cc28baec6a2"
      },
      "source": [
        "Export_df.isnull().any()"
      ],
      "execution_count": 20,
      "outputs": [
        {
          "output_type": "execute_result",
          "data": {
            "text/plain": [
              "Country                                    False\n",
              "Export of fish meal                        False\n",
              "Export of dog and cat food                 False\n",
              "Export other animal feed                   False\n",
              "Export of pet supplement                   False\n",
              "Export premix                              False\n",
              "Export of canned food for dogs and cats    False\n",
              "Export Dog Chews                           False\n",
              "Export of aquatic animal feed              False\n",
              "dtype: bool"
            ]
          },
          "metadata": {
            "tags": []
          },
          "execution_count": 20
        }
      ]
    },
    {
      "cell_type": "markdown",
      "metadata": {
        "id": "55W2AWvQC103"
      },
      "source": [
        "## กำหนดค่าในตาราง \n",
        "\n",
        "โดยค่าที่กำหนดคือ สินค้าที่นำเข้าและส่งออกในประเทศต่างๆ \n",
        "\n",
        "1. ถ้ามีค่าตั้งแต่ 100 ตันขึ้นไปจะให้เป็น ' 1 ' คือมีการนำเข้าและส่งออก อาหารสัตว์\n",
        "\n",
        "2. ถ้ามีค่าตั้งแต่ 0 ถึง 99 ตันจะให้เป็น ' 0 '  คือไม่มีการนำเข้าและส่งออกอาหารสัตว์"
      ]
    },
    {
      "cell_type": "markdown",
      "metadata": {
        "id": "XuSoxOlBDwHn"
      },
      "source": [
        "แก้ไขตาราง Import โดยใช้คำสั่ง if else"
      ]
    }
  ]
}