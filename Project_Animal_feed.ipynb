{
  "nbformat": 4,
  "nbformat_minor": 0,
  "metadata": {
    "colab": {
      "name": "Project_Animal_feed.ipynb",
      "provenance": [],
      "authorship_tag": "ABX9TyMVOFCEGxs6UVUwzvYUfIXc",
      "include_colab_link": true
    },
    "kernelspec": {
      "name": "python3",
      "display_name": "Python 3"
    }
  },
  "cells": [
    {
      "cell_type": "markdown",
      "metadata": {
        "id": "view-in-github",
        "colab_type": "text"
      },
      "source": [
        "<a href=\"https://colab.research.google.com/github/Kggzzz/KKU_data_mining/blob/master/Project_Animal_feed.ipynb\" target=\"_parent\"><img src=\"https://colab.research.google.com/assets/colab-badge.svg\" alt=\"Open In Colab\"/></a>"
      ]
    },
    {
      "cell_type": "markdown",
      "metadata": {
        "id": "CaWFvj8lGI-x"
      },
      "source": [
        "ดูความสัมพันธ์ปริมาณการส่งออกอาหารสัตว์เป็นจำนวนมาก ก็จะทำปริมาณนำเข้าอาหารสัตว์ที่เป็นวัตถุดิบในการทำอาหารสัตว์มากขึ้นเช่นกันเยอะ ความสัมพันธ์ที่ได้จากกระบวนการนี้สามารถนำไปใช้คาดเดาได้ว่าควรนำเข้าอาหารสัตว์และส่งออกอาหารสัตว์เพิ่มขึ้นให้กับแต่ละประเทศ"
      ]
    },
    {
      "cell_type": "code",
      "metadata": {
        "id": "iSKua2CE1ZI7",
        "outputId": "ad241b61-491a-44be-e6f0-988282c63776",
        "colab": {
          "base_uri": "https://localhost:8080/"
        }
      },
      "source": [
        "from google.colab import drive \n",
        "drive.mount('/content/drive')"
      ],
      "execution_count": 1,
      "outputs": [
        {
          "output_type": "stream",
          "text": [
            "Mounted at /content/drive\n"
          ],
          "name": "stdout"
        }
      ]
    },
    {
      "cell_type": "code",
      "metadata": {
        "id": "mNVN-GS91e69"
      },
      "source": [
        "path = '/content/drive/My Drive/Project_Mining'"
      ],
      "execution_count": 8,
      "outputs": []
    },
    {
      "cell_type": "code",
      "metadata": {
        "id": "jkwQI7gf1hxd"
      },
      "source": [
        "import os\n",
        "import pandas"
      ],
      "execution_count": 9,
      "outputs": []
    },
    {
      "cell_type": "code",
      "metadata": {
        "id": "uSftVmDn1jPN"
      },
      "source": [
        "Import= os.path.join(path,'Import.csv')  #สร้างที่อยู่โดยใช้ os.path.join\n",
        "Export= os.path.join(path,'Export.csv')"
      ],
      "execution_count": 10,
      "outputs": []
    },
    {
      "cell_type": "code",
      "metadata": {
        "id": "ha4nuO301jo0",
        "outputId": "2e880033-3a18-43fd-c938-69cc4c1d7551",
        "colab": {
          "base_uri": "https://localhost:8080/",
          "height": 229
        }
      },
      "source": [
        "Import_df = pandas.read_csv(Import)\n",
        "Import_df.head()"
      ],
      "execution_count": 11,
      "outputs": [
        {
          "output_type": "execute_result",
          "data": {
            "text/html": [
              "<div>\n",
              "<style scoped>\n",
              "    .dataframe tbody tr th:only-of-type {\n",
              "        vertical-align: middle;\n",
              "    }\n",
              "\n",
              "    .dataframe tbody tr th {\n",
              "        vertical-align: top;\n",
              "    }\n",
              "\n",
              "    .dataframe thead th {\n",
              "        text-align: right;\n",
              "    }\n",
              "</style>\n",
              "<table border=\"1\" class=\"dataframe\">\n",
              "  <thead>\n",
              "    <tr style=\"text-align: right;\">\n",
              "      <th></th>\n",
              "      <th>ประเทศนำเข้า</th>\n",
              "      <th>ปริมาณวัตถุดิบ (ตัน)</th>\n",
              "      <th>มูลค่าวัตถุดิบ (ลบ.)</th>\n",
              "      <th>ปริมาณวัตถุที่ผสมแล้ว (ตัน)</th>\n",
              "      <th>มูลค่าวัตถุที่ผสมแล้ว (ลบ.)</th>\n",
              "      <th>ปริมาณผลิตภัณฑ์นม (ตัน)</th>\n",
              "      <th>มูลค่าผลิตภัณฑ์นม (ลบ.)</th>\n",
              "      <th>ปริมาณอาหารเสริมสำหรับสัตว์ (ตัน)</th>\n",
              "      <th>มูลค่าอาหารเสริมสำหรับสัตว์ (ลบ.)</th>\n",
              "      <th>ปริมาณนำเข้าอื่นๆ (ตัน)</th>\n",
              "      <th>มูลค่านำเข้าอื่น ๆ (ลบ.)</th>\n",
              "      <th>ปริมาณรวมทั้งสิ้น (ตัน)</th>\n",
              "      <th>มูลค่ารวมทั้งสิ้น (ลบ.)</th>\n",
              "    </tr>\n",
              "  </thead>\n",
              "  <tbody>\n",
              "    <tr>\n",
              "      <th>0</th>\n",
              "      <td>สหรัฐอเมริกา</td>\n",
              "      <td>1,408,766.62</td>\n",
              "      <td>20,215.90</td>\n",
              "      <td>38,786.76</td>\n",
              "      <td>2,228.48</td>\n",
              "      <td>9,163.66</td>\n",
              "      <td>214.3</td>\n",
              "      <td>70,582.83</td>\n",
              "      <td>2,656.10</td>\n",
              "      <td>11,292.58</td>\n",
              "      <td>527.9</td>\n",
              "      <td>1538592.46</td>\n",
              "      <td>25842.67</td>\n",
              "    </tr>\n",
              "    <tr>\n",
              "      <th>1</th>\n",
              "      <td>บราซิล</td>\n",
              "      <td>1,644,961.05</td>\n",
              "      <td>22,012.97</td>\n",
              "      <td>6.15</td>\n",
              "      <td>0.49</td>\n",
              "      <td>-</td>\n",
              "      <td>-</td>\n",
              "      <td>867.79</td>\n",
              "      <td>29.46</td>\n",
              "      <td>12,945.06</td>\n",
              "      <td>229.37</td>\n",
              "      <td>1658780.06</td>\n",
              "      <td>22272.29</td>\n",
              "    </tr>\n",
              "    <tr>\n",
              "      <th>2</th>\n",
              "      <td>ยูเครน</td>\n",
              "      <td>1,487,685.49</td>\n",
              "      <td>11,428.56</td>\n",
              "      <td>-</td>\n",
              "      <td>-</td>\n",
              "      <td>-</td>\n",
              "      <td>-</td>\n",
              "      <td>-</td>\n",
              "      <td>-</td>\n",
              "      <td>46,689.42</td>\n",
              "      <td>377.42</td>\n",
              "      <td>1534374.91</td>\n",
              "      <td>11805.98</td>\n",
              "    </tr>\n",
              "    <tr>\n",
              "      <th>3</th>\n",
              "      <td>อาร์เจนตินา</td>\n",
              "      <td>607,267.12</td>\n",
              "      <td>9,066.08</td>\n",
              "      <td>2,909.38</td>\n",
              "      <td>64.49</td>\n",
              "      <td>-</td>\n",
              "      <td>-</td>\n",
              "      <td>0.04</td>\n",
              "      <td>0.0013</td>\n",
              "      <td>856.4</td>\n",
              "      <td>48.57</td>\n",
              "      <td>611032.94</td>\n",
              "      <td>9179.14</td>\n",
              "    </tr>\n",
              "    <tr>\n",
              "      <th>4</th>\n",
              "      <td>จีน</td>\n",
              "      <td>20,481.57</td>\n",
              "      <td>730.54</td>\n",
              "      <td>24,014.82</td>\n",
              "      <td>2,715.75</td>\n",
              "      <td>14</td>\n",
              "      <td>0.69</td>\n",
              "      <td>112,208.00</td>\n",
              "      <td>3,193.93</td>\n",
              "      <td>10,521.66</td>\n",
              "      <td>640.98</td>\n",
              "      <td>167240.05</td>\n",
              "      <td>7281.89</td>\n",
              "    </tr>\n",
              "  </tbody>\n",
              "</table>\n",
              "</div>"
            ],
            "text/plain": [
              "    ประเทศนำเข้า   ... มูลค่ารวมทั้งสิ้น (ลบ.) \n",
              "0   สหรัฐอเมริกา   ...                 25842.67\n",
              "1         บราซิล   ...                 22272.29\n",
              "2         ยูเครน   ...                 11805.98\n",
              "3    อาร์เจนตินา   ...                  9179.14\n",
              "4            จีน   ...                  7281.89\n",
              "\n",
              "[5 rows x 13 columns]"
            ]
          },
          "metadata": {
            "tags": []
          },
          "execution_count": 11
        }
      ]
    },
    {
      "cell_type": "code",
      "metadata": {
        "id": "6e7yOXX-1lPd",
        "outputId": "dabd4ed3-7de5-44d9-a488-50f43d2ac929",
        "colab": {
          "base_uri": "https://localhost:8080/",
          "height": 299
        }
      },
      "source": [
        "Export_df = pandas.read_csv(Export) \n",
        "Export_df.head() "
      ],
      "execution_count": 12,
      "outputs": [
        {
          "output_type": "execute_result",
          "data": {
            "text/html": [
              "<div>\n",
              "<style scoped>\n",
              "    .dataframe tbody tr th:only-of-type {\n",
              "        vertical-align: middle;\n",
              "    }\n",
              "\n",
              "    .dataframe tbody tr th {\n",
              "        vertical-align: top;\n",
              "    }\n",
              "\n",
              "    .dataframe thead th {\n",
              "        text-align: right;\n",
              "    }\n",
              "</style>\n",
              "<table border=\"1\" class=\"dataframe\">\n",
              "  <thead>\n",
              "    <tr style=\"text-align: right;\">\n",
              "      <th></th>\n",
              "      <th>ประเทศที่ส่งออก</th>\n",
              "      <th>ปริมาณปลาป่น (กก.)</th>\n",
              "      <th>มูลค่าปลาป่น (บาท)</th>\n",
              "      <th>ปริมาณ อาหารสุนัขและแมว (กก.)</th>\n",
              "      <th>มูลค่าอาหารสุนัขและแมว (บาท)</th>\n",
              "      <th>ปริมาณอาหารใช้เลี้ยงสัตว์อื่น ๆ (กก.)</th>\n",
              "      <th>มูลค่าอาหารใช้เลี้ยงสัตว์อื่น ๆ (บาท)</th>\n",
              "      <th>ปริมาณอาหารเสริมสัตว์เลี้ยง (กก.)</th>\n",
              "      <th>มูลค่าอาหารเสริมสัตว์เลี้ยง (บาท)</th>\n",
              "      <th>ปริมาณพรีมิกซ์ (กก.)</th>\n",
              "      <th>มูลค่าพรีมิกซ์ (บาท)</th>\n",
              "      <th>ปริมาณอาหารกระป๋องสุนัขและแมว (กก.)</th>\n",
              "      <th>มูลค่าอาหารกระป๋องสุนัขและแมว (บาท)</th>\n",
              "      <th>ปริมาณDog Chews (กก.)</th>\n",
              "      <th>มูลค่าDog Chews (บาท)</th>\n",
              "      <th>ปริมาณอาหารสัตว์น้ำ (กก.)</th>\n",
              "      <th>มูลค่าอาหารสัตว์น้ำ (บาท)</th>\n",
              "      <th>ปริมาณรวมทั้งสิ้น (กก.)</th>\n",
              "      <th>มูลค่ารวมทั้งสิ้น (บาท)</th>\n",
              "    </tr>\n",
              "  </thead>\n",
              "  <tbody>\n",
              "    <tr>\n",
              "      <th>0</th>\n",
              "      <td>สหรัฐอเมริกา</td>\n",
              "      <td>NaN</td>\n",
              "      <td>NaN</td>\n",
              "      <td>270949.79</td>\n",
              "      <td>2.215595e+07</td>\n",
              "      <td>NaN</td>\n",
              "      <td>NaN</td>\n",
              "      <td>NaN</td>\n",
              "      <td>NaN</td>\n",
              "      <td>NaN</td>\n",
              "      <td>NaN</td>\n",
              "      <td>4306311.02</td>\n",
              "      <td>5.243296e+08</td>\n",
              "      <td>124504.61</td>\n",
              "      <td>26825776.19</td>\n",
              "      <td>28840.2</td>\n",
              "      <td>9910516.99</td>\n",
              "      <td>4730605.62</td>\n",
              "      <td>5.832218e+08</td>\n",
              "    </tr>\n",
              "    <tr>\n",
              "      <th>1</th>\n",
              "      <td>ญี่ปุ่น</td>\n",
              "      <td>2245000.0</td>\n",
              "      <td>1.041471e+08</td>\n",
              "      <td>6691163.79</td>\n",
              "      <td>2.939657e+08</td>\n",
              "      <td>42054.0</td>\n",
              "      <td>1438483.20</td>\n",
              "      <td>85600.0</td>\n",
              "      <td>12609308.77</td>\n",
              "      <td>NaN</td>\n",
              "      <td>NaN</td>\n",
              "      <td>200791.09</td>\n",
              "      <td>2.281805e+07</td>\n",
              "      <td>118313.14</td>\n",
              "      <td>8713838.55</td>\n",
              "      <td>637.5</td>\n",
              "      <td>939103.84</td>\n",
              "      <td>9383559.52</td>\n",
              "      <td>4.446315e+08</td>\n",
              "    </tr>\n",
              "    <tr>\n",
              "      <th>2</th>\n",
              "      <td>จีน</td>\n",
              "      <td>7010000.0</td>\n",
              "      <td>2.889800e+08</td>\n",
              "      <td>85070.40</td>\n",
              "      <td>3.645548e+06</td>\n",
              "      <td>NaN</td>\n",
              "      <td>NaN</td>\n",
              "      <td>108640.0</td>\n",
              "      <td>7128664.00</td>\n",
              "      <td>NaN</td>\n",
              "      <td>NaN</td>\n",
              "      <td>373827.04</td>\n",
              "      <td>2.981187e+07</td>\n",
              "      <td>NaN</td>\n",
              "      <td>NaN</td>\n",
              "      <td>17943.0</td>\n",
              "      <td>20560028.19</td>\n",
              "      <td>7595480.44</td>\n",
              "      <td>3.501261e+08</td>\n",
              "    </tr>\n",
              "    <tr>\n",
              "      <th>3</th>\n",
              "      <td>มาเลเซีย</td>\n",
              "      <td>NaN</td>\n",
              "      <td>NaN</td>\n",
              "      <td>5918662.41</td>\n",
              "      <td>2.107535e+08</td>\n",
              "      <td>60669.0</td>\n",
              "      <td>2500804.87</td>\n",
              "      <td>107200.0</td>\n",
              "      <td>2858200.00</td>\n",
              "      <td>NaN</td>\n",
              "      <td>NaN</td>\n",
              "      <td>677981.04</td>\n",
              "      <td>3.835618e+07</td>\n",
              "      <td>61050.34</td>\n",
              "      <td>4144716.89</td>\n",
              "      <td>910.0</td>\n",
              "      <td>55212.30</td>\n",
              "      <td>6826472.79</td>\n",
              "      <td>2.586686e+08</td>\n",
              "    </tr>\n",
              "    <tr>\n",
              "      <th>4</th>\n",
              "      <td>อิตาลี</td>\n",
              "      <td>NaN</td>\n",
              "      <td>NaN</td>\n",
              "      <td>NaN</td>\n",
              "      <td>NaN</td>\n",
              "      <td>NaN</td>\n",
              "      <td>NaN</td>\n",
              "      <td>NaN</td>\n",
              "      <td>NaN</td>\n",
              "      <td>NaN</td>\n",
              "      <td>NaN</td>\n",
              "      <td>1725518.13</td>\n",
              "      <td>2.365353e+08</td>\n",
              "      <td>17830.16</td>\n",
              "      <td>4140246.48</td>\n",
              "      <td>NaN</td>\n",
              "      <td>NaN</td>\n",
              "      <td>1743348.29</td>\n",
              "      <td>2.406755e+08</td>\n",
              "    </tr>\n",
              "  </tbody>\n",
              "</table>\n",
              "</div>"
            ],
            "text/plain": [
              "  ประเทศที่ส่งออก  ...  มูลค่ารวมทั้งสิ้น (บาท)\n",
              "0    สหรัฐอเมริกา  ...             5.832218e+08\n",
              "1         ญี่ปุ่น  ...             4.446315e+08\n",
              "2             จีน  ...             3.501261e+08\n",
              "3        มาเลเซีย  ...             2.586686e+08\n",
              "4          อิตาลี  ...             2.406755e+08\n",
              "\n",
              "[5 rows x 19 columns]"
            ]
          },
          "metadata": {
            "tags": []
          },
          "execution_count": 12
        }
      ]
    },
    {
      "cell_type": "code",
      "metadata": {
        "id": "p3rp4eWC1m_s",
        "outputId": "1e0e4dd7-ec9a-4866-b18d-f525c0f29a9b",
        "colab": {
          "base_uri": "https://localhost:8080/"
        }
      },
      "source": [
        "Import_df.shape # .shape เป็นคำสั่งที่ใช้เช็คว่าข้อมูลที่เอามามีความผิดพลาดรึเปล่า จำนวนแถว,จำนวนหลัก"
      ],
      "execution_count": 13,
      "outputs": [
        {
          "output_type": "execute_result",
          "data": {
            "text/plain": [
              "(69, 13)"
            ]
          },
          "metadata": {
            "tags": []
          },
          "execution_count": 13
        }
      ]
    },
    {
      "cell_type": "code",
      "metadata": {
        "id": "WOJKiUe61p1U",
        "outputId": "0da806c5-9534-429b-8115-60814f680e33",
        "colab": {
          "base_uri": "https://localhost:8080/"
        }
      },
      "source": [
        "Export_df.shape # .shape เป็นคำสั่งที่ใช้เช็คว่าข้อมูลที่เอามามีความผิดพลาดรึเปล่า จำนวนแถว,จำนวนหลัก"
      ],
      "execution_count": 14,
      "outputs": [
        {
          "output_type": "execute_result",
          "data": {
            "text/plain": [
              "(53, 19)"
            ]
          },
          "metadata": {
            "tags": []
          },
          "execution_count": 14
        }
      ]
    },
    {
      "cell_type": "markdown",
      "metadata": {
        "id": "nWJGR2ZY1rV0"
      },
      "source": [
        "#Missing Values ค่าผิดปกติ เช็คดูว่าตารางเรามี missing"
      ]
    },
    {
      "cell_type": "code",
      "metadata": {
        "id": "2w3qYe1pSpDL",
        "outputId": "c51f73c6-2621-46d8-98d6-3e2e557ada7f",
        "colab": {
          "base_uri": "https://localhost:8080/"
        }
      },
      "source": [
        "Import_df.isnull().any()"
      ],
      "execution_count": 16,
      "outputs": [
        {
          "output_type": "execute_result",
          "data": {
            "text/plain": [
              " ประเทศนำเข้า                        False\n",
              "ปริมาณวัตถุดิบ (ตัน)                 False\n",
              "มูลค่าวัตถุดิบ (ลบ.)                 False\n",
              "ปริมาณวัตถุที่ผสมแล้ว (ตัน)          False\n",
              "มูลค่าวัตถุที่ผสมแล้ว (ลบ.)          False\n",
              "ปริมาณผลิตภัณฑ์นม (ตัน)              False\n",
              "มูลค่าผลิตภัณฑ์นม (ลบ.)              False\n",
              "ปริมาณอาหารเสริมสำหรับสัตว์ (ตัน)    False\n",
              "มูลค่าอาหารเสริมสำหรับสัตว์ (ลบ.)    False\n",
              "ปริมาณนำเข้าอื่นๆ (ตัน)              False\n",
              "มูลค่านำเข้าอื่น ๆ (ลบ.)             False\n",
              "ปริมาณรวมทั้งสิ้น (ตัน)              False\n",
              "มูลค่ารวมทั้งสิ้น (ลบ.)              False\n",
              "dtype: bool"
            ]
          },
          "metadata": {
            "tags": []
          },
          "execution_count": 16
        }
      ]
    },
    {
      "cell_type": "code",
      "metadata": {
        "id": "NWLj9DMm1xSu",
        "outputId": "0d204e6e-7237-4f76-842e-ff210996562d",
        "colab": {
          "base_uri": "https://localhost:8080/"
        }
      },
      "source": [
        "Export_df.isnull().any()"
      ],
      "execution_count": 18,
      "outputs": [
        {
          "output_type": "execute_result",
          "data": {
            "text/plain": [
              "ประเทศที่ส่งออก                          False\n",
              "ปริมาณปลาป่น (กก.)                        True\n",
              "มูลค่าปลาป่น (บาท)                        True\n",
              "ปริมาณ อาหารสุนัขและแมว (กก.)             True\n",
              "มูลค่าอาหารสุนัขและแมว (บาท)              True\n",
              "ปริมาณอาหารใช้เลี้ยงสัตว์อื่น ๆ (กก.)     True\n",
              "มูลค่าอาหารใช้เลี้ยงสัตว์อื่น ๆ (บาท)     True\n",
              "ปริมาณอาหารเสริมสัตว์เลี้ยง (กก.)         True\n",
              "มูลค่าอาหารเสริมสัตว์เลี้ยง (บาท)         True\n",
              "ปริมาณพรีมิกซ์ (กก.)                      True\n",
              "มูลค่าพรีมิกซ์ (บาท)                      True\n",
              "ปริมาณอาหารกระป๋องสุนัขและแมว (กก.)       True\n",
              "มูลค่าอาหารกระป๋องสุนัขและแมว (บาท)       True\n",
              "ปริมาณDog Chews (กก.)                     True\n",
              "มูลค่าDog Chews (บาท)                     True\n",
              "ปริมาณอาหารสัตว์น้ำ (กก.)                 True\n",
              "มูลค่าอาหารสัตว์น้ำ (บาท)                 True\n",
              "ปริมาณรวมทั้งสิ้น (กก.)                  False\n",
              "มูลค่ารวมทั้งสิ้น (บาท)                  False\n",
              "dtype: bool"
            ]
          },
          "metadata": {
            "tags": []
          },
          "execution_count": 18
        }
      ]
    },
    {
      "cell_type": "markdown",
      "metadata": {
        "id": "kuTjHrMW1zi-"
      },
      "source": [
        "#แก้ไขค่า missing โดยใช้ fallna"
      ]
    },
    {
      "cell_type": "code",
      "metadata": {
        "id": "OvV9PeGj145m"
      },
      "source": [
        "Export_df[['ปริมาณปลาป่น (กก.)']] = Export_df[['ปริมาณปลาป่น (กก.)']].fillna(0)"
      ],
      "execution_count": 19,
      "outputs": []
    },
    {
      "cell_type": "code",
      "metadata": {
        "id": "lMjb6ErZ19as"
      },
      "source": [
        "Export_df[['มูลค่าปลาป่น (บาท)']] = Export_df[['มูลค่าปลาป่น (บาท)']].fillna(0)"
      ],
      "execution_count": 20,
      "outputs": []
    },
    {
      "cell_type": "code",
      "metadata": {
        "id": "smMAM-EJ1941"
      },
      "source": [
        "Export_df[['ปริมาณ อาหารสุนัขและแมว (กก.)']] = Export_df[['ปริมาณ อาหารสุนัขและแมว (กก.)']].fillna(0)"
      ],
      "execution_count": 21,
      "outputs": []
    },
    {
      "cell_type": "code",
      "metadata": {
        "id": "Ii2IjcoW1-Qs"
      },
      "source": [
        "Export_df[['มูลค่าอาหารสุนัขและแมว (บาท)']] = Export_df[['มูลค่าอาหารสุนัขและแมว (บาท)']].fillna(0)"
      ],
      "execution_count": 22,
      "outputs": []
    },
    {
      "cell_type": "code",
      "metadata": {
        "id": "xj86DI2s1-sc"
      },
      "source": [
        "Export_df[['ปริมาณอาหารใช้เลี้ยงสัตว์อื่น ๆ (กก.)']] = Export_df[['ปริมาณอาหารใช้เลี้ยงสัตว์อื่น ๆ (กก.)']].fillna(0)"
      ],
      "execution_count": 23,
      "outputs": []
    },
    {
      "cell_type": "code",
      "metadata": {
        "id": "tYnLrnQt1_B0"
      },
      "source": [
        "Export_df[['มูลค่าอาหารใช้เลี้ยงสัตว์อื่น ๆ (บาท)']] = Export_df[['มูลค่าอาหารใช้เลี้ยงสัตว์อื่น ๆ (บาท)']].fillna(0)"
      ],
      "execution_count": 24,
      "outputs": []
    },
    {
      "cell_type": "code",
      "metadata": {
        "id": "oqs2bl4T1_W0"
      },
      "source": [
        "Export_df[['ปริมาณอาหารเสริมสัตว์เลี้ยง (กก.)']] = Export_df[['ปริมาณอาหารเสริมสัตว์เลี้ยง (กก.)']].fillna(0)"
      ],
      "execution_count": 25,
      "outputs": []
    },
    {
      "cell_type": "code",
      "metadata": {
        "id": "HYqsKzM61_p1"
      },
      "source": [
        "Export_df[['มูลค่าอาหารกระป๋องสุนัขและแมว (บาท)']] = Export_df[['มูลค่าอาหารกระป๋องสุนัขและแมว (บาท)']].fillna(0)"
      ],
      "execution_count": 26,
      "outputs": []
    },
    {
      "cell_type": "code",
      "metadata": {
        "id": "0305rrAe2AA0"
      },
      "source": [
        "Export_df[['ปริมาณDog Chews (กก.)']] = Export_df[['ปริมาณDog Chews (กก.)']].fillna(0)"
      ],
      "execution_count": 27,
      "outputs": []
    },
    {
      "cell_type": "code",
      "metadata": {
        "id": "zFcFhSHH2Adm"
      },
      "source": [
        "Export_df[['มูลค่าอาหารสัตว์น้ำ (บาท)']] = Export_df[['มูลค่าอาหารสัตว์น้ำ (บาท)']].fillna(0)"
      ],
      "execution_count": 28,
      "outputs": []
    },
    {
      "cell_type": "code",
      "metadata": {
        "id": "s3Kii5UU1_2e"
      },
      "source": [
        "Export_df[['ปริมาณรวมทั้งสิ้น (กก.)']] = Export_df[['ปริมาณรวมทั้งสิ้น (กก.)']].fillna(0)"
      ],
      "execution_count": 29,
      "outputs": []
    },
    {
      "cell_type": "code",
      "metadata": {
        "id": "il9qUTdJ1_iU"
      },
      "source": [
        "Export_df[['มูลค่ารวมทั้งสิ้น (บาท)']] = Export_df[['มูลค่ารวมทั้งสิ้น (บาท)']].fillna(0)"
      ],
      "execution_count": 30,
      "outputs": []
    },
    {
      "cell_type": "code",
      "metadata": {
        "id": "qgCBdBtw1_Ot"
      },
      "source": [
        "Export_df[['มูลค่าอาหารเสริมสัตว์เลี้ยง (บาท)']] = Export_df[['มูลค่าอาหารเสริมสัตว์เลี้ยง (บาท)']].fillna(0)"
      ],
      "execution_count": 31,
      "outputs": []
    },
    {
      "cell_type": "code",
      "metadata": {
        "id": "rWzhfhox1-5-"
      },
      "source": [
        "Export_df[['ปริมาณพรีมิกซ์ (กก.)']] = Export_df[['ปริมาณพรีมิกซ์ (กก.)']].fillna(0)"
      ],
      "execution_count": 32,
      "outputs": []
    },
    {
      "cell_type": "code",
      "metadata": {
        "id": "7Ffmotgn1-hN"
      },
      "source": [
        "Export_df[['มูลค่าพรีมิกซ์ (บาท)']] = Export_df[['มูลค่าพรีมิกซ์ (บาท)']].fillna(0)"
      ],
      "execution_count": 33,
      "outputs": []
    },
    {
      "cell_type": "code",
      "metadata": {
        "id": "lBQJJ1En1-F1"
      },
      "source": [
        "Export_df[['ปริมาณอาหารกระป๋องสุนัขและแมว (กก.)']] = Export_df[['ปริมาณอาหารกระป๋องสุนัขและแมว (กก.)']].fillna(0)"
      ],
      "execution_count": 34,
      "outputs": []
    },
    {
      "cell_type": "code",
      "metadata": {
        "id": "AsnmsX7Q19v9"
      },
      "source": [
        "Export_df[['มูลค่าDog Chews (บาท)']] = Export_df[['มูลค่าDog Chews (บาท)']].fillna(0)"
      ],
      "execution_count": 35,
      "outputs": []
    },
    {
      "cell_type": "code",
      "metadata": {
        "id": "722SAyfV19Dl"
      },
      "source": [
        "Export_df[['ปริมาณอาหารสัตว์น้ำ (กก.)']] = Export_df[['ปริมาณอาหารสัตว์น้ำ (กก.)']].fillna(0)"
      ],
      "execution_count": 36,
      "outputs": []
    },
    {
      "cell_type": "code",
      "metadata": {
        "id": "8LfZAeXD1800",
        "outputId": "378dc61b-b072-4e82-d702-b45bd54ac119",
        "colab": {
          "base_uri": "https://localhost:8080/"
        }
      },
      "source": [
        "Export_df.isnull().any()"
      ],
      "execution_count": 37,
      "outputs": [
        {
          "output_type": "execute_result",
          "data": {
            "text/plain": [
              "ประเทศที่ส่งออก                          False\n",
              "ปริมาณปลาป่น (กก.)                       False\n",
              "มูลค่าปลาป่น (บาท)                       False\n",
              "ปริมาณ อาหารสุนัขและแมว (กก.)            False\n",
              "มูลค่าอาหารสุนัขและแมว (บาท)             False\n",
              "ปริมาณอาหารใช้เลี้ยงสัตว์อื่น ๆ (กก.)    False\n",
              "มูลค่าอาหารใช้เลี้ยงสัตว์อื่น ๆ (บาท)    False\n",
              "ปริมาณอาหารเสริมสัตว์เลี้ยง (กก.)        False\n",
              "มูลค่าอาหารเสริมสัตว์เลี้ยง (บาท)        False\n",
              "ปริมาณพรีมิกซ์ (กก.)                     False\n",
              "มูลค่าพรีมิกซ์ (บาท)                     False\n",
              "ปริมาณอาหารกระป๋องสุนัขและแมว (กก.)      False\n",
              "มูลค่าอาหารกระป๋องสุนัขและแมว (บาท)      False\n",
              "ปริมาณDog Chews (กก.)                    False\n",
              "มูลค่าDog Chews (บาท)                    False\n",
              "ปริมาณอาหารสัตว์น้ำ (กก.)                False\n",
              "มูลค่าอาหารสัตว์น้ำ (บาท)                False\n",
              "ปริมาณรวมทั้งสิ้น (กก.)                  False\n",
              "มูลค่ารวมทั้งสิ้น (บาท)                  False\n",
              "dtype: bool"
            ]
          },
          "metadata": {
            "tags": []
          },
          "execution_count": 37
        }
      ]
    },
    {
      "cell_type": "code",
      "metadata": {
        "id": "_HmKawIE2aun",
        "outputId": "f9a13fa4-41ec-40a2-cbf8-9b460b5051c2",
        "colab": {
          "base_uri": "https://localhost:8080/",
          "height": 556
        }
      },
      "source": [
        "pd_concat = pandas.concat([Import_df,Export_df])\n",
        "pd_concat"
      ],
      "execution_count": 38,
      "outputs": [
        {
          "output_type": "execute_result",
          "data": {
            "text/html": [
              "<div>\n",
              "<style scoped>\n",
              "    .dataframe tbody tr th:only-of-type {\n",
              "        vertical-align: middle;\n",
              "    }\n",
              "\n",
              "    .dataframe tbody tr th {\n",
              "        vertical-align: top;\n",
              "    }\n",
              "\n",
              "    .dataframe thead th {\n",
              "        text-align: right;\n",
              "    }\n",
              "</style>\n",
              "<table border=\"1\" class=\"dataframe\">\n",
              "  <thead>\n",
              "    <tr style=\"text-align: right;\">\n",
              "      <th></th>\n",
              "      <th>ประเทศนำเข้า</th>\n",
              "      <th>ปริมาณวัตถุดิบ (ตัน)</th>\n",
              "      <th>มูลค่าวัตถุดิบ (ลบ.)</th>\n",
              "      <th>ปริมาณวัตถุที่ผสมแล้ว (ตัน)</th>\n",
              "      <th>มูลค่าวัตถุที่ผสมแล้ว (ลบ.)</th>\n",
              "      <th>ปริมาณผลิตภัณฑ์นม (ตัน)</th>\n",
              "      <th>มูลค่าผลิตภัณฑ์นม (ลบ.)</th>\n",
              "      <th>ปริมาณอาหารเสริมสำหรับสัตว์ (ตัน)</th>\n",
              "      <th>มูลค่าอาหารเสริมสำหรับสัตว์ (ลบ.)</th>\n",
              "      <th>ปริมาณนำเข้าอื่นๆ (ตัน)</th>\n",
              "      <th>มูลค่านำเข้าอื่น ๆ (ลบ.)</th>\n",
              "      <th>ปริมาณรวมทั้งสิ้น (ตัน)</th>\n",
              "      <th>มูลค่ารวมทั้งสิ้น (ลบ.)</th>\n",
              "      <th>ประเทศที่ส่งออก</th>\n",
              "      <th>ปริมาณปลาป่น (กก.)</th>\n",
              "      <th>มูลค่าปลาป่น (บาท)</th>\n",
              "      <th>ปริมาณ อาหารสุนัขและแมว (กก.)</th>\n",
              "      <th>มูลค่าอาหารสุนัขและแมว (บาท)</th>\n",
              "      <th>ปริมาณอาหารใช้เลี้ยงสัตว์อื่น ๆ (กก.)</th>\n",
              "      <th>มูลค่าอาหารใช้เลี้ยงสัตว์อื่น ๆ (บาท)</th>\n",
              "      <th>ปริมาณอาหารเสริมสัตว์เลี้ยง (กก.)</th>\n",
              "      <th>มูลค่าอาหารเสริมสัตว์เลี้ยง (บาท)</th>\n",
              "      <th>ปริมาณพรีมิกซ์ (กก.)</th>\n",
              "      <th>มูลค่าพรีมิกซ์ (บาท)</th>\n",
              "      <th>ปริมาณอาหารกระป๋องสุนัขและแมว (กก.)</th>\n",
              "      <th>มูลค่าอาหารกระป๋องสุนัขและแมว (บาท)</th>\n",
              "      <th>ปริมาณDog Chews (กก.)</th>\n",
              "      <th>มูลค่าDog Chews (บาท)</th>\n",
              "      <th>ปริมาณอาหารสัตว์น้ำ (กก.)</th>\n",
              "      <th>มูลค่าอาหารสัตว์น้ำ (บาท)</th>\n",
              "      <th>ปริมาณรวมทั้งสิ้น (กก.)</th>\n",
              "      <th>มูลค่ารวมทั้งสิ้น (บาท)</th>\n",
              "    </tr>\n",
              "  </thead>\n",
              "  <tbody>\n",
              "    <tr>\n",
              "      <th>0</th>\n",
              "      <td>สหรัฐอเมริกา</td>\n",
              "      <td>1,408,766.62</td>\n",
              "      <td>20,215.90</td>\n",
              "      <td>38,786.76</td>\n",
              "      <td>2,228.48</td>\n",
              "      <td>9,163.66</td>\n",
              "      <td>214.3</td>\n",
              "      <td>70,582.83</td>\n",
              "      <td>2,656.10</td>\n",
              "      <td>11,292.58</td>\n",
              "      <td>527.9</td>\n",
              "      <td>1538592.46</td>\n",
              "      <td>25842.67</td>\n",
              "      <td>NaN</td>\n",
              "      <td>NaN</td>\n",
              "      <td>NaN</td>\n",
              "      <td>NaN</td>\n",
              "      <td>NaN</td>\n",
              "      <td>NaN</td>\n",
              "      <td>NaN</td>\n",
              "      <td>NaN</td>\n",
              "      <td>NaN</td>\n",
              "      <td>NaN</td>\n",
              "      <td>NaN</td>\n",
              "      <td>NaN</td>\n",
              "      <td>NaN</td>\n",
              "      <td>NaN</td>\n",
              "      <td>NaN</td>\n",
              "      <td>NaN</td>\n",
              "      <td>NaN</td>\n",
              "      <td>NaN</td>\n",
              "      <td>NaN</td>\n",
              "    </tr>\n",
              "    <tr>\n",
              "      <th>1</th>\n",
              "      <td>บราซิล</td>\n",
              "      <td>1,644,961.05</td>\n",
              "      <td>22,012.97</td>\n",
              "      <td>6.15</td>\n",
              "      <td>0.49</td>\n",
              "      <td>-</td>\n",
              "      <td>-</td>\n",
              "      <td>867.79</td>\n",
              "      <td>29.46</td>\n",
              "      <td>12,945.06</td>\n",
              "      <td>229.37</td>\n",
              "      <td>1658780.06</td>\n",
              "      <td>22272.29</td>\n",
              "      <td>NaN</td>\n",
              "      <td>NaN</td>\n",
              "      <td>NaN</td>\n",
              "      <td>NaN</td>\n",
              "      <td>NaN</td>\n",
              "      <td>NaN</td>\n",
              "      <td>NaN</td>\n",
              "      <td>NaN</td>\n",
              "      <td>NaN</td>\n",
              "      <td>NaN</td>\n",
              "      <td>NaN</td>\n",
              "      <td>NaN</td>\n",
              "      <td>NaN</td>\n",
              "      <td>NaN</td>\n",
              "      <td>NaN</td>\n",
              "      <td>NaN</td>\n",
              "      <td>NaN</td>\n",
              "      <td>NaN</td>\n",
              "      <td>NaN</td>\n",
              "    </tr>\n",
              "    <tr>\n",
              "      <th>2</th>\n",
              "      <td>ยูเครน</td>\n",
              "      <td>1,487,685.49</td>\n",
              "      <td>11,428.56</td>\n",
              "      <td>-</td>\n",
              "      <td>-</td>\n",
              "      <td>-</td>\n",
              "      <td>-</td>\n",
              "      <td>-</td>\n",
              "      <td>-</td>\n",
              "      <td>46,689.42</td>\n",
              "      <td>377.42</td>\n",
              "      <td>1534374.91</td>\n",
              "      <td>11805.98</td>\n",
              "      <td>NaN</td>\n",
              "      <td>NaN</td>\n",
              "      <td>NaN</td>\n",
              "      <td>NaN</td>\n",
              "      <td>NaN</td>\n",
              "      <td>NaN</td>\n",
              "      <td>NaN</td>\n",
              "      <td>NaN</td>\n",
              "      <td>NaN</td>\n",
              "      <td>NaN</td>\n",
              "      <td>NaN</td>\n",
              "      <td>NaN</td>\n",
              "      <td>NaN</td>\n",
              "      <td>NaN</td>\n",
              "      <td>NaN</td>\n",
              "      <td>NaN</td>\n",
              "      <td>NaN</td>\n",
              "      <td>NaN</td>\n",
              "      <td>NaN</td>\n",
              "    </tr>\n",
              "    <tr>\n",
              "      <th>3</th>\n",
              "      <td>อาร์เจนตินา</td>\n",
              "      <td>607,267.12</td>\n",
              "      <td>9,066.08</td>\n",
              "      <td>2,909.38</td>\n",
              "      <td>64.49</td>\n",
              "      <td>-</td>\n",
              "      <td>-</td>\n",
              "      <td>0.04</td>\n",
              "      <td>0.0013</td>\n",
              "      <td>856.4</td>\n",
              "      <td>48.57</td>\n",
              "      <td>611032.94</td>\n",
              "      <td>9179.14</td>\n",
              "      <td>NaN</td>\n",
              "      <td>NaN</td>\n",
              "      <td>NaN</td>\n",
              "      <td>NaN</td>\n",
              "      <td>NaN</td>\n",
              "      <td>NaN</td>\n",
              "      <td>NaN</td>\n",
              "      <td>NaN</td>\n",
              "      <td>NaN</td>\n",
              "      <td>NaN</td>\n",
              "      <td>NaN</td>\n",
              "      <td>NaN</td>\n",
              "      <td>NaN</td>\n",
              "      <td>NaN</td>\n",
              "      <td>NaN</td>\n",
              "      <td>NaN</td>\n",
              "      <td>NaN</td>\n",
              "      <td>NaN</td>\n",
              "      <td>NaN</td>\n",
              "    </tr>\n",
              "    <tr>\n",
              "      <th>4</th>\n",
              "      <td>จีน</td>\n",
              "      <td>20,481.57</td>\n",
              "      <td>730.54</td>\n",
              "      <td>24,014.82</td>\n",
              "      <td>2,715.75</td>\n",
              "      <td>14</td>\n",
              "      <td>0.69</td>\n",
              "      <td>112,208.00</td>\n",
              "      <td>3,193.93</td>\n",
              "      <td>10,521.66</td>\n",
              "      <td>640.98</td>\n",
              "      <td>167240.05</td>\n",
              "      <td>7281.89</td>\n",
              "      <td>NaN</td>\n",
              "      <td>NaN</td>\n",
              "      <td>NaN</td>\n",
              "      <td>NaN</td>\n",
              "      <td>NaN</td>\n",
              "      <td>NaN</td>\n",
              "      <td>NaN</td>\n",
              "      <td>NaN</td>\n",
              "      <td>NaN</td>\n",
              "      <td>NaN</td>\n",
              "      <td>NaN</td>\n",
              "      <td>NaN</td>\n",
              "      <td>NaN</td>\n",
              "      <td>NaN</td>\n",
              "      <td>NaN</td>\n",
              "      <td>NaN</td>\n",
              "      <td>NaN</td>\n",
              "      <td>NaN</td>\n",
              "      <td>NaN</td>\n",
              "    </tr>\n",
              "    <tr>\n",
              "      <th>...</th>\n",
              "      <td>...</td>\n",
              "      <td>...</td>\n",
              "      <td>...</td>\n",
              "      <td>...</td>\n",
              "      <td>...</td>\n",
              "      <td>...</td>\n",
              "      <td>...</td>\n",
              "      <td>...</td>\n",
              "      <td>...</td>\n",
              "      <td>...</td>\n",
              "      <td>...</td>\n",
              "      <td>...</td>\n",
              "      <td>...</td>\n",
              "      <td>...</td>\n",
              "      <td>...</td>\n",
              "      <td>...</td>\n",
              "      <td>...</td>\n",
              "      <td>...</td>\n",
              "      <td>...</td>\n",
              "      <td>...</td>\n",
              "      <td>...</td>\n",
              "      <td>...</td>\n",
              "      <td>...</td>\n",
              "      <td>...</td>\n",
              "      <td>...</td>\n",
              "      <td>...</td>\n",
              "      <td>...</td>\n",
              "      <td>...</td>\n",
              "      <td>...</td>\n",
              "      <td>...</td>\n",
              "      <td>...</td>\n",
              "      <td>...</td>\n",
              "    </tr>\n",
              "    <tr>\n",
              "      <th>48</th>\n",
              "      <td>NaN</td>\n",
              "      <td>NaN</td>\n",
              "      <td>NaN</td>\n",
              "      <td>NaN</td>\n",
              "      <td>NaN</td>\n",
              "      <td>NaN</td>\n",
              "      <td>NaN</td>\n",
              "      <td>NaN</td>\n",
              "      <td>NaN</td>\n",
              "      <td>NaN</td>\n",
              "      <td>NaN</td>\n",
              "      <td>NaN</td>\n",
              "      <td>NaN</td>\n",
              "      <td>เรอูนียง</td>\n",
              "      <td>0.0</td>\n",
              "      <td>0.0</td>\n",
              "      <td>0.0</td>\n",
              "      <td>0.00</td>\n",
              "      <td>0.0</td>\n",
              "      <td>0.0</td>\n",
              "      <td>0.0</td>\n",
              "      <td>0.0</td>\n",
              "      <td>0.0</td>\n",
              "      <td>0.0</td>\n",
              "      <td>2031.84</td>\n",
              "      <td>106062.04</td>\n",
              "      <td>0.0</td>\n",
              "      <td>0.0</td>\n",
              "      <td>0.0</td>\n",
              "      <td>0.00</td>\n",
              "      <td>2031.84</td>\n",
              "      <td>106062.04</td>\n",
              "    </tr>\n",
              "    <tr>\n",
              "      <th>49</th>\n",
              "      <td>NaN</td>\n",
              "      <td>NaN</td>\n",
              "      <td>NaN</td>\n",
              "      <td>NaN</td>\n",
              "      <td>NaN</td>\n",
              "      <td>NaN</td>\n",
              "      <td>NaN</td>\n",
              "      <td>NaN</td>\n",
              "      <td>NaN</td>\n",
              "      <td>NaN</td>\n",
              "      <td>NaN</td>\n",
              "      <td>NaN</td>\n",
              "      <td>NaN</td>\n",
              "      <td>มาดากัสการ์</td>\n",
              "      <td>0.0</td>\n",
              "      <td>0.0</td>\n",
              "      <td>0.0</td>\n",
              "      <td>0.00</td>\n",
              "      <td>0.0</td>\n",
              "      <td>0.0</td>\n",
              "      <td>0.0</td>\n",
              "      <td>0.0</td>\n",
              "      <td>0.0</td>\n",
              "      <td>0.0</td>\n",
              "      <td>0.00</td>\n",
              "      <td>0.00</td>\n",
              "      <td>0.0</td>\n",
              "      <td>0.0</td>\n",
              "      <td>100.0</td>\n",
              "      <td>55554.62</td>\n",
              "      <td>100.00</td>\n",
              "      <td>55554.62</td>\n",
              "    </tr>\n",
              "    <tr>\n",
              "      <th>50</th>\n",
              "      <td>NaN</td>\n",
              "      <td>NaN</td>\n",
              "      <td>NaN</td>\n",
              "      <td>NaN</td>\n",
              "      <td>NaN</td>\n",
              "      <td>NaN</td>\n",
              "      <td>NaN</td>\n",
              "      <td>NaN</td>\n",
              "      <td>NaN</td>\n",
              "      <td>NaN</td>\n",
              "      <td>NaN</td>\n",
              "      <td>NaN</td>\n",
              "      <td>NaN</td>\n",
              "      <td>กัมพูชา</td>\n",
              "      <td>0.0</td>\n",
              "      <td>0.0</td>\n",
              "      <td>0.0</td>\n",
              "      <td>0.00</td>\n",
              "      <td>0.0</td>\n",
              "      <td>0.0</td>\n",
              "      <td>0.0</td>\n",
              "      <td>0.0</td>\n",
              "      <td>0.0</td>\n",
              "      <td>0.0</td>\n",
              "      <td>123.00</td>\n",
              "      <td>154.00</td>\n",
              "      <td>0.0</td>\n",
              "      <td>0.0</td>\n",
              "      <td>0.0</td>\n",
              "      <td>0.00</td>\n",
              "      <td>123.00</td>\n",
              "      <td>154.00</td>\n",
              "    </tr>\n",
              "    <tr>\n",
              "      <th>51</th>\n",
              "      <td>NaN</td>\n",
              "      <td>NaN</td>\n",
              "      <td>NaN</td>\n",
              "      <td>NaN</td>\n",
              "      <td>NaN</td>\n",
              "      <td>NaN</td>\n",
              "      <td>NaN</td>\n",
              "      <td>NaN</td>\n",
              "      <td>NaN</td>\n",
              "      <td>NaN</td>\n",
              "      <td>NaN</td>\n",
              "      <td>NaN</td>\n",
              "      <td>NaN</td>\n",
              "      <td>สาธารณรัฐเช็ก</td>\n",
              "      <td>0.0</td>\n",
              "      <td>0.0</td>\n",
              "      <td>0.6</td>\n",
              "      <td>132.89</td>\n",
              "      <td>0.0</td>\n",
              "      <td>0.0</td>\n",
              "      <td>0.0</td>\n",
              "      <td>0.0</td>\n",
              "      <td>0.0</td>\n",
              "      <td>0.0</td>\n",
              "      <td>0.00</td>\n",
              "      <td>0.00</td>\n",
              "      <td>0.0</td>\n",
              "      <td>0.0</td>\n",
              "      <td>0.0</td>\n",
              "      <td>0.00</td>\n",
              "      <td>0.60</td>\n",
              "      <td>132.89</td>\n",
              "    </tr>\n",
              "    <tr>\n",
              "      <th>52</th>\n",
              "      <td>NaN</td>\n",
              "      <td>NaN</td>\n",
              "      <td>NaN</td>\n",
              "      <td>NaN</td>\n",
              "      <td>NaN</td>\n",
              "      <td>NaN</td>\n",
              "      <td>NaN</td>\n",
              "      <td>NaN</td>\n",
              "      <td>NaN</td>\n",
              "      <td>NaN</td>\n",
              "      <td>NaN</td>\n",
              "      <td>NaN</td>\n",
              "      <td>NaN</td>\n",
              "      <td>นิวแคลิโดเนีย</td>\n",
              "      <td>0.0</td>\n",
              "      <td>0.0</td>\n",
              "      <td>0.0</td>\n",
              "      <td>0.00</td>\n",
              "      <td>0.0</td>\n",
              "      <td>0.0</td>\n",
              "      <td>0.5</td>\n",
              "      <td>32.0</td>\n",
              "      <td>0.0</td>\n",
              "      <td>0.0</td>\n",
              "      <td>0.00</td>\n",
              "      <td>0.00</td>\n",
              "      <td>0.0</td>\n",
              "      <td>0.0</td>\n",
              "      <td>0.0</td>\n",
              "      <td>0.00</td>\n",
              "      <td>0.50</td>\n",
              "      <td>32.00</td>\n",
              "    </tr>\n",
              "  </tbody>\n",
              "</table>\n",
              "<p>122 rows × 32 columns</p>\n",
              "</div>"
            ],
            "text/plain": [
              "     ประเทศนำเข้า   ... มูลค่ารวมทั้งสิ้น (บาท)\n",
              "0    สหรัฐอเมริกา   ...                     NaN\n",
              "1          บราซิล   ...                     NaN\n",
              "2          ยูเครน   ...                     NaN\n",
              "3     อาร์เจนตินา   ...                     NaN\n",
              "4             จีน   ...                     NaN\n",
              "..             ...  ...                     ...\n",
              "48             NaN  ...               106062.04\n",
              "49             NaN  ...                55554.62\n",
              "50             NaN  ...                  154.00\n",
              "51             NaN  ...                  132.89\n",
              "52             NaN  ...                   32.00\n",
              "\n",
              "[122 rows x 32 columns]"
            ]
          },
          "metadata": {
            "tags": []
          },
          "execution_count": 38
        }
      ]
    }
  ]
}