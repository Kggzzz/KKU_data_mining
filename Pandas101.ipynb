{
  "nbformat": 4,
  "nbformat_minor": 0,
  "metadata": {
    "colab": {
      "name": "Pandas101.ipynb",
      "provenance": [],
      "authorship_tag": "ABX9TyNkA0WAMCT6h1odOak8d1jm",
      "include_colab_link": true
    },
    "kernelspec": {
      "name": "python3",
      "display_name": "Python 3"
    }
  },
  "cells": [
    {
      "cell_type": "markdown",
      "metadata": {
        "id": "view-in-github",
        "colab_type": "text"
      },
      "source": [
        "<a href=\"https://colab.research.google.com/github/Kggzzz/KKU_data_mining/blob/master/Pandas101.ipynb\" target=\"_parent\"><img src=\"https://colab.research.google.com/assets/colab-badge.svg\" alt=\"Open In Colab\"/></a>"
      ]
    },
    {
      "cell_type": "code",
      "metadata": {
        "id": "-Hl7sPhBW318",
        "colab_type": "code",
        "colab": {}
      },
      "source": [
        "import pandas"
      ],
      "execution_count": 1,
      "outputs": []
    },
    {
      "cell_type": "code",
      "metadata": {
        "id": "LW6BZT41cV31",
        "colab_type": "code",
        "colab": {
          "base_uri": "https://localhost:8080/",
          "height": 34
        },
        "outputId": "8fc7eae0-7f7e-42da-a586-7a5f9d0e5b4f"
      },
      "source": [
        "from google.colab import drive \n",
        "drive.mount('/content/drive')\n",
        "\n",
        "path = '/content/drive/My Drive/DWDM_material'"
      ],
      "execution_count": 4,
      "outputs": [
        {
          "output_type": "stream",
          "text": [
            "Drive already mounted at /content/drive; to attempt to forcibly remount, call drive.mount(\"/content/drive\", force_remount=True).\n"
          ],
          "name": "stdout"
        }
      ]
    },
    {
      "cell_type": "code",
      "metadata": {
        "id": "dlj-ciNgcyIy",
        "colab_type": "code",
        "colab": {}
      },
      "source": [
        "import os "
      ],
      "execution_count": 5,
      "outputs": []
    },
    {
      "cell_type": "code",
      "metadata": {
        "id": "DBurPfoOdO5-",
        "colab_type": "code",
        "colab": {}
      },
      "source": [
        "search_click = os.path.join(path,'search_click.csv')\n",
        "w_restaurant = os.path.join(path,'w_restaurant.csv')"
      ],
      "execution_count": 6,
      "outputs": []
    },
    {
      "cell_type": "markdown",
      "metadata": {
        "id": "-Ix41aQ1d0WJ",
        "colab_type": "text"
      },
      "source": [
        "Than use pandas to load the data into the environmaent"
      ]
    },
    {
      "cell_type": "code",
      "metadata": {
        "id": "zzF6ydsHd8ZM",
        "colab_type": "code",
        "colab": {}
      },
      "source": [
        "search_click_df = pandas.read_csv(search_click)"
      ],
      "execution_count": 7,
      "outputs": []
    },
    {
      "cell_type": "code",
      "metadata": {
        "id": "CqTK-gJjeFRc",
        "colab_type": "code",
        "colab": {
          "base_uri": "https://localhost:8080/",
          "height": 195
        },
        "outputId": "83e81a4b-bfff-4154-ba71-3f589c43976e"
      },
      "source": [
        "search_click_df.head()"
      ],
      "execution_count": 8,
      "outputs": [
        {
          "output_type": "execute_result",
          "data": {
            "text/html": [
              "<div>\n",
              "<style scoped>\n",
              "    .dataframe tbody tr th:only-of-type {\n",
              "        vertical-align: middle;\n",
              "    }\n",
              "\n",
              "    .dataframe tbody tr th {\n",
              "        vertical-align: top;\n",
              "    }\n",
              "\n",
              "    .dataframe thead th {\n",
              "        text-align: right;\n",
              "    }\n",
              "</style>\n",
              "<table border=\"1\" class=\"dataframe\">\n",
              "  <thead>\n",
              "    <tr style=\"text-align: right;\">\n",
              "      <th></th>\n",
              "      <th>click_timestamp</th>\n",
              "      <th>search_id</th>\n",
              "      <th>business_id</th>\n",
              "      <th>display_position</th>\n",
              "      <th>time_diff_nanos</th>\n",
              "      <th>ads</th>\n",
              "    </tr>\n",
              "  </thead>\n",
              "  <tbody>\n",
              "    <tr>\n",
              "      <th>0</th>\n",
              "      <td>11:38.9</td>\n",
              "      <td>5c004472-5ecc-4159-9698-9f329b8e26e1</td>\n",
              "      <td>298839.0</td>\n",
              "      <td>0</td>\n",
              "      <td>2.222400e+15</td>\n",
              "      <td>True</td>\n",
              "    </tr>\n",
              "    <tr>\n",
              "      <th>1</th>\n",
              "      <td>30:51.3</td>\n",
              "      <td>5f34eca0-c04e-4c10-b600-54aa447dbd8e</td>\n",
              "      <td>171372.0</td>\n",
              "      <td>0</td>\n",
              "      <td>4.608380e+14</td>\n",
              "      <td>True</td>\n",
              "    </tr>\n",
              "    <tr>\n",
              "      <th>2</th>\n",
              "      <td>32:09.6</td>\n",
              "      <td>8dc6d1f0-11f1-4239-9dd2-5c1674c81224</td>\n",
              "      <td>16157.0</td>\n",
              "      <td>0</td>\n",
              "      <td>2.581490e+15</td>\n",
              "      <td>True</td>\n",
              "    </tr>\n",
              "    <tr>\n",
              "      <th>3</th>\n",
              "      <td>00:59.8</td>\n",
              "      <td>1a5810e9-3d1f-44b9-9a2e-26ede21c524b</td>\n",
              "      <td>89741.0</td>\n",
              "      <td>1</td>\n",
              "      <td>1.404580e+15</td>\n",
              "      <td>True</td>\n",
              "    </tr>\n",
              "    <tr>\n",
              "      <th>4</th>\n",
              "      <td>23:36.8</td>\n",
              "      <td>6bc75e0d-fc65-471e-9926-ff6be6708639</td>\n",
              "      <td>189564.0</td>\n",
              "      <td>1</td>\n",
              "      <td>9.333590e+14</td>\n",
              "      <td>True</td>\n",
              "    </tr>\n",
              "  </tbody>\n",
              "</table>\n",
              "</div>"
            ],
            "text/plain": [
              "  click_timestamp                             search_id  ...  time_diff_nanos   ads\n",
              "0         11:38.9  5c004472-5ecc-4159-9698-9f329b8e26e1  ...     2.222400e+15  True\n",
              "1         30:51.3  5f34eca0-c04e-4c10-b600-54aa447dbd8e  ...     4.608380e+14  True\n",
              "2         32:09.6  8dc6d1f0-11f1-4239-9dd2-5c1674c81224  ...     2.581490e+15  True\n",
              "3         00:59.8  1a5810e9-3d1f-44b9-9a2e-26ede21c524b  ...     1.404580e+15  True\n",
              "4         23:36.8  6bc75e0d-fc65-471e-9926-ff6be6708639  ...     9.333590e+14  True\n",
              "\n",
              "[5 rows x 6 columns]"
            ]
          },
          "metadata": {
            "tags": []
          },
          "execution_count": 8
        }
      ]
    }
  ]
}