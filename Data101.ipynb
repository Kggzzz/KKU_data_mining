{
  "nbformat": 4,
  "nbformat_minor": 0,
  "metadata": {
    "colab": {
      "name": "Data101.ipynb",
      "provenance": [],
      "collapsed_sections": [],
      "authorship_tag": "ABX9TyOPsr2oouwTChO6cdyuqhbD",
      "include_colab_link": true
    },
    "kernelspec": {
      "name": "python3",
      "display_name": "Python 3"
    }
  },
  "cells": [
    {
      "cell_type": "markdown",
      "metadata": {
        "id": "view-in-github",
        "colab_type": "text"
      },
      "source": [
        "<a href=\"https://colab.research.google.com/github/Kggzzz/KKU_data_mining/blob/master/Data101.ipynb\" target=\"_parent\"><img src=\"https://colab.research.google.com/assets/colab-badge.svg\" alt=\"Open In Colab\"/></a>"
      ]
    },
    {
      "cell_type": "markdown",
      "metadata": {
        "id": "LL-8_Tqv33wH",
        "colab_type": "text"
      },
      "source": [
        "ตัวอย่างการเรียกใช้ package ที่ชื่อว่า pandas โดยใช้ import คือ การเรียกใช้ package"
      ]
    },
    {
      "cell_type": "code",
      "metadata": {
        "id": "5__7TP8x22bC",
        "colab_type": "code",
        "colab": {}
      },
      "source": [
        "import pandas"
      ],
      "execution_count": 1,
      "outputs": []
    },
    {
      "cell_type": "markdown",
      "metadata": {
        "id": "hXsVSPGf3913",
        "colab_type": "text"
      },
      "source": [
        "ตัวอย่างการเปลี่ยนชื่อ pandas ให้เป็น pd โดยใช้ as\n"
      ]
    },
    {
      "cell_type": "code",
      "metadata": {
        "id": "iKITHpHp8gqe",
        "colab_type": "code",
        "colab": {}
      },
      "source": [
        "import pandas as pd"
      ],
      "execution_count": 2,
      "outputs": []
    },
    {
      "cell_type": "markdown",
      "metadata": {
        "id": "1GTazH8275QR",
        "colab_type": "text"
      },
      "source": [
        "สามารถรวมโฟล์เดอร์โดยใช้ from ตามด้วย ชื่อโปรเจกต์ใหญ่ import ตามด้วย แพ็กเกจที่ต้องการ"
      ]
    },
    {
      "cell_type": "code",
      "metadata": {
        "id": "SgPA04_i7Y6p",
        "colab_type": "code",
        "colab": {
          "base_uri": "https://localhost:8080/",
          "height": 34
        },
        "outputId": "f0c83c7d-9925-443d-dd91-2e68d9f04c27"
      },
      "source": [
        "from google.colab import drive \n",
        "drive.mount('/content/drive')"
      ],
      "execution_count": 4,
      "outputs": [
        {
          "output_type": "stream",
          "text": [
            "Drive already mounted at /content/drive; to attempt to forcibly remount, call drive.mount(\"/content/drive\", force_remount=True).\n"
          ],
          "name": "stdout"
        }
      ]
    },
    {
      "cell_type": "markdown",
      "metadata": {
        "id": "ZW2NURjM8SpK",
        "colab_type": "text"
      },
      "source": [
        "ใช้ import os เพื่อเรียกใช้การทำงานที่เกี่ยวกับไฟล์ทั้งหมด"
      ]
    },
    {
      "cell_type": "code",
      "metadata": {
        "id": "SLiuiDYH7cw2",
        "colab_type": "code",
        "colab": {}
      },
      "source": [
        "import os"
      ],
      "execution_count": 5,
      "outputs": []
    },
    {
      "cell_type": "markdown",
      "metadata": {
        "id": "1jLDp67W8N0M",
        "colab_type": "text"
      },
      "source": [
        "ใช้ path สร้างตัวแปรเป็นที่อยู่ของไฟล์นั้นๆ"
      ]
    },
    {
      "cell_type": "code",
      "metadata": {
        "id": "EEGBLoLj7fuG",
        "colab_type": "code",
        "colab": {}
      },
      "source": [
        "path = '/content/drive/My Drive/DWDM_material'"
      ],
      "execution_count": 6,
      "outputs": []
    },
    {
      "cell_type": "markdown",
      "metadata": {
        "id": "um8NfrB585l0",
        "colab_type": "text"
      },
      "source": [
        "\n",
        "listdir คือจะแสดงไฟล์ทั้งหมดตามที่อยู่ที่เราต้องการแสดง"
      ]
    },
    {
      "cell_type": "code",
      "metadata": {
        "id": "cNQLqYmx7iDl",
        "colab_type": "code",
        "colab": {
          "base_uri": "https://localhost:8080/",
          "height": 34
        },
        "outputId": "3bc0107f-8b29-4d19-ddb3-dca1d560ea91"
      },
      "source": [
        "os.listdir(path)"
      ],
      "execution_count": 7,
      "outputs": [
        {
          "output_type": "execute_result",
          "data": {
            "text/plain": [
              "['test.csv']"
            ]
          },
          "metadata": {
            "tags": []
          },
          "execution_count": 7
        }
      ]
    },
    {
      "cell_type": "markdown",
      "metadata": {
        "id": "s5cRGmWt9G-P",
        "colab_type": "text"
      },
      "source": [
        "ทำการสร้างตัวแปรใหม่ที่ชื่อ file_path เพื่อเปิดไฟล์ .csv โดยสร้างตัวแปร os.path.join โดยจะ join ทั้ง path และ ชื่อไฟล์ที่เราต้องการแสดง"
      ]
    },
    {
      "cell_type": "code",
      "metadata": {
        "id": "7AT_ucMW7n9Q",
        "colab_type": "code",
        "colab": {
          "base_uri": "https://localhost:8080/",
          "height": 34
        },
        "outputId": "e159dca9-1db6-4554-bdad-7718178fb5e5"
      },
      "source": [
        "file_path = os.path.join(path,'test.csv')\n",
        "print(file_path)"
      ],
      "execution_count": 8,
      "outputs": [
        {
          "output_type": "stream",
          "text": [
            "/content/drive/My Drive/DWDM_material/test.csv\n"
          ],
          "name": "stdout"
        }
      ]
    },
    {
      "cell_type": "code",
      "metadata": {
        "id": "WxiL3cIH7rQ3",
        "colab_type": "code",
        "colab": {
          "base_uri": "https://localhost:8080/",
          "height": 204
        },
        "outputId": "8a307ca3-6f95-4f5d-aece-d4a2fe78f4c8"
      },
      "source": [
        "pd.read_csv(file_path).head()"
      ],
      "execution_count": 9,
      "outputs": [
        {
          "output_type": "execute_result",
          "data": {
            "text/html": [
              "<div>\n",
              "<style scoped>\n",
              "    .dataframe tbody tr th:only-of-type {\n",
              "        vertical-align: middle;\n",
              "    }\n",
              "\n",
              "    .dataframe tbody tr th {\n",
              "        vertical-align: top;\n",
              "    }\n",
              "\n",
              "    .dataframe thead th {\n",
              "        text-align: right;\n",
              "    }\n",
              "</style>\n",
              "<table border=\"1\" class=\"dataframe\">\n",
              "  <thead>\n",
              "    <tr style=\"text-align: right;\">\n",
              "      <th></th>\n",
              "      <th>Unnamed: 0</th>\n",
              "      <th>x</th>\n",
              "      <th>y</th>\n",
              "    </tr>\n",
              "  </thead>\n",
              "  <tbody>\n",
              "    <tr>\n",
              "      <th>0</th>\n",
              "      <td>0</td>\n",
              "      <td>55.3846</td>\n",
              "      <td>97.1795</td>\n",
              "    </tr>\n",
              "    <tr>\n",
              "      <th>1</th>\n",
              "      <td>1</td>\n",
              "      <td>51.5385</td>\n",
              "      <td>96.0256</td>\n",
              "    </tr>\n",
              "    <tr>\n",
              "      <th>2</th>\n",
              "      <td>2</td>\n",
              "      <td>46.1538</td>\n",
              "      <td>94.4872</td>\n",
              "    </tr>\n",
              "    <tr>\n",
              "      <th>3</th>\n",
              "      <td>3</td>\n",
              "      <td>42.8205</td>\n",
              "      <td>91.4103</td>\n",
              "    </tr>\n",
              "    <tr>\n",
              "      <th>4</th>\n",
              "      <td>4</td>\n",
              "      <td>40.7692</td>\n",
              "      <td>88.3333</td>\n",
              "    </tr>\n",
              "  </tbody>\n",
              "</table>\n",
              "</div>"
            ],
            "text/plain": [
              "   Unnamed: 0        x        y\n",
              "0           0  55.3846  97.1795\n",
              "1           1  51.5385  96.0256\n",
              "2           2  46.1538  94.4872\n",
              "3           3  42.8205  91.4103\n",
              "4           4  40.7692  88.3333"
            ]
          },
          "metadata": {
            "tags": []
          },
          "execution_count": 9
        }
      ]
    },
    {
      "cell_type": "markdown",
      "metadata": {
        "id": "eHA1jlEO9qR7",
        "colab_type": "text"
      },
      "source": [
        "ตั้งชื่อให้ table1 เป็นตัวแปร ทำให้ pd.read_csv(file_path) มาอยู่ในตัวแปร "
      ]
    },
    {
      "cell_type": "code",
      "metadata": {
        "id": "uMwXaPV97tmq",
        "colab_type": "code",
        "colab": {}
      },
      "source": [
        "table1 = pd.read_csv(file_path)"
      ],
      "execution_count": 10,
      "outputs": []
    },
    {
      "cell_type": "markdown",
      "metadata": {
        "id": "BHIoeJHs91-X",
        "colab_type": "text"
      },
      "source": [
        "พิมพ์ table1 เพื่อรันผล ให้แสดงข้อมูล"
      ]
    },
    {
      "cell_type": "code",
      "metadata": {
        "id": "tZL8eg-j7v29",
        "colab_type": "code",
        "colab": {
          "base_uri": "https://localhost:8080/",
          "height": 419
        },
        "outputId": "36dae456-b7ee-4cc7-a647-4d1881cea60c"
      },
      "source": [
        "table1"
      ],
      "execution_count": 11,
      "outputs": [
        {
          "output_type": "execute_result",
          "data": {
            "text/html": [
              "<div>\n",
              "<style scoped>\n",
              "    .dataframe tbody tr th:only-of-type {\n",
              "        vertical-align: middle;\n",
              "    }\n",
              "\n",
              "    .dataframe tbody tr th {\n",
              "        vertical-align: top;\n",
              "    }\n",
              "\n",
              "    .dataframe thead th {\n",
              "        text-align: right;\n",
              "    }\n",
              "</style>\n",
              "<table border=\"1\" class=\"dataframe\">\n",
              "  <thead>\n",
              "    <tr style=\"text-align: right;\">\n",
              "      <th></th>\n",
              "      <th>Unnamed: 0</th>\n",
              "      <th>x</th>\n",
              "      <th>y</th>\n",
              "    </tr>\n",
              "  </thead>\n",
              "  <tbody>\n",
              "    <tr>\n",
              "      <th>0</th>\n",
              "      <td>0</td>\n",
              "      <td>55.3846</td>\n",
              "      <td>97.1795</td>\n",
              "    </tr>\n",
              "    <tr>\n",
              "      <th>1</th>\n",
              "      <td>1</td>\n",
              "      <td>51.5385</td>\n",
              "      <td>96.0256</td>\n",
              "    </tr>\n",
              "    <tr>\n",
              "      <th>2</th>\n",
              "      <td>2</td>\n",
              "      <td>46.1538</td>\n",
              "      <td>94.4872</td>\n",
              "    </tr>\n",
              "    <tr>\n",
              "      <th>3</th>\n",
              "      <td>3</td>\n",
              "      <td>42.8205</td>\n",
              "      <td>91.4103</td>\n",
              "    </tr>\n",
              "    <tr>\n",
              "      <th>4</th>\n",
              "      <td>4</td>\n",
              "      <td>40.7692</td>\n",
              "      <td>88.3333</td>\n",
              "    </tr>\n",
              "    <tr>\n",
              "      <th>...</th>\n",
              "      <td>...</td>\n",
              "      <td>...</td>\n",
              "      <td>...</td>\n",
              "    </tr>\n",
              "    <tr>\n",
              "      <th>137</th>\n",
              "      <td>137</td>\n",
              "      <td>39.4872</td>\n",
              "      <td>25.3846</td>\n",
              "    </tr>\n",
              "    <tr>\n",
              "      <th>138</th>\n",
              "      <td>138</td>\n",
              "      <td>91.2821</td>\n",
              "      <td>41.5385</td>\n",
              "    </tr>\n",
              "    <tr>\n",
              "      <th>139</th>\n",
              "      <td>139</td>\n",
              "      <td>50.0000</td>\n",
              "      <td>95.7692</td>\n",
              "    </tr>\n",
              "    <tr>\n",
              "      <th>140</th>\n",
              "      <td>140</td>\n",
              "      <td>47.9487</td>\n",
              "      <td>95.0000</td>\n",
              "    </tr>\n",
              "    <tr>\n",
              "      <th>141</th>\n",
              "      <td>141</td>\n",
              "      <td>44.1026</td>\n",
              "      <td>92.6923</td>\n",
              "    </tr>\n",
              "  </tbody>\n",
              "</table>\n",
              "<p>142 rows × 3 columns</p>\n",
              "</div>"
            ],
            "text/plain": [
              "     Unnamed: 0        x        y\n",
              "0             0  55.3846  97.1795\n",
              "1             1  51.5385  96.0256\n",
              "2             2  46.1538  94.4872\n",
              "3             3  42.8205  91.4103\n",
              "4             4  40.7692  88.3333\n",
              "..          ...      ...      ...\n",
              "137         137  39.4872  25.3846\n",
              "138         138  91.2821  41.5385\n",
              "139         139  50.0000  95.7692\n",
              "140         140  47.9487  95.0000\n",
              "141         141  44.1026  92.6923\n",
              "\n",
              "[142 rows x 3 columns]"
            ]
          },
          "metadata": {
            "tags": []
          },
          "execution_count": 11
        }
      ]
    },
    {
      "cell_type": "markdown",
      "metadata": {
        "id": "9zGDqk609-oB",
        "colab_type": "text"
      },
      "source": [
        "เมื่อเราต้องการข้อมูลหัวตารางเราจะพิมพ์ชื่อตัวแปร คือ table1 ตามด้วย .head() เพื่อให้โชว์ข้อมูลเพียงแค่ 5 บรรทัดแรก"
      ]
    },
    {
      "cell_type": "code",
      "metadata": {
        "id": "ONEuCeYM7xsN",
        "colab_type": "code",
        "colab": {
          "base_uri": "https://localhost:8080/",
          "height": 204
        },
        "outputId": "cf5dd415-f5f5-4048-e3b0-6667737cedfb"
      },
      "source": [
        "table1.head()"
      ],
      "execution_count": 12,
      "outputs": [
        {
          "output_type": "execute_result",
          "data": {
            "text/html": [
              "<div>\n",
              "<style scoped>\n",
              "    .dataframe tbody tr th:only-of-type {\n",
              "        vertical-align: middle;\n",
              "    }\n",
              "\n",
              "    .dataframe tbody tr th {\n",
              "        vertical-align: top;\n",
              "    }\n",
              "\n",
              "    .dataframe thead th {\n",
              "        text-align: right;\n",
              "    }\n",
              "</style>\n",
              "<table border=\"1\" class=\"dataframe\">\n",
              "  <thead>\n",
              "    <tr style=\"text-align: right;\">\n",
              "      <th></th>\n",
              "      <th>Unnamed: 0</th>\n",
              "      <th>x</th>\n",
              "      <th>y</th>\n",
              "    </tr>\n",
              "  </thead>\n",
              "  <tbody>\n",
              "    <tr>\n",
              "      <th>0</th>\n",
              "      <td>0</td>\n",
              "      <td>55.3846</td>\n",
              "      <td>97.1795</td>\n",
              "    </tr>\n",
              "    <tr>\n",
              "      <th>1</th>\n",
              "      <td>1</td>\n",
              "      <td>51.5385</td>\n",
              "      <td>96.0256</td>\n",
              "    </tr>\n",
              "    <tr>\n",
              "      <th>2</th>\n",
              "      <td>2</td>\n",
              "      <td>46.1538</td>\n",
              "      <td>94.4872</td>\n",
              "    </tr>\n",
              "    <tr>\n",
              "      <th>3</th>\n",
              "      <td>3</td>\n",
              "      <td>42.8205</td>\n",
              "      <td>91.4103</td>\n",
              "    </tr>\n",
              "    <tr>\n",
              "      <th>4</th>\n",
              "      <td>4</td>\n",
              "      <td>40.7692</td>\n",
              "      <td>88.3333</td>\n",
              "    </tr>\n",
              "  </tbody>\n",
              "</table>\n",
              "</div>"
            ],
            "text/plain": [
              "   Unnamed: 0        x        y\n",
              "0           0  55.3846  97.1795\n",
              "1           1  51.5385  96.0256\n",
              "2           2  46.1538  94.4872\n",
              "3           3  42.8205  91.4103\n",
              "4           4  40.7692  88.3333"
            ]
          },
          "metadata": {
            "tags": []
          },
          "execution_count": 12
        }
      ]
    },
    {
      "cell_type": "markdown",
      "metadata": {
        "id": "olrL6RUl-Rdq",
        "colab_type": "text"
      },
      "source": [
        "pyplot เป็นแพ็กเกจที่เอาไว้ใช้พล็อตกราฟ คำสั่งแรก คือ scatter โดยเอาแต่ละจุดไปพล็อตที่กราฟ x และ y"
      ]
    },
    {
      "cell_type": "code",
      "metadata": {
        "id": "zT_Mra3-70T4",
        "colab_type": "code",
        "colab": {}
      },
      "source": [
        "from matplotlib import pyplot as plt"
      ],
      "execution_count": 13,
      "outputs": []
    },
    {
      "cell_type": "code",
      "metadata": {
        "id": "g9awcXZB74BR",
        "colab_type": "code",
        "colab": {
          "base_uri": "https://localhost:8080/",
          "height": 282
        },
        "outputId": "f76d58ec-590c-4d28-cd40-25895d551c25"
      },
      "source": [
        "plt.scatter(table1['x'],table1['y'])"
      ],
      "execution_count": 14,
      "outputs": [
        {
          "output_type": "execute_result",
          "data": {
            "text/plain": [
              "<matplotlib.collections.PathCollection at 0x7f12bd6dceb8>"
            ]
          },
          "metadata": {
            "tags": []
          },
          "execution_count": 14
        },
        {
          "output_type": "display_data",
          "data": {
            "image/png": "[encoded data removed]",
            "text/plain": [
              "<Figure size 432x288 with 1 Axes>"
            ]
          },
          "metadata": {
            "tags": [],
            "needs_background": "light"
          }
        }
      ]
    },
    {
      "cell_type": "markdown",
      "metadata": {
        "id": "lQvIRY_9h7qV",
        "colab_type": "text"
      },
      "source": [
        "Centrality  ค่ากลาง"
      ]
    },
    {
      "cell_type": "markdown",
      "metadata": {
        "id": "TvbKWA-OjSLZ",
        "colab_type": "text"
      },
      "source": [
        "ตัวอย่างการเรียกค่าที่อยู่ในแต่ละคอลลั่ม โดยใช้ ['...'] และ . "
      ]
    },
    {
      "cell_type": "code",
      "metadata": {
        "id": "goJGvNtJiKBO",
        "colab_type": "code",
        "colab": {
          "base_uri": "https://localhost:8080/",
          "height": 221
        },
        "outputId": "ff4472f2-27b3-4689-fd75-0ffe8d230783"
      },
      "source": [
        "table1['x']"
      ],
      "execution_count": 15,
      "outputs": [
        {
          "output_type": "execute_result",
          "data": {
            "text/plain": [
              "0      55.3846\n",
              "1      51.5385\n",
              "2      46.1538\n",
              "3      42.8205\n",
              "4      40.7692\n",
              "        ...   \n",
              "137    39.4872\n",
              "138    91.2821\n",
              "139    50.0000\n",
              "140    47.9487\n",
              "141    44.1026\n",
              "Name: x, Length: 142, dtype: float64"
            ]
          },
          "metadata": {
            "tags": []
          },
          "execution_count": 15
        }
      ]
    },
    {
      "cell_type": "markdown",
      "metadata": {
        "id": "KF9lzAu-jdkm",
        "colab_type": "text"
      },
      "source": [
        ""
      ]
    },
    {
      "cell_type": "code",
      "metadata": {
        "id": "t2C_xMg0jMOt",
        "colab_type": "code",
        "colab": {
          "base_uri": "https://localhost:8080/",
          "height": 221
        },
        "outputId": "ad6963e0-fef9-4aba-a1cb-d21294b367cb"
      },
      "source": [
        "table1.x"
      ],
      "execution_count": 16,
      "outputs": [
        {
          "output_type": "execute_result",
          "data": {
            "text/plain": [
              "0      55.3846\n",
              "1      51.5385\n",
              "2      46.1538\n",
              "3      42.8205\n",
              "4      40.7692\n",
              "        ...   \n",
              "137    39.4872\n",
              "138    91.2821\n",
              "139    50.0000\n",
              "140    47.9487\n",
              "141    44.1026\n",
              "Name: x, Length: 142, dtype: float64"
            ]
          },
          "metadata": {
            "tags": []
          },
          "execution_count": 16
        }
      ]
    },
    {
      "cell_type": "markdown",
      "metadata": {
        "id": "JbwjmZxejyVG",
        "colab_type": "text"
      },
      "source": [
        "ตัวอย่างคำสั่งอธิบายค่าในคอลลั่ม โดยใช้ describe()"
      ]
    },
    {
      "cell_type": "code",
      "metadata": {
        "id": "mQU1ueitlfgb",
        "colab_type": "code",
        "colab": {
          "base_uri": "https://localhost:8080/",
          "height": 297
        },
        "outputId": "fa8569a3-c672-4f5c-f7d0-ed69f1909b7f"
      },
      "source": [
        "table1.describe()"
      ],
      "execution_count": 17,
      "outputs": [
        {
          "output_type": "execute_result",
          "data": {
            "text/html": [
              "<div>\n",
              "<style scoped>\n",
              "    .dataframe tbody tr th:only-of-type {\n",
              "        vertical-align: middle;\n",
              "    }\n",
              "\n",
              "    .dataframe tbody tr th {\n",
              "        vertical-align: top;\n",
              "    }\n",
              "\n",
              "    .dataframe thead th {\n",
              "        text-align: right;\n",
              "    }\n",
              "</style>\n",
              "<table border=\"1\" class=\"dataframe\">\n",
              "  <thead>\n",
              "    <tr style=\"text-align: right;\">\n",
              "      <th></th>\n",
              "      <th>Unnamed: 0</th>\n",
              "      <th>x</th>\n",
              "      <th>y</th>\n",
              "    </tr>\n",
              "  </thead>\n",
              "  <tbody>\n",
              "    <tr>\n",
              "      <th>count</th>\n",
              "      <td>142.000000</td>\n",
              "      <td>142.000000</td>\n",
              "      <td>142.000000</td>\n",
              "    </tr>\n",
              "    <tr>\n",
              "      <th>mean</th>\n",
              "      <td>70.500000</td>\n",
              "      <td>54.263273</td>\n",
              "      <td>47.832253</td>\n",
              "    </tr>\n",
              "    <tr>\n",
              "      <th>std</th>\n",
              "      <td>41.135953</td>\n",
              "      <td>16.765142</td>\n",
              "      <td>26.935403</td>\n",
              "    </tr>\n",
              "    <tr>\n",
              "      <th>min</th>\n",
              "      <td>0.000000</td>\n",
              "      <td>22.307700</td>\n",
              "      <td>2.948700</td>\n",
              "    </tr>\n",
              "    <tr>\n",
              "      <th>25%</th>\n",
              "      <td>35.250000</td>\n",
              "      <td>44.102600</td>\n",
              "      <td>25.288450</td>\n",
              "    </tr>\n",
              "    <tr>\n",
              "      <th>50%</th>\n",
              "      <td>70.500000</td>\n",
              "      <td>53.333300</td>\n",
              "      <td>46.025600</td>\n",
              "    </tr>\n",
              "    <tr>\n",
              "      <th>75%</th>\n",
              "      <td>105.750000</td>\n",
              "      <td>64.743600</td>\n",
              "      <td>68.525675</td>\n",
              "    </tr>\n",
              "    <tr>\n",
              "      <th>max</th>\n",
              "      <td>141.000000</td>\n",
              "      <td>98.205100</td>\n",
              "      <td>99.487200</td>\n",
              "    </tr>\n",
              "  </tbody>\n",
              "</table>\n",
              "</div>"
            ],
            "text/plain": [
              "       Unnamed: 0           x           y\n",
              "count  142.000000  142.000000  142.000000\n",
              "mean    70.500000   54.263273   47.832253\n",
              "std     41.135953   16.765142   26.935403\n",
              "min      0.000000   22.307700    2.948700\n",
              "25%     35.250000   44.102600   25.288450\n",
              "50%     70.500000   53.333300   46.025600\n",
              "75%    105.750000   64.743600   68.525675\n",
              "max    141.000000   98.205100   99.487200"
            ]
          },
          "metadata": {
            "tags": []
          },
          "execution_count": 17
        }
      ]
    },
    {
      "cell_type": "markdown",
      "metadata": {
        "id": "JBOjBJ7KnHAr",
        "colab_type": "text"
      },
      "source": [
        "## Python Data Structure"
      ]
    },
    {
      "cell_type": "markdown",
      "metadata": {
        "id": "Bk4n1sJYnRPt",
        "colab_type": "text"
      },
      "source": [
        "Variable\n",
        "ตัวอย่างการตั้งชื่อตัวแปร ใช้ = "
      ]
    },
    {
      "cell_type": "code",
      "metadata": {
        "id": "xNk_lYTFnQn1",
        "colab_type": "code",
        "colab": {}
      },
      "source": [
        "a = 1\n",
        "b = 3"
      ],
      "execution_count": 18,
      "outputs": []
    },
    {
      "cell_type": "code",
      "metadata": {
        "id": "GwRWtEixnuTJ",
        "colab_type": "code",
        "colab": {}
      },
      "source": [
        "c = a+ b"
      ],
      "execution_count": 19,
      "outputs": []
    },
    {
      "cell_type": "code",
      "metadata": {
        "id": "afjXW5QAny5B",
        "colab_type": "code",
        "colab": {
          "base_uri": "https://localhost:8080/",
          "height": 34
        },
        "outputId": "e9faf6fc-8aeb-4d3c-ca1e-08b05c7c8f7c"
      },
      "source": [
        "c"
      ],
      "execution_count": 20,
      "outputs": [
        {
          "output_type": "execute_result",
          "data": {
            "text/plain": [
              "4"
            ]
          },
          "metadata": {
            "tags": []
          },
          "execution_count": 20
        }
      ]
    },
    {
      "cell_type": "code",
      "metadata": {
        "id": "-sC1AsErn0AW",
        "colab_type": "code",
        "colab": {}
      },
      "source": [
        "name = 'a'"
      ],
      "execution_count": 21,
      "outputs": []
    },
    {
      "cell_type": "code",
      "metadata": {
        "id": "sF5odV-Yn2rN",
        "colab_type": "code",
        "colab": {
          "base_uri": "https://localhost:8080/",
          "height": 34
        },
        "outputId": "4dee7ba7-2397-4106-e886-705c60cf201d"
      },
      "source": [
        "name"
      ],
      "execution_count": 22,
      "outputs": [
        {
          "output_type": "execute_result",
          "data": {
            "application/vnd.google.colaboratory.intrinsic+json": {
              "type": "string"
            },
            "text/plain": [
              "'a'"
            ]
          },
          "metadata": {
            "tags": []
          },
          "execution_count": 22
        }
      ]
    },
    {
      "cell_type": "code",
      "metadata": {
        "id": "QCCmzwe_n8E_",
        "colab_type": "code",
        "colab": {}
      },
      "source": [
        "one = '1'"
      ],
      "execution_count": 23,
      "outputs": []
    },
    {
      "cell_type": "code",
      "metadata": {
        "id": "TcP0gG9vn-y5",
        "colab_type": "code",
        "colab": {
          "base_uri": "https://localhost:8080/",
          "height": 164
        },
        "outputId": "6e743b61-6450-4b70-8b53-9badef6b5947"
      },
      "source": [
        "a + one"
      ],
      "execution_count": 24,
      "outputs": [
        {
          "output_type": "error",
          "ename": "TypeError",
          "evalue": "ignored",
          "traceback": [
            "\u001b[0;31m---------------------------------------------------------------------------\u001b[0m",
            "\u001b[0;31mTypeError\u001b[0m                                 Traceback (most recent call last)",
            "\u001b[0;32m<ipython-input-24-5fb4ec9c50dc>\u001b[0m in \u001b[0;36m<module>\u001b[0;34m()\u001b[0m\n\u001b[0;32m----> 1\u001b[0;31m \u001b[0ma\u001b[0m \u001b[0;34m+\u001b[0m \u001b[0mone\u001b[0m\u001b[0;34m\u001b[0m\u001b[0;34m\u001b[0m\u001b[0m\n\u001b[0m",
            "\u001b[0;31mTypeError\u001b[0m: unsupported operand type(s) for +: 'int' and 'str'"
          ]
        }
      ]
    },
    {
      "cell_type": "markdown",
      "metadata": {
        "id": "kInyOEagoV_X",
        "colab_type": "text"
      },
      "source": [
        "ตัวอย่างการทำให้ตัวเลขรวมกันตัวอักษรที่เป็นตัวเลขตัวเลขได้ โดยใช้ int"
      ]
    },
    {
      "cell_type": "code",
      "metadata": {
        "id": "s8m-i5ABoPnN",
        "colab_type": "code",
        "colab": {}
      },
      "source": [
        "a + int(one)"
      ],
      "execution_count": null,
      "outputs": []
    },
    {
      "cell_type": "code",
      "metadata": {
        "id": "BlB2nBFWpHA0",
        "colab_type": "code",
        "colab": {}
      },
      "source": [
        "num = '112.76'"
      ],
      "execution_count": null,
      "outputs": []
    },
    {
      "cell_type": "code",
      "metadata": {
        "id": "snTE--SopMEO",
        "colab_type": "code",
        "colab": {}
      },
      "source": [
        "int(num)"
      ],
      "execution_count": null,
      "outputs": []
    },
    {
      "cell_type": "markdown",
      "metadata": {
        "id": "6vpnIB-5pPSd",
        "colab_type": "text"
      },
      "source": [
        "เมื่อค่าในตัวแปรเป็นทศนิยม จะต้องใช้เป็นคำสั่ง float เพื่อเปลี่ยนตัวแปลแทน"
      ]
    },
    {
      "cell_type": "code",
      "metadata": {
        "id": "uWfH830xpaA7",
        "colab_type": "code",
        "colab": {}
      },
      "source": [
        "float(num)"
      ],
      "execution_count": null,
      "outputs": []
    },
    {
      "cell_type": "markdown",
      "metadata": {
        "id": "lYkuPCkeqtSn",
        "colab_type": "text"
      },
      "source": [
        "ตัวอย่างการเปลี่ยนตัวเลขเป็นตัวอักษร"
      ]
    },
    {
      "cell_type": "code",
      "metadata": {
        "id": "zgDg2__tqoJ8",
        "colab_type": "code",
        "colab": {}
      },
      "source": [
        "str(float(num))"
      ],
      "execution_count": null,
      "outputs": []
    },
    {
      "cell_type": "code",
      "metadata": {
        "id": "6IZLM2veqR4l",
        "colab_type": "code",
        "colab": {}
      },
      "source": [
        "num2 = '112.76887'"
      ],
      "execution_count": null,
      "outputs": []
    },
    {
      "cell_type": "markdown",
      "metadata": {
        "id": "9iObhxE1q40j",
        "colab_type": "text"
      },
      "source": [
        "คำสั่ง เปลี่ยนคำ num2 เป็นเลขจำนวนเต็ม 112 โดยใช้ (int() float() str()) เท่านั้น"
      ]
    },
    {
      "cell_type": "code",
      "metadata": {
        "id": "tO9fISVUUxe-",
        "colab_type": "code",
        "colab": {}
      },
      "source": [
        "float(num2)"
      ],
      "execution_count": null,
      "outputs": []
    },
    {
      "cell_type": "markdown",
      "metadata": {
        "id": "2pSPRk54JhqE",
        "colab_type": "text"
      },
      "source": [
        "list()"
      ]
    },
    {
      "cell_type": "markdown",
      "metadata": {
        "id": "2jdrIdBdJli3",
        "colab_type": "text"
      },
      "source": [
        "การสร้างlist สามารถเพิ่มสมาชิกในlist ด้วย [...]"
      ]
    },
    {
      "cell_type": "code",
      "metadata": {
        "id": "-nnnHzhnJZ4J",
        "colab_type": "code",
        "colab": {}
      },
      "source": [
        "list_a = [1,3,7,19]"
      ],
      "execution_count": 26,
      "outputs": []
    },
    {
      "cell_type": "markdown",
      "metadata": {
        "id": "1JxkaiUTJx8I",
        "colab_type": "text"
      },
      "source": [
        "การรันหาสมาชิกในlist ใช้ภาษา C ในการหา เช่นการหาสมาชิกตัวแรกของ list a ใช้ 0 แล้วนับต่อไปเรื่อยๆ  แต่ถ้าตัวสุท้ายใช้ -1 แล้วนับลบลงไปเรื่อยๆ"
      ]
    },
    {
      "cell_type": "code",
      "metadata": {
        "id": "-8nAGqJaJ_1D",
        "colab_type": "code",
        "colab": {
          "base_uri": "https://localhost:8080/",
          "height": 34
        },
        "outputId": "d1c7d8b3-1b08-455b-f91b-db3b9576f129"
      },
      "source": [
        "list_a[0]"
      ],
      "execution_count": 27,
      "outputs": [
        {
          "output_type": "execute_result",
          "data": {
            "text/plain": [
              "1"
            ]
          },
          "metadata": {
            "tags": []
          },
          "execution_count": 27
        }
      ]
    },
    {
      "cell_type": "code",
      "metadata": {
        "id": "e4qeQTMWKI9e",
        "colab_type": "code",
        "colab": {
          "base_uri": "https://localhost:8080/",
          "height": 34
        },
        "outputId": "163c032d-071d-4db1-c6ed-c595ef2d29da"
      },
      "source": [
        "list_a[-1]"
      ],
      "execution_count": 28,
      "outputs": [
        {
          "output_type": "execute_result",
          "data": {
            "text/plain": [
              "19"
            ]
          },
          "metadata": {
            "tags": []
          },
          "execution_count": 28
        }
      ]
    },
    {
      "cell_type": "markdown",
      "metadata": {
        "id": "zcJLUAaZKb-I",
        "colab_type": "text"
      },
      "source": [
        "len คือความยาวของlist ว่ามีสมาชิกกี่ตัว "
      ]
    },
    {
      "cell_type": "code",
      "metadata": {
        "id": "SxldTar1KiOu",
        "colab_type": "code",
        "colab": {
          "base_uri": "https://localhost:8080/",
          "height": 34
        },
        "outputId": "252d6c8d-64c2-4d05-93d2-09e4ec72afa5"
      },
      "source": [
        "len(list_a)"
      ],
      "execution_count": 29,
      "outputs": [
        {
          "output_type": "execute_result",
          "data": {
            "text/plain": [
              "4"
            ]
          },
          "metadata": {
            "tags": []
          },
          "execution_count": 29
        }
      ]
    },
    {
      "cell_type": "markdown",
      "metadata": {
        "id": "2dGXTWWFKpHB",
        "colab_type": "text"
      },
      "source": [
        "โดยใน list สามารถใส่ค่าอะไรก็ได้ลงไปในlist ไม่จำเป็นต้องเป็นตัวเลข จะเป็นตัวหนังสือก็ได้ ข้อความก็ได้ "
      ]
    },
    {
      "cell_type": "code",
      "metadata": {
        "id": "U1AtsZrQK95e",
        "colab_type": "code",
        "colab": {}
      },
      "source": [
        "list_b = [1,4,'thai',['a',3,9]]"
      ],
      "execution_count": 30,
      "outputs": []
    },
    {
      "cell_type": "markdown",
      "metadata": {
        "id": "y8tMY3mYLKhe",
        "colab_type": "text"
      },
      "source": [
        "ถ้าเราต้องการรู้ค่าที่อยู๋ข้างใน list อีกทีสามารถเรียกได้จาก การเลือกตัวสมาชิกในlistก่อนแล้วเลือกตัวสมาชกข้างใน listนั้นอีกที เช่น เลือกตัวสุดท้ายในlist และเลือกตัวแรกในlist สุดท้าย"
      ]
    },
    {
      "cell_type": "code",
      "metadata": {
        "id": "_YqBOmuHLnYg",
        "colab_type": "code",
        "colab": {
          "base_uri": "https://localhost:8080/",
          "height": 34
        },
        "outputId": "50cab804-79c9-4d8a-e3b4-877024166b23"
      },
      "source": [
        "list_b[-1][0]"
      ],
      "execution_count": 31,
      "outputs": [
        {
          "output_type": "execute_result",
          "data": {
            "application/vnd.google.colaboratory.intrinsic+json": {
              "type": "string"
            },
            "text/plain": [
              "'a'"
            ]
          },
          "metadata": {
            "tags": []
          },
          "execution_count": 31
        }
      ]
    },
    {
      "cell_type": "markdown",
      "metadata": {
        "id": "Ld1xi-SNLuqn",
        "colab_type": "text"
      },
      "source": [
        "ใน list จะมีแค่การบวกเพียงอย่างเดียวเท่านั้น โดยเป็นการนำ list มาต่อกัน โดยจะเขียน 2 ค่าคือการบวกกันคือการนำค่ามาต่อกัน แล้วเขียนlistที่รวมย้ำเพื่อให้แสดงค่า"
      ]
    },
    {
      "cell_type": "code",
      "metadata": {
        "id": "j3pmSWrBLt6n",
        "colab_type": "code",
        "colab": {}
      },
      "source": [
        "list_c = list_a + list_b \n",
        "listc"
      ],
      "execution_count": 32,
      "outputs": []
    },
    {
      "cell_type": "markdown",
      "metadata": {
        "id": "2Fi70RulMWx4",
        "colab_type": "text"
      },
      "source": [
        "การสร้าง list ว่างแบบที่ 1 และ 2 โดยคำว่า list นั้นคือฟังก์ชั่นการสร้าง list"
      ]
    },
    {
      "cell_type": "code",
      "metadata": {
        "id": "hA7nBmeFMbq2",
        "colab_type": "code",
        "colab": {}
      },
      "source": [
        "list_a1 = []"
      ],
      "execution_count": 33,
      "outputs": []
    },
    {
      "cell_type": "code",
      "metadata": {
        "id": "ZJy8r1DGMola",
        "colab_type": "code",
        "colab": {}
      },
      "source": [
        "list_a2 = list()"
      ],
      "execution_count": 34,
      "outputs": []
    },
    {
      "cell_type": "markdown",
      "metadata": {
        "id": "iiZz0VGAMz0E",
        "colab_type": "text"
      },
      "source": [
        "การเพิ่มสมาชิกเข้าไปใน list ว่าง คือการใช้ .append "
      ]
    },
    {
      "cell_type": "code",
      "metadata": {
        "id": "PjekpVa3NTx2",
        "colab_type": "code",
        "colab": {
          "base_uri": "https://localhost:8080/",
          "height": 34
        },
        "outputId": "1704a6c8-1299-41e2-f127-b95a98eb5633"
      },
      "source": [
        "list_a1.append(666)\n",
        "list_a1"
      ],
      "execution_count": 37,
      "outputs": [
        {
          "output_type": "execute_result",
          "data": {
            "text/plain": [
              "[666, 666, 666]"
            ]
          },
          "metadata": {
            "tags": []
          },
          "execution_count": 37
        }
      ]
    },
    {
      "cell_type": "code",
      "metadata": {
        "id": "VQq_AaXUOAQn",
        "colab_type": "code",
        "colab": {
          "base_uri": "https://localhost:8080/",
          "height": 51
        },
        "outputId": "c8fab710-3a65-4d28-d1cb-310f5f27d25a"
      },
      "source": [
        "print(list_c)\n",
        "list_c.append(1234)\n",
        "print(list_c)"
      ],
      "execution_count": 40,
      "outputs": [
        {
          "output_type": "stream",
          "text": [
            "[1, 3, 7, 19, 1, 4, 'thai', ['a', 3, 9]]\n",
            "[1, 3, 7, 19, 1, 4, 'thai', ['a', 3, 9], 1234]\n"
          ],
          "name": "stdout"
        }
      ]
    },
    {
      "cell_type": "markdown",
      "metadata": {
        "id": "RtSKZW61O8pi",
        "colab_type": "text"
      },
      "source": [
        "string is a list of characters"
      ]
    },
    {
      "cell_type": "code",
      "metadata": {
        "id": "CTIStdPjO7xD",
        "colab_type": "code",
        "colab": {}
      },
      "source": [
        "word_a = 'statistics KKU'"
      ],
      "execution_count": 46,
      "outputs": []
    },
    {
      "cell_type": "code",
      "metadata": {
        "id": "ivCxgEPsPJUO",
        "colab_type": "code",
        "colab": {
          "base_uri": "https://localhost:8080/",
          "height": 34
        },
        "outputId": "68bcbdf0-3600-4280-b615-0ab63a02f514"
      },
      "source": [
        "word_a[-1]"
      ],
      "execution_count": 47,
      "outputs": [
        {
          "output_type": "execute_result",
          "data": {
            "application/vnd.google.colaboratory.intrinsic+json": {
              "type": "string"
            },
            "text/plain": [
              "'U'"
            ]
          },
          "metadata": {
            "tags": []
          },
          "execution_count": 47
        }
      ]
    },
    {
      "cell_type": "code",
      "metadata": {
        "id": "7nJ9e-BFPdCI",
        "colab_type": "code",
        "colab": {
          "base_uri": "https://localhost:8080/",
          "height": 34
        },
        "outputId": "0c2dc8ce-e862-4a81-c082-099a86afc40f"
      },
      "source": [
        "word_a + ' Thailand'"
      ],
      "execution_count": 48,
      "outputs": [
        {
          "output_type": "execute_result",
          "data": {
            "application/vnd.google.colaboratory.intrinsic+json": {
              "type": "string"
            },
            "text/plain": [
              "'statistics KKU Thailand'"
            ]
          },
          "metadata": {
            "tags": []
          },
          "execution_count": 48
        }
      ]
    },
    {
      "cell_type": "code",
      "metadata": {
        "id": "RbKM9XVEP4Wg",
        "colab_type": "code",
        "colab": {
          "base_uri": "https://localhost:8080/",
          "height": 34
        },
        "outputId": "cb7b7228-e8f6-42c8-a578-a87bad94916f"
      },
      "source": [
        "len(word_a)"
      ],
      "execution_count": 49,
      "outputs": [
        {
          "output_type": "execute_result",
          "data": {
            "text/plain": [
              "14"
            ]
          },
          "metadata": {
            "tags": []
          },
          "execution_count": 49
        }
      ]
    },
    {
      "cell_type": "markdown",
      "metadata": {
        "id": "wip0ehEfQkRA",
        "colab_type": "text"
      },
      "source": [
        "f คือการ fromat ของ string คือการจัดรูปแบบ"
      ]
    },
    {
      "cell_type": "code",
      "metadata": {
        "id": "m0ZBPwYUQZ_2",
        "colab_type": "code",
        "colab": {
          "base_uri": "https://localhost:8080/",
          "height": 34
        },
        "outputId": "6d5469d4-756f-4a51-b5df-d631319c6233"
      },
      "source": [
        "st_x = f'list_c = {list_c}'\n",
        "st_x"
      ],
      "execution_count": 55,
      "outputs": [
        {
          "output_type": "execute_result",
          "data": {
            "application/vnd.google.colaboratory.intrinsic+json": {
              "type": "string"
            },
            "text/plain": [
              "\"list_c = [1, 3, 7, 19, 1, 4, 'thai', ['a', 3, 9], 1234]\""
            ]
          },
          "metadata": {
            "tags": []
          },
          "execution_count": 55
        }
      ]
    },
    {
      "cell_type": "markdown",
      "metadata": {
        "id": "0VdLAK8DQRUW",
        "colab_type": "text"
      },
      "source": [
        "ความสามารถพิเศษของ string ใน python เราสามารถแทรกตัวแปรอะไรใส่ก็ได้"
      ]
    },
    {
      "cell_type": "code",
      "metadata": {
        "id": "jWvyvrQ-Q0V6",
        "colab_type": "code",
        "colab": {
          "base_uri": "https://localhost:8080/",
          "height": 34
        },
        "outputId": "a3a585aa-64a1-4ab4-8820-9c6dd6833625"
      },
      "source": [
        "f'modulo example -> 4 mad 3 = {4%3}'"
      ],
      "execution_count": 52,
      "outputs": [
        {
          "output_type": "execute_result",
          "data": {
            "application/vnd.google.colaboratory.intrinsic+json": {
              "type": "string"
            },
            "text/plain": [
              "'modulo example -> 4 mad 3 = 1'"
            ]
          },
          "metadata": {
            "tags": []
          },
          "execution_count": 52
        }
      ]
    },
    {
      "cell_type": "markdown",
      "metadata": {
        "id": "Eq0Xy4y1RAKv",
        "colab_type": "text"
      },
      "source": [
        "% คือการหาเศษ "
      ]
    },
    {
      "cell_type": "markdown",
      "metadata": {
        "id": "BE2PHcGFR0tQ",
        "colab_type": "text"
      },
      "source": [
        ".split คือคำสั่งแยก"
      ]
    },
    {
      "cell_type": "code",
      "metadata": {
        "id": "w4inFxBpSH6O",
        "colab_type": "code",
        "colab": {
          "base_uri": "https://localhost:8080/",
          "height": 221
        },
        "outputId": "bf140904-f179-442d-cb6e-06b198197ec5"
      },
      "source": [
        "print(st_x)\n",
        "st_x.split(',')"
      ],
      "execution_count": 57,
      "outputs": [
        {
          "output_type": "stream",
          "text": [
            "list_c = [1, 3, 7, 19, 1, 4, 'thai', ['a', 3, 9], 1234]\n"
          ],
          "name": "stdout"
        },
        {
          "output_type": "execute_result",
          "data": {
            "text/plain": [
              "['list_c = [1',\n",
              " ' 3',\n",
              " ' 7',\n",
              " ' 19',\n",
              " ' 1',\n",
              " ' 4',\n",
              " \" 'thai'\",\n",
              " \" ['a'\",\n",
              " ' 3',\n",
              " ' 9]',\n",
              " ' 1234]']"
            ]
          },
          "metadata": {
            "tags": []
          },
          "execution_count": 57
        }
      ]
    },
    {
      "cell_type": "code",
      "metadata": {
        "id": "2-jEe4-YTd9P",
        "colab_type": "code",
        "colab": {
          "base_uri": "https://localhost:8080/",
          "height": 51
        },
        "outputId": "365c9cd5-3e8f-4469-a243-41dec8348404"
      },
      "source": [
        "print(st_x)\n",
        "st_x.split(', ')"
      ],
      "execution_count": 58,
      "outputs": [
        {
          "output_type": "stream",
          "text": [
            "list_c = [1, 3, 7, 19, 1, 4, 'thai', ['a', 3, 9], 1234]\n"
          ],
          "name": "stdout"
        },
        {
          "output_type": "execute_result",
          "data": {
            "text/plain": [
              "['list_c = [1', '3', '7', '19', '1', '4', \"'thai'\", \"['a'\", '3', '9]', '1234]']"
            ]
          },
          "metadata": {
            "tags": []
          },
          "execution_count": 58
        }
      ]
    },
    {
      "cell_type": "markdown",
      "metadata": {
        "id": "1oJkfB60Tqdw",
        "colab_type": "text"
      },
      "source": [
        "loop"
      ]
    },
    {
      "cell_type": "code",
      "metadata": {
        "id": "SXYrwUU3TrBZ",
        "colab_type": "code",
        "colab": {
          "base_uri": "https://localhost:8080/",
          "height": 153
        },
        "outputId": "ac2c1be0-d589-4d33-b4e4-7f9a223f22f2"
      },
      "source": [
        "for i in [1,2,3,4] :\n",
        "     print(f'first line {i}')\n",
        "     print(f'second line {2*i}')"
      ],
      "execution_count": 63,
      "outputs": [
        {
          "output_type": "stream",
          "text": [
            "first line 1\n",
            "second line 2\n",
            "first line 2\n",
            "second line 4\n",
            "first line 3\n",
            "second line 6\n",
            "first line 4\n",
            "second line 8\n"
          ],
          "name": "stdout"
        }
      ]
    },
    {
      "cell_type": "markdown",
      "metadata": {
        "id": "YilN4mEWUaOh",
        "colab_type": "text"
      },
      "source": [
        "โดยการเว้นว่างคือการจัด spac ให้เท่ากัน "
      ]
    },
    {
      "cell_type": "code",
      "metadata": {
        "id": "4ATgDXZsUgZp",
        "colab_type": "code",
        "colab": {
          "base_uri": "https://localhost:8080/",
          "height": 85
        },
        "outputId": "f599352d-10a4-4248-e9e5-e5c048bd9f09"
      },
      "source": [
        "for i in [1,2,3,4] :\n",
        "     print('HaHaHa')"
      ],
      "execution_count": 65,
      "outputs": [
        {
          "output_type": "stream",
          "text": [
            "HaHaHa\n",
            "HaHaHa\n",
            "HaHaHa\n",
            "HaHaHa\n"
          ],
          "name": "stdout"
        }
      ]
    },
    {
      "cell_type": "code",
      "metadata": {
        "id": "r5Taiu6cWDet",
        "colab_type": "code",
        "colab": {
          "base_uri": "https://localhost:8080/",
          "height": 85
        },
        "outputId": "ee4452b5-4c93-4a28-b374-d40049056501"
      },
      "source": [
        "for x in list_a : \n",
        "     print(x)"
      ],
      "execution_count": 66,
      "outputs": [
        {
          "output_type": "stream",
          "text": [
            "1\n",
            "3\n",
            "7\n",
            "19\n"
          ],
          "name": "stdout"
        }
      ]
    },
    {
      "cell_type": "markdown",
      "metadata": {
        "id": "N14vORYtWbic",
        "colab_type": "text"
      },
      "source": [
        "range คือการสร้าง list ที่ไล่ตั้งแต่ 0 ถึงเลขก่อนหน้า"
      ]
    },
    {
      "cell_type": "code",
      "metadata": {
        "id": "T4cG6d83Whaa",
        "colab_type": "code",
        "colab": {
          "base_uri": "https://localhost:8080/",
          "height": 34
        },
        "outputId": "c926e972-f96d-4e52-e804-37f6c5b13db8"
      },
      "source": [
        "range(6)"
      ],
      "execution_count": 67,
      "outputs": [
        {
          "output_type": "execute_result",
          "data": {
            "text/plain": [
              "range(0, 6)"
            ]
          },
          "metadata": {
            "tags": []
          },
          "execution_count": 67
        }
      ]
    },
    {
      "cell_type": "code",
      "metadata": {
        "id": "Pe5eBmOLWnpr",
        "colab_type": "code",
        "colab": {
          "base_uri": "https://localhost:8080/",
          "height": 119
        },
        "outputId": "292cf620-067c-4c58-b4cc-d1d194335f83"
      },
      "source": [
        "for i in range(6) :\n",
        "     print(i)"
      ],
      "execution_count": 69,
      "outputs": [
        {
          "output_type": "stream",
          "text": [
            "0\n",
            "1\n",
            "2\n",
            "3\n",
            "4\n",
            "5\n"
          ],
          "name": "stdout"
        }
      ]
    },
    {
      "cell_type": "code",
      "metadata": {
        "id": "bJQAO0OvXQMa",
        "colab_type": "code",
        "colab": {
          "base_uri": "https://localhost:8080/",
          "height": 323
        },
        "outputId": "5e71aba1-d1bf-40a7-d72d-bdcc3edc20d1"
      },
      "source": [
        "for i in range(6) :\n",
        "     for j in range(3) :\n",
        "          print(f'i = {i},{j} ixj = {i*j}')"
      ],
      "execution_count": 70,
      "outputs": [
        {
          "output_type": "stream",
          "text": [
            "i = 0,0 ixj = 0\n",
            "i = 0,1 ixj = 0\n",
            "i = 0,2 ixj = 0\n",
            "i = 1,0 ixj = 0\n",
            "i = 1,1 ixj = 1\n",
            "i = 1,2 ixj = 2\n",
            "i = 2,0 ixj = 0\n",
            "i = 2,1 ixj = 2\n",
            "i = 2,2 ixj = 4\n",
            "i = 3,0 ixj = 0\n",
            "i = 3,1 ixj = 3\n",
            "i = 3,2 ixj = 6\n",
            "i = 4,0 ixj = 0\n",
            "i = 4,1 ixj = 4\n",
            "i = 4,2 ixj = 8\n",
            "i = 5,0 ixj = 0\n",
            "i = 5,1 ixj = 5\n",
            "i = 5,2 ixj = 10\n"
          ],
          "name": "stdout"
        }
      ]
    },
    {
      "cell_type": "code",
      "metadata": {
        "id": "bxZm3GzdYGEe",
        "colab_type": "code",
        "colab": {
          "base_uri": "https://localhost:8080/",
          "height": 272
        },
        "outputId": "699b1ceb-c3e5-4442-af48-c3b722698f9d"
      },
      "source": [
        "for i in range(3) :\n",
        "     print('start inner')\n",
        "     for j in range(3) :\n",
        "          print(f'i = {i},j = {j} ixj = {i*j}')\n",
        "     print('end inner')"
      ],
      "execution_count": 78,
      "outputs": [
        {
          "output_type": "stream",
          "text": [
            "start inner\n",
            "i = 0,j = 0 ixj = 0\n",
            "i = 0,j = 1 ixj = 0\n",
            "i = 0,j = 2 ixj = 0\n",
            "end inner\n",
            "start inner\n",
            "i = 1,j = 0 ixj = 0\n",
            "i = 1,j = 1 ixj = 1\n",
            "i = 1,j = 2 ixj = 2\n",
            "end inner\n",
            "start inner\n",
            "i = 2,j = 0 ixj = 0\n",
            "i = 2,j = 1 ixj = 2\n",
            "i = 2,j = 2 ixj = 4\n",
            "end inner\n"
          ],
          "name": "stdout"
        }
      ]
    },
    {
      "cell_type": "markdown",
      "metadata": {
        "id": "xXlLHVN5Zi1Y",
        "colab_type": "text"
      },
      "source": [
        "if statement คือการเช้คเงื่อนไข "
      ]
    },
    {
      "cell_type": "code",
      "metadata": {
        "id": "w52tYEVJZiia",
        "colab_type": "code",
        "colab": {
          "base_uri": "https://localhost:8080/",
          "height": 34
        },
        "outputId": "15798c79-87a1-426d-d378-ab4667b5e519"
      },
      "source": [
        "stringX = 'abcdefghijklmnopq'\n",
        "if len(stringX) > 100:\n",
        "   print('StringX is longer rhan 6')"
      ],
      "execution_count": 79,
      "outputs": [
        {
          "output_type": "stream",
          "text": [
            "StringX is longer rhan 6\n"
          ],
          "name": "stdout"
        }
      ]
    },
    {
      "cell_type": "code",
      "metadata": {
        "id": "1FYKqwJfaQEo",
        "colab_type": "code",
        "colab": {
          "base_uri": "https://localhost:8080/",
          "height": 34
        },
        "outputId": "e0a758c0-35c7-4457-e6c7-77d0898da648"
      },
      "source": [
        "stringX = 'abcdefghijklmnopq'\n",
        "if len(stringX) > 100:\n",
        "   print('StringX is longer rhan 6')\n",
        "else : \n",
        "   print('XXX')"
      ],
      "execution_count": 80,
      "outputs": [
        {
          "output_type": "stream",
          "text": [
            "XXX\n"
          ],
          "name": "stdout"
        }
      ]
    },
    {
      "cell_type": "code",
      "metadata": {
        "id": "c92-uC7da6tF",
        "colab_type": "code",
        "colab": {
          "base_uri": "https://localhost:8080/",
          "height": 34
        },
        "outputId": "49039e36-ad09-4f52-b567-fb01fe9b3871"
      },
      "source": [
        "stringX = 'abcdefghijklmnopq'\n",
        "if len(stringX) < 10:\n",
        "   print('StringX is longer rhan 6')\n",
        "elif len(stringX) == 17 : \n",
        "   print(stringX)\n",
        "else :\n",
        "   print('XXX')"
      ],
      "execution_count": 84,
      "outputs": [
        {
          "output_type": "stream",
          "text": [
            "abcdefghijklmnopq\n"
          ],
          "name": "stdout"
        }
      ]
    },
    {
      "cell_type": "markdown",
      "metadata": {
        "id": "4LgaKIjHcJ7-",
        "colab_type": "text"
      },
      "source": [
        "## Exercise 1"
      ]
    },
    {
      "cell_type": "markdown",
      "metadata": {
        "id": "Iuq-zOt3cPb9",
        "colab_type": "text"
      },
      "source": [
        "หาค่ามากที่สุดใน list_EX = [-4,-1,-9,8,11] โดยไม่ใช้ function max()"
      ]
    },
    {
      "cell_type": "code",
      "metadata": {
        "id": "D5lcZXeTcJpT",
        "colab_type": "code",
        "colab": {
          "base_uri": "https://localhost:8080/",
          "height": 102
        },
        "outputId": "f0ef6fef-da31-41ac-ef00-ccda4cf2b366"
      },
      "source": [
        "list_EX = [-4,-1,-9,8,11]\n",
        "MAXIMUM = -1000000\n",
        "for i in list_EX :\n",
        "     if i > MAXIMUM :\n",
        "             MAXIMUM = i \n",
        "             print (f' now maximum is {MAXIMUM}')\n",
        "print(f' Answer is {MAXIMUM} is the maximum number of {list_EX}')"
      ],
      "execution_count": 90,
      "outputs": [
        {
          "output_type": "stream",
          "text": [
            " now maximum is -4\n",
            " now maximum is -1\n",
            " now maximum is 8\n",
            " now maximum is 11\n",
            " Answer is 11 is the maximum number of [-4, -1, -9, 8, 11]\n"
          ],
          "name": "stdout"
        }
      ]
    },
    {
      "cell_type": "markdown",
      "metadata": {
        "id": "F8dJUU44f6HH",
        "colab_type": "text"
      },
      "source": [
        "วิธีทำเริ่มจาก ตั้งค่าmaxให้น้อยไว้ก่อน แล้วให้ว่าถ้าสมาชิกตัวแรกมากกว่าที่ตั้ง ก็เปลี่ยนค่าตัวหน้าเป็น max แทนแล้วเช็คตัวที่ 2,3,4 ไปเรื่อยๆ     "
      ]
    },
    {
      "cell_type": "code",
      "metadata": {
        "id": "V04G_7VBgvh2",
        "colab_type": "code",
        "colab": {
          "base_uri": "https://localhost:8080/",
          "height": 119
        },
        "outputId": "48ca6470-2b08-44b9-8629-d847fd146a76"
      },
      "source": [
        "list_EX = [-4,-1,-9,8,11]\n",
        "MAXIMUM = -1000000\n",
        "for i in list_EX :\n",
        "     if i > MAXIMUM :\n",
        "             print(f'{i}>{MAXIMUM} UPDATE!,' , end=' ')\n",
        "             MAXIMUM = i \n",
        "             print (f'{i}>{MAXIMUM} UPDATE!, now maximum is {MAXIMUM}')\n",
        "     else : \n",
        "             print(f'{i}<{MAXIMUM} NOT UPDATE!, now maximum is {MAXIMUM}')\n",
        "print(f' Answer is {MAXIMUM} is the maximum number of {list_EX}')"
      ],
      "execution_count": 91,
      "outputs": [
        {
          "output_type": "stream",
          "text": [
            "-4>-1000000 UPDATE!, -4>-4 UPDATE!, now maximum is -4\n",
            "-1>-4 UPDATE!, -1>-1 UPDATE!, now maximum is -1\n",
            "-9<-1 NOT UPDATE!, now maximum is -1\n",
            "8>-1 UPDATE!, 8>8 UPDATE!, now maximum is 8\n",
            "11>8 UPDATE!, 11>11 UPDATE!, now maximum is 11\n",
            " Answer is 11 is the maximum number of [-4, -1, -9, 8, 11]\n"
          ],
          "name": "stdout"
        }
      ]
    },
    {
      "cell_type": "markdown",
      "metadata": {
        "id": "rFSkAI36e0r_",
        "colab_type": "text"
      },
      "source": [
        "## HW"
      ]
    },
    {
      "cell_type": "markdown",
      "metadata": {
        "id": "baugkzVde3mf",
        "colab_type": "text"
      },
      "source": [
        "เรียงลำดับค่าใน list_EX = [-4,-1,-9,8,11] จากค่ามากที่สุดไปน้อยที่สุด\n",
        "โดยไม่ใช้ funtion sort()"
      ]
    },
    {
      "cell_type": "markdown",
      "metadata": {
        "id": "Cs2dHi6Ej1sA",
        "colab_type": "text"
      },
      "source": [
        "## Funtion()"
      ]
    },
    {
      "cell_type": "markdown",
      "metadata": {
        "id": "uPFljQVfj6uR",
        "colab_type": "text"
      },
      "source": [
        "funtion คือการทำงานที่แปลงค่าข้อมูล input แล้ว output ออกมา"
      ]
    },
    {
      "cell_type": "markdown",
      "metadata": {
        "id": "qtd0E2PqnRq2",
        "colab_type": "text"
      },
      "source": [
        "การสร้าง funtion"
      ]
    },
    {
      "cell_type": "code",
      "metadata": {
        "id": "YGLVrG96j5xL",
        "colab_type": "code",
        "colab": {}
      },
      "source": [
        "def find_max(in_list) :\n",
        "      MAXIMUM = -1000000\n",
        "      for i in in_list : \n",
        "           if i > MAXIMUM :\n",
        "              print(f'{i}>{MAXIMUM} UPDATE!,' , end=' ')\n",
        "              MAXIMUM = i \n",
        "              print (f'now maximum is {MAXIMUM}')\n",
        "           else : \n",
        "              print(f'{i}<{MAXIMUM} NOT UPDATE!, now maximum is {MAXIMUM}')\n",
        "      print(f'the answer is {MAXIMUM} is the maximum number of {in_list}')"
      ],
      "execution_count": 107,
      "outputs": []
    },
    {
      "cell_type": "markdown",
      "metadata": {
        "id": "Ck_Df_vRnWRg",
        "colab_type": "text"
      },
      "source": [
        "การหาค่า max ใน list ของfuntion"
      ]
    },
    {
      "cell_type": "code",
      "metadata": {
        "id": "wNSxCMxOnc2B",
        "colab_type": "code",
        "colab": {
          "base_uri": "https://localhost:8080/",
          "height": 119
        },
        "outputId": "4016d6cf-9a44-4d22-b393-58cf45c8f29d"
      },
      "source": [
        "find_max([12,16666,912312,-2,77])"
      ],
      "execution_count": 108,
      "outputs": [
        {
          "output_type": "stream",
          "text": [
            "12>-1000000 UPDATE!, now maximum is 12\n",
            "16666>12 UPDATE!, now maximum is 16666\n",
            "912312>16666 UPDATE!, now maximum is 912312\n",
            "-2<912312 NOT UPDATE!, now maximum is 912312\n",
            "77<912312 NOT UPDATE!, now maximum is 912312\n",
            "the answer is 912312 is the maximum number of [12, 16666, 912312, -2, 77]\n"
          ],
          "name": "stdout"
        }
      ]
    },
    {
      "cell_type": "markdown",
      "metadata": {
        "id": "v0FlA3RHoQpj",
        "colab_type": "text"
      },
      "source": [
        "เมื่อต้องการ output ไปใช้ต่อต้องมีการ return ข้อมูลหรือส่งตัวแปรกลับมา "
      ]
    },
    {
      "cell_type": "code",
      "metadata": {
        "id": "dXcKLzrQocVy",
        "colab_type": "code",
        "colab": {
          "base_uri": "https://localhost:8080/",
          "height": 119
        },
        "outputId": "696fbc6b-3551-4f36-8f6b-c537b8cf85bc"
      },
      "source": [
        "a = find_max([12,1666,912312,-2,77])"
      ],
      "execution_count": 109,
      "outputs": [
        {
          "output_type": "stream",
          "text": [
            "12>-1000000 UPDATE!, now maximum is 12\n",
            "1666>12 UPDATE!, now maximum is 1666\n",
            "912312>1666 UPDATE!, now maximum is 912312\n",
            "-2<912312 NOT UPDATE!, now maximum is 912312\n",
            "77<912312 NOT UPDATE!, now maximum is 912312\n",
            "the answer is 912312 is the maximum number of [12, 1666, 912312, -2, 77]\n"
          ],
          "name": "stdout"
        }
      ]
    }
  ]
}