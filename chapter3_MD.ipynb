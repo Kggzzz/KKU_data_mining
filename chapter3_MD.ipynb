{
  "nbformat": 4,
  "nbformat_minor": 0,
  "metadata": {
    "colab": {
      "name": "chapter3.MD",
      "provenance": [],
      "authorship_tag": "ABX9TyOK1xX2N0OWdDvbkEiwn7PQ",
      "include_colab_link": true
    },
    "kernelspec": {
      "name": "python3",
      "display_name": "Python 3"
    }
  },
  "cells": [
    {
      "cell_type": "markdown",
      "metadata": {
        "id": "view-in-github",
        "colab_type": "text"
      },
      "source": [
        "<a href=\"https://colab.research.google.com/github/Kggzzz/KKU_data_mining/blob/master/chapter3_MD.ipynb\" target=\"_parent\"><img src=\"https://colab.research.google.com/assets/colab-badge.svg\" alt=\"Open In Colab\"/></a>"
      ]
    },
    {
      "cell_type": "markdown",
      "metadata": {
        "id": "KsiQEVGR-LJt",
        "colab_type": "text"
      },
      "source": [
        "## เนื้อหาที่ได้จากในคาบ "
      ]
    },
    {
      "cell_type": "code",
      "metadata": {
        "id": "LzQmtslZ9_9S",
        "colab_type": "code",
        "colab": {}
      },
      "source": [
        ""
      ],
      "execution_count": null,
      "outputs": []
    }
  ]
}