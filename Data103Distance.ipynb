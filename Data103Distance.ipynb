{
  "nbformat": 4,
  "nbformat_minor": 0,
  "metadata": {
    "colab": {
      "name": "Data103Distance.ipynb",
      "provenance": [],
      "authorship_tag": "ABX9TyP9pBIXkLgeCjo/KSbhzpxI",
      "include_colab_link": true
    },
    "kernelspec": {
      "name": "python3",
      "display_name": "Python 3"
    }
  },
  "cells": [
    {
      "cell_type": "markdown",
      "metadata": {
        "id": "view-in-github",
        "colab_type": "text"
      },
      "source": [
        "<a href=\"https://colab.research.google.com/github/Kggzzz/KKU_data_mining/blob/master/Data103Distance.ipynb\" target=\"_parent\"><img src=\"https://colab.research.google.com/assets/colab-badge.svg\" alt=\"Open In Colab\"/></a>"
      ]
    },
    {
      "cell_type": "code",
      "metadata": {
        "id": "PdVtp7A1sgrg",
        "colab_type": "code",
        "colab": {}
      },
      "source": [
        "import numpy as np"
      ],
      "execution_count": 2,
      "outputs": []
    },
    {
      "cell_type": "markdown",
      "metadata": {
        "id": "LNbX3eQQsqz1",
        "colab_type": "text"
      },
      "source": [
        "# numpy array"
      ]
    },
    {
      "cell_type": "code",
      "metadata": {
        "id": "vrfIWaHrst2F",
        "colab_type": "code",
        "colab": {
          "base_uri": "https://localhost:8080/",
          "height": 53
        },
        "outputId": "d84e32f5-7e49-4c6e-bd07-9b06965c7aef"
      },
      "source": [
        "np1 = np.array([[1,3,5],[2,4,6]])\n",
        "np1"
      ],
      "execution_count": 3,
      "outputs": [
        {
          "output_type": "execute_result",
          "data": {
            "text/plain": [
              "array([[1, 3, 5],\n",
              "       [2, 4, 6]])"
            ]
          },
          "metadata": {
            "tags": []
          },
          "execution_count": 3
        }
      ]
    },
    {
      "cell_type": "markdown",
      "metadata": {
        "id": "_bIYxGvWtSSr",
        "colab_type": "text"
      },
      "source": [
        "ตัวอย่างการสร้าง numpy arrayตามสไลด์แลคเชอร์"
      ]
    },
    {
      "cell_type": "code",
      "metadata": {
        "id": "YqzL_rQXtoCO",
        "colab_type": "code",
        "colab": {}
      },
      "source": [
        ""
      ],
      "execution_count": null,
      "outputs": []
    },
    {
      "cell_type": "markdown",
      "metadata": {
        "id": "V8vew3VxvHwv",
        "colab_type": "text"
      },
      "source": [
        "## HW 6 \n",
        "สร้าง Distance metrix (Eucluidean) ของ np2\n",
        "โดยสร้าง function สำหรับคำนวณ Manhattan  Distance และ Euclidean Distance \n",
        "\n",
        "def Euclidean(data1,data2) :\n",
        "#process \n",
        "return dist"
      ]
    },
    {
      "cell_type": "code",
      "metadata": {
        "id": "l-ql7Ay1wC-L",
        "colab_type": "code",
        "colab": {}
      },
      "source": [
        "def manhattan(data1,dat2):\n",
        "    disxtX = data1[0]-data2[0]\n",
        "    return distX"
      ],
      "execution_count": 6,
      "outputs": []
    },
    {
      "cell_type": "code",
      "metadata": {
        "id": "o4Sp5vP6wjyr",
        "colab_type": "code",
        "colab": {
          "base_uri": "https://localhost:8080/",
          "height": 171
        },
        "outputId": "2708de02-91e6-4536-f720-b4f54d2604d9"
      },
      "source": [
        "manhattan(np2[0,:],np2[1,:])"
      ],
      "execution_count": 8,
      "outputs": [
        {
          "output_type": "error",
          "ename": "NameError",
          "evalue": "ignored",
          "traceback": [
            "\u001b[0;31m---------------------------------------------------------------------------\u001b[0m",
            "\u001b[0;31mNameError\u001b[0m                                 Traceback (most recent call last)",
            "\u001b[0;32m<ipython-input-8-14c32eb3c729>\u001b[0m in \u001b[0;36m<module>\u001b[0;34m()\u001b[0m\n\u001b[0;32m----> 1\u001b[0;31m \u001b[0mmanhattan\u001b[0m\u001b[0;34m(\u001b[0m\u001b[0mnp2\u001b[0m\u001b[0;34m[\u001b[0m\u001b[0;36m0\u001b[0m\u001b[0;34m,\u001b[0m\u001b[0;34m:\u001b[0m\u001b[0;34m]\u001b[0m\u001b[0;34m,\u001b[0m\u001b[0mnp2\u001b[0m\u001b[0;34m[\u001b[0m\u001b[0;36m1\u001b[0m\u001b[0;34m,\u001b[0m\u001b[0;34m:\u001b[0m\u001b[0;34m]\u001b[0m\u001b[0;34m)\u001b[0m\u001b[0;34m\u001b[0m\u001b[0;34m\u001b[0m\u001b[0m\n\u001b[0m",
            "\u001b[0;31mNameError\u001b[0m: name 'np2' is not defined"
          ]
        }
      ]
    }
  ]
}