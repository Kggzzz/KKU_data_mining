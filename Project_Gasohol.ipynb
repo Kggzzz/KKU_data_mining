{
  "nbformat": 4,
  "nbformat_minor": 0,
  "metadata": {
    "colab": {
      "name": "Project_Gasohol.ipynb",
      "provenance": [],
      "authorship_tag": "ABX9TyOUZS+Mmz/RyqqzFkY2onDh",
      "include_colab_link": true
    },
    "kernelspec": {
      "name": "python3",
      "display_name": "Python 3"
    }
  },
  "cells": [
    {
      "cell_type": "markdown",
      "metadata": {
        "id": "view-in-github",
        "colab_type": "text"
      },
      "source": [
        "<a href=\"https://colab.research.google.com/github/Kggzzz/KKU_data_mining/blob/master/Project_Gasohol.ipynb\" target=\"_parent\"><img src=\"https://colab.research.google.com/assets/colab-badge.svg\" alt=\"Open In Colab\"/></a>"
      ]
    },
    {
      "cell_type": "code",
      "metadata": {
        "id": "pODCTEnmgCnY",
        "outputId": "7e36e6fe-beba-4915-e61b-7ffdf37f40f1",
        "colab": {
          "base_uri": "https://localhost:8080/"
        }
      },
      "source": [
        "from google.colab import drive \n",
        "drive.mount('/content/drive')"
      ],
      "execution_count": 38,
      "outputs": [
        {
          "output_type": "stream",
          "text": [
            "Drive already mounted at /content/drive; to attempt to forcibly remount, call drive.mount(\"/content/drive\", force_remount=True).\n"
          ],
          "name": "stdout"
        }
      ]
    },
    {
      "cell_type": "code",
      "metadata": {
        "id": "T0JHAQUSgaFU"
      },
      "source": [
        "path = '/content/drive/My Drive/Project_Mining'\n",
        "#path คือ การสร้างตัวแปรเป็นที่อยู่ของไฟล์"
      ],
      "execution_count": 39,
      "outputs": []
    },
    {
      "cell_type": "code",
      "metadata": {
        "id": "V2WqLhJAgfta"
      },
      "source": [
        "import os\n",
        "import pandas as pd"
      ],
      "execution_count": 40,
      "outputs": []
    },
    {
      "cell_type": "code",
      "metadata": {
        "id": "nHDzXzUGginT"
      },
      "source": [
        "SH_E20 = os.path.join(path,'SH_E20.csv')  #สร้างที่อยู่โดยใช้ os.path.join\n",
        "SH_E91 = os.path.join(path,'SH_E91.csv')"
      ],
      "execution_count": 41,
      "outputs": []
    },
    {
      "cell_type": "code",
      "metadata": {
        "id": "LfVMmohpkM8K",
        "outputId": "ba72d290-feb2-4df3-8d28-e6fae6893207",
        "colab": {
          "base_uri": "https://localhost:8080/",
          "height": 435
        }
      },
      "source": [
        "SH_E20_df = pandas.read_csv(SH_E20)\n",
        "SH_E20_df"
      ],
      "execution_count": 42,
      "outputs": [
        {
          "output_type": "execute_result",
          "data": {
            "text/html": [
              "<div>\n",
              "<style scoped>\n",
              "    .dataframe tbody tr th:only-of-type {\n",
              "        vertical-align: middle;\n",
              "    }\n",
              "\n",
              "    .dataframe tbody tr th {\n",
              "        vertical-align: top;\n",
              "    }\n",
              "\n",
              "    .dataframe thead th {\n",
              "        text-align: right;\n",
              "    }\n",
              "</style>\n",
              "<table border=\"1\" class=\"dataframe\">\n",
              "  <thead>\n",
              "    <tr style=\"text-align: right;\">\n",
              "      <th></th>\n",
              "      <th>ลำดับที่</th>\n",
              "      <th>จังหวัด</th>\n",
              "      <th>ปตท.</th>\n",
              "      <th>เชลล์</th>\n",
              "      <th>เอสโซ่</th>\n",
              "      <th>เชฟรอน(ไทย)</th>\n",
              "      <th>บางจาก</th>\n",
              "      <th>ซัสโก้</th>\n",
              "      <th>พีทีจี</th>\n",
              "      <th>ไทยออยล์</th>\n",
              "      <th>ซัสโก้ ดีลเลอร์ส</th>\n",
              "      <th>สยามเฆมี</th>\n",
              "      <th>ปตท. ค้าปลีก</th>\n",
              "      <th>ปตท. น้ำมันและการค้าปลีก</th>\n",
              "      <th>ปริมาณ /พันลิตร รวมทั้งสิ้น</th>\n",
              "    </tr>\n",
              "  </thead>\n",
              "  <tbody>\n",
              "    <tr>\n",
              "      <th>0</th>\n",
              "      <td>NaN</td>\n",
              "      <td>กรุงเทพฯ และปริมณฑล</td>\n",
              "      <td>2,033</td>\n",
              "      <td>12,012</td>\n",
              "      <td>11,788</td>\n",
              "      <td>1,513</td>\n",
              "      <td>17,163</td>\n",
              "      <td>553.0</td>\n",
              "      <td>107.0</td>\n",
              "      <td>NaN</td>\n",
              "      <td>352.0</td>\n",
              "      <td>4.0</td>\n",
              "      <td>5,546</td>\n",
              "      <td>15,499</td>\n",
              "      <td>66,571</td>\n",
              "    </tr>\n",
              "    <tr>\n",
              "      <th>1</th>\n",
              "      <td>1.0</td>\n",
              "      <td>กรุงเทพมหานคร</td>\n",
              "      <td>1,587</td>\n",
              "      <td>8,336</td>\n",
              "      <td>7,983</td>\n",
              "      <td>837</td>\n",
              "      <td>10,568</td>\n",
              "      <td>431.0</td>\n",
              "      <td>59.0</td>\n",
              "      <td>NaN</td>\n",
              "      <td>230.0</td>\n",
              "      <td>4.0</td>\n",
              "      <td>1,957</td>\n",
              "      <td>8,695</td>\n",
              "      <td>40,687</td>\n",
              "    </tr>\n",
              "    <tr>\n",
              "      <th>2</th>\n",
              "      <td>2.0</td>\n",
              "      <td>สมุทรปราการ</td>\n",
              "      <td>250</td>\n",
              "      <td>1,365</td>\n",
              "      <td>1,275</td>\n",
              "      <td>193</td>\n",
              "      <td>2,648</td>\n",
              "      <td>25.0</td>\n",
              "      <td>NaN</td>\n",
              "      <td>NaN</td>\n",
              "      <td>40.0</td>\n",
              "      <td>NaN</td>\n",
              "      <td>741</td>\n",
              "      <td>1,868</td>\n",
              "      <td>8,404</td>\n",
              "    </tr>\n",
              "    <tr>\n",
              "      <th>3</th>\n",
              "      <td>3.0</td>\n",
              "      <td>นนทบุรี</td>\n",
              "      <td>102</td>\n",
              "      <td>1,558</td>\n",
              "      <td>1,208</td>\n",
              "      <td>352</td>\n",
              "      <td>2,600</td>\n",
              "      <td>58.0</td>\n",
              "      <td>NaN</td>\n",
              "      <td>NaN</td>\n",
              "      <td>82.0</td>\n",
              "      <td>NaN</td>\n",
              "      <td>1,135</td>\n",
              "      <td>2,155</td>\n",
              "      <td>9,250</td>\n",
              "    </tr>\n",
              "    <tr>\n",
              "      <th>4</th>\n",
              "      <td>4.0</td>\n",
              "      <td>ปทุมธานี</td>\n",
              "      <td>94</td>\n",
              "      <td>752</td>\n",
              "      <td>1,323</td>\n",
              "      <td>131</td>\n",
              "      <td>1,347</td>\n",
              "      <td>39.0</td>\n",
              "      <td>48.0</td>\n",
              "      <td>NaN</td>\n",
              "      <td>NaN</td>\n",
              "      <td>NaN</td>\n",
              "      <td>1,714</td>\n",
              "      <td>2,781</td>\n",
              "      <td>8,230</td>\n",
              "    </tr>\n",
              "    <tr>\n",
              "      <th>...</th>\n",
              "      <td>...</td>\n",
              "      <td>...</td>\n",
              "      <td>...</td>\n",
              "      <td>...</td>\n",
              "      <td>...</td>\n",
              "      <td>...</td>\n",
              "      <td>...</td>\n",
              "      <td>...</td>\n",
              "      <td>...</td>\n",
              "      <td>...</td>\n",
              "      <td>...</td>\n",
              "      <td>...</td>\n",
              "      <td>...</td>\n",
              "      <td>...</td>\n",
              "      <td>...</td>\n",
              "    </tr>\n",
              "    <tr>\n",
              "      <th>86</th>\n",
              "      <td>74.0</td>\n",
              "      <td>พัทลุง</td>\n",
              "      <td>NaN</td>\n",
              "      <td>241</td>\n",
              "      <td>3</td>\n",
              "      <td>28</td>\n",
              "      <td>6</td>\n",
              "      <td>NaN</td>\n",
              "      <td>16.0</td>\n",
              "      <td>NaN</td>\n",
              "      <td>NaN</td>\n",
              "      <td>NaN</td>\n",
              "      <td>NaN</td>\n",
              "      <td>416</td>\n",
              "      <td>710</td>\n",
              "    </tr>\n",
              "    <tr>\n",
              "      <th>87</th>\n",
              "      <td>75.0</td>\n",
              "      <td>ปัตตานี</td>\n",
              "      <td>NaN</td>\n",
              "      <td>92</td>\n",
              "      <td>NaN</td>\n",
              "      <td>NaN</td>\n",
              "      <td>27</td>\n",
              "      <td>100.0</td>\n",
              "      <td>63.0</td>\n",
              "      <td>NaN</td>\n",
              "      <td>NaN</td>\n",
              "      <td>NaN</td>\n",
              "      <td>NaN</td>\n",
              "      <td>572</td>\n",
              "      <td>855</td>\n",
              "    </tr>\n",
              "    <tr>\n",
              "      <th>88</th>\n",
              "      <td>76.0</td>\n",
              "      <td>ยะลา</td>\n",
              "      <td>NaN</td>\n",
              "      <td>46</td>\n",
              "      <td>NaN</td>\n",
              "      <td>40</td>\n",
              "      <td>NaN</td>\n",
              "      <td>6.0</td>\n",
              "      <td>NaN</td>\n",
              "      <td>NaN</td>\n",
              "      <td>NaN</td>\n",
              "      <td>NaN</td>\n",
              "      <td>NaN</td>\n",
              "      <td>397</td>\n",
              "      <td>490</td>\n",
              "    </tr>\n",
              "    <tr>\n",
              "      <th>89</th>\n",
              "      <td>77.0</td>\n",
              "      <td>นราธิวาส</td>\n",
              "      <td>NaN</td>\n",
              "      <td>47</td>\n",
              "      <td>16</td>\n",
              "      <td>NaN</td>\n",
              "      <td>65</td>\n",
              "      <td>NaN</td>\n",
              "      <td>NaN</td>\n",
              "      <td>NaN</td>\n",
              "      <td>NaN</td>\n",
              "      <td>NaN</td>\n",
              "      <td>NaN</td>\n",
              "      <td>437</td>\n",
              "      <td>565</td>\n",
              "    </tr>\n",
              "    <tr>\n",
              "      <th>90</th>\n",
              "      <td>NaN</td>\n",
              "      <td>ปริมาณรวมทั้งสิ้น</td>\n",
              "      <td>3,007</td>\n",
              "      <td>27,143</td>\n",
              "      <td>19,484</td>\n",
              "      <td>4,597</td>\n",
              "      <td>33,023</td>\n",
              "      <td>889.0</td>\n",
              "      <td>786.0</td>\n",
              "      <td>6,327</td>\n",
              "      <td>384.0</td>\n",
              "      <td>4.0</td>\n",
              "      <td>13,397</td>\n",
              "      <td>85,748</td>\n",
              "      <td>194,789</td>\n",
              "    </tr>\n",
              "  </tbody>\n",
              "</table>\n",
              "<p>91 rows × 15 columns</p>\n",
              "</div>"
            ],
            "text/plain": [
              "    ลำดับที่  ... ปริมาณ /พันลิตร รวมทั้งสิ้น\n",
              "0        NaN  ...                      66,571\n",
              "1        1.0  ...                      40,687\n",
              "2        2.0  ...                       8,404\n",
              "3        3.0  ...                       9,250\n",
              "4        4.0  ...                       8,230\n",
              "..       ...  ...                         ...\n",
              "86      74.0  ...                         710\n",
              "87      75.0  ...                         855\n",
              "88      76.0  ...                         490\n",
              "89      77.0  ...                         565\n",
              "90       NaN  ...                     194,789\n",
              "\n",
              "[91 rows x 15 columns]"
            ]
          },
          "metadata": {
            "tags": []
          },
          "execution_count": 42
        }
      ]
    },
    {
      "cell_type": "code",
      "metadata": {
        "id": "hGg1DSOnrd8B",
        "outputId": "a5ce1a6c-d817-49e8-be73-7e2c3880633b",
        "colab": {
          "base_uri": "https://localhost:8080/",
          "height": 435
        }
      },
      "source": [
        "SH_E91_df = pandas.read_csv(SH_E91)\n",
        "SH_E91_df"
      ],
      "execution_count": 43,
      "outputs": [
        {
          "output_type": "execute_result",
          "data": {
            "text/html": [
              "<div>\n",
              "<style scoped>\n",
              "    .dataframe tbody tr th:only-of-type {\n",
              "        vertical-align: middle;\n",
              "    }\n",
              "\n",
              "    .dataframe tbody tr th {\n",
              "        vertical-align: top;\n",
              "    }\n",
              "\n",
              "    .dataframe thead th {\n",
              "        text-align: right;\n",
              "    }\n",
              "</style>\n",
              "<table border=\"1\" class=\"dataframe\">\n",
              "  <thead>\n",
              "    <tr style=\"text-align: right;\">\n",
              "      <th></th>\n",
              "      <th>ลำดับที่</th>\n",
              "      <th>จังหวัด</th>\n",
              "      <th>ปตท.</th>\n",
              "      <th>เชลล์</th>\n",
              "      <th>เอสโซ่</th>\n",
              "      <th>เชฟรอน(ไทย)</th>\n",
              "      <th>บางจาก</th>\n",
              "      <th>ซัสโก้</th>\n",
              "      <th>พีทีจี</th>\n",
              "      <th>ไทยออยล์</th>\n",
              "      <th>ซัสโก้ ดีลเลอร์ส</th>\n",
              "      <th>สยามเฆมี</th>\n",
              "      <th>ปตท. ค้าปลีก</th>\n",
              "      <th>น้ำมัน ไออาร์พีซี</th>\n",
              "      <th>ไออาร์พีซี</th>\n",
              "      <th>ปตท. น้ำมันและการค้าปลีก</th>\n",
              "      <th>ปริมาณ /พันลิตร รวมทั้งสิ้น</th>\n",
              "    </tr>\n",
              "  </thead>\n",
              "  <tbody>\n",
              "    <tr>\n",
              "      <th>0</th>\n",
              "      <td>NaN</td>\n",
              "      <td>กรุงเทพฯ และปริมณฑล</td>\n",
              "      <td>2,479</td>\n",
              "      <td>7,307</td>\n",
              "      <td>11,984</td>\n",
              "      <td>2,348</td>\n",
              "      <td>12,767</td>\n",
              "      <td>1,501</td>\n",
              "      <td>104</td>\n",
              "      <td>NaN</td>\n",
              "      <td>685.0</td>\n",
              "      <td>12.0</td>\n",
              "      <td>5,131</td>\n",
              "      <td>NaN</td>\n",
              "      <td>7,647</td>\n",
              "      <td>15,622</td>\n",
              "      <td>67,588</td>\n",
              "    </tr>\n",
              "    <tr>\n",
              "      <th>1</th>\n",
              "      <td>1.0</td>\n",
              "      <td>กรุงเทพมหานคร</td>\n",
              "      <td>2,034</td>\n",
              "      <td>4,911</td>\n",
              "      <td>7,877</td>\n",
              "      <td>1,590</td>\n",
              "      <td>7,813</td>\n",
              "      <td>1,174</td>\n",
              "      <td>43</td>\n",
              "      <td>NaN</td>\n",
              "      <td>419.0</td>\n",
              "      <td>12.0</td>\n",
              "      <td>1,906</td>\n",
              "      <td>NaN</td>\n",
              "      <td>7,647</td>\n",
              "      <td>8,671</td>\n",
              "      <td>44,098</td>\n",
              "    </tr>\n",
              "    <tr>\n",
              "      <th>2</th>\n",
              "      <td>2.0</td>\n",
              "      <td>สมุทรปราการ</td>\n",
              "      <td>232</td>\n",
              "      <td>923</td>\n",
              "      <td>1,382</td>\n",
              "      <td>177</td>\n",
              "      <td>2,112</td>\n",
              "      <td>114</td>\n",
              "      <td>NaN</td>\n",
              "      <td>NaN</td>\n",
              "      <td>104.0</td>\n",
              "      <td>NaN</td>\n",
              "      <td>837</td>\n",
              "      <td>NaN</td>\n",
              "      <td>NaN</td>\n",
              "      <td>2,404</td>\n",
              "      <td>8,285</td>\n",
              "    </tr>\n",
              "    <tr>\n",
              "      <th>3</th>\n",
              "      <td>3.0</td>\n",
              "      <td>นนทบุรี</td>\n",
              "      <td>91</td>\n",
              "      <td>828</td>\n",
              "      <td>996</td>\n",
              "      <td>304</td>\n",
              "      <td>1,697</td>\n",
              "      <td>96</td>\n",
              "      <td>NaN</td>\n",
              "      <td>NaN</td>\n",
              "      <td>162.0</td>\n",
              "      <td>NaN</td>\n",
              "      <td>974</td>\n",
              "      <td>NaN</td>\n",
              "      <td>NaN</td>\n",
              "      <td>1,814</td>\n",
              "      <td>6,962</td>\n",
              "    </tr>\n",
              "    <tr>\n",
              "      <th>4</th>\n",
              "      <td>4.0</td>\n",
              "      <td>ปทุมธานี</td>\n",
              "      <td>122</td>\n",
              "      <td>645</td>\n",
              "      <td>1,729</td>\n",
              "      <td>277</td>\n",
              "      <td>1,145</td>\n",
              "      <td>117</td>\n",
              "      <td>61</td>\n",
              "      <td>NaN</td>\n",
              "      <td>NaN</td>\n",
              "      <td>NaN</td>\n",
              "      <td>1,414</td>\n",
              "      <td>NaN</td>\n",
              "      <td>NaN</td>\n",
              "      <td>2,733</td>\n",
              "      <td>8,243</td>\n",
              "    </tr>\n",
              "    <tr>\n",
              "      <th>...</th>\n",
              "      <td>...</td>\n",
              "      <td>...</td>\n",
              "      <td>...</td>\n",
              "      <td>...</td>\n",
              "      <td>...</td>\n",
              "      <td>...</td>\n",
              "      <td>...</td>\n",
              "      <td>...</td>\n",
              "      <td>...</td>\n",
              "      <td>...</td>\n",
              "      <td>...</td>\n",
              "      <td>...</td>\n",
              "      <td>...</td>\n",
              "      <td>...</td>\n",
              "      <td>...</td>\n",
              "      <td>...</td>\n",
              "      <td>...</td>\n",
              "    </tr>\n",
              "    <tr>\n",
              "      <th>86</th>\n",
              "      <td>74.0</td>\n",
              "      <td>พัทลุง</td>\n",
              "      <td>NaN</td>\n",
              "      <td>282</td>\n",
              "      <td>NaN</td>\n",
              "      <td>104</td>\n",
              "      <td>13</td>\n",
              "      <td>NaN</td>\n",
              "      <td>21</td>\n",
              "      <td>NaN</td>\n",
              "      <td>NaN</td>\n",
              "      <td>NaN</td>\n",
              "      <td>NaN</td>\n",
              "      <td>NaN</td>\n",
              "      <td>NaN</td>\n",
              "      <td>294</td>\n",
              "      <td>714</td>\n",
              "    </tr>\n",
              "    <tr>\n",
              "      <th>87</th>\n",
              "      <td>75.0</td>\n",
              "      <td>ปัตตานี</td>\n",
              "      <td>NaN</td>\n",
              "      <td>40</td>\n",
              "      <td>NaN</td>\n",
              "      <td>NaN</td>\n",
              "      <td>19</td>\n",
              "      <td>91</td>\n",
              "      <td>52</td>\n",
              "      <td>NaN</td>\n",
              "      <td>NaN</td>\n",
              "      <td>NaN</td>\n",
              "      <td>NaN</td>\n",
              "      <td>NaN</td>\n",
              "      <td>NaN</td>\n",
              "      <td>381</td>\n",
              "      <td>583</td>\n",
              "    </tr>\n",
              "    <tr>\n",
              "      <th>88</th>\n",
              "      <td>76.0</td>\n",
              "      <td>ยะลา</td>\n",
              "      <td>NaN</td>\n",
              "      <td>24</td>\n",
              "      <td>NaN</td>\n",
              "      <td>80</td>\n",
              "      <td>3</td>\n",
              "      <td>21</td>\n",
              "      <td>NaN</td>\n",
              "      <td>NaN</td>\n",
              "      <td>NaN</td>\n",
              "      <td>NaN</td>\n",
              "      <td>NaN</td>\n",
              "      <td>NaN</td>\n",
              "      <td>NaN</td>\n",
              "      <td>244</td>\n",
              "      <td>372</td>\n",
              "    </tr>\n",
              "    <tr>\n",
              "      <th>89</th>\n",
              "      <td>77.0</td>\n",
              "      <td>นราธิวาส</td>\n",
              "      <td>NaN</td>\n",
              "      <td>164</td>\n",
              "      <td>116</td>\n",
              "      <td>42</td>\n",
              "      <td>118</td>\n",
              "      <td>NaN</td>\n",
              "      <td>NaN</td>\n",
              "      <td>NaN</td>\n",
              "      <td>NaN</td>\n",
              "      <td>NaN</td>\n",
              "      <td>NaN</td>\n",
              "      <td>NaN</td>\n",
              "      <td>NaN</td>\n",
              "      <td>484</td>\n",
              "      <td>923</td>\n",
              "    </tr>\n",
              "    <tr>\n",
              "      <th>90</th>\n",
              "      <td>NaN</td>\n",
              "      <td>ปริมาณรวมทั้งสิ้น</td>\n",
              "      <td>3,975</td>\n",
              "      <td>26,995</td>\n",
              "      <td>25,214</td>\n",
              "      <td>13,447</td>\n",
              "      <td>36,956</td>\n",
              "      <td>3,958</td>\n",
              "      <td>3,803</td>\n",
              "      <td>11,491</td>\n",
              "      <td>993.0</td>\n",
              "      <td>12.0</td>\n",
              "      <td>13,661</td>\n",
              "      <td>101.0</td>\n",
              "      <td>7,730</td>\n",
              "      <td>99,846</td>\n",
              "      <td>248,182</td>\n",
              "    </tr>\n",
              "  </tbody>\n",
              "</table>\n",
              "<p>91 rows × 17 columns</p>\n",
              "</div>"
            ],
            "text/plain": [
              "    ลำดับที่  ... ปริมาณ /พันลิตร รวมทั้งสิ้น\n",
              "0        NaN  ...                      67,588\n",
              "1        1.0  ...                      44,098\n",
              "2        2.0  ...                       8,285\n",
              "3        3.0  ...                       6,962\n",
              "4        4.0  ...                       8,243\n",
              "..       ...  ...                         ...\n",
              "86      74.0  ...                         714\n",
              "87      75.0  ...                         583\n",
              "88      76.0  ...                         372\n",
              "89      77.0  ...                         923\n",
              "90       NaN  ...                     248,182\n",
              "\n",
              "[91 rows x 17 columns]"
            ]
          },
          "metadata": {
            "tags": []
          },
          "execution_count": 43
        }
      ]
    },
    {
      "cell_type": "code",
      "metadata": {
        "id": "MvICZ5bsrn-4",
        "outputId": "81028316-1cc9-4f3d-d1af-acd5522dbfcc",
        "colab": {
          "base_uri": "https://localhost:8080/"
        }
      },
      "source": [
        "SH_E20_df.shape"
      ],
      "execution_count": 44,
      "outputs": [
        {
          "output_type": "execute_result",
          "data": {
            "text/plain": [
              "(91, 15)"
            ]
          },
          "metadata": {
            "tags": []
          },
          "execution_count": 44
        }
      ]
    },
    {
      "cell_type": "code",
      "metadata": {
        "id": "Slg90hJErjDn",
        "outputId": "c8773156-267b-4eec-a044-9cd5abd6c171",
        "colab": {
          "base_uri": "https://localhost:8080/"
        }
      },
      "source": [
        "SH_E91_df.shape"
      ],
      "execution_count": 45,
      "outputs": [
        {
          "output_type": "execute_result",
          "data": {
            "text/plain": [
              "(91, 17)"
            ]
          },
          "metadata": {
            "tags": []
          },
          "execution_count": 45
        }
      ]
    },
    {
      "cell_type": "code",
      "metadata": {
        "id": "LB6CCSVXrqaX",
        "outputId": "30838378-1cf2-45b0-e61e-0a904d880d97",
        "colab": {
          "base_uri": "https://localhost:8080/"
        }
      },
      "source": [
        "SH_E20_df.isnull().any()"
      ],
      "execution_count": 46,
      "outputs": [
        {
          "output_type": "execute_result",
          "data": {
            "text/plain": [
              "ลำดับที่                        True\n",
              "จังหวัด                        False\n",
              "ปตท.                            True\n",
              "เชลล์                           True\n",
              "เอสโซ่                          True\n",
              "เชฟรอน(ไทย)                     True\n",
              "บางจาก                          True\n",
              "ซัสโก้                          True\n",
              "พีทีจี                          True\n",
              "ไทยออยล์                        True\n",
              "ซัสโก้ ดีลเลอร์ส                True\n",
              "สยามเฆมี                        True\n",
              "ปตท. ค้าปลีก                    True\n",
              "ปตท. น้ำมันและการค้าปลีก       False\n",
              "ปริมาณ /พันลิตร รวมทั้งสิ้น    False\n",
              "dtype: bool"
            ]
          },
          "metadata": {
            "tags": []
          },
          "execution_count": 46
        }
      ]
    },
    {
      "cell_type": "code",
      "metadata": {
        "id": "AmEji2plrw04",
        "outputId": "3667a913-68e5-44c1-d057-2a4d6a8d6da1",
        "colab": {
          "base_uri": "https://localhost:8080/"
        }
      },
      "source": [
        "SH_E91_df.isnull().any()"
      ],
      "execution_count": 47,
      "outputs": [
        {
          "output_type": "execute_result",
          "data": {
            "text/plain": [
              "ลำดับที่                        True\n",
              "จังหวัด                        False\n",
              "ปตท.                            True\n",
              "เชลล์                           True\n",
              "เอสโซ่                          True\n",
              "เชฟรอน(ไทย)                     True\n",
              "บางจาก                          True\n",
              "ซัสโก้                          True\n",
              "พีทีจี                          True\n",
              "ไทยออยล์                        True\n",
              "ซัสโก้ ดีลเลอร์ส                True\n",
              "สยามเฆมี                        True\n",
              "ปตท. ค้าปลีก                    True\n",
              "น้ำมัน ไออาร์พีซี               True\n",
              "ไออาร์พีซี                      True\n",
              "ปตท. น้ำมันและการค้าปลีก       False\n",
              "ปริมาณ /พันลิตร รวมทั้งสิ้น    False\n",
              "dtype: bool"
            ]
          },
          "metadata": {
            "tags": []
          },
          "execution_count": 47
        }
      ]
    },
    {
      "cell_type": "code",
      "metadata": {
        "id": "IgxCwh7wta9H"
      },
      "source": [
        "SH_E20_df[['ลำดับที่']] = SH_E20_df[['ลำดับที่']].fillna(0)"
      ],
      "execution_count": 51,
      "outputs": []
    },
    {
      "cell_type": "code",
      "metadata": {
        "id": "6L07y7pytaxI"
      },
      "source": [
        "SH_E20_df[['ปตท.']] = SH_E20_df[['ปตท.']].fillna(0)"
      ],
      "execution_count": 52,
      "outputs": []
    },
    {
      "cell_type": "code",
      "metadata": {
        "id": "UUzd4ZnztVWH"
      },
      "source": [
        "SH_E20_df[['เชลล์']] = SH_E20_df[['เชลล์']].fillna(0)"
      ],
      "execution_count": 50,
      "outputs": []
    },
    {
      "cell_type": "code",
      "metadata": {
        "id": "SzamEROhtU2i"
      },
      "source": [
        "SH_E20_df[['เอสโซ่']] = SH_E20_df[['เอสโซ่']].fillna(0)"
      ],
      "execution_count": 53,
      "outputs": []
    },
    {
      "cell_type": "code",
      "metadata": {
        "id": "LhwvPzsWtUgn"
      },
      "source": [
        "SH_E20_df[['เชฟรอน(ไทย)']] = SH_E20_df[['เชฟรอน(ไทย)']].fillna(0)"
      ],
      "execution_count": 54,
      "outputs": []
    },
    {
      "cell_type": "code",
      "metadata": {
        "id": "xP9vYdzQtULR"
      },
      "source": [
        "SH_E20_df[['บางจาก']] = SH_E20_df[['บางจาก']].fillna(0)"
      ],
      "execution_count": 55,
      "outputs": []
    },
    {
      "cell_type": "code",
      "metadata": {
        "id": "BFsKpA8cte-P"
      },
      "source": [
        "SH_E20_df[['ซัสโก้']] = SH_E20_df[['ซัสโก้']].fillna(0)"
      ],
      "execution_count": 56,
      "outputs": []
    },
    {
      "cell_type": "code",
      "metadata": {
        "id": "RuaR4TdftfS_"
      },
      "source": [
        "SH_E20_df[['พีทีจี']] = SH_E20_df[['พีทีจี']].fillna(0)"
      ],
      "execution_count": 57,
      "outputs": []
    },
    {
      "cell_type": "code",
      "metadata": {
        "id": "TkNeB3WItfwn"
      },
      "source": [
        "SH_E20_df[['ไทยออยล์']] = SH_E20_df[['ไทยออยล์']].fillna(0)"
      ],
      "execution_count": 58,
      "outputs": []
    },
    {
      "cell_type": "code",
      "metadata": {
        "id": "sBt6XVWhtgLf"
      },
      "source": [
        "SH_E20_df[['ซัสโก้ ดีลเลอร์ส']] = SH_E20_df[['ซัสโก้ ดีลเลอร์ส']].fillna(0)"
      ],
      "execution_count": 59,
      "outputs": []
    },
    {
      "cell_type": "code",
      "metadata": {
        "id": "_r1WTUA0tgrP"
      },
      "source": [
        "SH_E20_df[['สยามเฆมี']] = SH_E20_df[['สยามเฆมี']].fillna(0)"
      ],
      "execution_count": 60,
      "outputs": []
    },
    {
      "cell_type": "code",
      "metadata": {
        "id": "19vAKlDEuHNS"
      },
      "source": [
        "SH_E20_df[['ปตท. ค้าปลีก']] = SH_E20_df[['ปตท. ค้าปลีก']].fillna(0)"
      ],
      "execution_count": 61,
      "outputs": []
    },
    {
      "cell_type": "code",
      "metadata": {
        "id": "H6n5cTZMuOEv",
        "outputId": "f85eed7e-6092-4b1a-bb89-e38b06a94c3c",
        "colab": {
          "base_uri": "https://localhost:8080/"
        }
      },
      "source": [
        "SH_E20_df.isnull().any()"
      ],
      "execution_count": 62,
      "outputs": [
        {
          "output_type": "execute_result",
          "data": {
            "text/plain": [
              "ลำดับที่                       False\n",
              "จังหวัด                        False\n",
              "ปตท.                           False\n",
              "เชลล์                          False\n",
              "เอสโซ่                         False\n",
              "เชฟรอน(ไทย)                    False\n",
              "บางจาก                         False\n",
              "ซัสโก้                         False\n",
              "พีทีจี                         False\n",
              "ไทยออยล์                       False\n",
              "ซัสโก้ ดีลเลอร์ส               False\n",
              "สยามเฆมี                       False\n",
              "ปตท. ค้าปลีก                   False\n",
              "ปตท. น้ำมันและการค้าปลีก       False\n",
              "ปริมาณ /พันลิตร รวมทั้งสิ้น    False\n",
              "dtype: bool"
            ]
          },
          "metadata": {
            "tags": []
          },
          "execution_count": 62
        }
      ]
    },
    {
      "cell_type": "code",
      "metadata": {
        "id": "SQYCCxOkuXaH"
      },
      "source": [
        "SH_E91_df[['ลำดับที่']] = SH_E91_df[['ลำดับที่']].fillna(0)"
      ],
      "execution_count": 75,
      "outputs": []
    },
    {
      "cell_type": "code",
      "metadata": {
        "id": "dyYfzIuJuXBs"
      },
      "source": [
        "SH_E91_df[['ปตท.']] = SH_E91_df[['ปตท.']].fillna(0)"
      ],
      "execution_count": 76,
      "outputs": []
    },
    {
      "cell_type": "code",
      "metadata": {
        "id": "qVVQV9SeuWr3"
      },
      "source": [
        "SH_E91_df[['เชลล์']] = SH_E91_df[['เชลล์']].fillna(0)"
      ],
      "execution_count": 77,
      "outputs": []
    },
    {
      "cell_type": "code",
      "metadata": {
        "id": "v37NRTBFuWVY"
      },
      "source": [
        "SH_E91_df[['เอสโซ่']] = SH_E91_df[['เอสโซ่']].fillna(0)"
      ],
      "execution_count": 78,
      "outputs": []
    },
    {
      "cell_type": "code",
      "metadata": {
        "id": "FSZMn8ttuWA5"
      },
      "source": [
        "SH_E91_df[['เชฟรอน(ไทย)']] = SH_E91_df[['เชฟรอน(ไทย)']].fillna(0)"
      ],
      "execution_count": 79,
      "outputs": []
    },
    {
      "cell_type": "code",
      "metadata": {
        "id": "_KuN16hSuVqV"
      },
      "source": [
        "SH_E91_df[['บางจาก']] = SH_E91_df[['บางจาก']].fillna(0)"
      ],
      "execution_count": 80,
      "outputs": []
    },
    {
      "cell_type": "code",
      "metadata": {
        "id": "xGh8yCDvuVXn"
      },
      "source": [
        "SH_E91_df[['ซัสโก้']] = SH_E91_df[['ซัสโก้']].fillna(0)"
      ],
      "execution_count": 81,
      "outputs": []
    },
    {
      "cell_type": "code",
      "metadata": {
        "id": "L9z4ZvRpu0zz"
      },
      "source": [
        "SH_E91_df[['พีทีจี']] = SH_E91_df[['พีทีจี']].fillna(0)"
      ],
      "execution_count": 82,
      "outputs": []
    },
    {
      "cell_type": "code",
      "metadata": {
        "id": "TY2awP46u0l3"
      },
      "source": [
        "SH_E91_df[['ไทยออยล์']] = SH_E91_df[['ไทยออยล์']].fillna(0)"
      ],
      "execution_count": 83,
      "outputs": []
    },
    {
      "cell_type": "code",
      "metadata": {
        "id": "VI91vCnTu6XR"
      },
      "source": [
        "SH_E91_df[['ซัสโก้ ดีลเลอร์ส']] = SH_E91_df[['ซัสโก้ ดีลเลอร์ส']].fillna(0)"
      ],
      "execution_count": 84,
      "outputs": []
    },
    {
      "cell_type": "code",
      "metadata": {
        "id": "_pmxnQLzu7Y2"
      },
      "source": [
        "SH_E91_df[['สยามเฆมี']] = SH_E91_df[['สยามเฆมี']].fillna(0)"
      ],
      "execution_count": 85,
      "outputs": []
    },
    {
      "cell_type": "code",
      "metadata": {
        "id": "HKUc1SsTu9qD"
      },
      "source": [
        "SH_E91_df[['ปตท. ค้าปลีก']] = SH_E91_df[['ปตท. ค้าปลีก']].fillna(0)"
      ],
      "execution_count": 86,
      "outputs": []
    },
    {
      "cell_type": "code",
      "metadata": {
        "id": "vFJmia3or0iv"
      },
      "source": [
        "SH_E91_df[['น้ำมัน ไออาร์พีซี']] = SH_E91_df[['น้ำมัน ไออาร์พีซี']].fillna(0)"
      ],
      "execution_count": 87,
      "outputs": []
    },
    {
      "cell_type": "code",
      "metadata": {
        "id": "Aa-60hgrveZ6"
      },
      "source": [
        "SH_E91_df[['ไออาร์พีซี']] = SH_E91_df[['ไออาร์พีซี']].fillna(0)"
      ],
      "execution_count": 89,
      "outputs": []
    },
    {
      "cell_type": "code",
      "metadata": {
        "id": "HarooYQmvE2o",
        "outputId": "6355cda9-58ab-4e72-b605-80de0fcd55a7",
        "colab": {
          "base_uri": "https://localhost:8080/"
        }
      },
      "source": [
        "SH_E91_df.isnull().any()"
      ],
      "execution_count": 90,
      "outputs": [
        {
          "output_type": "execute_result",
          "data": {
            "text/plain": [
              "ลำดับที่                       False\n",
              "จังหวัด                        False\n",
              "ปตท.                           False\n",
              "เชลล์                          False\n",
              "เอสโซ่                         False\n",
              "เชฟรอน(ไทย)                    False\n",
              "บางจาก                         False\n",
              "ซัสโก้                         False\n",
              "พีทีจี                         False\n",
              "ไทยออยล์                       False\n",
              "ซัสโก้ ดีลเลอร์ส               False\n",
              "สยามเฆมี                       False\n",
              "ปตท. ค้าปลีก                   False\n",
              "น้ำมัน ไออาร์พีซี              False\n",
              "ไออาร์พีซี                     False\n",
              "ปตท. น้ำมันและการค้าปลีก       False\n",
              "ปริมาณ /พันลิตร รวมทั้งสิ้น    False\n",
              "dtype: bool"
            ]
          },
          "metadata": {
            "tags": []
          },
          "execution_count": 90
        }
      ]
    },
    {
      "cell_type": "markdown",
      "metadata": {
        "id": "-8m5XO2MvpFe"
      },
      "source": [
        "รวมตาราง"
      ]
    },
    {
      "cell_type": "code",
      "metadata": {
        "id": "D5NO8tVdvqnw",
        "outputId": "762b24c5-04ce-46bc-a38d-98980377d5e3",
        "colab": {
          "base_uri": "https://localhost:8080/",
          "height": 522
        }
      },
      "source": [
        "merged_table = SH_E20_df.merge(SH_E91_df,how='left',left_on='จังหวัด',right_on='จังหวัด')\n",
        "merged_table"
      ],
      "execution_count": 91,
      "outputs": [
        {
          "output_type": "execute_result",
          "data": {
            "text/html": [
              "<div>\n",
              "<style scoped>\n",
              "    .dataframe tbody tr th:only-of-type {\n",
              "        vertical-align: middle;\n",
              "    }\n",
              "\n",
              "    .dataframe tbody tr th {\n",
              "        vertical-align: top;\n",
              "    }\n",
              "\n",
              "    .dataframe thead th {\n",
              "        text-align: right;\n",
              "    }\n",
              "</style>\n",
              "<table border=\"1\" class=\"dataframe\">\n",
              "  <thead>\n",
              "    <tr style=\"text-align: right;\">\n",
              "      <th></th>\n",
              "      <th>ลำดับที่_x</th>\n",
              "      <th>จังหวัด</th>\n",
              "      <th>ปตท._x</th>\n",
              "      <th>เชลล์_x</th>\n",
              "      <th>เอสโซ่_x</th>\n",
              "      <th>เชฟรอน(ไทย)_x</th>\n",
              "      <th>บางจาก_x</th>\n",
              "      <th>ซัสโก้_x</th>\n",
              "      <th>พีทีจี_x</th>\n",
              "      <th>ไทยออยล์_x</th>\n",
              "      <th>ซัสโก้ ดีลเลอร์ส_x</th>\n",
              "      <th>สยามเฆมี_x</th>\n",
              "      <th>ปตท. ค้าปลีก_x</th>\n",
              "      <th>ปตท. น้ำมันและการค้าปลีก_x</th>\n",
              "      <th>ปริมาณ /พันลิตร รวมทั้งสิ้น_x</th>\n",
              "      <th>ลำดับที่_y</th>\n",
              "      <th>ปตท._y</th>\n",
              "      <th>เชลล์_y</th>\n",
              "      <th>เอสโซ่_y</th>\n",
              "      <th>เชฟรอน(ไทย)_y</th>\n",
              "      <th>บางจาก_y</th>\n",
              "      <th>ซัสโก้_y</th>\n",
              "      <th>พีทีจี_y</th>\n",
              "      <th>ไทยออยล์_y</th>\n",
              "      <th>ซัสโก้ ดีลเลอร์ส_y</th>\n",
              "      <th>สยามเฆมี_y</th>\n",
              "      <th>ปตท. ค้าปลีก_y</th>\n",
              "      <th>น้ำมัน ไออาร์พีซี</th>\n",
              "      <th>ไออาร์พีซี</th>\n",
              "      <th>ปตท. น้ำมันและการค้าปลีก_y</th>\n",
              "      <th>ปริมาณ /พันลิตร รวมทั้งสิ้น_y</th>\n",
              "    </tr>\n",
              "  </thead>\n",
              "  <tbody>\n",
              "    <tr>\n",
              "      <th>0</th>\n",
              "      <td>0.0</td>\n",
              "      <td>กรุงเทพฯ และปริมณฑล</td>\n",
              "      <td>2,033</td>\n",
              "      <td>12,012</td>\n",
              "      <td>11,788</td>\n",
              "      <td>1,513</td>\n",
              "      <td>17,163</td>\n",
              "      <td>553.0</td>\n",
              "      <td>107.0</td>\n",
              "      <td>0</td>\n",
              "      <td>352.0</td>\n",
              "      <td>4.0</td>\n",
              "      <td>5,546</td>\n",
              "      <td>15,499</td>\n",
              "      <td>66,571</td>\n",
              "      <td>0.0</td>\n",
              "      <td>2,479</td>\n",
              "      <td>7,307</td>\n",
              "      <td>11,984</td>\n",
              "      <td>2,348</td>\n",
              "      <td>12,767</td>\n",
              "      <td>1,501</td>\n",
              "      <td>104</td>\n",
              "      <td>0</td>\n",
              "      <td>685.0</td>\n",
              "      <td>12.0</td>\n",
              "      <td>5,131</td>\n",
              "      <td>0.0</td>\n",
              "      <td>7,647</td>\n",
              "      <td>15,622</td>\n",
              "      <td>67,588</td>\n",
              "    </tr>\n",
              "    <tr>\n",
              "      <th>1</th>\n",
              "      <td>1.0</td>\n",
              "      <td>กรุงเทพมหานคร</td>\n",
              "      <td>1,587</td>\n",
              "      <td>8,336</td>\n",
              "      <td>7,983</td>\n",
              "      <td>837</td>\n",
              "      <td>10,568</td>\n",
              "      <td>431.0</td>\n",
              "      <td>59.0</td>\n",
              "      <td>0</td>\n",
              "      <td>230.0</td>\n",
              "      <td>4.0</td>\n",
              "      <td>1,957</td>\n",
              "      <td>8,695</td>\n",
              "      <td>40,687</td>\n",
              "      <td>1.0</td>\n",
              "      <td>2,034</td>\n",
              "      <td>4,911</td>\n",
              "      <td>7,877</td>\n",
              "      <td>1,590</td>\n",
              "      <td>7,813</td>\n",
              "      <td>1,174</td>\n",
              "      <td>43</td>\n",
              "      <td>0</td>\n",
              "      <td>419.0</td>\n",
              "      <td>12.0</td>\n",
              "      <td>1,906</td>\n",
              "      <td>0.0</td>\n",
              "      <td>7,647</td>\n",
              "      <td>8,671</td>\n",
              "      <td>44,098</td>\n",
              "    </tr>\n",
              "    <tr>\n",
              "      <th>2</th>\n",
              "      <td>2.0</td>\n",
              "      <td>สมุทรปราการ</td>\n",
              "      <td>250</td>\n",
              "      <td>1,365</td>\n",
              "      <td>1,275</td>\n",
              "      <td>193</td>\n",
              "      <td>2,648</td>\n",
              "      <td>25.0</td>\n",
              "      <td>0.0</td>\n",
              "      <td>0</td>\n",
              "      <td>40.0</td>\n",
              "      <td>0.0</td>\n",
              "      <td>741</td>\n",
              "      <td>1,868</td>\n",
              "      <td>8,404</td>\n",
              "      <td>2.0</td>\n",
              "      <td>232</td>\n",
              "      <td>923</td>\n",
              "      <td>1,382</td>\n",
              "      <td>177</td>\n",
              "      <td>2,112</td>\n",
              "      <td>114</td>\n",
              "      <td>0</td>\n",
              "      <td>0</td>\n",
              "      <td>104.0</td>\n",
              "      <td>0.0</td>\n",
              "      <td>837</td>\n",
              "      <td>0.0</td>\n",
              "      <td>0</td>\n",
              "      <td>2,404</td>\n",
              "      <td>8,285</td>\n",
              "    </tr>\n",
              "    <tr>\n",
              "      <th>3</th>\n",
              "      <td>3.0</td>\n",
              "      <td>นนทบุรี</td>\n",
              "      <td>102</td>\n",
              "      <td>1,558</td>\n",
              "      <td>1,208</td>\n",
              "      <td>352</td>\n",
              "      <td>2,600</td>\n",
              "      <td>58.0</td>\n",
              "      <td>0.0</td>\n",
              "      <td>0</td>\n",
              "      <td>82.0</td>\n",
              "      <td>0.0</td>\n",
              "      <td>1,135</td>\n",
              "      <td>2,155</td>\n",
              "      <td>9,250</td>\n",
              "      <td>3.0</td>\n",
              "      <td>91</td>\n",
              "      <td>828</td>\n",
              "      <td>996</td>\n",
              "      <td>304</td>\n",
              "      <td>1,697</td>\n",
              "      <td>96</td>\n",
              "      <td>0</td>\n",
              "      <td>0</td>\n",
              "      <td>162.0</td>\n",
              "      <td>0.0</td>\n",
              "      <td>974</td>\n",
              "      <td>0.0</td>\n",
              "      <td>0</td>\n",
              "      <td>1,814</td>\n",
              "      <td>6,962</td>\n",
              "    </tr>\n",
              "    <tr>\n",
              "      <th>4</th>\n",
              "      <td>4.0</td>\n",
              "      <td>ปทุมธานี</td>\n",
              "      <td>94</td>\n",
              "      <td>752</td>\n",
              "      <td>1,323</td>\n",
              "      <td>131</td>\n",
              "      <td>1,347</td>\n",
              "      <td>39.0</td>\n",
              "      <td>48.0</td>\n",
              "      <td>0</td>\n",
              "      <td>0.0</td>\n",
              "      <td>0.0</td>\n",
              "      <td>1,714</td>\n",
              "      <td>2,781</td>\n",
              "      <td>8,230</td>\n",
              "      <td>4.0</td>\n",
              "      <td>122</td>\n",
              "      <td>645</td>\n",
              "      <td>1,729</td>\n",
              "      <td>277</td>\n",
              "      <td>1,145</td>\n",
              "      <td>117</td>\n",
              "      <td>61</td>\n",
              "      <td>0</td>\n",
              "      <td>0.0</td>\n",
              "      <td>0.0</td>\n",
              "      <td>1,414</td>\n",
              "      <td>0.0</td>\n",
              "      <td>0</td>\n",
              "      <td>2,733</td>\n",
              "      <td>8,243</td>\n",
              "    </tr>\n",
              "    <tr>\n",
              "      <th>...</th>\n",
              "      <td>...</td>\n",
              "      <td>...</td>\n",
              "      <td>...</td>\n",
              "      <td>...</td>\n",
              "      <td>...</td>\n",
              "      <td>...</td>\n",
              "      <td>...</td>\n",
              "      <td>...</td>\n",
              "      <td>...</td>\n",
              "      <td>...</td>\n",
              "      <td>...</td>\n",
              "      <td>...</td>\n",
              "      <td>...</td>\n",
              "      <td>...</td>\n",
              "      <td>...</td>\n",
              "      <td>...</td>\n",
              "      <td>...</td>\n",
              "      <td>...</td>\n",
              "      <td>...</td>\n",
              "      <td>...</td>\n",
              "      <td>...</td>\n",
              "      <td>...</td>\n",
              "      <td>...</td>\n",
              "      <td>...</td>\n",
              "      <td>...</td>\n",
              "      <td>...</td>\n",
              "      <td>...</td>\n",
              "      <td>...</td>\n",
              "      <td>...</td>\n",
              "      <td>...</td>\n",
              "      <td>...</td>\n",
              "    </tr>\n",
              "    <tr>\n",
              "      <th>86</th>\n",
              "      <td>74.0</td>\n",
              "      <td>พัทลุง</td>\n",
              "      <td>0</td>\n",
              "      <td>241</td>\n",
              "      <td>3</td>\n",
              "      <td>28</td>\n",
              "      <td>6</td>\n",
              "      <td>0.0</td>\n",
              "      <td>16.0</td>\n",
              "      <td>0</td>\n",
              "      <td>0.0</td>\n",
              "      <td>0.0</td>\n",
              "      <td>0</td>\n",
              "      <td>416</td>\n",
              "      <td>710</td>\n",
              "      <td>74.0</td>\n",
              "      <td>0</td>\n",
              "      <td>282</td>\n",
              "      <td>0</td>\n",
              "      <td>104</td>\n",
              "      <td>13</td>\n",
              "      <td>0</td>\n",
              "      <td>21</td>\n",
              "      <td>0</td>\n",
              "      <td>0.0</td>\n",
              "      <td>0.0</td>\n",
              "      <td>0</td>\n",
              "      <td>0.0</td>\n",
              "      <td>0</td>\n",
              "      <td>294</td>\n",
              "      <td>714</td>\n",
              "    </tr>\n",
              "    <tr>\n",
              "      <th>87</th>\n",
              "      <td>75.0</td>\n",
              "      <td>ปัตตานี</td>\n",
              "      <td>0</td>\n",
              "      <td>92</td>\n",
              "      <td>0</td>\n",
              "      <td>0</td>\n",
              "      <td>27</td>\n",
              "      <td>100.0</td>\n",
              "      <td>63.0</td>\n",
              "      <td>0</td>\n",
              "      <td>0.0</td>\n",
              "      <td>0.0</td>\n",
              "      <td>0</td>\n",
              "      <td>572</td>\n",
              "      <td>855</td>\n",
              "      <td>75.0</td>\n",
              "      <td>0</td>\n",
              "      <td>40</td>\n",
              "      <td>0</td>\n",
              "      <td>0</td>\n",
              "      <td>19</td>\n",
              "      <td>91</td>\n",
              "      <td>52</td>\n",
              "      <td>0</td>\n",
              "      <td>0.0</td>\n",
              "      <td>0.0</td>\n",
              "      <td>0</td>\n",
              "      <td>0.0</td>\n",
              "      <td>0</td>\n",
              "      <td>381</td>\n",
              "      <td>583</td>\n",
              "    </tr>\n",
              "    <tr>\n",
              "      <th>88</th>\n",
              "      <td>76.0</td>\n",
              "      <td>ยะลา</td>\n",
              "      <td>0</td>\n",
              "      <td>46</td>\n",
              "      <td>0</td>\n",
              "      <td>40</td>\n",
              "      <td>0</td>\n",
              "      <td>6.0</td>\n",
              "      <td>0.0</td>\n",
              "      <td>0</td>\n",
              "      <td>0.0</td>\n",
              "      <td>0.0</td>\n",
              "      <td>0</td>\n",
              "      <td>397</td>\n",
              "      <td>490</td>\n",
              "      <td>76.0</td>\n",
              "      <td>0</td>\n",
              "      <td>24</td>\n",
              "      <td>0</td>\n",
              "      <td>80</td>\n",
              "      <td>3</td>\n",
              "      <td>21</td>\n",
              "      <td>0</td>\n",
              "      <td>0</td>\n",
              "      <td>0.0</td>\n",
              "      <td>0.0</td>\n",
              "      <td>0</td>\n",
              "      <td>0.0</td>\n",
              "      <td>0</td>\n",
              "      <td>244</td>\n",
              "      <td>372</td>\n",
              "    </tr>\n",
              "    <tr>\n",
              "      <th>89</th>\n",
              "      <td>77.0</td>\n",
              "      <td>นราธิวาส</td>\n",
              "      <td>0</td>\n",
              "      <td>47</td>\n",
              "      <td>16</td>\n",
              "      <td>0</td>\n",
              "      <td>65</td>\n",
              "      <td>0.0</td>\n",
              "      <td>0.0</td>\n",
              "      <td>0</td>\n",
              "      <td>0.0</td>\n",
              "      <td>0.0</td>\n",
              "      <td>0</td>\n",
              "      <td>437</td>\n",
              "      <td>565</td>\n",
              "      <td>77.0</td>\n",
              "      <td>0</td>\n",
              "      <td>164</td>\n",
              "      <td>116</td>\n",
              "      <td>42</td>\n",
              "      <td>118</td>\n",
              "      <td>0</td>\n",
              "      <td>0</td>\n",
              "      <td>0</td>\n",
              "      <td>0.0</td>\n",
              "      <td>0.0</td>\n",
              "      <td>0</td>\n",
              "      <td>0.0</td>\n",
              "      <td>0</td>\n",
              "      <td>484</td>\n",
              "      <td>923</td>\n",
              "    </tr>\n",
              "    <tr>\n",
              "      <th>90</th>\n",
              "      <td>0.0</td>\n",
              "      <td>ปริมาณรวมทั้งสิ้น</td>\n",
              "      <td>3,007</td>\n",
              "      <td>27,143</td>\n",
              "      <td>19,484</td>\n",
              "      <td>4,597</td>\n",
              "      <td>33,023</td>\n",
              "      <td>889.0</td>\n",
              "      <td>786.0</td>\n",
              "      <td>6,327</td>\n",
              "      <td>384.0</td>\n",
              "      <td>4.0</td>\n",
              "      <td>13,397</td>\n",
              "      <td>85,748</td>\n",
              "      <td>194,789</td>\n",
              "      <td>0.0</td>\n",
              "      <td>3,975</td>\n",
              "      <td>26,995</td>\n",
              "      <td>25,214</td>\n",
              "      <td>13,447</td>\n",
              "      <td>36,956</td>\n",
              "      <td>3,958</td>\n",
              "      <td>3,803</td>\n",
              "      <td>11,491</td>\n",
              "      <td>993.0</td>\n",
              "      <td>12.0</td>\n",
              "      <td>13,661</td>\n",
              "      <td>101.0</td>\n",
              "      <td>7,730</td>\n",
              "      <td>99,846</td>\n",
              "      <td>248,182</td>\n",
              "    </tr>\n",
              "  </tbody>\n",
              "</table>\n",
              "<p>91 rows × 31 columns</p>\n",
              "</div>"
            ],
            "text/plain": [
              "    ลำดับที่_x  ... ปริมาณ /พันลิตร รวมทั้งสิ้น_y\n",
              "0          0.0  ...                        67,588\n",
              "1          1.0  ...                        44,098\n",
              "2          2.0  ...                         8,285\n",
              "3          3.0  ...                         6,962\n",
              "4          4.0  ...                         8,243\n",
              "..         ...  ...                           ...\n",
              "86        74.0  ...                           714\n",
              "87        75.0  ...                           583\n",
              "88        76.0  ...                           372\n",
              "89        77.0  ...                           923\n",
              "90         0.0  ...                       248,182\n",
              "\n",
              "[91 rows x 31 columns]"
            ]
          },
          "metadata": {
            "tags": []
          },
          "execution_count": 91
        }
      ]
    }
  ]
}