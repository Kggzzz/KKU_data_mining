{
  "nbformat": 4,
  "nbformat_minor": 0,
  "metadata": {
    "colab": {
      "name": "Project_AnimalFeed_real.ipynb",
      "provenance": [],
      "authorship_tag": "ABX9TyP1Vvuj5YOEOqDcX94vSzSQ",
      "include_colab_link": true
    },
    "kernelspec": {
      "name": "python3",
      "display_name": "Python 3"
    }
  },
  "cells": [
    {
      "cell_type": "markdown",
      "metadata": {
        "id": "view-in-github",
        "colab_type": "text"
      },
      "source": [
        "<a href=\"https://colab.research.google.com/github/Kggzzz/KKU_data_mining/blob/master/Project_AnimalFeed_real.ipynb\" target=\"_parent\"><img src=\"https://colab.research.google.com/assets/colab-badge.svg\" alt=\"Open In Colab\"/></a>"
      ]
    },
    {
      "cell_type": "code",
      "metadata": {
        "colab": {
          "base_uri": "https://localhost:8080/"
        },
        "id": "3OUVGDv2sPO5",
        "outputId": "aa19e006-293c-47f3-d3d9-2a87ac12b464"
      },
      "source": [
        "from google.colab import drive \n",
        "drive.mount('/content/drive')"
      ],
      "execution_count": 1,
      "outputs": [
        {
          "output_type": "stream",
          "text": [
            "Mounted at /content/drive\n"
          ],
          "name": "stdout"
        }
      ]
    },
    {
      "cell_type": "code",
      "metadata": {
        "id": "4l2fqEwLtCsO"
      },
      "source": [
        "path = '/content/drive/My Drive/Project_Mining'"
      ],
      "execution_count": 2,
      "outputs": []
    },
    {
      "cell_type": "code",
      "metadata": {
        "id": "lE3z34PztD-F"
      },
      "source": [
        "import os\n",
        "import pandas as pd"
      ],
      "execution_count": 3,
      "outputs": []
    },
    {
      "cell_type": "code",
      "metadata": {
        "id": "a6dDr9m1tFtf"
      },
      "source": [
        "from pandas.api.types import CategoricalDtype"
      ],
      "execution_count": 4,
      "outputs": []
    },
    {
      "cell_type": "code",
      "metadata": {
        "id": "HqqozsyPtHlX"
      },
      "source": [
        "Import= os.path.join(path,'Import_nw4.csv')  #สร้างที่อยู่โดยใช้ os.path.join\n",
        "Export= os.path.join(path,'Ex_animalfeed_tun3.csv')"
      ],
      "execution_count": 9,
      "outputs": []
    },
    {
      "cell_type": "code",
      "metadata": {
        "colab": {
          "base_uri": "https://localhost:8080/",
          "height": 195
        },
        "id": "_f4yxB6xtJiu",
        "outputId": "0a83a841-714f-4630-f7d3-2ed054953048"
      },
      "source": [
        "Import_df = pd.read_csv(Import)\n",
        "Import_df.head() #เรียกตารางมาดู"
      ],
      "execution_count": 12,
      "outputs": [
        {
          "output_type": "execute_result",
          "data": {
            "text/html": [
              "<div>\n",
              "<style scoped>\n",
              "    .dataframe tbody tr th:only-of-type {\n",
              "        vertical-align: middle;\n",
              "    }\n",
              "\n",
              "    .dataframe tbody tr th {\n",
              "        vertical-align: top;\n",
              "    }\n",
              "\n",
              "    .dataframe thead th {\n",
              "        text-align: right;\n",
              "    }\n",
              "</style>\n",
              "<table border=\"1\" class=\"dataframe\">\n",
              "  <thead>\n",
              "    <tr style=\"text-align: right;\">\n",
              "      <th></th>\n",
              "      <th>Country</th>\n",
              "      <th>Import_of_main_raw_materials</th>\n",
              "      <th>Impor_the_mixed</th>\n",
              "      <th>Imported_dairy_products</th>\n",
              "      <th>Import_of_pet_supplement</th>\n",
              "      <th>Import_other_animal_feed</th>\n",
              "    </tr>\n",
              "  </thead>\n",
              "  <tbody>\n",
              "    <tr>\n",
              "      <th>0</th>\n",
              "      <td>Australia</td>\n",
              "      <td>100802.20</td>\n",
              "      <td>3308.43</td>\n",
              "      <td>204.58</td>\n",
              "      <td>67.41</td>\n",
              "      <td>1414.14</td>\n",
              "    </tr>\n",
              "    <tr>\n",
              "      <th>1</th>\n",
              "      <td>Bangladesh</td>\n",
              "      <td>0.00</td>\n",
              "      <td>0.00</td>\n",
              "      <td>0.00</td>\n",
              "      <td>0.00</td>\n",
              "      <td>21.50</td>\n",
              "    </tr>\n",
              "    <tr>\n",
              "      <th>2</th>\n",
              "      <td>Belgium</td>\n",
              "      <td>10414.65</td>\n",
              "      <td>7948.98</td>\n",
              "      <td>2.16</td>\n",
              "      <td>18229.66</td>\n",
              "      <td>3093.18</td>\n",
              "    </tr>\n",
              "    <tr>\n",
              "      <th>3</th>\n",
              "      <td>Brazil</td>\n",
              "      <td>1644961.05</td>\n",
              "      <td>6.15</td>\n",
              "      <td>0.00</td>\n",
              "      <td>867.79</td>\n",
              "      <td>12945.06</td>\n",
              "    </tr>\n",
              "    <tr>\n",
              "      <th>4</th>\n",
              "      <td>Cambodia</td>\n",
              "      <td>0.00</td>\n",
              "      <td>391.06</td>\n",
              "      <td>0.00</td>\n",
              "      <td>0.00</td>\n",
              "      <td>60.01</td>\n",
              "    </tr>\n",
              "  </tbody>\n",
              "</table>\n",
              "</div>"
            ],
            "text/plain": [
              "      Country  ...  Import_other_animal_feed\n",
              "0   Australia  ...                   1414.14\n",
              "1  Bangladesh  ...                     21.50\n",
              "2     Belgium  ...                   3093.18\n",
              "3      Brazil  ...                  12945.06\n",
              "4    Cambodia  ...                     60.01\n",
              "\n",
              "[5 rows x 6 columns]"
            ]
          },
          "metadata": {
            "tags": []
          },
          "execution_count": 12
        }
      ]
    },
    {
      "cell_type": "code",
      "metadata": {
        "colab": {
          "base_uri": "https://localhost:8080/",
          "height": 215
        },
        "id": "DgKRxv9ftLL9",
        "outputId": "b7f1d8c7-cdb6-42f6-ae7d-ffa818387e33"
      },
      "source": [
        "Export_df = pd.read_csv(Export) \n",
        "Export_df.head() #เรียกตารางมาดู"
      ],
      "execution_count": 13,
      "outputs": [
        {
          "output_type": "execute_result",
          "data": {
            "text/html": [
              "<div>\n",
              "<style scoped>\n",
              "    .dataframe tbody tr th:only-of-type {\n",
              "        vertical-align: middle;\n",
              "    }\n",
              "\n",
              "    .dataframe tbody tr th {\n",
              "        vertical-align: top;\n",
              "    }\n",
              "\n",
              "    .dataframe thead th {\n",
              "        text-align: right;\n",
              "    }\n",
              "</style>\n",
              "<table border=\"1\" class=\"dataframe\">\n",
              "  <thead>\n",
              "    <tr style=\"text-align: right;\">\n",
              "      <th></th>\n",
              "      <th>Country</th>\n",
              "      <th>Export_of_fishmeal</th>\n",
              "      <th>Export_of_dogcat_food</th>\n",
              "      <th>Export_other_animalfeed</th>\n",
              "      <th>Export_of_petsupplement</th>\n",
              "      <th>Export_premix</th>\n",
              "      <th>Export_of_cannedfood_dogscats</th>\n",
              "      <th>Export_Dog_Chews</th>\n",
              "      <th>Export_of_aquatic_animalfeed</th>\n",
              "    </tr>\n",
              "  </thead>\n",
              "  <tbody>\n",
              "    <tr>\n",
              "      <th>0</th>\n",
              "      <td>U.S.A.</td>\n",
              "      <td>0.0</td>\n",
              "      <td>270.94979</td>\n",
              "      <td>0.000</td>\n",
              "      <td>0.00</td>\n",
              "      <td>0.0</td>\n",
              "      <td>4306.31102</td>\n",
              "      <td>124.50461</td>\n",
              "      <td>28.8402</td>\n",
              "    </tr>\n",
              "    <tr>\n",
              "      <th>1</th>\n",
              "      <td>Japan</td>\n",
              "      <td>2245.0</td>\n",
              "      <td>6691.16379</td>\n",
              "      <td>42.054</td>\n",
              "      <td>85.60</td>\n",
              "      <td>0.0</td>\n",
              "      <td>200.79109</td>\n",
              "      <td>118.31314</td>\n",
              "      <td>0.6375</td>\n",
              "    </tr>\n",
              "    <tr>\n",
              "      <th>2</th>\n",
              "      <td>China</td>\n",
              "      <td>7010.0</td>\n",
              "      <td>85.07040</td>\n",
              "      <td>0.000</td>\n",
              "      <td>108.64</td>\n",
              "      <td>0.0</td>\n",
              "      <td>373.82704</td>\n",
              "      <td>0.00000</td>\n",
              "      <td>17.9430</td>\n",
              "    </tr>\n",
              "    <tr>\n",
              "      <th>3</th>\n",
              "      <td>Malaysia</td>\n",
              "      <td>0.0</td>\n",
              "      <td>5918.66241</td>\n",
              "      <td>60.669</td>\n",
              "      <td>107.20</td>\n",
              "      <td>0.0</td>\n",
              "      <td>677.98104</td>\n",
              "      <td>61.05034</td>\n",
              "      <td>0.9100</td>\n",
              "    </tr>\n",
              "    <tr>\n",
              "      <th>4</th>\n",
              "      <td>Italy</td>\n",
              "      <td>0.0</td>\n",
              "      <td>0.00000</td>\n",
              "      <td>0.000</td>\n",
              "      <td>0.00</td>\n",
              "      <td>0.0</td>\n",
              "      <td>1725.51813</td>\n",
              "      <td>17.83016</td>\n",
              "      <td>0.0000</td>\n",
              "    </tr>\n",
              "  </tbody>\n",
              "</table>\n",
              "</div>"
            ],
            "text/plain": [
              "    Country  Export_of_fishmeal  ...  Export_Dog_Chews  Export_of_aquatic_animalfeed\n",
              "0    U.S.A.                 0.0  ...         124.50461                       28.8402\n",
              "1     Japan              2245.0  ...         118.31314                        0.6375\n",
              "2     China              7010.0  ...           0.00000                       17.9430\n",
              "3  Malaysia                 0.0  ...          61.05034                        0.9100\n",
              "4     Italy                 0.0  ...          17.83016                        0.0000\n",
              "\n",
              "[5 rows x 9 columns]"
            ]
          },
          "metadata": {
            "tags": []
          },
          "execution_count": 13
        }
      ]
    }
  ]
}